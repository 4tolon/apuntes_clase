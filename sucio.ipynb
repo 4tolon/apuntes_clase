{
 "cells": [
  {
   "cell_type": "code",
   "execution_count": 9,
   "id": "f0105254",
   "metadata": {},
   "outputs": [],
   "source": [
    "def cakes(recipe, available):\n",
    "    ingredients = []\n",
    "    for i in list(recipe.keys()):\n",
    "        ingredients.append(available[str(i)]// recipe[str(i)])\n",
    "    return min(ingredients)"
   ]
  },
  {
   "cell_type": "code",
   "execution_count": 10,
   "id": "dda27f74",
   "metadata": {},
   "outputs": [
    {
     "data": {
      "text/plain": [
       "5"
      ]
     },
     "execution_count": 10,
     "metadata": {},
     "output_type": "execute_result"
    }
   ],
   "source": [
    "cakes({'flour': 500, 'sugar': 200, 'eggs': 1}, {'flour': 1200, 'sugar': 1200, 'eggs': 5, 'milk': 200})"
   ]
  },
  {
   "cell_type": "code",
   "execution_count": 11,
   "id": "125ac70b",
   "metadata": {},
   "outputs": [],
   "source": [
    "recipe = {'flour': 500, 'sugar': 200, 'eggs': 1}"
   ]
  },
  {
   "cell_type": "code",
   "execution_count": 13,
   "id": "7c7947de",
   "metadata": {},
   "outputs": [],
   "source": [
    "available = {'flour': 1200, 'sugar': 1200, 'eggs': 5, 'milk': 200}"
   ]
  },
  {
   "cell_type": "code",
   "execution_count": 17,
   "id": "b6862fa3",
   "metadata": {},
   "outputs": [
    {
     "data": {
      "text/plain": [
       "dict_keys(['flour', 'sugar', 'eggs', 'milk'])"
      ]
     },
     "execution_count": 17,
     "metadata": {},
     "output_type": "execute_result"
    }
   ],
   "source": [
    "available.keys()"
   ]
  },
  {
   "cell_type": "code",
   "execution_count": 18,
   "id": "57a26533",
   "metadata": {},
   "outputs": [
    {
     "data": {
      "text/plain": [
       "'flour'"
      ]
     },
     "execution_count": 18,
     "metadata": {},
     "output_type": "execute_result"
    }
   ],
   "source": [
    "list(recipe.keys())[0]"
   ]
  },
  {
   "cell_type": "code",
   "execution_count": 25,
   "id": "b887d78c",
   "metadata": {},
   "outputs": [
    {
     "name": "stdout",
     "output_type": "stream",
     "text": [
      "2\n",
      "1200\n",
      "500\n",
      "6\n",
      "1200\n",
      "200\n",
      "5\n",
      "5\n",
      "1\n"
     ]
    }
   ],
   "source": [
    "ingredients = []\n",
    "for i in list(recipe.keys()):\n",
    "    ingredients.append(available[str(i)]// recipe[str(i)])\n",
    "    \n",
    "#    print((available[str(i)]// recipe[str(i)]))\n",
    " #   print(available[str(i)])\n",
    "  #  print(recipe[str(i)])"
   ]
  },
  {
   "cell_type": "code",
   "execution_count": null,
   "id": "cc5453ac",
   "metadata": {},
   "outputs": [],
   "source": [
    "def cakes(recipe, available):\n",
    "    ingredients = []\n",
    "    for i in list(recipe.keys()):\n",
    "        ingredients.append(available[str(i)]// recipe[str(i)])\n",
    "    return min(ingredients)"
   ]
  },
  {
   "cell_type": "code",
   "execution_count": 26,
   "id": "762ff00e",
   "metadata": {},
   "outputs": [
    {
     "data": {
      "text/plain": [
       "5"
      ]
     },
     "execution_count": 26,
     "metadata": {},
     "output_type": "execute_result"
    }
   ],
   "source": [
    "cakes(recipe, available)"
   ]
  },
  {
   "cell_type": "code",
   "execution_count": 41,
   "id": "a805a2f7",
   "metadata": {},
   "outputs": [],
   "source": [
    "def cakes(recipe, available):\n",
    "    ingredients = []\n",
    "    for i in list(recipe.keys()):\n",
    "        try:\n",
    "            print(i)\n",
    "            print(available[str(i)])\n",
    "            print(recipe[str(i)])\n",
    "            print(available[str(i)]// recipe[str(i)])\n",
    "            ingredients.append(available[str(i)]// recipe[str(i)])\n",
    "    \n",
    "        except:\n",
    "            continue\n",
    "            \n",
    "    return min(ingredients)"
   ]
  },
  {
   "cell_type": "code",
   "execution_count": 42,
   "id": "c35017e7",
   "metadata": {},
   "outputs": [],
   "source": [
    "recipe1 = {'cream': 200, 'flour': 300, 'sugar': 150, 'milk': 100, 'oil': 100}\n",
    "ingredients1 = {'sugar': 1700, 'flour': 20000, 'milk': 20000, 'oil': 30000, 'cream': 5000}"
   ]
  },
  {
   "cell_type": "code",
   "execution_count": 43,
   "id": "d74213cf",
   "metadata": {},
   "outputs": [
    {
     "name": "stdout",
     "output_type": "stream",
     "text": [
      "cream\n",
      "5000\n",
      "200\n",
      "25\n",
      "flour\n",
      "20000\n",
      "300\n",
      "66\n",
      "sugar\n",
      "1700\n",
      "150\n",
      "11\n",
      "milk\n",
      "20000\n",
      "100\n",
      "200\n",
      "oil\n",
      "30000\n",
      "100\n",
      "300\n"
     ]
    },
    {
     "data": {
      "text/plain": [
       "11"
      ]
     },
     "execution_count": 43,
     "metadata": {},
     "output_type": "execute_result"
    }
   ],
   "source": [
    "cakes(recipe1, ingredients1)"
   ]
  },
  {
   "cell_type": "code",
   "execution_count": null,
   "id": "77cddd46",
   "metadata": {},
   "outputs": [],
   "source": []
  }
 ],
 "metadata": {
  "kernelspec": {
   "display_name": "minimal_ds",
   "language": "python",
   "name": "minimal_ds"
  },
  "language_info": {
   "codemirror_mode": {
    "name": "ipython",
    "version": 3
   },
   "file_extension": ".py",
   "mimetype": "text/x-python",
   "name": "python",
   "nbconvert_exporter": "python",
   "pygments_lexer": "ipython3",
   "version": "3.9.7"
  }
 },
 "nbformat": 4,
 "nbformat_minor": 5
}
