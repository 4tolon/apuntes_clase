{
 "cells": [
  {
   "cell_type": "code",
   "execution_count": 9,
   "id": "f0105254",
   "metadata": {},
   "outputs": [],
   "source": [
    "def cakes(recipe, available):\n",
    "    ingredients = []\n",
    "    for i in list(recipe.keys()):\n",
    "        ingredients.append(available[str(i)]// recipe[str(i)])\n",
    "    return min(ingredients)"
   ]
  },
  {
   "cell_type": "code",
   "execution_count": 10,
   "id": "dda27f74",
   "metadata": {},
   "outputs": [
    {
     "data": {
      "text/plain": [
       "5"
      ]
     },
     "execution_count": 10,
     "metadata": {},
     "output_type": "execute_result"
    }
   ],
   "source": [
    "cakes({'flour': 500, 'sugar': 200, 'eggs': 1}, {'flour': 1200, 'sugar': 1200, 'eggs': 5, 'milk': 200})"
   ]
  },
  {
   "cell_type": "code",
   "execution_count": 11,
   "id": "125ac70b",
   "metadata": {},
   "outputs": [],
   "source": [
    "recipe = {'flour': 500, 'sugar': 200, 'eggs': 1}"
   ]
  },
  {
   "cell_type": "code",
   "execution_count": 13,
   "id": "7c7947de",
   "metadata": {},
   "outputs": [],
   "source": [
    "available = {'flour': 1200, 'sugar': 1200, 'eggs': 5, 'milk': 200}"
   ]
  },
  {
   "cell_type": "code",
   "execution_count": 17,
   "id": "b6862fa3",
   "metadata": {},
   "outputs": [
    {
     "data": {
      "text/plain": [
       "dict_keys(['flour', 'sugar', 'eggs', 'milk'])"
      ]
     },
     "execution_count": 17,
     "metadata": {},
     "output_type": "execute_result"
    }
   ],
   "source": [
    "available.keys()"
   ]
  },
  {
   "cell_type": "code",
   "execution_count": 18,
   "id": "57a26533",
   "metadata": {},
   "outputs": [
    {
     "data": {
      "text/plain": [
       "'flour'"
      ]
     },
     "execution_count": 18,
     "metadata": {},
     "output_type": "execute_result"
    }
   ],
   "source": [
    "list(recipe.keys())[0]"
   ]
  },
  {
   "cell_type": "code",
   "execution_count": 25,
   "id": "b887d78c",
   "metadata": {},
   "outputs": [
    {
     "name": "stdout",
     "output_type": "stream",
     "text": [
      "2\n",
      "1200\n",
      "500\n",
      "6\n",
      "1200\n",
      "200\n",
      "5\n",
      "5\n",
      "1\n"
     ]
    }
   ],
   "source": [
    "ingredients = []\n",
    "for i in list(recipe.keys()):\n",
    "    ingredients.append(available[str(i)]// recipe[str(i)])\n",
    "    \n",
    "#    print((available[str(i)]// recipe[str(i)]))\n",
    " #   print(available[str(i)])\n",
    "  #  print(recipe[str(i)])"
   ]
  },
  {
   "cell_type": "code",
   "execution_count": null,
   "id": "cc5453ac",
   "metadata": {},
   "outputs": [],
   "source": [
    "def cakes(recipe, available):\n",
    "    ingredients = []\n",
    "    for i in list(recipe.keys()):\n",
    "        ingredients.append(available[str(i)]// recipe[str(i)])\n",
    "    return min(ingredients)"
   ]
  },
  {
   "cell_type": "code",
   "execution_count": 26,
   "id": "762ff00e",
   "metadata": {},
   "outputs": [
    {
     "data": {
      "text/plain": [
       "5"
      ]
     },
     "execution_count": 26,
     "metadata": {},
     "output_type": "execute_result"
    }
   ],
   "source": [
    "cakes(recipe, available)"
   ]
  },
  {
   "cell_type": "code",
   "execution_count": 41,
   "id": "a805a2f7",
   "metadata": {},
   "outputs": [],
   "source": [
    "def cakes(recipe, available):\n",
    "    ingredients = []\n",
    "    for i in list(recipe.keys()):\n",
    "        try:\n",
    "            print(i)\n",
    "            print(available[str(i)])\n",
    "            print(recipe[str(i)])\n",
    "            print(available[str(i)]// recipe[str(i)])\n",
    "            ingredients.append(available[str(i)]// recipe[str(i)])\n",
    "    \n",
    "        except:\n",
    "            continue\n",
    "            \n",
    "    return min(ingredients)"
   ]
  },
  {
   "cell_type": "code",
   "execution_count": 42,
   "id": "c35017e7",
   "metadata": {},
   "outputs": [],
   "source": [
    "recipe1 = {'cream': 200, 'flour': 300, 'sugar': 150, 'milk': 100, 'oil': 100}\n",
    "ingredients1 = {'sugar': 1700, 'flour': 20000, 'milk': 20000, 'oil': 30000, 'cream': 5000}"
   ]
  },
  {
   "cell_type": "code",
   "execution_count": 43,
   "id": "d74213cf",
   "metadata": {},
   "outputs": [
    {
     "name": "stdout",
     "output_type": "stream",
     "text": [
      "cream\n",
      "5000\n",
      "200\n",
      "25\n",
      "flour\n",
      "20000\n",
      "300\n",
      "66\n",
      "sugar\n",
      "1700\n",
      "150\n",
      "11\n",
      "milk\n",
      "20000\n",
      "100\n",
      "200\n",
      "oil\n",
      "30000\n",
      "100\n",
      "300\n"
     ]
    },
    {
     "data": {
      "text/plain": [
       "11"
      ]
     },
     "execution_count": 43,
     "metadata": {},
     "output_type": "execute_result"
    }
   ],
   "source": [
    "cakes(recipe1, ingredients1)"
   ]
  },
  {
   "cell_type": "code",
   "execution_count": null,
   "id": "77cddd46",
   "metadata": {},
   "outputs": [],
   "source": []
  },
  {
   "cell_type": "code",
   "execution_count": null,
   "id": "f0715410",
   "metadata": {},
   "outputs": [],
   "source": []
  },
  {
   "cell_type": "code",
   "execution_count": null,
   "id": "9ccc96da",
   "metadata": {},
   "outputs": [],
   "source": []
  },
  {
   "cell_type": "code",
   "execution_count": 1,
   "id": "f2351a3e",
   "metadata": {},
   "outputs": [],
   "source": [
    "import requests\n",
    "from bs4 import BeautifulSoup"
   ]
  },
  {
   "cell_type": "code",
   "execution_count": 78,
   "id": "30180e2b",
   "metadata": {},
   "outputs": [],
   "source": [
    "username = 'dinglemouse'\n",
    "\n",
    "url = f\"https://www.codewars.com/users/{username}\"\n",
    "html = requests.get(url)\n",
    "soup = BeautifulSoup(html.content,\"html.parser\")"
   ]
  },
  {
   "cell_type": "code",
   "execution_count": 79,
   "id": "56af1435",
   "metadata": {},
   "outputs": [
    {
     "ename": "SyntaxError",
     "evalue": "invalid syntax (1107697390.py, line 1)",
     "output_type": "error",
     "traceback": [
      "\u001b[0;36m  File \u001b[0;32m\"/tmp/ipykernel_278/1107697390.py\"\u001b[0;36m, line \u001b[0;32m1\u001b[0m\n\u001b[0;31m    //*[@id=\"shell_content\"]/div[3]/section/div/div/div[2]/div[2]/div[1]/text()\u001b[0m\n\u001b[0m    ^\u001b[0m\n\u001b[0;31mSyntaxError\u001b[0m\u001b[0;31m:\u001b[0m invalid syntax\n"
     ]
    }
   ],
   "source": [
    "//*[@id=\"shell_content\"]/div[3]/section/div/div/div[2]/div[2]/div[1]/text()"
   ]
  },
  {
   "cell_type": "code",
   "execution_count": 80,
   "id": "fd4ce8ee",
   "metadata": {},
   "outputs": [],
   "source": [
    "tags = soup.findAll(\"b\", {\"class\": [\"url\", \"readmorebtn\"]})\n"
   ]
  },
  {
   "cell_type": "code",
   "execution_count": 81,
   "id": "7478e0aa",
   "metadata": {},
   "outputs": [
    {
     "name": "stdout",
     "output_type": "stream",
     "text": [
      "None\n"
     ]
    }
   ],
   "source": [
    "print(tag)"
   ]
  },
  {
   "cell_type": "code",
   "execution_count": 88,
   "id": "a6c68782",
   "metadata": {},
   "outputs": [
    {
     "data": {
      "text/plain": [
       "'Name:Unknown'"
      ]
     },
     "execution_count": 88,
     "metadata": {},
     "output_type": "execute_result"
    }
   ],
   "source": [
    "tags1 = soup.findAll(\"div\", {\"class\": \"stat\"})[0].getText()\n",
    "tags1"
   ]
  },
  {
   "cell_type": "code",
   "execution_count": 83,
   "id": "5ebf4c32",
   "metadata": {},
   "outputs": [
    {
     "data": {
      "text/plain": [
       "'Nov 2021'"
      ]
     },
     "execution_count": 83,
     "metadata": {},
     "output_type": "execute_result"
    }
   ],
   "source": [
    "tags1.split(':')[1]\n"
   ]
  },
  {
   "cell_type": "code",
   "execution_count": 11,
   "id": "c7c1e925",
   "metadata": {},
   "outputs": [
    {
     "data": {
      "text/plain": [
       "<!DOCTYPE html>\n",
       "<html class=\"dark\" lang=\"en\"><head><meta charset=\"utf-8\"/>\n",
       "<script>window.NREUM||(NREUM={});NREUM.info={\"beacon\":\"bam.nr-data.net\",\"errorBeacon\":\"bam.nr-data.net\",\"licenseKey\":\"364dba19a3\",\"applicationID\":\"15446117\",\"transactionName\":\"Jg5ZQEdYXQ1XRRZAQQATRBtGX14W\",\"queueTime\":0,\"applicationTime\":237,\"agent\":\"\"}</script>\n",
       "<script>(window.NREUM||(NREUM={})).init={ajax:{deny_list:[\"bam.nr-data.net\"]}};(window.NREUM||(NREUM={})).loader_config={licenseKey:\"364dba19a3\",applicationID:\"15446117\"};window.NREUM||(NREUM={}),__nr_require=function(t,e,n){function r(n){if(!e[n]){var i=e[n]={exports:{}};t[n][0].call(i.exports,function(e){var i=t[n][1][e];return r(i||e)},i,i.exports)}return e[n].exports}if(\"function\"==typeof __nr_require)return __nr_require;for(var i=0;i<n.length;i++)r(n[i]);return r}({1:[function(t,e,n){function r(){}function i(t,e,n,r){return function(){return s.recordSupportability(\"API/\"+e+\"/called\"),o(t+e,[u.now()].concat(c(arguments)),n?null:this,r),n?void 0:this}}var o=t(\"handle\"),a=t(10),c=t(11),f=t(\"ee\").get(\"tracer\"),u=t(\"loader\"),s=t(4),d=NREUM;\"undefined\"==typeof window.newrelic&&(newrelic=d);var p=[\"setPageViewName\",\"setCustomAttribute\",\"setErrorHandler\",\"finished\",\"addToTrace\",\"inlineHit\",\"addRelease\"],l=\"api-\",v=l+\"ixn-\";a(p,function(t,e){d[e]=i(l,e,!0,\"api\")}),d.addPageAction=i(l,\"addPageAction\",!0),d.setCurrentRouteName=i(l,\"routeName\",!0),e.exports=newrelic,d.interaction=function(){return(new r).get()};var m=r.prototype={createTracer:function(t,e){var n={},r=this,i=\"function\"==typeof e;return o(v+\"tracer\",[u.now(),t,n],r),function(){if(f.emit((i?\"\":\"no-\")+\"fn-start\",[u.now(),r,i],n),i)try{return e.apply(this,arguments)}catch(t){throw f.emit(\"fn-err\",[arguments,this,t],n),t}finally{f.emit(\"fn-end\",[u.now()],n)}}}};a(\"actionText,setName,setAttribute,save,ignore,onEnd,getContext,end,get\".split(\",\"),function(t,e){m[e]=i(v,e)}),newrelic.noticeError=function(t,e){\"string\"==typeof t&&(t=new Error(t)),s.recordSupportability(\"API/noticeError/called\"),o(\"err\",[t,u.now(),!1,e])}},{}],2:[function(t,e,n){function r(t){if(NREUM.init){for(var e=NREUM.init,n=t.split(\".\"),r=0;r<n.length-1;r++)if(e=e[n[r]],\"object\"!=typeof e)return;return e=e[n[n.length-1]]}}e.exports={getConfiguration:r}},{}],3:[function(t,e,n){var r=!1;try{var i=Object.defineProperty({},\"passive\",{get:function(){r=!0}});window.addEventListener(\"testPassive\",null,i),window.removeEventListener(\"testPassive\",null,i)}catch(o){}e.exports=function(t){return r?{passive:!0,capture:!!t}:!!t}},{}],4:[function(t,e,n){function r(t,e){var n=[a,t,{name:t},e];return o(\"storeMetric\",n,null,\"api\"),n}function i(t,e){var n=[c,t,{name:t},e];return o(\"storeEventMetrics\",n,null,\"api\"),n}var o=t(\"handle\"),a=\"sm\",c=\"cm\";e.exports={constants:{SUPPORTABILITY_METRIC:a,CUSTOM_METRIC:c},recordSupportability:r,recordCustom:i}},{}],5:[function(t,e,n){function r(){return c.exists&&performance.now?Math.round(performance.now()):(o=Math.max((new Date).getTime(),o))-a}function i(){return o}var o=(new Date).getTime(),a=o,c=t(12);e.exports=r,e.exports.offset=a,e.exports.getLastTimestamp=i},{}],6:[function(t,e,n){function r(t){return!(!t||!t.protocol||\"file:\"===t.protocol)}e.exports=r},{}],7:[function(t,e,n){function r(t,e){var n=t.getEntries();n.forEach(function(t){\"first-paint\"===t.name?p(\"timing\",[\"fp\",Math.floor(t.startTime)]):\"first-contentful-paint\"===t.name&&p(\"timing\",[\"fcp\",Math.floor(t.startTime)])})}function i(t,e){var n=t.getEntries();if(n.length>0){var r=n[n.length-1];if(f&&f<r.startTime)return;p(\"lcp\",[r])}}function o(t){t.getEntries().forEach(function(t){t.hadRecentInput||p(\"cls\",[t])})}function a(t){if(t instanceof g&&!y){var e=Math.round(t.timeStamp),n={type:t.type};e<=l.now()?n.fid=l.now()-e:e>l.offset&&e<=Date.now()?(e-=l.offset,n.fid=l.now()-e):e=l.now(),y=!0,p(\"timing\",[\"fi\",e,n])}}function c(t){\"hidden\"===t&&(f=l.now(),p(\"pageHide\",[f]))}if(!(\"init\"in NREUM&&\"page_view_timing\"in NREUM.init&&\"enabled\"in NREUM.init.page_view_timing&&NREUM.init.page_view_timing.enabled===!1)){var f,u,s,d,p=t(\"handle\"),l=t(\"loader\"),v=t(9),m=t(3),g=NREUM.o.EV;if(\"PerformanceObserver\"in window&&\"function\"==typeof window.PerformanceObserver){u=new PerformanceObserver(r);try{u.observe({entryTypes:[\"paint\"]})}catch(h){}s=new PerformanceObserver(i);try{s.observe({entryTypes:[\"largest-contentful-paint\"]})}catch(h){}d=new PerformanceObserver(o);try{d.observe({type:\"layout-shift\",buffered:!0})}catch(h){}}if(\"addEventListener\"in document){var y=!1,w=[\"click\",\"keydown\",\"mousedown\",\"pointerdown\",\"touchstart\"];w.forEach(function(t){document.addEventListener(t,a,m(!1))})}v(c)}},{}],8:[function(t,e,n){function r(t,e){if(!i)return!1;if(t!==i)return!1;if(!e)return!0;if(!o)return!1;for(var n=o.split(\".\"),r=e.split(\".\"),a=0;a<r.length;a++)if(r[a]!==n[a])return!1;return!0}var i=null,o=null,a=/Version\\/(\\S+)\\s+Safari/;if(navigator.userAgent){var c=navigator.userAgent,f=c.match(a);f&&c.indexOf(\"Chrome\")===-1&&c.indexOf(\"Chromium\")===-1&&(i=\"Safari\",o=f[1])}e.exports={agent:i,version:o,match:r}},{}],9:[function(t,e,n){function r(t){function e(){t(c&&document[c]?document[c]:document[o]?\"hidden\":\"visible\")}\"addEventListener\"in document&&a&&document.addEventListener(a,e,i(!1))}var i=t(3);e.exports=r;var o,a,c;\"undefined\"!=typeof document.hidden?(o=\"hidden\",a=\"visibilitychange\",c=\"visibilityState\"):\"undefined\"!=typeof document.msHidden?(o=\"msHidden\",a=\"msvisibilitychange\"):\"undefined\"!=typeof document.webkitHidden&&(o=\"webkitHidden\",a=\"webkitvisibilitychange\",c=\"webkitVisibilityState\")},{}],10:[function(t,e,n){function r(t,e){var n=[],r=\"\",o=0;for(r in t)i.call(t,r)&&(n[o]=e(r,t[r]),o+=1);return n}var i=Object.prototype.hasOwnProperty;e.exports=r},{}],11:[function(t,e,n){function r(t,e,n){e||(e=0),\"undefined\"==typeof n&&(n=t?t.length:0);for(var r=-1,i=n-e||0,o=Array(i<0?0:i);++r<i;)o[r]=t[e+r];return o}e.exports=r},{}],12:[function(t,e,n){e.exports={exists:\"undefined\"!=typeof window.performance&&window.performance.timing&&\"undefined\"!=typeof window.performance.timing.navigationStart}},{}],ee:[function(t,e,n){function r(){}function i(t){function e(t){return t&&t instanceof r?t:t?u(t,f,a):a()}function n(n,r,i,o,a){if(a!==!1&&(a=!0),!l.aborted||o){t&&a&&t(n,r,i);for(var c=e(i),f=m(n),u=f.length,s=0;s<u;s++)f[s].apply(c,r);var p=d[w[n]];return p&&p.push([b,n,r,c]),c}}function o(t,e){y[t]=m(t).concat(e)}function v(t,e){var n=y[t];if(n)for(var r=0;r<n.length;r++)n[r]===e&&n.splice(r,1)}function m(t){return y[t]||[]}function g(t){return p[t]=p[t]||i(n)}function h(t,e){l.aborted||s(t,function(t,n){e=e||\"feature\",w[n]=e,e in d||(d[e]=[])})}var y={},w={},b={on:o,addEventListener:o,removeEventListener:v,emit:n,get:g,listeners:m,context:e,buffer:h,abort:c,aborted:!1};return b}function o(t){return u(t,f,a)}function a(){return new r}function c(){(d.api||d.feature)&&(l.aborted=!0,d=l.backlog={})}var f=\"nr@context\",u=t(\"gos\"),s=t(10),d={},p={},l=e.exports=i();e.exports.getOrSetContext=o,l.backlog=d},{}],gos:[function(t,e,n){function r(t,e,n){if(i.call(t,e))return t[e];var r=n();if(Object.defineProperty&&Object.keys)try{return Object.defineProperty(t,e,{value:r,writable:!0,enumerable:!1}),r}catch(o){}return t[e]=r,r}var i=Object.prototype.hasOwnProperty;e.exports=r},{}],handle:[function(t,e,n){function r(t,e,n,r){i.buffer([t],r),i.emit(t,e,n)}var i=t(\"ee\").get(\"handle\");e.exports=r,r.ee=i},{}],id:[function(t,e,n){function r(t){var e=typeof t;return!t||\"object\"!==e&&\"function\"!==e?-1:t===window?0:a(t,o,function(){return i++})}var i=1,o=\"nr@id\",a=t(\"gos\");e.exports=r},{}],loader:[function(t,e,n){function r(){if(!T++){var t=P.info=NREUM.info,e=g.getElementsByTagName(\"script\")[0];if(setTimeout(u.abort,3e4),!(t&&t.licenseKey&&t.applicationID&&e))return u.abort();f(O,function(e,n){t[e]||(t[e]=n)});var n=a();c(\"mark\",[\"onload\",n+P.offset],null,\"api\"),c(\"timing\",[\"load\",n]);var r=g.createElement(\"script\");0===t.agent.indexOf(\"http://\")||0===t.agent.indexOf(\"https://\")?r.src=t.agent:r.src=v+\"://\"+t.agent,e.parentNode.insertBefore(r,e)}}function i(){\"complete\"===g.readyState&&o()}function o(){c(\"mark\",[\"domContent\",a()+P.offset],null,\"api\")}var a=t(5),c=t(\"handle\"),f=t(10),u=t(\"ee\"),s=t(8),d=t(6),p=t(2),l=t(3),v=p.getConfiguration(\"ssl\")===!1?\"http\":\"https\",m=window,g=m.document,h=\"addEventListener\",y=\"attachEvent\",w=m.XMLHttpRequest,b=w&&w.prototype,E=!d(m.location);NREUM.o={ST:setTimeout,SI:m.setImmediate,CT:clearTimeout,XHR:w,REQ:m.Request,EV:m.Event,PR:m.Promise,MO:m.MutationObserver};var x=\"\"+location,O={beacon:\"bam.nr-data.net\",errorBeacon:\"bam.nr-data.net\",agent:\"js-agent.newrelic.com/nr-1212.min.js\"},M=w&&b&&b[h]&&!/CriOS/.test(navigator.userAgent),P=e.exports={offset:a.getLastTimestamp(),now:a,origin:x,features:{},xhrWrappable:M,userAgent:s,disabled:E};if(!E){t(1),t(7),g[h]?(g[h](\"DOMContentLoaded\",o,l(!1)),m[h](\"load\",r,l(!1))):(g[y](\"onreadystatechange\",i),m[y](\"onload\",r)),c(\"mark\",[\"firstbyte\",a.getLastTimestamp()],null,\"api\");var T=0}},{}],\"wrap-function\":[function(t,e,n){function r(t,e){function n(e,n,r,f,u){function nrWrapper(){var o,a,s,p;try{a=this,o=d(arguments),s=\"function\"==typeof r?r(o,a):r||{}}catch(l){i([l,\"\",[o,a,f],s],t)}c(n+\"start\",[o,a,f],s,u);try{return p=e.apply(a,o)}catch(v){throw c(n+\"err\",[o,a,v],s,u),v}finally{c(n+\"end\",[o,a,p],s,u)}}return a(e)?e:(n||(n=\"\"),nrWrapper[p]=e,o(e,nrWrapper,t),nrWrapper)}function r(t,e,r,i,o){r||(r=\"\");var c,f,u,s=\"-\"===r.charAt(0);for(u=0;u<e.length;u++)f=e[u],c=t[f],a(c)||(t[f]=n(c,s?f+r:r,i,f,o))}function c(n,r,o,a){if(!v||e){var c=v;v=!0;try{t.emit(n,r,o,e,a)}catch(f){i([f,n,r,o],t)}v=c}}return t||(t=s),n.inPlace=r,n.flag=p,n}function i(t,e){e||(e=s);try{e.emit(\"internal-error\",t)}catch(n){}}function o(t,e,n){if(Object.defineProperty&&Object.keys)try{var r=Object.keys(t);return r.forEach(function(n){Object.defineProperty(e,n,{get:function(){return t[n]},set:function(e){return t[n]=e,e}})}),e}catch(o){i([o],n)}for(var a in t)l.call(t,a)&&(e[a]=t[a]);return e}function a(t){return!(t&&t instanceof Function&&t.apply&&!t[p])}function c(t,e){var n=e(t);return n[p]=t,o(t,n,s),n}function f(t,e,n){var r=t[e];t[e]=c(r,n)}function u(){for(var t=arguments.length,e=new Array(t),n=0;n<t;++n)e[n]=arguments[n];return e}var s=t(\"ee\"),d=t(11),p=\"nr@original\",l=Object.prototype.hasOwnProperty,v=!1;e.exports=r,e.exports.wrapFunction=c,e.exports.wrapInPlace=f,e.exports.argsToArray=u},{}]},{},[\"loader\"]);</script><title>jhoffner | Codewars</title><meta content=\"authenticity_token\" name=\"csrf-param\"/>\n",
       "<meta content=\"KCBtg2X6m+wLa1RJsNbaHmjYuaNhtfEEtfooYC/E2SZrWCi3oYT4yMzZ2B72eb5PJoHbbeIL/5Uw9TXyqWGJgw==\" name=\"csrf-token\"/><meta content=\"no-preview\" name=\"turbolinks-cache-control\"/><meta content=\"width=device-width, initial-scale=1.0, maximum-scale=5.0\" name=\"viewport\"/><meta property=\"og:title\"/><meta content=\"website\" property=\"og:type\"/><meta content=\"Codewars\" property=\"og:site_name\"/><meta content=\"https://www.codewars.com\" property=\"og:url\"/><meta content=\"https://www.codewars.com/assets/logos/logo-square-paper-bg-c3d2b1eb4fb35d75b0c0c0e3b74616fab527afdce9d1d3184624cf0b4e950357.jpg\" property=\"og:image\"/><meta content=\"https://www.codewars.com/assets/logos/logo-square-paper-bg-c3d2b1eb4fb35d75b0c0c0e3b74616fab527afdce9d1d3184624cf0b4e950357.jpg\" property=\"og:image:secure_url\"/><meta content=\"Codewars is where developers achieve code mastery through challenge. Train on kata in the dojo and reach your highest potential.\" property=\"og:description\"/><meta content=\"652826666\" property=\"fb:admins\"/><meta content=\"110951985735625\" property=\"fb:app_id\"/><meta content=\"@codewars\" name=\"twitter:site\"/><meta content=\"Codewars is where developers achieve code mastery through challenge. Train on kata in the dojo and reach your highest potential.\" name=\"description\"/><meta content=\"codewars, code kata, kata, code gym, coding, code practice, ruby, javascript, coffeescript, web development, software development, dojo\" name=\"keywords\"/><meta content=\"EMv3k6eCCUuSkbwJpGlLbtsBd_lCvmvDp1Ucsv0rIvM\" name=\"google-site-verification\"/><link href=\"https://fonts.googleapis.com/css?family=Lato&amp;display=swap\" media=\"screen\" rel=\"stylesheet\"/><link data-turbolinks-track=\"reload\" href=\"/packs/css/application-c1c7b882.css\" media=\"screen\" rel=\"stylesheet\"/><script data-turbolinks-track=\"reload\" defer=\"defer\" src=\"/packs/js/runtime-34f28cb0c410ee15ff4d.js\"></script>\n",
       "<script data-turbolinks-track=\"reload\" defer=\"defer\" src=\"/packs/js/32-027c42cfb7b6d05c73b6.js\"></script>\n",
       "<script data-turbolinks-track=\"reload\" defer=\"defer\" src=\"/packs/js/application-42d6a6b9f2a5ed229329.js\"></script><script async=\"\" src=\"https://www.googletagmanager.com/gtag/js?id=G-M3JYSQLS8M\"></script><script>window.dataLayer = window.dataLayer || [];\n",
       "function gtag() { dataLayer.push(arguments); }\n",
       "gtag('js', new Date());\n",
       "gtag('config', 'G-M3JYSQLS8M', {\n",
       "  send_page_view: false\n",
       "});</script></head><body class=\"show_view\" id=\"users\"><div id=\"app\"><div class=\"w-full\" id=\"shell\"><div class=\"sidenav-nubbin block md:hidden\"><i class=\"icon-moon-list\"></i></div><nav id=\"sidenav\"><ul class=\"top\"><li class=\"leading-relaxed nav-home\"><a class=\"inline-flex items-center overflow-x-hidden\" data-turbolinks=\"false\" href=\"https://www.codewars.com/\"><div class=\"logo mt-3 flex-shrink-0\"><img class=\"w-full h-full\" src=\"/assets/logos/logo-61192cf7c75904d495e7ad69695fbf0bffd965bc3e17ac60f6c6b475304db09d.svg\"/></div><span class=\"mt-10px ml-2.5 flex-shrink-0\">Sign Up</span></a></li><li class=\"leading-relaxed\"><a class=\"inline-flex items-center\" href=\"/kata/latest\"><div class=\"my-0.5\"><svg class=\"ml-1.5 w-6 h-6 inline-block\" fill=\"none\" stroke=\"currentColor\" viewbox=\"0 0 24 24\"><path d=\"M21 21l-6-6m2-5a7 7 0 11-14 0 7 7 0 0114 0z\" stroke-linecap=\"round\" stroke-linejoin=\"round\" stroke-width=\"2\"></path></svg></div><span class=\"ml-4\">Kata</span></a></li><li class=\"leading-relaxed\"><a class=\"inline-flex items-center\" href=\"https://docs.codewars.com\" rel=\"noopener\" target=\"_blank\" title=\"The Codewars Docs\"><div class=\"my-0.5\"><svg class=\"ml-1.5 w-6 h-6 inline-block\" fill=\"none\" stroke=\"currentColor\" viewbox=\"0 0 24 24\"><path d=\"M12 6.253v13m0-13C10.832 5.477 9.246 5 7.5 5S4.168 5.477 3 6.253v13C4.168 18.477 5.754 18 7.5 18s3.332.477 4.5 1.253m0-13C13.168 5.477 14.754 5 16.5 5c1.747 0 3.332.477 4.5 1.253v13C19.832 18.477 18.247 18 16.5 18c-1.746 0-3.332.477-4.5 1.253\" stroke-linecap=\"round\" stroke-linejoin=\"round\" stroke-width=\"2\"></path></svg></div><span class=\"ml-4\">Docs</span></a></li><li class=\"leading-relaxed\"><a class=\"inline-flex items-center\" href=\"https://blog.codewars.com\" rel=\"noopener\" target=\"_blank\" title=\"The Codewars Blog\"><div class=\"my-0.5\"><svg class=\"ml-1.5 w-6 h-6 inline-block\" fill=\"none\" stroke=\"currentColor\" viewbox=\"0 0 24 24\"><path d=\"M6 5c7.18 0 13 5.82 13 13M6 11a7 7 0 017 7m-6 0a1 1 0 11-2 0 1 1 0 012 0z\" stroke-linecap=\"round\" stroke-linejoin=\"round\" stroke-width=\"2\"></path></svg></div><span class=\"ml-4\">Blog</span></a></li><li class=\"leading-relaxed\"><a class=\"inline-flex items-center\" href=\"/kumite\"><div class=\"my-0.5\"><svg class=\"ml-1.5 w-6 h-6 inline-block\" fill=\"none\" height=\"24\" stroke=\"currentColor\" stroke-linecap=\"round\" stroke-linejoin=\"round\" stroke-width=\"2\" viewbox=\"0 0 24 24\" width=\"24\"><path d=\"M0 0h24v24H0z\" fill=\"none\" stroke=\"none\"></path><path d=\"M4 12v-3a3 3 0 0 1 3 -3h13m-3 -3l3 3l-3 3\"></path><path d=\"M20 12v3a3 3 0 0 1 -3 3h-13m3 3l-3 -3l3 -3\"></path></svg></div><span class=\"ml-4\">Kumite</span></a></li><li class=\"leading-relaxed\"><a class=\"inline-flex items-center\" href=\"/topics\"><div class=\"my-0.5\"><svg class=\"ml-1.5 w-6 h-6 inline-block\" fill=\"none\" stroke=\"currentColor\" viewbox=\"0 0 24 24\"><path d=\"M17 8h2a2 2 0 012 2v6a2 2 0 01-2 2h-2v4l-4-4H9a1.994 1.994 0 01-1.414-.586m0 0L11 14h4a2 2 0 002-2V6a2 2 0 00-2-2H5a2 2 0 00-2 2v6a2 2 0 002 2h2v4l.586-.586z\" stroke-linecap=\"round\" stroke-linejoin=\"round\" stroke-width=\"2\"></path></svg></div><span class=\"ml-4\">Forum</span></a></li></ul><ul class=\"bottom\"><li class=\"leading-relaxed nav-leaders\"><a class=\"inline-flex items-center\" href=\"/users/leaderboard\" title=\"Leaders\"><div class=\"my-0.5\"><svg class=\"ml-1.5 w-6 h-6 inline-block\" fill=\"none\" stroke=\"currentColor\" viewbox=\"0 0 24 24\"><path d=\"M13 7h8m0 0v8m0-8l-8 8-4-4-6 6\" stroke-linecap=\"round\" stroke-linejoin=\"round\" stroke-width=\"2\"></path></svg></div><span class=\"ml-4\">Leaders</span></a></li></ul></nav><header class=\"main is-visible\" id=\"main_header\"><ul class=\"items\"><li class=\"item-list\"><a class=\"js-toggle-dark-mode w-6\"><svg class=\"block dark:hidden\" fill=\"currentColor\" viewbox=\"0 0 20 20\"><path clip-rule=\"evenodd\" d=\"M10 2a1 1 0 011 1v1a1 1 0 11-2 0V3a1 1 0 011-1zm4 8a4 4 0 11-8 0 4 4 0 018 0zm-.464 4.95l.707.707a1 1 0 001.414-1.414l-.707-.707a1 1 0 00-1.414 1.414zm2.12-10.607a1 1 0 010 1.414l-.706.707a1 1 0 11-1.414-1.414l.707-.707a1 1 0 011.414 0zM17 11a1 1 0 100-2h-1a1 1 0 100 2h1zm-7 4a1 1 0 011 1v1a1 1 0 11-2 0v-1a1 1 0 011-1zM5.05 6.464A1 1 0 106.465 5.05l-.708-.707a1 1 0 00-1.414 1.414l.707.707zm1.414 8.486l-.707.707a1 1 0 01-1.414-1.414l.707-.707a1 1 0 011.414 1.414zM4 11a1 1 0 100-2H3a1 1 0 000 2h1z\" fill-rule=\"evenodd\"></path></svg><svg class=\"hidden dark:block\" fill=\"currentColor\" viewbox=\"0 0 20 20\"><path d=\"M17.293 13.293A8 8 0 016.707 2.707a8.001 8.001 0 1010.586 10.586z\"></path></svg></a></li><li><span><a class=\"is-nudged-down-more\" data-turbolinks=\"false\" href=\"/users/sign_in\">Log In</a></span></li><li><span><a class=\"btn is-red text-gray-200 dark:text-white\" data-turbolinks=\"false\" href=\"/\">Sign Up</a></span></li></ul></header><main id=\"shell_content\" role=\"main\"><div class=\"is-hidden\" id=\"global_alerts\"><div class=\"alert-box\"></div></div><div id=\"flash\"></div><div class=\"w-256 max-w-full mx-auto my-0 px-0\"><section class=\"user-profile mb-0\"><div class=\"w-full px-0\"><figure class=\"profile-pic hidden md:block\"><a href=\"/users/jhoffner\"><img data-tippy-content=\"jhoffner\" data-tippy-placement=\"bottom\" src=\"https://avatars.githubusercontent.com/u/579835?s=100\" title=\"jhoffner\"/></a></figure><div><div class=\"relative\"><img class=\"profile-badge hidden md:inline-block mr-2 h-10\" src=\"/assets/badges/red-badge-47ac3e7d3259fd0c444c39033b34806833b89723b02073d6f6b08a1935f675fb.svg\"/><a href=\"/users/jhoffner\"><img class=\"inline-block dark:hidden\" src=\"/users/jhoffner/badges/large?logo=false&amp;theme=light\"/><img class=\"hidden dark:inline-block\" src=\"/users/jhoffner/badges/large?logo=false\"/></a><div class=\"absolute right-0 top-0 text-ui-text-lc group w-12\"><svg class=\"block mx-auto h-8\" fill=\"currentColor\" stroke=\"currentColor\" stroke-width=\"1\" viewbox=\"0 0 24 24\"><path d=\"M12 4l4 6l5 -4l-2 10h-14l-2 -10l5 4z\"></path></svg><div class=\"hidden sm:block text-sm text-center -my-2 text-ui-text-lc group-hover:block\">admin</div></div></div><div class=\"flex-box\"><div class=\"stat-box mt-1 mb-1 md:mb-0\"><div class=\"stat\"><b>Name:</b>Jake Hoffner</div><div class=\"stat\"><b>Clan:</b>Codewars</div><div class=\"stat\"><b>Skills:</b>ruby, c#, .net, javascript, coffeescript, nodejs, rails</div></div><div class=\"stat-box mt-1 mb-1 md:mb-0\"><div class=\"stat\"><b>Member Since:</b>Oct 2012</div><div class=\"stat\"><b>Last Seen:</b>Nov 2021</div><div class=\"stat\"><b>Profiles:</b><ul class=\"is-inline\"><li class=\"mr-5px\"><a href=\"https://github.com/jhoffner\" rel=\"noopener\" target=\"_blank\"><i class=\"icon-moon-github\"></i></a></li><li class=\"mr-5px\"><a href=\"https://www.twitter.com/JakeHoffner\" rel=\"noopener\" target=\"_blank\"><i class=\"icon-moon-twitter\"></i></a></li><li class=\"mr-5px\"><a href=\"https://www.linkedin.com/in/jakehoffner\" rel=\"noopener\" target=\"_blank\"><i class=\"icon-moon-linkedin\"></i></a></li><li class=\"mr-0\"><a href=\"http://stackoverflow.com/users/572261/jake-hoffner\" rel=\"noopener\" target=\"_blank\"><i class=\"icon-moon-stackoverflow\"></i></a></li></ul></div></div><div class=\"stat-box mt-1 mb-1 md:mb-0\"><div class=\"stat\"><b>Following:</b>215</div><div class=\"stat\"><b>Followers:</b>1404</div><div class=\"stat\"><b>Allies:</b>173</div></div></div><div class=\"mx-auto md:w-10/12 md:px-2\"><div class=\"flex-buttons mt-4 mb-2\"><div class=\"flex-button\"><a class=\"btn is-dark is-tiny\" href=\"/users/jhoffner/badges\">View Profile Badges</a></div></div></div><div class=\"clearfix\"></div></div></div></section></div><div class=\"w-256 max-w-full mx-auto my-4\"><div class=\"flex flex-col md:flex-row\"><div class=\"w-full is-low-light px-0\"><div class=\"max-w-md mx-auto\"><div class=\"p-10px\" id=\"_carbonad\" style=\"min-height: 100px\"><script async=\"\" id=\"_carbonads_js\" src=\"//cdn.carbonads.com/carbon.js?serve=CKYILK3L&amp;placement=codewarscom\" type=\"text/javascript\"></script><div class=\"clearfix\"></div></div></div></div></div></div><div class=\"w-256 max-w-full mx-auto mb-0 mt-4 bg-ui-section p-0\"><ul class=\"list-none mb-5 py-0 px-2 overflow-hidden flex flex-row items-center bg-ui-users-tabs-bg h-10 space-x-2\"><li class=\"h-full px-4 flex items-center justify-center border-t border-brand bg-ui-section\"><a class=\"cursor-default pointer-events-none\" href=\"/users/jhoffner/stats\">Stats</a></li><li class=\"h-full px-4 flex items-center justify-center\"><a href=\"/users/jhoffner/completed\">Kata</a></li><li class=\"h-full px-4 flex items-center justify-center\"><a href=\"/users/jhoffner/authored_collections\">Collections</a></li><li class=\"h-full px-4 flex items-center justify-center\"><a href=\"/users/jhoffner/published_kumite\">Kumite</a></li><li class=\"h-full px-4 flex items-center justify-center\"><a href=\"/users/jhoffner/following\">Social</a></li><li class=\"h-full px-4 flex items-center justify-center\"><a href=\"/users/jhoffner/comments\">Discourse</a></li></ul><div class=\"px-4 pb-4\"><div class=\"alert-box mt-15px mb-15px\"><i class=\"icon-moon-info\"></i>Next stats refresh <time-ago datetime=\"2021-11-23T13:54:04.138+0000\" lang=\"en\"></time-ago></div><div><div class=\"w-full px-0\"><section class=\"stat-category\"><figure class=\"hidden md:block\"><i class=\"icon-moon-progress\"></i></figure><div class=\"stat-container\"><h2 class=\"mt-2 md:mt-5 mb-1\">Progress</h2><div class=\"stat-row\"><div class=\"stat-box mt-1 mb-1 md:mb-0\"><div class=\"stat\"><b>Rank:</b>3 kyu</div><div class=\"stat\"><b>Honor:</b>207,561</div><div class=\"stat\"><b>Leaderboard Position:</b>#4</div><div class=\"stat\"><b>Honor Percentile:</b>Top 0.001%</div><div class=\"stat\"><b>Total Completed Kata:</b>399</div></div><div class=\"stat-box mt-1 mb-1 md:mb-0\"><h3><i class=\"icon-moon-terminal\"></i>Languages:</h3><div class=\"ml-5\"><div class=\"stat\"><b>Total Languages Trained:</b>13</div><div class=\"stat\"><b>Highest Trained:</b>JavaScript (3 kyu)</div><div class=\"stat\"><b>Most Recent:</b>SQL</div></div></div><div class=\"stat-box mt-1 mb-1 md:mb-0\"><h3><i class=\"icon-moon-up\"></i>Up Votes:</h3><div class=\"ml-5\"><div class=\"stat\"><b>Best Practice Solutions:</b>12,587</div><div class=\"stat\"><b>Clever Solutions:</b>4,899</div><div class=\"stat\"><b>Comments:</b>741</div></div></div></div></div><div class=\"clearfix\"></div></section></div></div><div class=\"my-4\"><div class=\"w-full px-0\"><section class=\"stat-category\"><figure class=\"hidden md:block\"><i class=\"icon-moon-contribution\"></i></figure><div class=\"stat-container\"><h2 class=\"mt-2 md:mt-5 mb-1\">Contributions</h2><div class=\"stat-row\"><div class=\"stat-box mt-1 mb-1 md:mb-0\"><h3><i class=\"icon-moon-users\"></i>Community:</h3><div class=\"ml-5\"><div class=\"stat\"><b>Comments:</b>1280 (301 replies)</div><div class=\"stat\"><b>Collections:</b>16</div><div class=\"stat\"><b>Kumite:</b>128 (292 Started)</div><div class=\"stat\"><b>Translations:</b>366 (355 approved)</div><div class=\"stat\"><b>Contributed Kata:</b>1018</div><div class=\"stat\"><b>Kata Approvals:</b>658</div></div></div><div class=\"stat-box mt-1 mb-1 md:mb-0\"><h3><i class=\"icon-moon-compare\"></i>Authored Kata:</h3><div class=\"ml-5\"><div class=\"stat\"><b>Created:</b>57 (0 in beta)</div><div class=\"stat\"><b>Total Completions:</b>1,178,193</div><div class=\"stat\"><b>Total Stars:</b>20,499</div><div class=\"stat\"><b>Total Collected:</b>4,723</div><div class=\"stat\"><b>Avg. Rank:</b>6 kyu</div><div class=\"stat\"><b>Avg. Satisfaction Rating:</b>86%</div></div></div><div class=\"stat-box mt-1 mb-1 md:mb-0\"><h3><i class=\"icon-moon-tag\"></i>Top Tags:</h3><div class=\"ml-5\"><div class=\"stat\"><b>Fundamentals:</b>46</div><div class=\"stat\"><b>Data Types:</b>33</div><div class=\"stat\"><b>Algorithms:</b>29</div><div class=\"stat\"><b>Strings:</b>19</div><div class=\"stat\"><b>Programming Paradigms:</b>16</div><div class=\"stat\"><b>Logic:</b>14</div></div></div></div></div></section></div></div><div class=\"my-4\"><div class=\"w-full px-0\"><section class=\"stat-category\"><figure class=\"hidden md:block\"><i class=\"icon-moon-streak\"></i></figure><div class=\"stat-container\"><h2 class=\"mt-2 md:mt-5 mb-1\">Streaks</h2><div class=\"stat-row\"><div class=\"stat-box mt-1 mb-1 md:mb-0\"><h3><i class=\"icon-moon-calendar\"></i>Most in a Single Day:</h3><div class=\"ml-5\"><div class=\"stat\"><b>Completed Kata:</b>27</div><div class=\"stat\"><b>Date:</b>Jun 28, 2014</div></div></div><div class=\"stat-box mt-1 mb-1 md:mb-0\"><h3><i class=\"icon-moon-calendar\"></i>Most in a Single Week:</h3><div class=\"ml-5\"><div class=\"stat\"><b>Completed Kata:</b>37</div><div class=\"stat\"><b>Ended On:</b>Jun 29, 2014</div></div></div><div class=\"stat-box mt-1 mb-1 md:mb-0\"><h3><i class=\"icon-moon-calendar\"></i>Most Consecutive Days:</h3><div class=\"ml-5\"><div class=\"stat\"><b>Most Number of days:</b>5</div><div class=\"stat\"><b>Ended On:</b>Jan 5, 2015</div><div class=\"stat\"><b>Current Streak:</b>0</div></div></div></div></div></section></div></div><div class=\"mt-8\"><div class=\"w-full px-0\"><section class=\"stat-category language\"><figure class=\"hidden md:block\"><i class=\"icon-moon-javascript\"></i></figure><div class=\"stat-container\"><h2 class=\"mt-2 md:mt-5 mb-1\">JavaScript</h2><div class=\"stat-row\"><div class=\"stat-box mt-1 mb-1 md:mb-0\"><div class=\"stat\"><b>Rank:</b>3 kyu</div><div class=\"stat\"><b>First Completed:</b>Mar 2013</div><div class=\"stat\"><b>Last Completed:</b>Feb 2020</div><div class=\"stat\"><b>Completed Kata:</b>231</div><div class=\"stat\"><b>Kata Attempts:</b>810</div><div class=\"stat\"><b>Completed on 1<sup>st</sup> Attempt:</b>64</div><div class=\"stat\"><b>Authored Kata:</b>38</div></div><div class=\"stat-box mt-1 mb-1 md:mb-0 double\"><h3><i class=\"icon-moon-bullseye\"></i>Completed Kata By Rank:</h3><div class=\"ml-5 ranks\"><div class=\"stat\"><b><i class=\"icon-moon-ranks2 white-rank drop-shadow\"></i>8 Kyu:</b>40</div><div class=\"stat\"><b><i class=\"icon-moon-ranks2 white-rank drop-shadow\"></i>7 Kyu:</b>73</div><div class=\"stat\"><b><i class=\"icon-moon-ranks2 yellow-rank drop-shadow\"></i>6 Kyu:</b>71</div><div class=\"stat\"><b><i class=\"icon-moon-ranks2 yellow-rank drop-shadow\"></i>5 Kyu:</b>29</div><div class=\"stat\"><b><i class=\"icon-moon-ranks2 blue-rank drop-shadow\"></i>4 Kyu:</b>6</div><div class=\"stat\"><b><i class=\"icon-moon-ranks2 purple-rank drop-shadow\"></i>1 Kyu:</b>1</div></div><h3 class=\"mt-15px\"><i class=\"icon-moon-up\"></i>Solution Votes:</h3><div class=\"ml-5\"><div class=\"stat\"><b>Best Practice:</b>4,383</div><div class=\"stat\"><b>Clever:</b>1,554</div></div></div></div></div></section></div><div class=\"w-full px-0\"><section class=\"stat-category language\"><figure class=\"hidden md:block\"><i class=\"icon-moon-ruby\"></i></figure><div class=\"stat-container\"><h2 class=\"mt-2 md:mt-5 mb-1\">Ruby</h2><div class=\"stat-row\"><div class=\"stat-box mt-1 mb-1 md:mb-0\"><div class=\"stat\"><b>Rank:</b>4 kyu</div><div class=\"stat\"><b>First Completed:</b>Mar 2013</div><div class=\"stat\"><b>Last Completed:</b>Sep 2021</div><div class=\"stat\"><b>Completed Kata:</b>137</div><div class=\"stat\"><b>Kata Attempts:</b>329</div><div class=\"stat\"><b>Completed on 1<sup>st</sup> Attempt:</b>24</div><div class=\"stat\"><b>Authored Kata:</b>38</div><div class=\"stat\"><b>Authored Translations:</b>1 (1 approved)</div></div><div class=\"stat-box mt-1 mb-1 md:mb-0 double\"><h3><i class=\"icon-moon-bullseye\"></i>Completed Kata By Rank:</h3><div class=\"ml-5 ranks\"><div class=\"stat\"><b><i class=\"icon-moon-ranks2 white-rank drop-shadow\"></i>8 Kyu:</b>31</div><div class=\"stat\"><b><i class=\"icon-moon-ranks2 white-rank drop-shadow\"></i>7 Kyu:</b>45</div><div class=\"stat\"><b><i class=\"icon-moon-ranks2 yellow-rank drop-shadow\"></i>6 Kyu:</b>33</div><div class=\"stat\"><b><i class=\"icon-moon-ranks2 yellow-rank drop-shadow\"></i>5 Kyu:</b>11</div><div class=\"stat\"><b><i class=\"icon-moon-ranks2 blue-rank drop-shadow\"></i>4 Kyu:</b>10</div><div class=\"stat\"><b><i class=\"icon-moon-ranks2 blue-rank drop-shadow\"></i>3 Kyu:</b>1</div></div><h3 class=\"mt-15px\"><i class=\"icon-moon-up\"></i>Solution Votes:</h3><div class=\"ml-5\"><div class=\"stat\"><b>Best Practice:</b>1,456</div><div class=\"stat\"><b>Clever:</b>509</div></div></div></div></div></section></div><div class=\"w-full px-0\"><section class=\"stat-category language\"><figure class=\"hidden md:block\"><i class=\"icon-moon-coffeescript\"></i></figure><div class=\"stat-container\"><h2 class=\"mt-2 md:mt-5 mb-1\">CoffeeScript</h2><div class=\"stat-row\"><div class=\"stat-box mt-1 mb-1 md:mb-0\"><div class=\"stat\"><b>Rank:</b>4 kyu</div><div class=\"stat\"><b>First Completed:</b>Mar 2013</div><div class=\"stat\"><b>Last Completed:</b>Sep 2021</div><div class=\"stat\"><b>Completed Kata:</b>41</div><div class=\"stat\"><b>Kata Attempts:</b>12</div><div class=\"stat\"><b>Completed on 1<sup>st</sup> Attempt:</b>4</div><div class=\"stat\"><b>Authored Kata:</b>33</div></div><div class=\"stat-box mt-1 mb-1 md:mb-0 double\"><h3><i class=\"icon-moon-bullseye\"></i>Completed Kata By Rank:</h3><div class=\"ml-5 ranks\"><div class=\"stat\"><b><i class=\"icon-moon-ranks2 white-rank drop-shadow\"></i>8 Kyu:</b>6</div><div class=\"stat\"><b><i class=\"icon-moon-ranks2 white-rank drop-shadow\"></i>7 Kyu:</b>13</div><div class=\"stat\"><b><i class=\"icon-moon-ranks2 yellow-rank drop-shadow\"></i>6 Kyu:</b>10</div><div class=\"stat\"><b><i class=\"icon-moon-ranks2 yellow-rank drop-shadow\"></i>5 Kyu:</b>6</div><div class=\"stat\"><b><i class=\"icon-moon-ranks2 blue-rank drop-shadow\"></i>4 Kyu:</b>5</div></div><h3 class=\"mt-15px\"><i class=\"icon-moon-up\"></i>Solution Votes:</h3><div class=\"ml-5\"><div class=\"stat\"><b>Best Practice:</b>25</div><div class=\"stat\"><b>Clever:</b>11</div></div></div></div></div></section></div><div class=\"w-full px-0\"><section class=\"stat-category language\"><figure class=\"hidden md:block\"><i class=\"icon-moon-python\"></i></figure><div class=\"stat-container\"><h2 class=\"mt-2 md:mt-5 mb-1\">Python</h2><div class=\"stat-row\"><div class=\"stat-box mt-1 mb-1 md:mb-0\"><div class=\"stat\"><b>Rank:</b>6 kyu</div><div class=\"stat\"><b>First Completed:</b>Jul 2014</div><div class=\"stat\"><b>Last Completed:</b>Sep 2018</div><div class=\"stat\"><b>Completed Kata:</b>51</div><div class=\"stat\"><b>Kata Attempts:</b>75</div><div class=\"stat\"><b>Completed on 1<sup>st</sup> Attempt:</b>6</div><div class=\"stat\"><b>Authored Kata:</b>3</div></div><div class=\"stat-box mt-1 mb-1 md:mb-0 double\"><h3><i class=\"icon-moon-bullseye\"></i>Completed Kata By Rank:</h3><div class=\"ml-5 ranks\"><div class=\"stat\"><b><i class=\"icon-moon-ranks2 white-rank drop-shadow\"></i>8 Kyu:</b>12</div><div class=\"stat\"><b><i class=\"icon-moon-ranks2 white-rank drop-shadow\"></i>7 Kyu:</b>12</div><div class=\"stat\"><b><i class=\"icon-moon-ranks2 yellow-rank drop-shadow\"></i>6 Kyu:</b>11</div><div class=\"stat\"><b><i class=\"icon-moon-ranks2 yellow-rank drop-shadow\"></i>5 Kyu:</b>5</div><div class=\"stat\"><b><i class=\"icon-moon-ranks2 blue-rank drop-shadow\"></i>4 Kyu:</b>8</div><div class=\"stat\"><b><i class=\"icon-moon-ranks2 blue-rank drop-shadow\"></i>3 Kyu:</b>2</div></div><h3 class=\"mt-15px\"><i class=\"icon-moon-up\"></i>Solution Votes:</h3><div class=\"ml-5\"><div class=\"stat\"><b>Best Practice:</b>5,634</div><div class=\"stat\"><b>Clever:</b>2,328</div></div></div></div></div></section></div><div class=\"w-full px-0\"><section class=\"stat-category language\"><figure class=\"hidden md:block\"><i class=\"icon-moon-sql\"></i></figure><div class=\"stat-container\"><h2 class=\"mt-2 md:mt-5 mb-1\">SQL</h2><div class=\"stat-row\"><div class=\"stat-box mt-1 mb-1 md:mb-0\"><div class=\"stat\"><b>Rank:</b>6 kyu</div><div class=\"stat\"><b>First Completed:</b>Oct 2016</div><div class=\"stat\"><b>Last Completed:</b>Jul 2018</div><div class=\"stat\"><b>Completed Kata:</b>13</div><div class=\"stat\"><b>Kata Attempts:</b>96</div><div class=\"stat\"><b>Completed on 1<sup>st</sup> Attempt:</b>2</div><div class=\"stat\"><b>Authored Kata:</b>3</div><div class=\"stat\"><b>Authored Translations:</b>1 (1 approved)</div></div><div class=\"stat-box mt-1 mb-1 md:mb-0 double\"><h3><i class=\"icon-moon-bullseye\"></i>Completed Kata By Rank:</h3><div class=\"ml-5 ranks\"><div class=\"stat\"><b><i class=\"icon-moon-ranks2 white-rank drop-shadow\"></i>8 Kyu:</b>3</div><div class=\"stat\"><b><i class=\"icon-moon-ranks2 white-rank drop-shadow\"></i>7 Kyu:</b>2</div><div class=\"stat\"><b><i class=\"icon-moon-ranks2 yellow-rank drop-shadow\"></i>6 Kyu:</b>6</div><div class=\"stat\"><b><i class=\"icon-moon-ranks2 yellow-rank drop-shadow\"></i>5 Kyu:</b>2</div></div><h3 class=\"mt-15px\"><i class=\"icon-moon-up\"></i>Solution Votes:</h3><div class=\"ml-5\"><div class=\"stat\"><b>Best Practice:</b>511</div><div class=\"stat\"><b>Clever:</b>165</div></div></div></div></div></section></div><div class=\"w-full px-0\"><section class=\"stat-category language\"><figure class=\"hidden md:block\"><i class=\"icon-moon-java\"></i></figure><div class=\"stat-container\"><h2 class=\"mt-2 md:mt-5 mb-1\">Java</h2><div class=\"stat-row\"><div class=\"stat-box mt-1 mb-1 md:mb-0\"><div class=\"stat\"><b>Rank:</b>6 kyu</div><div class=\"stat\"><b>First Completed:</b>Sep 2014</div><div class=\"stat\"><b>Last Completed:</b>Mar 2017</div><div class=\"stat\"><b>Completed Kata:</b>10</div><div class=\"stat\"><b>Kata Attempts:</b>28</div><div class=\"stat\"><b>Completed on 1<sup>st</sup> Attempt:</b>1</div></div><div class=\"stat-box mt-1 mb-1 md:mb-0 double\"><h3><i class=\"icon-moon-bullseye\"></i>Completed Kata By Rank:</h3><div class=\"ml-5 ranks\"><div class=\"stat\"><b><i class=\"icon-moon-ranks2 white-rank drop-shadow\"></i>8 Kyu:</b>1</div><div class=\"stat\"><b><i class=\"icon-moon-ranks2 white-rank drop-shadow\"></i>7 Kyu:</b>2</div><div class=\"stat\"><b><i class=\"icon-moon-ranks2 yellow-rank drop-shadow\"></i>6 Kyu:</b>3</div><div class=\"stat\"><b><i class=\"icon-moon-ranks2 yellow-rank drop-shadow\"></i>5 Kyu:</b>2</div><div class=\"stat\"><b><i class=\"icon-moon-ranks2 blue-rank drop-shadow\"></i>4 Kyu:</b>1</div></div><h3 class=\"mt-15px\"><i class=\"icon-moon-up\"></i>Solution Votes:</h3><div class=\"ml-5\"><div class=\"stat\"><b>Best Practice:</b>188</div><div class=\"stat\"><b>Clever:</b>38</div></div></div></div></div></section></div><div class=\"w-full px-0\"><section class=\"stat-category language\"><figure class=\"hidden md:block\"><i class=\"icon-moon-haskell\"></i></figure><div class=\"stat-container\"><h2 class=\"mt-2 md:mt-5 mb-1\">Haskell</h2><div class=\"stat-row\"><div class=\"stat-box mt-1 mb-1 md:mb-0\"><div class=\"stat\"><b>Rank:</b>6 kyu</div><div class=\"stat\"><b>First Completed:</b>Sep 2014</div><div class=\"stat\"><b>Last Completed:</b>Dec 2016</div><div class=\"stat\"><b>Completed Kata:</b>31</div><div class=\"stat\"><b>Kata Attempts:</b>6</div><div class=\"stat\"><b>Completed on 1<sup>st</sup> Attempt:</b>6</div></div><div class=\"stat-box mt-1 mb-1 md:mb-0 double\"><h3><i class=\"icon-moon-bullseye\"></i>Completed Kata By Rank:</h3><div class=\"ml-5 ranks\"><div class=\"stat\"><b><i class=\"icon-moon-ranks2 white-rank drop-shadow\"></i>8 Kyu:</b>3</div><div class=\"stat\"><b><i class=\"icon-moon-ranks2 white-rank drop-shadow\"></i>7 Kyu:</b>11</div><div class=\"stat\"><b><i class=\"icon-moon-ranks2 yellow-rank drop-shadow\"></i>6 Kyu:</b>10</div><div class=\"stat\"><b><i class=\"icon-moon-ranks2 yellow-rank drop-shadow\"></i>5 Kyu:</b>1</div><div class=\"stat\"><b><i class=\"icon-moon-ranks2 blue-rank drop-shadow\"></i>4 Kyu:</b>1</div><div class=\"stat\"><b><i class=\"icon-moon-ranks2 purple-rank drop-shadow\"></i>1 Kyu:</b>1</div></div><h3 class=\"mt-15px\"><i class=\"icon-moon-up\"></i>Solution Votes:</h3><div class=\"ml-5\"><div class=\"stat\"><b>Best Practice:</b>261</div><div class=\"stat\"><b>Clever:</b>136</div></div></div></div></div></section></div><div class=\"w-full px-0\"><section class=\"stat-category language\"><figure class=\"hidden md:block\"><i class=\"icon-moon-bash\"></i></figure><div class=\"stat-container\"><h2 class=\"mt-2 md:mt-5 mb-1\">Shell</h2><div class=\"stat-row\"><div class=\"stat-box mt-1 mb-1 md:mb-0\"><div class=\"stat\"><b>Rank:</b>8 kyu</div><div class=\"stat\"><b>First Completed:</b>Nov 2016</div><div class=\"stat\"><b>Last Completed:</b>Jan 2017</div><div class=\"stat\"><b>Completed Kata:</b>3</div><div class=\"stat\"><b>Kata Attempts:</b>9</div><div class=\"stat\"><b>Completed on 1<sup>st</sup> Attempt:</b>1</div><div class=\"stat\"><b>Authored Kata:</b>1</div></div><div class=\"stat-box mt-1 mb-1 md:mb-0 double\"><h3><i class=\"icon-moon-bullseye\"></i>Completed Kata By Rank:</h3><div class=\"ml-5 ranks\"><div class=\"stat\"><b><i class=\"icon-moon-ranks2 white-rank drop-shadow\"></i>8 Kyu:</b>2</div><div class=\"stat\"><b><i class=\"icon-moon-ranks2 white-rank drop-shadow\"></i>7 Kyu:</b>1</div></div><h3 class=\"mt-15px\"><i class=\"icon-moon-up\"></i>Solution Votes:</h3><div class=\"ml-5\"><div class=\"stat\"><b>Best Practice:</b>7</div><div class=\"stat\"><b>Clever:</b>1</div></div></div></div></div></section></div><div class=\"w-full px-0\"><section class=\"stat-category language\"><figure class=\"hidden md:block\"><i class=\"icon-moon-csharp\"></i></figure><div class=\"stat-container\"><h2 class=\"mt-2 md:mt-5 mb-1\">C#</h2><div class=\"stat-row\"><div class=\"stat-box mt-1 mb-1 md:mb-0\"><div class=\"stat\"><b>Rank:</b>8 kyu</div><div class=\"stat\"><b>First Completed:</b>Mar 2015</div><div class=\"stat\"><b>Last Completed:</b>Aug 2016</div><div class=\"stat\"><b>Completed Kata:</b>10</div><div class=\"stat\"><b>Kata Attempts:</b>20</div><div class=\"stat\"><b>Completed on 1<sup>st</sup> Attempt:</b>2</div></div><div class=\"stat-box mt-1 mb-1 md:mb-0 double\"><h3><i class=\"icon-moon-bullseye\"></i>Completed Kata By Rank:</h3><div class=\"ml-5 ranks\"><div class=\"stat\"><b><i class=\"icon-moon-ranks2 white-rank drop-shadow\"></i>8 Kyu:</b>1</div><div class=\"stat\"><b><i class=\"icon-moon-ranks2 white-rank drop-shadow\"></i>7 Kyu:</b>3</div><div class=\"stat\"><b><i class=\"icon-moon-ranks2 yellow-rank drop-shadow\"></i>6 Kyu:</b>4</div><div class=\"stat\"><b><i class=\"icon-moon-ranks2 blue-rank drop-shadow\"></i>4 Kyu:</b>1</div></div><h3 class=\"mt-15px\"><i class=\"icon-moon-up\"></i>Solution Votes:</h3><div class=\"ml-5\"><div class=\"stat\"><b>Best Practice:</b>14</div><div class=\"stat\"><b>Clever:</b>59</div></div></div></div></div></section></div><div class=\"w-full px-0\"><section class=\"stat-category language\"><figure class=\"hidden md:block\"><i class=\"icon-moon-typescript\"></i></figure><div class=\"stat-container\"><h2 class=\"mt-2 md:mt-5 mb-1\">TypeScript</h2><div class=\"stat-row\"><div class=\"stat-box mt-1 mb-1 md:mb-0\"><div class=\"stat\"><b>Rank:</b>8 kyu</div><div class=\"stat\"><b>First Completed:</b>May 2016</div><div class=\"stat\"><b>Last Completed:</b>Oct 2019</div><div class=\"stat\"><b>Completed Kata:</b>1</div><div class=\"stat\"><b>Kata Attempts:</b>0</div><div class=\"stat\"><b>Completed on 1<sup>st</sup> Attempt:</b>0</div><div class=\"stat\"><b>Authored Kata:</b>1</div></div><div class=\"stat-box mt-1 mb-1 md:mb-0 double\"><h3><i class=\"icon-moon-bullseye\"></i>Completed Kata By Rank:</h3><div class=\"ml-5 ranks\"><div class=\"stat\"><b><i class=\"icon-moon-ranks2 white-rank drop-shadow\"></i>7 Kyu:</b>1</div></div></div></div></div></section></div><div class=\"w-full px-0\"><section class=\"stat-category language\"><figure class=\"hidden md:block\"><i class=\"icon-moon-objc\"></i></figure><div class=\"stat-container\"><h2 class=\"mt-2 md:mt-5 mb-1\">Objective-C</h2><div class=\"stat-row\"><div class=\"stat-box mt-1 mb-1 md:mb-0\"><div class=\"stat\"><b>Rank:</b>8 kyu</div><div class=\"stat\"><b>First Completed:</b>Jan 2017</div><div class=\"stat\"><b>Last Completed:</b>Oct 2017</div><div class=\"stat\"><b>Completed Kata:</b>2</div><div class=\"stat\"><b>Kata Attempts:</b>1</div><div class=\"stat\"><b>Completed on 1<sup>st</sup> Attempt:</b>1</div><div class=\"stat\"><b>Authored Translations:</b>1 (1 approved)</div></div><div class=\"stat-box mt-1 mb-1 md:mb-0 double\"><h3><i class=\"icon-moon-bullseye\"></i>Completed Kata By Rank:</h3><div class=\"ml-5 ranks\"><div class=\"stat\"><b><i class=\"icon-moon-ranks2 white-rank drop-shadow\"></i>8 Kyu:</b>2</div></div><h3 class=\"mt-15px\"><i class=\"icon-moon-up\"></i>Solution Votes:</h3><div class=\"ml-5\"><div class=\"stat\"><b>Best Practice:</b>0</div><div class=\"stat\"><b>Clever:</b>7</div></div></div></div></div></section></div><div class=\"w-full px-0\"><section class=\"stat-category language\"><figure class=\"hidden md:block\"><i class=\"icon-moon-elixir\"></i></figure><div class=\"stat-container\"><h2 class=\"mt-2 md:mt-5 mb-1\">Elixir</h2><div class=\"stat-row\"><div class=\"stat-box mt-1 mb-1 md:mb-0\"><div class=\"stat\"><b>Rank:</b>8 kyu</div><div class=\"stat\"><b>First Completed:</b>Jul 2016</div><div class=\"stat\"><b>Last Completed:</b>Aug 2016</div><div class=\"stat\"><b>Completed Kata:</b>2</div><div class=\"stat\"><b>Kata Attempts:</b>6</div><div class=\"stat\"><b>Completed on 1<sup>st</sup> Attempt:</b>0</div><div class=\"stat\"><b>Authored Translations:</b>1 (1 approved)</div></div><div class=\"stat-box mt-1 mb-1 md:mb-0 double\"><h3><i class=\"icon-moon-bullseye\"></i>Completed Kata By Rank:</h3><div class=\"ml-5 ranks\"><div class=\"stat\"><b><i class=\"icon-moon-ranks2 white-rank drop-shadow\"></i>8 Kyu:</b>1</div></div></div></div></div></section></div><div class=\"w-full px-0\"><section class=\"stat-category language\"><figure class=\"hidden md:block\"><i class=\"icon-moon-crystal\"></i></figure><div class=\"stat-container\"><h2 class=\"mt-2 md:mt-5 mb-1\">Crystal</h2><div class=\"stat-row\"><div class=\"stat-box mt-1 mb-1 md:mb-0\"><div class=\"stat\"><b>Rank:</b>8 kyu</div><div class=\"stat\"><b>First Completed:</b>Aug 2016</div><div class=\"stat\"><b>Last Completed:</b>Aug 2016</div><div class=\"stat\"><b>Completed Kata:</b>1</div><div class=\"stat\"><b>Kata Attempts:</b>0</div><div class=\"stat\"><b>Completed on 1<sup>st</sup> Attempt:</b>0</div><div class=\"stat\"><b>Authored Translations:</b>1 (1 approved)</div></div><div class=\"stat-box mt-1 mb-1 md:mb-0 double\"><h3><i class=\"icon-moon-bullseye\"></i>Completed Kata By Rank:</h3><div class=\"ml-5 ranks\"><div class=\"stat\"><b><i class=\"icon-moon-ranks2 white-rank drop-shadow\"></i>8 Kyu:</b>1</div></div><h3 class=\"mt-15px\"><i class=\"icon-moon-up\"></i>Solution Votes:</h3><div class=\"ml-5\"><div class=\"stat\"><b>Best Practice:</b>4</div><div class=\"stat\"><b>Clever:</b>2</div></div></div></div></div></section></div></div></div></div></main><div class=\"clearfix\"></div></div><div class=\"clearfix\"></div><footer class=\"p-3 text-ui-text mb-0 text-center w-auto h-50px\" id=\"main_footer\"><ul class=\"block list-none mx-auto mb-0 p-0 overflow-hidden space-x-5\"><li class=\"inline-block\">© 2021 Codewars</li><li class=\"inline-block\"><a href=\"/about\">About</a></li><li class=\"inline-block\"><a href=\"https://dev.codewars.com\" rel=\"noopener\" target=\"_blank\">API</a></li><li class=\"inline-block\"><a href=\"https://blog.codewars.com\" rel=\"noopener\" target=\"_blank\">Blog</a></li><li class=\"inline-block\"><a href=\"/about/privacy\">Privacy</a></li><li class=\"inline-block\"><a href=\"/about/terms-of-service\">Terms</a></li><li class=\"inline-block\"><a data-content=\"info@codewars.com\" href=\"mailto:info@codewars.com\" id=\"contactUs\" rel=\"popover\">Contact</a></li><li class=\"poweredby_link inline-block\"><a class=\"hover:text-current\" data-tippy-content=\"Supercharge your technical hiring with developer assessments.\" data-tippy-placement=\"top\" href=\"https://www.qualified.io?utm_source=codewars&amp;utm_medium=web&amp;utm_term=footer\" rel=\"noopener\" target=\"_blank\"><div class=\"flex items-baseline justify-center\"><span class=\"pl-1 text-xs inline-block\">powered by</span><img class=\"h-4 inline-block dark:hidden pl-1\" src=\"/assets/logos/qualified-black-b052752a4beaf94810c9d982f495680e2a9eb207824764ef98240ccef15cfbb1.svg\"/><img class=\"h-4 hidden dark:inline-block pl-1\" src=\"/assets/logos/qualified-white-7cba1bde874154ee4f39d50aebd5b7e435f5b21af9884b236a60d9015039e7f0.svg\"/></div></a></li></ul></footer><div class=\"modal\" id=\"confirm_modal\" style=\"display: none\"><div class=\"modal-header\"><div class=\"close\" data-dismiss=\"modal\"><i class=\"icon-moon-x\"></i></div><h4>Confirm</h4><div class=\"clearfix\"></div></div><div class=\"clearfix\"></div><div class=\"modal-body view\"></div><div class=\"modal-footer\"><ul class=\"form-actions\"><li class=\"cancel\" data-dismiss=\"modal\"><a class=\"btn\">Cancel</a></li><li class=\"alt-confirm is-hidden\"><a class=\"btn\"></a></li><li class=\"confirm\"><a class=\"btn is-green\"><i class=\"icon-general-checkmark\"></i>Confirm</a></li></ul></div></div></div><div class=\"is-hidden\" data-turbolinks-permanent=\"\" id=\"template_helpers\"><script id=\"hidden_field\" type=\"template\"><input data-bind-id=\"@id\" data-bind-name=\"@name\" data-bind-value=\"@value\" type=\"hidden\" /></script><script id=\"input_field\" type=\"template\"><div data-bind-class=\"field_class\"><label data-bind-class=\"%required &amp;&amp; &#39;required&#39;\" data-bind-for=\"@id\" data-bind-if=\"%label\"><abbr data-bind-if=\"%required\" title=\"required\">* </abbr><span data-bind-html=\"%label\"></span></label><div data-bind-class=\"field_value_class\"><input data-bind-id=\"@id\" data-bind-name=\"@name\" data-bind-type=\"%type || &#39;text&#39;\" data-bind-value=\"@value | unescape_html || %defaultValue\" /></div><include data-bind-each=\"@errors\"><small data-bind-html=\"@\"></small></include></div></script><script id=\"checkbox_field\" type=\"template\"><div class=\"boolean\" data-bind-class=\"field_class\"><div class=\"field_value\"><div><input data-bind-name=\"@name\" type=\"hidden\" value=\"false\" /><label class=\"checkbox\"><input class=\"rounded bg-gray-400 dark:bg-gray-600 border-transparent focus:border-transparent focus:bg-gray-400 text-gray-700 focus:ring-1 focus:ring-offset-2 dark:ring-offset-1 focus:ring-gray-500 dark:focus:ring-gray-700 dark:focus:ring-offset-gray-800 boolean\" data-bind-checked=\"@value\" data-bind-id=\"@id\" data-bind-name=\"@name\" type=\"checkbox\" value=\"true\" /><span data-bind-html=\"%label || @label\"></span></label></div></div></div></script><script id=\"markdown_field\" type=\"template\"><div class=\"is-full-height\" data-bind-class=\"field_class\" data-bind-if=\"%style | eq::&#39;full&#39;\"><div class=\"markdown-editor is-full-height mb-0\"><div class=\"tabs is-full-height\"><dl class=\"tabs is-contained bg-k-40\"><dd class=\"is-active\" data-tippy-content=\"Edit your message using markdown\" data-tippy-placement=\"top\"><a data-bind-html=\"{{%label}}\" data-bind-if=\"%label\" data-tab=\"markdown\"></a><a data-bind-unless=\"%label\" data-tab=\"markdown\"><i class=\"icon-moon-edit \"></i></a></dd><dd data-tippy-content=\"Preview your comment\" data-tippy-placement=\"right\"><a data-tab=\"preview\"><i class=\"icon-moon-preview \"></i></a></dd><dd data-tippy-content=\"Edit in full-screen mode\" data-tippy-placement=\"left\"><a class=\"js-expand\"><i class=\"icon-moon-expand \"></i></a></dd></dl><div class=\"clearfix\"></div><ul class=\"tabs-content is-full-height\"><li class=\"is-full-height is-active\" data-tab=\"markdown\"><div class=\"text-editor-container is-full-height\"><textarea class=\"is-hidden\" data-bind-id=\"@id\" data-bind-name=\"@name\" data-bind-value=\"@value\"></textarea><div class=\"text-editor js-editor has-shadow\"></div><div class=\"editor-msg-container is-hidden\"><div class=\"alert-box\"></div></div></div></li><li class=\"is-full-height\" data-tab=\"preview\"><div class=\"panel bg-ui-section is-overflow-auto\"><div class=\"markdown prose max-w-none\"><p>Your rendered <a href=\"https://github.com/adam-p/markdown-here/wiki/Markdown-Cheatsheet\" target=\"_blank\" rel=\"noopener\">github-flavored</a> markdown will appear here.</p></div></div></li></ul></div></div></div><div data-bind-class=\"field_class\" data-bind-if=\"%style | ne::&#39;full&#39;\"><label data-bind-class=\"%required &amp;&amp; &#39;required&#39;\" data-bind-for=\"@id\" data-bind-if=\"%label\"><abbr data-bind-if=\"%required\" title=\"required\">* </abbr><span data-bind-html=\"%label\"></span></label><div class=\"markdown-editor is-tall is-low-light\" data-bind-class=\"%markdownEditorClass\"><div class=\"tabs\"><dl class=\"tabs is-contained\"><dd class=\"is-active\" data-tippy-content=\"Edit your message using markdown\" data-tippy-placement=\"top\"><a data-tab=\"markdown\"><i class=\"icon-moon-edit \"></i></a></dd><dd data-tippy-content=\"Preview your comment\" data-tippy-placement=\"right\"><a data-tab=\"preview\"><i class=\"icon-moon-preview \"></i></a></dd><dd data-tippy-content=\"Edit in full-screen mode\" data-tippy-placement=\"right\"><a class=\"js-expand\"><i class=\"icon-moon-expand \"></i></a></dd></dl><ul class=\"tabs-content\"><li class=\"is-full-height is-active\" data-tab=\"markdown\"><div class=\"text-editor-container is-full-height\"><textarea class=\"is-hidden\" data-bind-id=\"@id\" data-bind-name=\"@name\" data-bind-value=\"@value\"></textarea><div class=\"text-editor js-editor has-shadow\"></div><div class=\"editor-msg-container is-hidden\"><div class=\"alert-box\"></div></div></div></li><li class=\"is-full-height\" data-tab=\"preview\"><div class=\"panel bg-ui-section is-overflow-auto\"><div class=\"markdown prose max-w-none\"><p>Your rendered <a href=\"https://github.com/adam-p/markdown-here/wiki/Markdown-Cheatsheet\" target=\"_blank\" rel=\"noopener\">github-flavored</a> markdown will appear here.</p></div></div></li></ul></div></div></div></script><script id=\"code_editor_field\" type=\"template\"><div class=\"text-editor-container\" data-bind-class=\"field_class\" data-bind-id=\"{{@id}}_field\"><label data-bind-class=\"%required &amp;&amp; &#39;required&#39;\" data-bind-for=\"@id\" data-bind-if=\"%label\"><abbr data-bind-if=\"%required\" title=\"required\">* </abbr><span data-bind-html=\"%label\"></span></label><textarea class=\"is-hidden\" data-bind-id=\"@id\" data-bind-name=\"@name\" data-bind-value=\"@value\"></textarea><div class=\"text-editor js-editor has-shadow\"></div><div class=\"commands-container\"><ul class=\"is-unstyled\"><li class=\"expand\" title=\"Maximize Editor (esc key)\"><a><i class=\"icon-moon-expand \"></i></a></li><li class=\"shrink is-hidden\" title=\"Shrink Editor (esc key)\"><a><i class=\"icon-moon-collapse \"></i></a></li></ul></div><div class=\"editor-msg-container is-hidden\"><div class=\"alert-box\"></div></div></div></script></div><div class=\"p-4 shadow-lg is-hidden\" data-turbolinks-permanent=\"\" id=\"collection_modal\"><view><script type=\"template\"><h3 class=\"mx-2 mt-2 mb-5 text-base font-bold\">Collect: <span data-bind-html='@current.name'>kata</span></h3><div class=\"pl-2\" data-bind-if=\"@loading\"><p>Loading collection data...</p></div><div data-bind-unless=\"@loading\"><div class=\"tabs\" data-bind-unless=\"@adding\"><dl class=\"tabs\"><dd class=\"is-active\"><a data-tab=\"personal\"><i class=\"icon-moon-plus \"></i>Add To My Collections</a></dd><dd data-bind-class=\"!@recent | hidden_class\"><a data-tab=\"recent\"><i class=\"icon-moon-collection \"></i>Recently Collected In</a></dd></dl><ul class=\"tabs-content mb-0\"><li class=\"is-active\" data-tab=\"personal\"><div class=\"collection-content\" data-bind-if=\"enough_honor?\"><div class=\"collections\" data-bind-if=\"@collections.length\"><ul><li data-bind-data-value=\"@id\" data-bind-each=\"@collections\"><div><h4><i class=\"icon-moon-collection \"></i><span data-bind-text=\"@name\"></span></h4><div class=\"info-row\"><span><i class=\"icon-moon-compare \"></i><span data-bind-text=\"{{@code_challenges | count | string}} kata\"></span></span><a data-bind-href=\"/collections/{{@id}}\"><i class=\"icon-moon-preview \"></i>View</a></div></div><a class=\"btn is-dark is-red-text js-add-toggle\" data-bind-if=\"added?\">Remove</a><a class=\"btn is-dark is-green-text js-add-toggle\" data-bind-unless=\"added?\">Add</a></li></ul></div><div data-bind-unless=\"@collections.length\"><h5>You have not created any collections yet.</h5><p>Collections are a way for you to organize kata so that you can\n",
       "create your own training routines. Every collection you create is public and\n",
       "automatically sharable with other warriors. After you have added a few kata to a\n",
       "collection you and others can train on the kata contained within the collection.</p><p>Get started now by <a class=\"js-add\">creating a new collection</a>.</p></div></div><div class=\"collection-content p-15px\" data-bind-unless=\"enough_honor?\">You must wait until you have earned at least 20 honor before you can create new collections.</div></li></ul></div><form class=\"new-collection px-10px\" data-bind-if=\"@adding\"><p>Set the name for your new collection. Remember, this is going to be visible by everyone\n",
       "so think of something that others will understand.</p><input class=\"mt-4 block w-full rounded-none rounded-l-md sm:text-sm dark:bg-gray-800 focus:outline-none focus:ring-cgray-300 dark:focus:ring-cgray-600 focus:border-cgray-300 dark:focus:border-cgray-600 border-gray-300 dark:border-gray-700\" placeholder=\"New Collection Name\" type=\"text\" /></form><div class=\"collection-footer border-t mt-5\"><a class=\"btn is-green mr-15px js-create\" data-bind-if=\"@adding\">Create & Add</a><a class=\"btn js-done\" data-bind-text=\"done_label\"></a><a class=\"btn is-green float-right js-add\" data-bind-unless=\"@adding || !enough_honor?\">New Collection</a></div></div></script></view></div><script>document.addEventListener(\"turbolinks:load\", (event) => {\n",
       "  if (typeof gtag === \"function\") {\n",
       "    gtag(\"event\", \"page_view\", {\n",
       "      page_location: event.data.url,\n",
       "      page_title: document.title,\n",
       "      page_path: document.location.pathname\n",
       "    });\n",
       "  }\n",
       "  App.setup({\n",
       "    env: \"production\",\n",
       "    currentUser: JSON.parse(\"{}\"),\n",
       "    data: JSON.parse(\"{\\\"routes\\\":{},\\\"controllerName\\\":\\\"users\\\",\\\"profile\\\":{\\\"username\\\":\\\"jhoffner\\\",\\\"name\\\":\\\"Jake Hoffner\\\",\\\"clan\\\":\\\"Codewars\\\",\\\"isSelf\\\":false}}\"),\n",
       "    routes: {\"toggle_relationship\":\"/toggle/508f2708b3be0c0200000002\",\"collection\":\"/api/v1/collections/%7Bid%7D\"},\n",
       "    pageControllerName: 'Users.ShowController',\n",
       "    ablyKey: \"scNMAQ.WPB3NQ:wcqqMD8xujGV8lHt\",\n",
       "    privateChannelName: \"Ci7PGA\",\n",
       "  });\n",
       "}, { once: true });</script><script>document.addEventListener(\"turbolinks:load\", (event) => {\n",
       "  if (typeof Intercom === \"function\" && Intercom.booted) Intercom(\"shutdown\");\n",
       "}, { once: true });</script></body></html>"
      ]
     },
     "execution_count": 11,
     "metadata": {},
     "output_type": "execute_result"
    }
   ],
   "source": [
    "soup"
   ]
  }
 ],
 "metadata": {
  "kernelspec": {
   "display_name": "minimal_ds",
   "language": "python",
   "name": "minimal_ds"
  },
  "language_info": {
   "codemirror_mode": {
    "name": "ipython",
    "version": 3
   },
   "file_extension": ".py",
   "mimetype": "text/x-python",
   "name": "python",
   "nbconvert_exporter": "python",
   "pygments_lexer": "ipython3",
   "version": "3.9.7"
  }
 },
 "nbformat": 4,
 "nbformat_minor": 5
}
