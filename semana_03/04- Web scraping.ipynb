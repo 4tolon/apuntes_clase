{
 "cells": [
  {
   "cell_type": "markdown",
   "id": "buried-palestinian",
   "metadata": {},
   "source": [
    "# Web Scraping"
   ]
  },
  {
   "cell_type": "markdown",
   "id": "unable-recall",
   "metadata": {},
   "source": [
    "![legtsgo](https://media.giphy.com/media/dwmNhd5H7YAz6/giphy.gif)"
   ]
  },
  {
   "cell_type": "markdown",
   "id": "intended-controversy",
   "metadata": {
    "toc": true
   },
   "source": [
    "<h1>Table of Contents<span class=\"tocSkip\"></span></h1>\n",
    "<div class=\"toc\"><ul class=\"toc-item\"><li><span><a href=\"#Repaso-HTML\" data-toc-modified-id=\"Repaso-HTML-1\"><span class=\"toc-item-num\">1&nbsp;&nbsp;</span>Repaso HTML</a></span><ul class=\"toc-item\"><li><span><a href=\"#Tags\" data-toc-modified-id=\"Tags-1.1\"><span class=\"toc-item-num\">1.1&nbsp;&nbsp;</span>Tags</a></span></li><li><span><a href=\"#Atributos\" data-toc-modified-id=\"Atributos-1.2\"><span class=\"toc-item-num\">1.2&nbsp;&nbsp;</span>Atributos</a></span></li></ul></li><li><span><a href=\"#Beautitul-soup\" data-toc-modified-id=\"Beautitul-soup-2\"><span class=\"toc-item-num\">2&nbsp;&nbsp;</span>Beautitul soup</a></span><ul class=\"toc-item\"><li><span><a href=\"#Hacer-scraping-de-los-elementos-HTML-usando-la-clase-Attribute\" data-toc-modified-id=\"Hacer-scraping-de-los-elementos-HTML-usando-la-clase-Attribute-2.1\"><span class=\"toc-item-num\">2.1&nbsp;&nbsp;</span>Hacer scraping de los elementos HTML usando la clase Attribute</a></span></li><li><span><a href=\"#Obtener-las-etiquetas-HTML-usando-findAll\" data-toc-modified-id=\"Obtener-las-etiquetas-HTML-usando-findAll-2.2\"><span class=\"toc-item-num\">2.2&nbsp;&nbsp;</span>Obtener las etiquetas HTML usando findAll</a></span></li><li><span><a href=\"#Buscar-el-enésimo-hijo-usando-Beautiful-Soup\" data-toc-modified-id=\"Buscar-el-enésimo-hijo-usando-Beautiful-Soup-2.3\"><span class=\"toc-item-num\">2.3&nbsp;&nbsp;</span>Buscar el enésimo hijo usando Beautiful Soup</a></span></li></ul></li><li><span><a href=\"#Diferencia-entre-find_all()-y-select()\" data-toc-modified-id=\"Diferencia-entre-find_all()-y-select()-3\"><span class=\"toc-item-num\">3&nbsp;&nbsp;</span>Diferencia entre find_all() y select()</a></span><ul class=\"toc-item\"><li><ul class=\"toc-item\"><li><span><a href=\"#Find_all\" data-toc-modified-id=\"Find_all-3.0.1\"><span class=\"toc-item-num\">3.0.1&nbsp;&nbsp;</span>Find_all</a></span></li><li><span><a href=\"#Select\" data-toc-modified-id=\"Select-3.0.2\"><span class=\"toc-item-num\">3.0.2&nbsp;&nbsp;</span>Select</a></span></li></ul></li></ul></li><li><span><a href=\"#Manos-a-la-obra\" data-toc-modified-id=\"Manos-a-la-obra-4\"><span class=\"toc-item-num\">4&nbsp;&nbsp;</span>Manos a la obra</a></span><ul class=\"toc-item\"><li><span><a href=\"#Ejemplo-1-Página-de-zapatillas-de-deporte\" data-toc-modified-id=\"Ejemplo-1-Página-de-zapatillas-de-deporte-4.1\"><span class=\"toc-item-num\">4.1&nbsp;&nbsp;</span>Ejemplo 1 Página de zapatillas de deporte</a></span></li><li><span><a href=\"#Ejemplo-Amazon\" data-toc-modified-id=\"Ejemplo-Amazon-4.2\"><span class=\"toc-item-num\">4.2&nbsp;&nbsp;</span>Ejemplo Amazon</a></span></li><li><span><a href=\"#Qué-cabrones-¿eh?\" data-toc-modified-id=\"Qué-cabrones-¿eh?-4.3\"><span class=\"toc-item-num\">4.3&nbsp;&nbsp;</span>Qué cabrones ¿eh?</a></span></li><li><span><a href=\"#¿TODO-ESTO-PARA-NADA?\" data-toc-modified-id=\"¿TODO-ESTO-PARA-NADA?-4.4\"><span class=\"toc-item-num\">4.4&nbsp;&nbsp;</span>¿TODO ESTO PARA NADA?</a></span></li><li><span><a href=\"#Ejemplo-wikipedia-medallero\" data-toc-modified-id=\"Ejemplo-wikipedia-medallero-4.5\"><span class=\"toc-item-num\">4.5&nbsp;&nbsp;</span>Ejemplo wikipedia medallero</a></span></li></ul></li><li><span><a href=\"#whatafack-is-a-td\" data-toc-modified-id=\"whatafack-is-a-td-5\"><span class=\"toc-item-num\">5&nbsp;&nbsp;</span>whatafack is a td</a></span><ul class=\"toc-item\"><li><span><a href=\"#Ejemplo-Wikipedia-Enlaces\" data-toc-modified-id=\"Ejemplo-Wikipedia-Enlaces-5.1\"><span class=\"toc-item-num\">5.1&nbsp;&nbsp;</span>Ejemplo Wikipedia Enlaces</a></span></li></ul></li><li><span><a href=\"#Resumen\" data-toc-modified-id=\"Resumen-6\"><span class=\"toc-item-num\">6&nbsp;&nbsp;</span>Resumen</a></span></li></ul></div>"
   ]
  },
  {
   "cell_type": "markdown",
   "id": "popular-estate",
   "metadata": {},
   "source": [
    "## Repaso HTML\n",
    "El código HTML se compone de contenido `<etiquetado>`      \n",
    "HTML tiene una estructura jeárquica: parent tags, children tags, sibling tags:     \n",
    "\n",
    "```\n",
    "<html>\n",
    "    <head>\n",
    "        <title>Page Title</title>\n",
    "    </head>\n",
    "    <body>\n",
    "        <h1>My First Heading</h1>\n",
    "        <p>My first paragraph.</p>\n",
    "    </body>\n",
    "</html>\n",
    "```"
   ]
  },
  {
   "cell_type": "markdown",
   "id": "immediate-deficit",
   "metadata": {},
   "source": [
    "### Tags\n",
    "\n",
    "Las etiquetas pueden clasificarse en diferentes grupos, en función del tipo de contenido que se espera que posean\n",
    " * heading: `<h1>`, `<h2>`, `<h3>`, `<hgroup>`...\n",
    " * phrasing: `<b>`, `<sub>`...\n",
    " * embedded: `<audio>`, `<img>`, `<video>`...\n",
    " * tabulated: `<table>`, `<tr>`, `<tbody>`...\n",
    " * sections: `<header>`, `<section>`, `<article>`...\n",
    " * metadata: `<meta>`, `<title>`, `<script>`..."
   ]
  },
  {
   "cell_type": "markdown",
   "id": "behavioral-plate",
   "metadata": {},
   "source": [
    "### Atributos\n",
    "Los atributos son propiedades que un tag puede o no tener. \n",
    "`<div> Zapas Marca Joma X54 </div>` En este caso, la etiqueta div no tiene atributos      \n",
    "\n",
    "* un atributo `class` con etiqueta `price-item`\n",
    "* un atributo `id` con etiqueta `offer`  \n",
    "\n",
    "`<div class=\"price-item\" id=\"offer\"> Zapas Marca Joma X54 </div>`     \n",
    "\n",
    "El atributo `id` debe ser único para una etiqueta (no debe haber dos etiquetas con el mismo `id`), sin embargo, `class` no pretende ser única, normalmente agrupa etiquetas con un comportamiento similar. Que el id sea único es una convención, html sí nos permite tener el mismo id. Nosotras no buscaremos por id, a no ser que queramos buscar algo concreto, porque querremos obtener muchos datos....     \n",
    "\n",
    "Otras etiquetas de uso frecuente son:\n",
    "* `dir`\n",
    "* `lang`\n",
    "* `style` (no confundir con la etiqueta `<style>` )\n",
    "* `title` (no confundir con la etiqueta `<title>` )"
   ]
  },
  {
   "cell_type": "markdown",
   "id": "strong-proof",
   "metadata": {},
   "source": [
    "## Beautitul soup\n",
    "“Si sólo tratas de sacar datos de una web. Beautiful Soup está aquí para ayudar “.\n",
    "\n",
    "Pero solo te ayudará si te [lees la documentación](https://www.crummy.com/software/BeautifulSoup/bs4/doc/) 🤭\n",
    "\n",
    "Beautiful Soup es una librería Python para obtener datos de HTML, XML y otros lenguajes de marcado. Digamos que has encontrado algunas páginas web que muestran datos relevantes para ti, como información de fechas, contenido, dirección, valores… pero esa web no proporciona ninguna forma de descargar los datos directamente. Beautiful Soup te ayuda a extraer contenido particular de una página web, elimina el marcado HTML, guardar la información e incluso te lo exporta en un archivo excel.        \n",
    "La documentación de Beautiful Soup te dará una idea de la variedad de cosas que la biblioteca Beautiful Soup te ayudará, desde aislar títulos y enlaces, extraer todo el texto de las etiquetas html, hasta alterar el HTML dentro del documento con el que está trabajando."
   ]
  },
  {
   "cell_type": "markdown",
   "id": "prescribed-practitioner",
   "metadata": {},
   "source": [
    "### Hacer scraping de los elementos HTML usando la clase Attribute\n",
    "El objeto Beautiful Soup tiene una función llamada findAll que extrae o filtra elementos en función de sus atributos.    \n",
    "Podemos filtrar todos los elementos h2 cuya clase es widget-title:"
   ]
  },
  {
   "cell_type": "markdown",
   "id": "substantial-consumption",
   "metadata": {},
   "source": [
    "```python\n",
    "tags = res.findAll(\"h2\", {\"class\": \"widget-title\"})\n",
    "```"
   ]
  },
  {
   "cell_type": "markdown",
   "id": "recognized-steel",
   "metadata": {},
   "source": [
    "Podemos usar una estructura for para iterar sobre ellos y hacer lo que sea con cada uno."
   ]
  },
  {
   "cell_type": "code",
   "execution_count": 3,
   "id": "overhead-darwin",
   "metadata": {},
   "outputs": [],
   "source": [
    "import requests\n",
    "from bs4 import BeautifulSoup"
   ]
  },
  {
   "cell_type": "code",
   "execution_count": 2,
   "id": "favorite-westminster",
   "metadata": {},
   "outputs": [],
   "source": [
    "url = \"https://www.python.org/\"\n",
    "html = requests.get(url)\n",
    "soup = BeautifulSoup(html.content,\"html.parser\")"
   ]
  },
  {
   "cell_type": "code",
   "execution_count": 6,
   "id": "still-guidance",
   "metadata": {},
   "outputs": [
    {
     "data": {
      "text/plain": [
       "<!DOCTYPE html>\n",
       "\n",
       "<!--[if lt IE 7]>   <html class=\"no-js ie6 lt-ie7 lt-ie8 lt-ie9\">   <![endif]-->\n",
       "<!--[if IE 7]>      <html class=\"no-js ie7 lt-ie8 lt-ie9\">          <![endif]-->\n",
       "<!--[if IE 8]>      <html class=\"no-js ie8 lt-ie9\">                 <![endif]-->\n",
       "<!--[if gt IE 8]><!--><html class=\"no-js\" dir=\"ltr\" lang=\"en\"> <!--<![endif]-->\n",
       "<head>\n",
       "<meta charset=\"utf-8\"/>\n",
       "<meta content=\"IE=edge\" http-equiv=\"X-UA-Compatible\"/>\n",
       "<link href=\"//ajax.googleapis.com/ajax/libs/jquery/1.8.2/jquery.min.js\" rel=\"prefetch\"/>\n",
       "<link href=\"//ajax.googleapis.com/ajax/libs/jqueryui/1.12.1/jquery-ui.min.js\" rel=\"prefetch\"/>\n",
       "<meta content=\"Python.org\" name=\"application-name\"/>\n",
       "<meta content=\"The official home of the Python Programming Language\" name=\"msapplication-tooltip\"/>\n",
       "<meta content=\"Python.org\" name=\"apple-mobile-web-app-title\"/>\n",
       "<meta content=\"yes\" name=\"apple-mobile-web-app-capable\"/>\n",
       "<meta content=\"black\" name=\"apple-mobile-web-app-status-bar-style\"/>\n",
       "<meta content=\"width=device-width, initial-scale=1.0\" name=\"viewport\"/>\n",
       "<meta content=\"True\" name=\"HandheldFriendly\"/>\n",
       "<meta content=\"telephone=no\" name=\"format-detection\"/>\n",
       "<meta content=\"on\" http-equiv=\"cleartype\"/>\n",
       "<meta content=\"false\" http-equiv=\"imagetoolbar\"/>\n",
       "<script src=\"/static/js/libs/modernizr.js\"></script>\n",
       "<link href=\"/static/stylesheets/style.7c9ba80a645a.css\" media=\"all\" rel=\"stylesheet\" title=\"default\" type=\"text/css\">\n",
       "<link href=\"/static/stylesheets/mq.f9187444a4a1.css\" media=\"not print, braille, embossed, speech, tty\" rel=\"stylesheet\" type=\"text/css\">\n",
       "<!--[if (lte IE 8)&(!IEMobile)]>\n",
       "    <link href=\"/static/stylesheets/no-mq.bf0c425cdb73.css\" rel=\"stylesheet\" type=\"text/css\" media=\"screen\" />\n",
       "    \n",
       "    \n",
       "    <![endif]-->\n",
       "<link href=\"//ajax.googleapis.com/ajax/libs/jqueryui/1.12.1/themes/smoothness/jquery-ui.css\" rel=\"stylesheet\"/>\n",
       "<link href=\"/static/favicon.ico\" rel=\"icon\" type=\"image/x-icon\"/>\n",
       "<link href=\"/static/apple-touch-icon-144x144-precomposed.png\" rel=\"apple-touch-icon-precomposed\" sizes=\"144x144\"/>\n",
       "<link href=\"/static/apple-touch-icon-114x114-precomposed.png\" rel=\"apple-touch-icon-precomposed\" sizes=\"114x114\"/>\n",
       "<link href=\"/static/apple-touch-icon-72x72-precomposed.png\" rel=\"apple-touch-icon-precomposed\" sizes=\"72x72\"/>\n",
       "<link href=\"/static/apple-touch-icon-precomposed.png\" rel=\"apple-touch-icon-precomposed\"/>\n",
       "<link href=\"/static/apple-touch-icon-precomposed.png\" rel=\"apple-touch-icon\"/>\n",
       "<meta content=\"/static/metro-icon-144x144-precomposed.png\" name=\"msapplication-TileImage\"/><!-- white shape -->\n",
       "<meta content=\"#3673a5\" name=\"msapplication-TileColor\"/><!-- python blue -->\n",
       "<meta content=\"#3673a5\" name=\"msapplication-navbutton-color\"/>\n",
       "<title>Welcome to Python.org</title>\n",
       "<meta content=\"The official home of the Python Programming Language\" name=\"description\"/>\n",
       "<meta content=\"Python programming language object oriented web free open source software license documentation download community\" name=\"keywords\"/>\n",
       "<meta content=\"website\" property=\"og:type\"/>\n",
       "<meta content=\"Python.org\" property=\"og:site_name\"/>\n",
       "<meta content=\"Welcome to Python.org\" property=\"og:title\"/>\n",
       "<meta content=\"The official home of the Python Programming Language\" property=\"og:description\"/>\n",
       "<meta content=\"https://www.python.org/static/opengraph-icon-200x200.png\" property=\"og:image\"/>\n",
       "<meta content=\"https://www.python.org/static/opengraph-icon-200x200.png\" property=\"og:image:secure_url\"/>\n",
       "<meta content=\"https://www.python.org/\" property=\"og:url\"/>\n",
       "<link href=\"/static/humans.txt\" rel=\"author\"/>\n",
       "<link href=\"https://www.python.org/dev/peps/peps.rss/\" rel=\"alternate\" title=\"Python Enhancement Proposals\" type=\"application/rss+xml\"/>\n",
       "<link href=\"https://www.python.org/jobs/feed/rss/\" rel=\"alternate\" title=\"Python Job Opportunities\" type=\"application/rss+xml\"/>\n",
       "<link href=\"https://feeds.feedburner.com/PythonSoftwareFoundationNews\" rel=\"alternate\" title=\"Python Software Foundation News\" type=\"application/rss+xml\"/>\n",
       "<link href=\"https://feeds.feedburner.com/PythonInsider\" rel=\"alternate\" title=\"Python Insider\" type=\"application/rss+xml\"/>\n",
       "<script type=\"application/ld+json\">\n",
       "     {\n",
       "       \"@context\": \"https://schema.org\",\n",
       "       \"@type\": \"WebSite\",\n",
       "       \"url\": \"https://www.python.org/\",\n",
       "       \"potentialAction\": {\n",
       "         \"@type\": \"SearchAction\",\n",
       "         \"target\": \"https://www.python.org/search/?q={search_term_string}\",\n",
       "         \"query-input\": \"required name=search_term_string\"\n",
       "       }\n",
       "     }\n",
       "    </script>\n",
       "<script type=\"text/javascript\">\n",
       "    var _gaq = _gaq || [];\n",
       "    _gaq.push(['_setAccount', 'UA-39055973-1']);\n",
       "    _gaq.push(['_trackPageview']);\n",
       "\n",
       "    (function() {\n",
       "        var ga = document.createElement('script'); ga.type = 'text/javascript'; ga.async = true;\n",
       "        ga.src = ('https:' == document.location.protocol ? 'https://ssl' : 'http://www') + '.google-analytics.com/ga.js';\n",
       "        var s = document.getElementsByTagName('script')[0]; s.parentNode.insertBefore(ga, s);\n",
       "    })();\n",
       "    </script>\n",
       "</link></link></head>\n",
       "<body class=\"python home\" id=\"homepage\">\n",
       "<div id=\"touchnav-wrapper\">\n",
       "<div class=\"do-not-print\" id=\"nojs\">\n",
       "<p><strong>Notice:</strong> While JavaScript is not essential for this website, your interaction with the content will be limited. Please turn JavaScript on for the full experience. </p>\n",
       "</div>\n",
       "<!--[if lte IE 8]>\n",
       "        <div id=\"oldie-warning\" class=\"do-not-print\">\n",
       "            <p>\n",
       "                <strong>Notice:</strong> Your browser is <em>ancient</em>. Please\n",
       "                <a href=\"http://browsehappy.com/\">upgrade to a different browser</a> to experience a better web.\n",
       "            </p>\n",
       "        </div>\n",
       "        <![endif]-->\n",
       "<!-- Sister Site Links -->\n",
       "<div class=\"top-bar do-not-print\" id=\"top\">\n",
       "<nav class=\"meta-navigation container\" role=\"navigation\">\n",
       "<div class=\"skip-link screen-reader-text\">\n",
       "<a href=\"#content\" title=\"Skip to content\">Skip to content</a>\n",
       "</div>\n",
       "<a aria-hidden=\"true\" class=\"jump-link\" href=\"#python-network\" id=\"close-python-network\">\n",
       "<span aria-hidden=\"true\" class=\"icon-arrow-down\"><span>▼</span></span> Close\n",
       "                </a>\n",
       "<ul class=\"menu\" role=\"tree\">\n",
       "<li class=\"python-meta current_item selectedcurrent_branch selected\">\n",
       "<a class=\"current_item selectedcurrent_branch selected\" href=\"/\" title=\"The Python Programming Language\">Python</a>\n",
       "</li>\n",
       "<li class=\"psf-meta\">\n",
       "<a href=\"/psf-landing/\" title=\"The Python Software Foundation\">PSF</a>\n",
       "</li>\n",
       "<li class=\"docs-meta\">\n",
       "<a href=\"https://docs.python.org\" title=\"Python Documentation\">Docs</a>\n",
       "</li>\n",
       "<li class=\"pypi-meta\">\n",
       "<a href=\"https://pypi.org/\" title=\"Python Package Index\">PyPI</a>\n",
       "</li>\n",
       "<li class=\"jobs-meta\">\n",
       "<a href=\"/jobs/\" title=\"Python Job Board\">Jobs</a>\n",
       "</li>\n",
       "<li class=\"shop-meta\">\n",
       "<a href=\"/community-landing/\">Community</a>\n",
       "</li>\n",
       "</ul>\n",
       "<a aria-hidden=\"true\" class=\"jump-link\" href=\"#top\" id=\"python-network\">\n",
       "<span aria-hidden=\"true\" class=\"icon-arrow-up\"><span>▲</span></span> The Python Network\n",
       "                </a>\n",
       "</nav>\n",
       "</div>\n",
       "<!-- Header elements -->\n",
       "<header class=\"main-header\" role=\"banner\">\n",
       "<div class=\"container\">\n",
       "<h1 class=\"site-headline\">\n",
       "<a href=\"/\"><img alt=\"python™\" class=\"python-logo\" src=\"/static/img/python-logo.png\"/></a>\n",
       "</h1>\n",
       "<div class=\"options-bar-container do-not-print\">\n",
       "<a class=\"donate-button\" href=\"https://psfmember.org/civicrm/contribute/transact?reset=1&amp;id=2\">Donate</a>\n",
       "<div class=\"options-bar\">\n",
       "<a class=\"jump-to-menu\" href=\"#site-map\" id=\"site-map-link\"><span class=\"menu-icon\">≡</span> Menu</a><form action=\"/search/\" class=\"search-the-site\" method=\"get\">\n",
       "<fieldset title=\"Search Python.org\">\n",
       "<span aria-hidden=\"true\" class=\"icon-search\"></span>\n",
       "<label class=\"screen-reader-text\" for=\"id-search-field\">Search This Site</label>\n",
       "<input class=\"search-field\" id=\"id-search-field\" name=\"q\" placeholder=\"Search\" role=\"textbox\" tabindex=\"1\" type=\"search\" value=\"\"/>\n",
       "<button class=\"search-button\" id=\"submit\" name=\"submit\" tabindex=\"3\" title=\"Submit this Search\" type=\"submit\">\n",
       "                                    GO\n",
       "                                </button>\n",
       "<!--[if IE]><input type=\"text\" style=\"display: none;\" disabled=\"disabled\" size=\"1\" tabindex=\"4\"><![endif]-->\n",
       "</fieldset>\n",
       "</form><span class=\"breaker\"></span><div aria-hidden=\"true\" class=\"adjust-font-size\">\n",
       "<ul aria-label=\"Adjust Text Size on Page\" class=\"navigation menu\">\n",
       "<li aria-haspopup=\"true\" class=\"tier-1 last\">\n",
       "<a class=\"action-trigger\" href=\"#\"><strong><small>A</small> A</strong></a>\n",
       "<ul class=\"subnav menu\">\n",
       "<li class=\"tier-2 element-1\" role=\"treeitem\"><a class=\"text-shrink\" href=\"javascript:;\" title=\"Make Text Smaller\">Smaller</a></li>\n",
       "<li class=\"tier-2 element-2\" role=\"treeitem\"><a class=\"text-grow\" href=\"javascript:;\" title=\"Make Text Larger\">Larger</a></li>\n",
       "<li class=\"tier-2 element-3\" role=\"treeitem\"><a class=\"text-reset\" href=\"javascript:;\" title=\"Reset any font size changes I have made\">Reset</a></li>\n",
       "</ul>\n",
       "</li>\n",
       "</ul>\n",
       "</div><div class=\"winkwink-nudgenudge\">\n",
       "<ul aria-label=\"Social Media Navigation\" class=\"navigation menu\">\n",
       "<li aria-haspopup=\"true\" class=\"tier-1 last\">\n",
       "<a class=\"action-trigger\" href=\"#\">Socialize</a>\n",
       "<ul class=\"subnav menu\">\n",
       "<li class=\"tier-2 element-1\" role=\"treeitem\"><a href=\"https://www.facebook.com/pythonlang?fref=ts\"><span aria-hidden=\"true\" class=\"icon-facebook\"></span>Facebook</a></li>\n",
       "<li class=\"tier-2 element-2\" role=\"treeitem\"><a href=\"https://twitter.com/ThePSF\"><span aria-hidden=\"true\" class=\"icon-twitter\"></span>Twitter</a></li>\n",
       "<li class=\"tier-2 element-3\" role=\"treeitem\"><a href=\"/community/irc/\"><span aria-hidden=\"true\" class=\"icon-freenode\"></span>Chat on IRC</a></li>\n",
       "</ul>\n",
       "</li>\n",
       "</ul>\n",
       "</div>\n",
       "<span data-html-include=\"/authenticated\"></span>\n",
       "</div><!-- end options-bar -->\n",
       "</div>\n",
       "<nav class=\"python-navigation main-navigation do-not-print\" id=\"mainnav\" role=\"navigation\">\n",
       "<ul aria-label=\"Main Navigation\" class=\"navigation menu\" role=\"menubar\">\n",
       "<li aria-haspopup=\"true\" class=\"tier-1 element-1\" id=\"about\">\n",
       "<a class=\"\" href=\"/about/\" title=\"\">About</a>\n",
       "<ul aria-hidden=\"true\" class=\"subnav menu\" role=\"menu\">\n",
       "<li class=\"tier-2 element-1\" role=\"treeitem\"><a href=\"/about/apps/\" title=\"\">Applications</a></li>\n",
       "<li class=\"tier-2 element-2\" role=\"treeitem\"><a href=\"/about/quotes/\" title=\"\">Quotes</a></li>\n",
       "<li class=\"tier-2 element-3\" role=\"treeitem\"><a href=\"/about/gettingstarted/\" title=\"\">Getting Started</a></li>\n",
       "<li class=\"tier-2 element-4\" role=\"treeitem\"><a href=\"/about/help/\" title=\"\">Help</a></li>\n",
       "<li class=\"tier-2 element-5\" role=\"treeitem\"><a href=\"http://brochure.getpython.info/\" title=\"\">Python Brochure</a></li>\n",
       "</ul>\n",
       "</li>\n",
       "<li aria-haspopup=\"true\" class=\"tier-1 element-2\" id=\"downloads\">\n",
       "<a class=\"\" href=\"/downloads/\" title=\"\">Downloads</a>\n",
       "<ul aria-hidden=\"true\" class=\"subnav menu\" role=\"menu\">\n",
       "<li class=\"tier-2 element-1\" role=\"treeitem\"><a href=\"/downloads/\" title=\"\">All releases</a></li>\n",
       "<li class=\"tier-2 element-2\" role=\"treeitem\"><a href=\"/downloads/source/\" title=\"\">Source code</a></li>\n",
       "<li class=\"tier-2 element-3\" role=\"treeitem\"><a href=\"/downloads/windows/\" title=\"\">Windows</a></li>\n",
       "<li class=\"tier-2 element-4\" role=\"treeitem\"><a href=\"/downloads/macos/\" title=\"\">macOS</a></li>\n",
       "<li class=\"tier-2 element-5\" role=\"treeitem\"><a href=\"/download/other/\" title=\"\">Other Platforms</a></li>\n",
       "<li class=\"tier-2 element-6\" role=\"treeitem\"><a href=\"https://docs.python.org/3/license.html\" title=\"\">License</a></li>\n",
       "<li class=\"tier-2 element-7\" role=\"treeitem\"><a href=\"/download/alternatives\" title=\"\">Alternative Implementations</a></li>\n",
       "</ul>\n",
       "</li>\n",
       "<li aria-haspopup=\"true\" class=\"tier-1 element-3\" id=\"documentation\">\n",
       "<a class=\"\" href=\"/doc/\" title=\"\">Documentation</a>\n",
       "<ul aria-hidden=\"true\" class=\"subnav menu\" role=\"menu\">\n",
       "<li class=\"tier-2 element-1\" role=\"treeitem\"><a href=\"/doc/\" title=\"\">Docs</a></li>\n",
       "<li class=\"tier-2 element-2\" role=\"treeitem\"><a href=\"/doc/av\" title=\"\">Audio/Visual Talks</a></li>\n",
       "<li class=\"tier-2 element-3\" role=\"treeitem\"><a href=\"https://wiki.python.org/moin/BeginnersGuide\" title=\"\">Beginner's Guide</a></li>\n",
       "<li class=\"tier-2 element-4\" role=\"treeitem\"><a href=\"https://devguide.python.org/\" title=\"\">Developer's Guide</a></li>\n",
       "<li class=\"tier-2 element-5\" role=\"treeitem\"><a href=\"https://docs.python.org/faq/\" title=\"\">FAQ</a></li>\n",
       "<li class=\"tier-2 element-6\" role=\"treeitem\"><a href=\"http://wiki.python.org/moin/Languages\" title=\"\">Non-English Docs</a></li>\n",
       "<li class=\"tier-2 element-7\" role=\"treeitem\"><a href=\"http://python.org/dev/peps/\" title=\"\">PEP Index</a></li>\n",
       "<li class=\"tier-2 element-8\" role=\"treeitem\"><a href=\"https://wiki.python.org/moin/PythonBooks\" title=\"\">Python Books</a></li>\n",
       "<li class=\"tier-2 element-9\" role=\"treeitem\"><a href=\"/doc/essays/\" title=\"\">Python Essays</a></li>\n",
       "</ul>\n",
       "</li>\n",
       "<li aria-haspopup=\"true\" class=\"tier-1 element-4\" id=\"community\">\n",
       "<a class=\"\" href=\"/community/\" title=\"\">Community</a>\n",
       "<ul aria-hidden=\"true\" class=\"subnav menu\" role=\"menu\">\n",
       "<li class=\"tier-2 element-1\" role=\"treeitem\"><a href=\"/community/survey\" title=\"\">Community Survey</a></li>\n",
       "<li class=\"tier-2 element-2\" role=\"treeitem\"><a href=\"/community/diversity/\" title=\"\">Diversity</a></li>\n",
       "<li class=\"tier-2 element-3\" role=\"treeitem\"><a href=\"/community/lists/\" title=\"\">Mailing Lists</a></li>\n",
       "<li class=\"tier-2 element-4\" role=\"treeitem\"><a href=\"/community/irc/\" title=\"\">IRC</a></li>\n",
       "<li class=\"tier-2 element-5\" role=\"treeitem\"><a href=\"/community/forums/\" title=\"\">Forums</a></li>\n",
       "<li class=\"tier-2 element-6\" role=\"treeitem\"><a href=\"/psf/annual-report/2021/\" title=\"\">PSF Annual Impact Report</a></li>\n",
       "<li class=\"tier-2 element-7\" role=\"treeitem\"><a href=\"/community/workshops/\" title=\"\">Python Conferences</a></li>\n",
       "<li class=\"tier-2 element-8\" role=\"treeitem\"><a href=\"/community/sigs/\" title=\"\">Special Interest Groups</a></li>\n",
       "<li class=\"tier-2 element-9\" role=\"treeitem\"><a href=\"/community/logos/\" title=\"\">Python Logo</a></li>\n",
       "<li class=\"tier-2 element-10\" role=\"treeitem\"><a href=\"https://wiki.python.org/moin/\" title=\"\">Python Wiki</a></li>\n",
       "<li class=\"tier-2 element-11\" role=\"treeitem\"><a href=\"/community/merchandise/\" title=\"\">Merchandise</a></li>\n",
       "<li class=\"tier-2 element-12\" role=\"treeitem\"><a href=\"/community/awards\" title=\"\">Community Awards</a></li>\n",
       "<li class=\"tier-2 element-13\" role=\"treeitem\"><a href=\"/psf/conduct/\" title=\"\">Code of Conduct</a></li>\n",
       "<li class=\"tier-2 element-14\" role=\"treeitem\"><a href=\"/psf/get-involved/\" title=\"\">Get Involved</a></li>\n",
       "<li class=\"tier-2 element-15\" role=\"treeitem\"><a href=\"/psf/community-stories/\" title=\"\">Shared Stories</a></li>\n",
       "</ul>\n",
       "</li>\n",
       "<li aria-haspopup=\"true\" class=\"tier-1 element-5\" id=\"success-stories\">\n",
       "<a class=\"\" href=\"/success-stories/\" title=\"success-stories\">Success Stories</a>\n",
       "<ul aria-hidden=\"true\" class=\"subnav menu\" role=\"menu\">\n",
       "<li class=\"tier-2 element-1\" role=\"treeitem\"><a href=\"/success-stories/category/arts/\" title=\"\">Arts</a></li>\n",
       "<li class=\"tier-2 element-2\" role=\"treeitem\"><a href=\"/success-stories/category/business/\" title=\"\">Business</a></li>\n",
       "<li class=\"tier-2 element-3\" role=\"treeitem\"><a href=\"/success-stories/category/education/\" title=\"\">Education</a></li>\n",
       "<li class=\"tier-2 element-4\" role=\"treeitem\"><a href=\"/success-stories/category/engineering/\" title=\"\">Engineering</a></li>\n",
       "<li class=\"tier-2 element-5\" role=\"treeitem\"><a href=\"/success-stories/category/government/\" title=\"\">Government</a></li>\n",
       "<li class=\"tier-2 element-6\" role=\"treeitem\"><a href=\"/success-stories/category/scientific/\" title=\"\">Scientific</a></li>\n",
       "<li class=\"tier-2 element-7\" role=\"treeitem\"><a href=\"/success-stories/category/software-development/\" title=\"\">Software Development</a></li>\n",
       "</ul>\n",
       "</li>\n",
       "<li aria-haspopup=\"true\" class=\"tier-1 element-6\" id=\"news\">\n",
       "<a class=\"\" href=\"/blogs/\" title=\"News from around the Python world\">News</a>\n",
       "<ul aria-hidden=\"true\" class=\"subnav menu\" role=\"menu\">\n",
       "<li class=\"tier-2 element-1\" role=\"treeitem\"><a href=\"/blogs/\" title=\"Python Insider Blog Posts\">Python News</a></li>\n",
       "<li class=\"tier-2 element-2\" role=\"treeitem\"><a href=\"/psf/newsletter/\" title=\"Python Software Foundation Newsletter\">PSF Newsletter</a></li>\n",
       "<li class=\"tier-2 element-3\" role=\"treeitem\"><a href=\"http://planetpython.org/\" title=\"Planet Python\">Community News</a></li>\n",
       "<li class=\"tier-2 element-4\" role=\"treeitem\"><a href=\"http://pyfound.blogspot.com/\" title=\"PSF Blog\">PSF News</a></li>\n",
       "<li class=\"tier-2 element-5\" role=\"treeitem\"><a href=\"http://pycon.blogspot.com/\" title=\"PyCon Blog\">PyCon News</a></li>\n",
       "</ul>\n",
       "</li>\n",
       "<li aria-haspopup=\"true\" class=\"tier-1 element-7\" id=\"events\">\n",
       "<a class=\"\" href=\"/events/\" title=\"\">Events</a>\n",
       "<ul aria-hidden=\"true\" class=\"subnav menu\" role=\"menu\">\n",
       "<li class=\"tier-2 element-1\" role=\"treeitem\"><a href=\"/events/python-events/\" title=\"\">Python Events</a></li>\n",
       "<li class=\"tier-2 element-2\" role=\"treeitem\"><a href=\"/events/python-user-group/\" title=\"\">User Group Events</a></li>\n",
       "<li class=\"tier-2 element-3\" role=\"treeitem\"><a href=\"/events/python-events/past/\" title=\"\">Python Events Archive</a></li>\n",
       "<li class=\"tier-2 element-4\" role=\"treeitem\"><a href=\"/events/python-user-group/past/\" title=\"\">User Group Events Archive</a></li>\n",
       "<li class=\"tier-2 element-5\" role=\"treeitem\"><a href=\"https://wiki.python.org/moin/PythonEventsCalendar#Submitting_an_Event\" title=\"\">Submit an Event</a></li>\n",
       "</ul>\n",
       "</li>\n",
       "</ul>\n",
       "</nav>\n",
       "<div class=\"header-banner\"> <!-- for optional \"do-not-print\" class -->\n",
       "<div class=\"flex-slideshow slideshow\" id=\"dive-into-python\">\n",
       "<ul class=\"launch-shell menu\" id=\"launch-shell\">\n",
       "<li>\n",
       "<a class=\"button prompt\" data-shell-container=\"#dive-into-python\" href=\"/shell/\" id=\"start-shell\">&gt;_\n",
       "                        <span class=\"message\">Launch Interactive Shell</span>\n",
       "</a>\n",
       "</li>\n",
       "</ul>\n",
       "<ul class=\"slides menu\">\n",
       "<li>\n",
       "<div class=\"slide-code\"><pre><code><span class=\"comment\"># Python 3: Fibonacci series up to n</span>\n",
       "&gt;&gt;&gt; def fib(n):\n",
       "&gt;&gt;&gt;     a, b = 0, 1\n",
       "&gt;&gt;&gt;     while a &lt; n:\n",
       "&gt;&gt;&gt;         print(a, end=' ')\n",
       "&gt;&gt;&gt;         a, b = b, a+b\n",
       "&gt;&gt;&gt;     print()\n",
       "&gt;&gt;&gt; fib(1000)\n",
       "<span class=\"output\">0 1 1 2 3 5 8 13 21 34 55 89 144 233 377 610 987</span></code></pre></div>\n",
       "<div class=\"slide-copy\"><h1>Functions Defined</h1>\n",
       "<p>The core of extensible programming is defining functions. Python allows mandatory and optional arguments, keyword arguments, and even arbitrary argument lists. <a href=\"//docs.python.org/3/tutorial/controlflow.html#defining-functions\">More about defining functions in Python 3</a></p></div>\n",
       "</li>\n",
       "<li>\n",
       "<div class=\"slide-code\"><pre><code><span class=\"comment\"># Python 3: List comprehensions</span>\n",
       "&gt;&gt;&gt; fruits = ['Banana', 'Apple', 'Lime']\n",
       "&gt;&gt;&gt; loud_fruits = [fruit.upper() for fruit in fruits]\n",
       "&gt;&gt;&gt; print(loud_fruits)\n",
       "<span class=\"output\">['BANANA', 'APPLE', 'LIME']</span>\n",
       "\n",
       "<span class=\"comment\"># List and the enumerate function</span>\n",
       "&gt;&gt;&gt; list(enumerate(fruits))\n",
       "<span class=\"output\">[(0, 'Banana'), (1, 'Apple'), (2, 'Lime')]</span></code></pre></div>\n",
       "<div class=\"slide-copy\"><h1>Compound Data Types</h1>\n",
       "<p>Lists (known as arrays in other languages) are one of the compound data types that Python understands. Lists can be indexed, sliced and manipulated with other built-in functions. <a href=\"//docs.python.org/3/tutorial/introduction.html#lists\">More about lists in Python 3</a></p></div>\n",
       "</li>\n",
       "<li>\n",
       "<div class=\"slide-code\"><pre><code><span class=\"comment\"># Python 3: Simple arithmetic</span>\n",
       "&gt;&gt;&gt; 1 / 2\n",
       "<span class=\"output\">0.5</span>\n",
       "&gt;&gt;&gt; 2 ** 3\n",
       "<span class=\"output\">8</span>\n",
       "&gt;&gt;&gt; 17 / 3  <span class=\"comment\"># classic division returns a float</span>\n",
       "<span class=\"output\">5.666666666666667</span>\n",
       "&gt;&gt;&gt; 17 // 3  <span class=\"comment\"># floor division</span>\n",
       "<span class=\"output\">5</span></code></pre></div>\n",
       "<div class=\"slide-copy\"><h1>Intuitive Interpretation</h1>\n",
       "<p>Calculations are simple with Python, and expression syntax is straightforward: the operators <code>+</code>, <code>-</code>, <code>*</code> and <code>/</code> work as expected; parentheses <code>()</code> can be used for grouping. <a href=\"http://docs.python.org/3/tutorial/introduction.html#using-python-as-a-calculator\">More about simple math functions in Python 3</a>.</p></div>\n",
       "</li>\n",
       "<li>\n",
       "<div class=\"slide-code\"><pre><code><span class=\"comment\"># Python 3: Simple output (with Unicode)</span>\n",
       "&gt;&gt;&gt; print(\"Hello, I'm Python!\")\n",
       "<span class=\"output\">Hello, I'm Python!</span>\n",
       "\n",
       "<span class=\"comment\"># Input, assignment</span>\n",
       "&gt;&gt;&gt; name = input('What is your name?\\n')\n",
       "&gt;&gt;&gt; print('Hi, %s.' % name)\n",
       "<span class=\"output\">What is your name?\n",
       "Python\n",
       "Hi, Python.</span></code></pre></div>\n",
       "<div class=\"slide-copy\"><h1>Quick &amp; Easy to Learn</h1>\n",
       "<p>Experienced programmers in any other language can pick up Python very quickly, and beginners find the clean syntax and indentation structure easy to learn. <a href=\"//docs.python.org/3/tutorial/\">Whet your appetite</a> with our Python 3 overview.</p>\n",
       "</div>\n",
       "</li>\n",
       "<li>\n",
       "<div class=\"slide-code\"><pre><code><span class=\"comment\"># For loop on a list</span>\n",
       "&gt;&gt;&gt; numbers = [2, 4, 6, 8]\n",
       "&gt;&gt;&gt; product = 1\n",
       "&gt;&gt;&gt; for number in numbers:\n",
       "...    product = product * number\n",
       "... \n",
       "&gt;&gt;&gt; print('The product is:', product)\n",
       "<span class=\"output\">The product is: 384</span></code></pre></div>\n",
       "<div class=\"slide-copy\"><h1>All the Flow You’d Expect</h1>\n",
       "<p>Python knows the usual control flow statements that other languages speak — <code>if</code>, <code>for</code>, <code>while</code> and <code>range</code> — with some of its own twists, of course. <a href=\"//docs.python.org/3/tutorial/controlflow.html\">More control flow tools in Python 3</a></p></div>\n",
       "</li>\n",
       "</ul>\n",
       "</div>\n",
       "</div>\n",
       "<div class=\"introduction\">\n",
       "<p>Python is a programming language that lets you work quickly <span class=\"breaker\"></span>and integrate systems more effectively. <a class=\"readmore\" href=\"/doc/\">Learn More</a></p>\n",
       "</div>\n",
       "</div><!-- end .container -->\n",
       "</header>\n",
       "<div class=\"content-wrapper\" id=\"content\">\n",
       "<!-- Main Content Column -->\n",
       "<div class=\"container\">\n",
       "<section class=\"main-content\" role=\"main\">\n",
       "<div class=\"notification-bar notification-bar--survey\" style=\"background-color: #ffdf76; color: #664e04; border-color: #004d7a; text-align: center; background-color: #004d7a; color: #fff; padding: 10px; margin: .5em; position: relative; width: 95%; background-color: #ffdf76; color: #664e04; border-color: #004d7a; border-radius: 1em;\">\n",
       "<span class=\"notification-bar__icon\">\n",
       "<i aria-hidden=\"true\" class=\"fa fa-chart-line\"></i>\n",
       "</span>\n",
       "<span class=\"notification-bar__message\">Participate in the official 2021 Python Developers Survey   <a class=\"button button--dark button--small button--primary\" href=\"https://surveys.jetbrains.com/s3/c1-python-developers-survey-2021\" rel=\"noopener\" style=\"color: #606060; border-color: #006dad; background-color: #006dad;\" target=\"_blank\">Take the 2021 survey!</a>\n",
       "</span>\n",
       "</div>\n",
       "<div class=\"row\">\n",
       "<div class=\"small-widget get-started-widget\">\n",
       "<h2 class=\"widget-title\"><span aria-hidden=\"true\" class=\"icon-get-started\"></span>Get Started</h2>\n",
       "<p>Whether you're new to programming or an experienced developer, it's easy to learn and use Python.</p>\n",
       "<p><a href=\"/about/gettingstarted/\">Start with our Beginner’s Guide</a></p>\n",
       "</div>\n",
       "<div class=\"small-widget download-widget\">\n",
       "<h2 class=\"widget-title\"><span aria-hidden=\"true\" class=\"icon-download\"></span>Download</h2>\n",
       "<p>Python source code and installers are available for download for all versions!</p>\n",
       "<p>Latest: <a href=\"/downloads/release/python-3100/\">Python 3.10.0</a></p>\n",
       "</div>\n",
       "<div class=\"small-widget documentation-widget\">\n",
       "<h2 class=\"widget-title\"><span aria-hidden=\"true\" class=\"icon-documentation\"></span>Docs</h2>\n",
       "<p>Documentation for Python's standard library, along with tutorials and guides, are available online.</p>\n",
       "<p><a href=\"https://docs.python.org\">docs.python.org</a></p>\n",
       "</div>\n",
       "<div class=\"small-widget jobs-widget last\">\n",
       "<h2 class=\"widget-title\"><span aria-hidden=\"true\" class=\"icon-jobs\"></span>Jobs</h2>\n",
       "<p>Looking for work or have a Python related position that you're trying to hire for? Our <strong>relaunched community-run job board</strong> is the place to go.</p>\n",
       "<p><a href=\"//jobs.python.org\">jobs.python.org</a></p>\n",
       "</div>\n",
       "</div>\n",
       "<div class=\"list-widgets row\">\n",
       "<div class=\"medium-widget blog-widget\">\n",
       "<div class=\"shrubbery\">\n",
       "<h2 class=\"widget-title\"><span aria-hidden=\"true\" class=\"icon-news\"></span>Latest News</h2>\n",
       "<p class=\"give-me-more\"><a href=\"https://blog.python.org\" title=\"More News\">More</a></p>\n",
       "<ul class=\"menu\">\n",
       "<li>\n",
       "<time datetime=\"2021-11-02T18:24:00.000001+00:00\"><span class=\"say-no-more\">2021-</span>11-02</time>\n",
       "<a href=\"http://feedproxy.google.com/~r/PythonSoftwareFoundationNews/~3/XwXlup-jSHY/the-python-software-foundation-is.html\">The Python Software Foundation is searching for its next Executive Director</a></li>\n",
       "<li>\n",
       "<time datetime=\"2021-10-26T08:06:00.000001+00:00\"><span class=\"say-no-more\">2021-</span>10-26</time>\n",
       "<a href=\"http://feedproxy.google.com/~r/PythonSoftwareFoundationNews/~3/ZDUoSt7NaWc/vicky-twomey-lee-awarded-psf-community.html\">Vicky Twomey-Lee Awarded the PSF Community Service Award for Q3 2021</a></li>\n",
       "<li>\n",
       "<time datetime=\"2021-10-19T15:30:00.000001+00:00\"><span class=\"say-no-more\">2021-</span>10-19</time>\n",
       "<a href=\"http://feedproxy.google.com/~r/PythonSoftwareFoundationNews/~3/T_dCR6_vuA8/announcing-python-software-foundation.html\">Announcing Python Software Foundation Fellow Members for Q3 2021! 🎉</a></li>\n",
       "<li>\n",
       "<time datetime=\"2021-10-18T18:16:00+00:00\"><span class=\"say-no-more\">2021-</span>10-18</time>\n",
       "<a href=\"http://feedproxy.google.com/~r/PythonSoftwareFoundationNews/~3/M9jMg4myXFk/join-python-developers-survey-2021.html\">Join the Python Developers Survey 2021: Share and learn about the community</a></li>\n",
       "<li>\n",
       "<time datetime=\"2021-10-07T12:03:00.000003+00:00\"><span class=\"say-no-more\">2021-</span>10-07</time>\n",
       "<a href=\"http://feedproxy.google.com/~r/PythonInsider/~3/rfZ4c8nXGdk/python-3110a1-is-available.html\">Python 3.11.0a1 is available</a></li>\n",
       "</ul>\n",
       "</div><!-- end .shrubbery -->\n",
       "</div>\n",
       "<div class=\"medium-widget event-widget last\">\n",
       "<div class=\"shrubbery\">\n",
       "<h2 class=\"widget-title\"><span aria-hidden=\"true\" class=\"icon-calendar\"></span>Upcoming Events</h2>\n",
       "<p class=\"give-me-more\"><a href=\"/events/calendars/\" title=\"More Events\">More</a></p>\n",
       "<ul class=\"menu\">\n",
       "<li>\n",
       "<time datetime=\"2021-11-13T09:00:00+00:00\"><span class=\"say-no-more\">2021-</span>11-13</time>\n",
       "<a href=\"/events/python-user-group/1148/\">Django Girls Groningen</a></li>\n",
       "<li>\n",
       "<time datetime=\"2021-11-15T00:00:00+00:00\"><span class=\"say-no-more\">2021-</span>11-15</time>\n",
       "<a href=\"/events/python-events/1154/\">PyCon Japan 2021</a></li>\n",
       "<li>\n",
       "<time datetime=\"2021-11-19T00:00:00+00:00\"><span class=\"say-no-more\">2021-</span>11-19</time>\n",
       "<a href=\"/events/python-events/1104/\">PyCon APAC 2021</a></li>\n",
       "<li>\n",
       "<time datetime=\"2021-11-24T00:00:00+00:00\"><span class=\"say-no-more\">2021-</span>11-24</time>\n",
       "<a href=\"/events/python-events/1044/\">Xtreme Python</a></li>\n",
       "<li>\n",
       "<time datetime=\"2021-12-01T00:00:00+00:00\"><span class=\"say-no-more\">2021-</span>12-01</time>\n",
       "<a href=\"/events/python-events/1153/\">FlaskCon 2021 Online</a></li>\n",
       "</ul>\n",
       "</div>\n",
       "</div>\n",
       "</div>\n",
       "<div class=\"row\">\n",
       "<div class=\"medium-widget success-stories-widget\">\n",
       "<div class=\"shrubbery\">\n",
       "<h2 class=\"widget-title\"><span aria-hidden=\"true\" class=\"icon-success-stories\"></span>Success Stories</h2>\n",
       "<p class=\"give-me-more\"><a href=\"/success-stories/\" title=\"More Success Stories\">More</a></p>\n",
       "<div class=\"success-story-item\" id=\"success-story-839\">\n",
       "<blockquote>\n",
       "<a href=\"/success-stories/building-an-open-source-and-cross-platform-azure-cli-with-python/\">Thanks to the flexibility of Python and the powerful ecosystem of packages, the Azure CLI supports features such as autocompletion (in shells that support it), persistent credentials, JMESPath result parsing, lazy initialization, network-less unit tests, and more.</a>\n",
       "</blockquote>\n",
       "<table border=\"0\" cellpadding=\"0\" cellspacing=\"0\" class=\"quote-from\" width=\"100%\">\n",
       "<tbody>\n",
       "<tr>\n",
       "<td><p><a href=\"/success-stories/building-an-open-source-and-cross-platform-azure-cli-with-python/\">Building an open-source and cross-platform Azure CLI with Python</a> <em>by Dan Taylor</em></p></td>\n",
       "</tr>\n",
       "</tbody>\n",
       "</table>\n",
       "</div>\n",
       "</div><!-- end .shrubbery -->\n",
       "</div>\n",
       "<div class=\"medium-widget applications-widget last\">\n",
       "<div class=\"shrubbery\">\n",
       "<h2 class=\"widget-title\"><span aria-hidden=\"true\" class=\"icon-python\"></span>Use Python for…</h2>\n",
       "<p class=\"give-me-more\"><a href=\"/about/apps\" title=\"More Applications\">More</a></p>\n",
       "<ul class=\"menu\">\n",
       "<li><b>Web Development</b>:\n",
       "        <span class=\"tag-wrapper\"><a class=\"tag\" href=\"http://www.djangoproject.com/\">Django</a>, <a class=\"tag\" href=\"http://www.pylonsproject.org/\">Pyramid</a>, <a class=\"tag\" href=\"http://bottlepy.org\">Bottle</a>, <a class=\"tag\" href=\"http://tornadoweb.org\">Tornado</a>, <a class=\"tag\" href=\"http://flask.pocoo.org/\">Flask</a>, <a class=\"tag\" href=\"http://www.web2py.com/\">web2py</a></span></li>\n",
       "<li><b>GUI Development</b>:\n",
       "        <span class=\"tag-wrapper\"><a class=\"tag\" href=\"http://wiki.python.org/moin/TkInter\">tkInter</a>, <a class=\"tag\" href=\"https://wiki.gnome.org/Projects/PyGObject\">PyGObject</a>, <a class=\"tag\" href=\"http://www.riverbankcomputing.co.uk/software/pyqt/intro\">PyQt</a>, <a class=\"tag\" href=\"https://wiki.qt.io/PySide\">PySide</a>, <a class=\"tag\" href=\"https://kivy.org/\">Kivy</a>, <a class=\"tag\" href=\"http://www.wxpython.org/\">wxPython</a></span></li>\n",
       "<li><b>Scientific and Numeric</b>:\n",
       "        <span class=\"tag-wrapper\">\n",
       "<a class=\"tag\" href=\"http://www.scipy.org\">SciPy</a>, <a class=\"tag\" href=\"http://pandas.pydata.org/\">Pandas</a>, <a class=\"tag\" href=\"http://ipython.org\">IPython</a></span></li>\n",
       "<li><b>Software Development</b>:\n",
       "        <span class=\"tag-wrapper\"><a class=\"tag\" href=\"http://buildbot.net/\">Buildbot</a>, <a class=\"tag\" href=\"http://trac.edgewall.org/\">Trac</a>, <a class=\"tag\" href=\"http://roundup.sourceforge.net/\">Roundup</a></span></li>\n",
       "<li><b>System Administration</b>:\n",
       "        <span class=\"tag-wrapper\"><a class=\"tag\" href=\"http://www.ansible.com\">Ansible</a>, <a class=\"tag\" href=\"http://www.saltstack.com\">Salt</a>, <a class=\"tag\" href=\"https://www.openstack.org\">OpenStack</a>, <a class=\"tag\" href=\"https://xon.sh\">xonsh</a></span></li>\n",
       "</ul>\n",
       "</div><!-- end .shrubbery -->\n",
       "</div>\n",
       "</div>\n",
       "<div class=\"pep-widget\">\n",
       "<h2 class=\"widget-title\">\n",
       "<span class=\"prompt\">&gt;&gt;&gt;</span> <a href=\"/dev/peps/\">Python Enhancement Proposals<span class=\"say-no-more\"> (PEPs)</span></a>: The future of Python<span class=\"say-no-more\"> is discussed here.</span>\n",
       "<a aria-hidden=\"true\" class=\"rss-link\" href=\"/dev/peps/peps.rss\"><span class=\"icon-feed\"></span> RSS</a>\n",
       "</h2>\n",
       "</div>\n",
       "<div class=\"psf-widget\">\n",
       "<div class=\"python-logo\"></div>\n",
       "<h2 class=\"widget-title\">\n",
       "<span class=\"prompt\">&gt;&gt;&gt;</span> <a href=\"/psf/\">Python Software Foundation</a>\n",
       "</h2>\n",
       "<p>The mission of the Python Software Foundation is to promote, protect, and advance the Python programming language, and to support and facilitate the growth of a diverse and international community of Python programmers. <a class=\"readmore\" href=\"/psf/\">Learn more</a> </p>\n",
       "<p class=\"click-these\">\n",
       "<a class=\"button\" href=\"/users/membership/\">Become a Member</a>\n",
       "<a class=\"button\" href=\"/psf/donations/\">Donate to the PSF</a>\n",
       "</p>\n",
       "</div>\n",
       "</section>\n",
       "</div><!-- end .container -->\n",
       "</div><!-- end #content .content-wrapper -->\n",
       "<!-- Footer and social media list -->\n",
       "<footer class=\"main-footer\" id=\"site-map\" role=\"contentinfo\">\n",
       "<div class=\"main-footer-links\">\n",
       "<div class=\"container\">\n",
       "<a class=\"jump-link\" href=\"#python-network\" id=\"back-to-top-1\"><span aria-hidden=\"true\" class=\"icon-arrow-up\"><span>▲</span></span> Back to Top</a>\n",
       "<ul class=\"sitemap navigation menu do-not-print\" id=\"container\" role=\"tree\">\n",
       "<li class=\"tier-1 element-1\">\n",
       "<a href=\"/about/\">About</a>\n",
       "<ul class=\"subnav menu\">\n",
       "<li class=\"tier-2 element-1\" role=\"treeitem\"><a href=\"/about/apps/\" title=\"\">Applications</a></li>\n",
       "<li class=\"tier-2 element-2\" role=\"treeitem\"><a href=\"/about/quotes/\" title=\"\">Quotes</a></li>\n",
       "<li class=\"tier-2 element-3\" role=\"treeitem\"><a href=\"/about/gettingstarted/\" title=\"\">Getting Started</a></li>\n",
       "<li class=\"tier-2 element-4\" role=\"treeitem\"><a href=\"/about/help/\" title=\"\">Help</a></li>\n",
       "<li class=\"tier-2 element-5\" role=\"treeitem\"><a href=\"http://brochure.getpython.info/\" title=\"\">Python Brochure</a></li>\n",
       "</ul>\n",
       "</li>\n",
       "<li class=\"tier-1 element-2\">\n",
       "<a href=\"/downloads/\">Downloads</a>\n",
       "<ul class=\"subnav menu\">\n",
       "<li class=\"tier-2 element-1\" role=\"treeitem\"><a href=\"/downloads/\" title=\"\">All releases</a></li>\n",
       "<li class=\"tier-2 element-2\" role=\"treeitem\"><a href=\"/downloads/source/\" title=\"\">Source code</a></li>\n",
       "<li class=\"tier-2 element-3\" role=\"treeitem\"><a href=\"/downloads/windows/\" title=\"\">Windows</a></li>\n",
       "<li class=\"tier-2 element-4\" role=\"treeitem\"><a href=\"/downloads/macos/\" title=\"\">macOS</a></li>\n",
       "<li class=\"tier-2 element-5\" role=\"treeitem\"><a href=\"/download/other/\" title=\"\">Other Platforms</a></li>\n",
       "<li class=\"tier-2 element-6\" role=\"treeitem\"><a href=\"https://docs.python.org/3/license.html\" title=\"\">License</a></li>\n",
       "<li class=\"tier-2 element-7\" role=\"treeitem\"><a href=\"/download/alternatives\" title=\"\">Alternative Implementations</a></li>\n",
       "</ul>\n",
       "</li>\n",
       "<li class=\"tier-1 element-3\">\n",
       "<a href=\"/doc/\">Documentation</a>\n",
       "<ul class=\"subnav menu\">\n",
       "<li class=\"tier-2 element-1\" role=\"treeitem\"><a href=\"/doc/\" title=\"\">Docs</a></li>\n",
       "<li class=\"tier-2 element-2\" role=\"treeitem\"><a href=\"/doc/av\" title=\"\">Audio/Visual Talks</a></li>\n",
       "<li class=\"tier-2 element-3\" role=\"treeitem\"><a href=\"https://wiki.python.org/moin/BeginnersGuide\" title=\"\">Beginner's Guide</a></li>\n",
       "<li class=\"tier-2 element-4\" role=\"treeitem\"><a href=\"https://devguide.python.org/\" title=\"\">Developer's Guide</a></li>\n",
       "<li class=\"tier-2 element-5\" role=\"treeitem\"><a href=\"https://docs.python.org/faq/\" title=\"\">FAQ</a></li>\n",
       "<li class=\"tier-2 element-6\" role=\"treeitem\"><a href=\"http://wiki.python.org/moin/Languages\" title=\"\">Non-English Docs</a></li>\n",
       "<li class=\"tier-2 element-7\" role=\"treeitem\"><a href=\"http://python.org/dev/peps/\" title=\"\">PEP Index</a></li>\n",
       "<li class=\"tier-2 element-8\" role=\"treeitem\"><a href=\"https://wiki.python.org/moin/PythonBooks\" title=\"\">Python Books</a></li>\n",
       "<li class=\"tier-2 element-9\" role=\"treeitem\"><a href=\"/doc/essays/\" title=\"\">Python Essays</a></li>\n",
       "</ul>\n",
       "</li>\n",
       "<li class=\"tier-1 element-4\">\n",
       "<a href=\"/community/\">Community</a>\n",
       "<ul class=\"subnav menu\">\n",
       "<li class=\"tier-2 element-1\" role=\"treeitem\"><a href=\"/community/survey\" title=\"\">Community Survey</a></li>\n",
       "<li class=\"tier-2 element-2\" role=\"treeitem\"><a href=\"/community/diversity/\" title=\"\">Diversity</a></li>\n",
       "<li class=\"tier-2 element-3\" role=\"treeitem\"><a href=\"/community/lists/\" title=\"\">Mailing Lists</a></li>\n",
       "<li class=\"tier-2 element-4\" role=\"treeitem\"><a href=\"/community/irc/\" title=\"\">IRC</a></li>\n",
       "<li class=\"tier-2 element-5\" role=\"treeitem\"><a href=\"/community/forums/\" title=\"\">Forums</a></li>\n",
       "<li class=\"tier-2 element-6\" role=\"treeitem\"><a href=\"/psf/annual-report/2021/\" title=\"\">PSF Annual Impact Report</a></li>\n",
       "<li class=\"tier-2 element-7\" role=\"treeitem\"><a href=\"/community/workshops/\" title=\"\">Python Conferences</a></li>\n",
       "<li class=\"tier-2 element-8\" role=\"treeitem\"><a href=\"/community/sigs/\" title=\"\">Special Interest Groups</a></li>\n",
       "<li class=\"tier-2 element-9\" role=\"treeitem\"><a href=\"/community/logos/\" title=\"\">Python Logo</a></li>\n",
       "<li class=\"tier-2 element-10\" role=\"treeitem\"><a href=\"https://wiki.python.org/moin/\" title=\"\">Python Wiki</a></li>\n",
       "<li class=\"tier-2 element-11\" role=\"treeitem\"><a href=\"/community/merchandise/\" title=\"\">Merchandise</a></li>\n",
       "<li class=\"tier-2 element-12\" role=\"treeitem\"><a href=\"/community/awards\" title=\"\">Community Awards</a></li>\n",
       "<li class=\"tier-2 element-13\" role=\"treeitem\"><a href=\"/psf/conduct/\" title=\"\">Code of Conduct</a></li>\n",
       "<li class=\"tier-2 element-14\" role=\"treeitem\"><a href=\"/psf/get-involved/\" title=\"\">Get Involved</a></li>\n",
       "<li class=\"tier-2 element-15\" role=\"treeitem\"><a href=\"/psf/community-stories/\" title=\"\">Shared Stories</a></li>\n",
       "</ul>\n",
       "</li>\n",
       "<li class=\"tier-1 element-5\">\n",
       "<a href=\"/success-stories/\" title=\"success-stories\">Success Stories</a>\n",
       "<ul class=\"subnav menu\">\n",
       "<li class=\"tier-2 element-1\" role=\"treeitem\"><a href=\"/success-stories/category/arts/\" title=\"\">Arts</a></li>\n",
       "<li class=\"tier-2 element-2\" role=\"treeitem\"><a href=\"/success-stories/category/business/\" title=\"\">Business</a></li>\n",
       "<li class=\"tier-2 element-3\" role=\"treeitem\"><a href=\"/success-stories/category/education/\" title=\"\">Education</a></li>\n",
       "<li class=\"tier-2 element-4\" role=\"treeitem\"><a href=\"/success-stories/category/engineering/\" title=\"\">Engineering</a></li>\n",
       "<li class=\"tier-2 element-5\" role=\"treeitem\"><a href=\"/success-stories/category/government/\" title=\"\">Government</a></li>\n",
       "<li class=\"tier-2 element-6\" role=\"treeitem\"><a href=\"/success-stories/category/scientific/\" title=\"\">Scientific</a></li>\n",
       "<li class=\"tier-2 element-7\" role=\"treeitem\"><a href=\"/success-stories/category/software-development/\" title=\"\">Software Development</a></li>\n",
       "</ul>\n",
       "</li>\n",
       "<li class=\"tier-1 element-6\">\n",
       "<a href=\"/blogs/\" title=\"News from around the Python world\">News</a>\n",
       "<ul class=\"subnav menu\">\n",
       "<li class=\"tier-2 element-1\" role=\"treeitem\"><a href=\"/blogs/\" title=\"Python Insider Blog Posts\">Python News</a></li>\n",
       "<li class=\"tier-2 element-2\" role=\"treeitem\"><a href=\"/psf/newsletter/\" title=\"Python Software Foundation Newsletter\">PSF Newsletter</a></li>\n",
       "<li class=\"tier-2 element-3\" role=\"treeitem\"><a href=\"http://planetpython.org/\" title=\"Planet Python\">Community News</a></li>\n",
       "<li class=\"tier-2 element-4\" role=\"treeitem\"><a href=\"http://pyfound.blogspot.com/\" title=\"PSF Blog\">PSF News</a></li>\n",
       "<li class=\"tier-2 element-5\" role=\"treeitem\"><a href=\"http://pycon.blogspot.com/\" title=\"PyCon Blog\">PyCon News</a></li>\n",
       "</ul>\n",
       "</li>\n",
       "<li class=\"tier-1 element-7\">\n",
       "<a href=\"/events/\">Events</a>\n",
       "<ul class=\"subnav menu\">\n",
       "<li class=\"tier-2 element-1\" role=\"treeitem\"><a href=\"/events/python-events/\" title=\"\">Python Events</a></li>\n",
       "<li class=\"tier-2 element-2\" role=\"treeitem\"><a href=\"/events/python-user-group/\" title=\"\">User Group Events</a></li>\n",
       "<li class=\"tier-2 element-3\" role=\"treeitem\"><a href=\"/events/python-events/past/\" title=\"\">Python Events Archive</a></li>\n",
       "<li class=\"tier-2 element-4\" role=\"treeitem\"><a href=\"/events/python-user-group/past/\" title=\"\">User Group Events Archive</a></li>\n",
       "<li class=\"tier-2 element-5\" role=\"treeitem\"><a href=\"https://wiki.python.org/moin/PythonEventsCalendar#Submitting_an_Event\" title=\"\">Submit an Event</a></li>\n",
       "</ul>\n",
       "</li>\n",
       "<li class=\"tier-1 element-8\">\n",
       "<a href=\"/dev/\">Contributing</a>\n",
       "<ul class=\"subnav menu\">\n",
       "<li class=\"tier-2 element-1\" role=\"treeitem\"><a href=\"https://devguide.python.org/\" title=\"\">Developer's Guide</a></li>\n",
       "<li class=\"tier-2 element-2\" role=\"treeitem\"><a href=\"https://bugs.python.org/\" title=\"\">Issue Tracker</a></li>\n",
       "<li class=\"tier-2 element-3\" role=\"treeitem\"><a href=\"https://mail.python.org/mailman/listinfo/python-dev\" title=\"\">python-dev list</a></li>\n",
       "<li class=\"tier-2 element-4\" role=\"treeitem\"><a href=\"/dev/core-mentorship/\" title=\"\">Core Mentorship</a></li>\n",
       "<li class=\"tier-2 element-5\" role=\"treeitem\"><a href=\"/dev/security/\" title=\"\">Report a Security Issue</a></li>\n",
       "</ul>\n",
       "</li>\n",
       "</ul>\n",
       "<a class=\"jump-link\" href=\"#python-network\" id=\"back-to-top-2\"><span aria-hidden=\"true\" class=\"icon-arrow-up\"><span>▲</span></span> Back to Top</a>\n",
       "</div><!-- end .container -->\n",
       "</div> <!-- end .main-footer-links -->\n",
       "<div class=\"site-base\">\n",
       "<div class=\"container\">\n",
       "<ul class=\"footer-links navigation menu do-not-print\" role=\"tree\">\n",
       "<li class=\"tier-1 element-1\"><a href=\"/about/help/\">Help &amp; <span class=\"say-no-more\">General</span> Contact</a></li>\n",
       "<li class=\"tier-1 element-2\"><a href=\"/community/diversity/\">Diversity <span class=\"say-no-more\">Initiatives</span></a></li>\n",
       "<li class=\"tier-1 element-3\"><a href=\"https://github.com/python/pythondotorg/issues\">Submit Website Bug</a></li>\n",
       "<li class=\"tier-1 element-4\">\n",
       "<a href=\"https://status.python.org/\">Status <span class=\"python-status-indicator-default\" id=\"python-status-indicator\"></span></a>\n",
       "</li>\n",
       "</ul>\n",
       "<div class=\"copyright\">\n",
       "<p><small>\n",
       "<span class=\"pre\">Copyright ©2001-2021.</span>\n",
       "                             <span class=\"pre\"><a href=\"/psf-landing/\">Python Software Foundation</a></span>\n",
       "                             <span class=\"pre\"><a href=\"/about/legal/\">Legal Statements</a></span>\n",
       "                             <span class=\"pre\"><a href=\"/privacy/\">Privacy Policy</a></span>\n",
       "                             <span class=\"pre\"><a href=\"/psf/sponsorship/sponsors/#heroku\">Powered by Heroku</a></span>\n",
       "</small></p>\n",
       "</div>\n",
       "</div><!-- end .container -->\n",
       "</div><!-- end .site-base -->\n",
       "</footer>\n",
       "</div><!-- end #touchnav-wrapper -->\n",
       "<script src=\"//ajax.googleapis.com/ajax/libs/jquery/1.8.2/jquery.min.js\"></script>\n",
       "<script>window.jQuery || document.write('<script src=\"/static/js/libs/jquery-1.8.2.min.js\"><\\/script>')</script>\n",
       "<script src=\"//ajax.googleapis.com/ajax/libs/jqueryui/1.12.1/jquery-ui.min.js\"></script>\n",
       "<script>window.jQuery || document.write('<script src=\"/static/js/libs/jquery-ui-1.12.1.min.js\"><\\/script>')</script>\n",
       "<script src=\"/static/js/libs/masonry.pkgd.min.js\"></script>\n",
       "<script src=\"/static/js/libs/html-includes.js\"></script>\n",
       "<script charset=\"utf-8\" src=\"/static/js/main-min.dd72c1659644.js\" type=\"text/javascript\"></script>\n",
       "<!--[if lte IE 7]>\n",
       "    <script type=\"text/javascript\" src=\"/static/js/plugins/IE8-min.8af6e26c7a3b.js\" charset=\"utf-8\"></script>\n",
       "    \n",
       "    \n",
       "    <![endif]-->\n",
       "<!--[if lte IE 8]>\n",
       "    <script type=\"text/javascript\" src=\"/static/js/plugins/getComputedStyle-min.d41d8cd98f00.js\" charset=\"utf-8\"></script>\n",
       "    \n",
       "    \n",
       "    <![endif]-->\n",
       "</body>\n",
       "</html>"
      ]
     },
     "execution_count": 6,
     "metadata": {},
     "output_type": "execute_result"
    }
   ],
   "source": [
    "soup"
   ]
  },
  {
   "cell_type": "code",
   "execution_count": 9,
   "id": "incorrect-processing",
   "metadata": {},
   "outputs": [],
   "source": [
    "tags = soup.find_all(\"h2\", {\"class\": \"widget-title\"})"
   ]
  },
  {
   "cell_type": "code",
   "execution_count": 10,
   "id": "female-drawing",
   "metadata": {},
   "outputs": [
    {
     "data": {
      "text/plain": [
       "[<h2 class=\"widget-title\"><span aria-hidden=\"true\" class=\"icon-get-started\"></span>Get Started</h2>,\n",
       " <h2 class=\"widget-title\"><span aria-hidden=\"true\" class=\"icon-download\"></span>Download</h2>,\n",
       " <h2 class=\"widget-title\"><span aria-hidden=\"true\" class=\"icon-documentation\"></span>Docs</h2>,\n",
       " <h2 class=\"widget-title\"><span aria-hidden=\"true\" class=\"icon-jobs\"></span>Jobs</h2>,\n",
       " <h2 class=\"widget-title\"><span aria-hidden=\"true\" class=\"icon-news\"></span>Latest News</h2>,\n",
       " <h2 class=\"widget-title\"><span aria-hidden=\"true\" class=\"icon-calendar\"></span>Upcoming Events</h2>,\n",
       " <h2 class=\"widget-title\"><span aria-hidden=\"true\" class=\"icon-success-stories\"></span>Success Stories</h2>,\n",
       " <h2 class=\"widget-title\"><span aria-hidden=\"true\" class=\"icon-python\"></span>Use Python for…</h2>,\n",
       " <h2 class=\"widget-title\">\n",
       " <span class=\"prompt\">&gt;&gt;&gt;</span> <a href=\"/dev/peps/\">Python Enhancement Proposals<span class=\"say-no-more\"> (PEPs)</span></a>: The future of Python<span class=\"say-no-more\"> is discussed here.</span>\n",
       " <a aria-hidden=\"true\" class=\"rss-link\" href=\"/dev/peps/peps.rss\"><span class=\"icon-feed\"></span> RSS</a>\n",
       " </h2>,\n",
       " <h2 class=\"widget-title\">\n",
       " <span class=\"prompt\">&gt;&gt;&gt;</span> <a href=\"/psf/\">Python Software Foundation</a>\n",
       " </h2>]"
      ]
     },
     "execution_count": 10,
     "metadata": {},
     "output_type": "execute_result"
    }
   ],
   "source": [
    "#findall nos devuelve una lista\n",
    "tags"
   ]
  },
  {
   "cell_type": "code",
   "execution_count": 11,
   "id": "unique-shelter",
   "metadata": {},
   "outputs": [
    {
     "data": {
      "text/plain": [
       "10"
      ]
     },
     "execution_count": 11,
     "metadata": {},
     "output_type": "execute_result"
    }
   ],
   "source": [
    "len(tags)"
   ]
  },
  {
   "cell_type": "code",
   "execution_count": 15,
   "id": "musical-outline",
   "metadata": {},
   "outputs": [
    {
     "data": {
      "text/plain": [
       "<h2 class=\"widget-title\"><span aria-hidden=\"true\" class=\"icon-get-started\"></span>Get Started</h2>"
      ]
     },
     "execution_count": 15,
     "metadata": {},
     "output_type": "execute_result"
    }
   ],
   "source": [
    "tags[0]"
   ]
  },
  {
   "cell_type": "code",
   "execution_count": 14,
   "id": "gross-clinton",
   "metadata": {},
   "outputs": [
    {
     "data": {
      "text/plain": [
       "'Get Started'"
      ]
     },
     "execution_count": 14,
     "metadata": {},
     "output_type": "execute_result"
    }
   ],
   "source": [
    "tags[0].getText()"
   ]
  },
  {
   "cell_type": "code",
   "execution_count": 17,
   "id": "valuable-instrument",
   "metadata": {},
   "outputs": [
    {
     "name": "stdout",
     "output_type": "stream",
     "text": [
      "Get Started\n",
      "Download\n",
      "Docs\n",
      "Jobs\n",
      "Latest News\n",
      "Upcoming Events\n",
      "Success Stories\n",
      "Use Python for…\n",
      "\n",
      ">>> Python Enhancement Proposals (PEPs): The future of Python is discussed here.\n",
      " RSS\n",
      "\n",
      "\n",
      ">>> Python Software Foundation\n",
      "\n"
     ]
    }
   ],
   "source": [
    "for tag in tags:\n",
    "    print(tag.getText())"
   ]
  },
  {
   "cell_type": "code",
   "execution_count": 18,
   "id": "invisible-status",
   "metadata": {},
   "outputs": [],
   "source": [
    "lista_palabras = [tag.getText() for tag in tags]"
   ]
  },
  {
   "cell_type": "code",
   "execution_count": 19,
   "id": "negative-extreme",
   "metadata": {},
   "outputs": [
    {
     "data": {
      "text/plain": [
       "['Get Started',\n",
       " 'Download',\n",
       " 'Docs',\n",
       " 'Jobs',\n",
       " 'Latest News',\n",
       " 'Upcoming Events',\n",
       " 'Success Stories',\n",
       " 'Use Python for…',\n",
       " '\\n>>> Python Enhancement Proposals (PEPs): The future of Python is discussed here.\\n RSS\\n',\n",
       " '\\n>>> Python Software Foundation\\n']"
      ]
     },
     "execution_count": 19,
     "metadata": {},
     "output_type": "execute_result"
    }
   ],
   "source": [
    "lista_palabras"
   ]
  },
  {
   "cell_type": "markdown",
   "id": "christian-starter",
   "metadata": {},
   "source": [
    "Usamos la función getText para imprimir solo el contenido interno de la etiqueta, pero si no usaste getText, terminarás con las etiquetas incluido todo lo que haya dentro de ellas."
   ]
  },
  {
   "cell_type": "markdown",
   "id": "eight-mention",
   "metadata": {},
   "source": [
    "### Obtener las etiquetas HTML usando findAll\n",
    "Vimos cómo findAll function filtra las etiquetas por clase, pero esto no es todo.\n",
    "\n",
    "Para filtrar una lista de etiquetas, reemplaza la línea resaltada del ejemplo anterior con la siguiente línea:"
   ]
  },
  {
   "cell_type": "code",
   "execution_count": null,
   "id": "accompanied-performance",
   "metadata": {},
   "outputs": [],
   "source": [
    "#Este código obtiene todas las etiquetas span, a e img del código HTML descargado.\n",
    "tags = res.findAll(\"span\", \"a\" \"img\")"
   ]
  },
  {
   "cell_type": "markdown",
   "id": "clear-taste",
   "metadata": {},
   "source": [
    "Además, puedes extraer etiquetas que tengan estas clases:"
   ]
  },
  {
   "cell_type": "code",
   "execution_count": null,
   "id": "agreed-polyester",
   "metadata": {},
   "outputs": [],
   "source": [
    "tags = res.findAll(\"a\", {\"class\": [\"url\", \"readmorebtn\"]})"
   ]
  },
  {
   "cell_type": "markdown",
   "id": "combined-correspondence",
   "metadata": {},
   "source": [
    "Este código extrae todas las etiquetas a que tienen las clases readmorebtn y url.     \n",
    "Puedes filtrar el contenido en función del texto interno, utilizando el argumento text de esta manera:"
   ]
  },
  {
   "cell_type": "code",
   "execution_count": null,
   "id": "extraordinary-compound",
   "metadata": {},
   "outputs": [],
   "source": [
    "tags = res.findAll(text=\"Python Programming Basics with Examples\")"
   ]
  },
  {
   "cell_type": "markdown",
   "id": "duplicate-water",
   "metadata": {},
   "source": [
    "La función findAll devuelve todos los elementos que coinciden con los atributos especificados, pero si deseas devolver un solo elemento, puedes usar el parámetro limit o usar la función find que solo devuelve el primer elemento."
   ]
  },
  {
   "cell_type": "markdown",
   "id": "frank-thunder",
   "metadata": {},
   "source": [
    "### Buscar el enésimo hijo usando Beautiful Soup\n",
    "El objeto Beautiful Soup tiene muchas características potentes, puedes obtener elementos hijos directamente así:"
   ]
  },
  {
   "cell_type": "code",
   "execution_count": null,
   "id": "hollow-timing",
   "metadata": {},
   "outputs": [],
   "source": [
    "tags = res.span.findAll(\"a\")"
   ]
  },
  {
   "cell_type": "markdown",
   "id": "painful-reasoning",
   "metadata": {},
   "source": [
    "Esta línea obtendrá el primer elemento span en el objeto Beautiful Soup y luego obtendrá todos los elementos a en ese span.\n",
    "\n",
    "¿Qué pasa si necesitas conseguir el enésimo hijo?\n",
    "```python\n",
    "tag = res.find(\"nav\", {\"id\": \"site-navigation\"}).select(\"a\")[3]\n",
    "```\n",
    "\n",
    "Esta línea obtiene el elemento nav con id site-navigation y luego tomamos la cuarta etiqueta a de ese elemento nav.\n",
    "\n",
    "¡Beautiful Soup es brutaaaaaaaaaal!"
   ]
  },
  {
   "cell_type": "markdown",
   "id": "ordinary-hardware",
   "metadata": {},
   "source": [
    "## Diferencia entre find_all() y select()"
   ]
  },
  {
   "cell_type": "markdown",
   "id": "nutritional-senate",
   "metadata": {},
   "source": [
    "#### Find_all\n",
    "[DOCUMENTACIÓN FINDALL](https://www.crummy.com/software/BeautifulSoup/bs4/doc/#calling-a-tag-is-like-calling-find-all)     \n",
    "El método find_all() escanea todo el documento en busca de resultados, pero a veces sólo se quiere encontrar un resultado. Si sabe que un documento sólo tiene una etiqueta <body>, es una pérdida de tiempo escanear todo el documento en busca de más. En lugar de pasar limit=1 cada vez que llame a find_all, puede utilizar el método find(). "
   ]
  },
  {
   "cell_type": "markdown",
   "id": "fresh-purse",
   "metadata": {},
   "source": [
    "#### Select\n",
    "[DOCUMENTACIÓN SELECT](https://www.crummy.com/software/BeautifulSoup/bs4/doc/#css-selectors)     \n",
    "BeautifulSoup tiene un método .select() que utiliza el paquete SoupSieve para ejecutar un selector CSS contra un documento analizado y devolver todos los elementos coincidentes. Tag tiene un método similar que ejecuta un selector CSS contra el contenido de una sola etiqueta.\n",
    "\n",
    "(La integración de SoupSieve se añadió en Beautiful Soup 4.7.0.) Las versiones anteriores también tienen el método .select(), pero sólo se soportan los selectores CSS más utilizados. Si instalaste Beautiful Soup a través de pip, SoupSieve fue instalado al mismo tiempo, así que no tienes que hacer nada extra).\n",
    "\n",
    "La documentación de SoupSieve enumera todos los selectores CSS actualmente soportados"
   ]
  },
  {
   "cell_type": "markdown",
   "id": "steady-madagascar",
   "metadata": {},
   "source": [
    "## Manos a la obra"
   ]
  },
  {
   "cell_type": "markdown",
   "id": "front-majority",
   "metadata": {},
   "source": [
    "### Ejemplo 1 Página de zapatillas de deporte"
   ]
  },
  {
   "cell_type": "markdown",
   "id": "timely-nowhere",
   "metadata": {},
   "source": [
    "Recuerda que tienes que instalar la librería beautifulsoup    "
   ]
  },
  {
   "cell_type": "code",
   "execution_count": null,
   "id": "municipal-swedish",
   "metadata": {},
   "outputs": [],
   "source": [
    "#!pip install beautifulsoup4"
   ]
  },
  {
   "cell_type": "code",
   "execution_count": 23,
   "id": "professional-appreciation",
   "metadata": {},
   "outputs": [],
   "source": [
    "import requests\n",
    "from bs4 import BeautifulSoup"
   ]
  },
  {
   "cell_type": "code",
   "execution_count": 22,
   "id": "demonstrated-project",
   "metadata": {},
   "outputs": [],
   "source": [
    "import pandas as pd"
   ]
  },
  {
   "cell_type": "code",
   "execution_count": 20,
   "id": "broken-colombia",
   "metadata": {},
   "outputs": [],
   "source": [
    "url = \"https://www.murallasport.com/29-zapatillas-moda-mujer\""
   ]
  },
  {
   "cell_type": "code",
   "execution_count": 24,
   "id": "built-observation",
   "metadata": {},
   "outputs": [],
   "source": [
    "html = requests.get(url)"
   ]
  },
  {
   "cell_type": "code",
   "execution_count": 25,
   "id": "medium-registrar",
   "metadata": {},
   "outputs": [
    {
     "data": {
      "text/plain": [
       "<Response [200]>"
      ]
     },
     "execution_count": 25,
     "metadata": {},
     "output_type": "execute_result"
    }
   ],
   "source": [
    "html"
   ]
  },
  {
   "cell_type": "code",
   "execution_count": 26,
   "id": "checked-delaware",
   "metadata": {},
   "outputs": [],
   "source": [
    "soup = BeautifulSoup(html.content, \"html.parser\")"
   ]
  },
  {
   "cell_type": "code",
   "execution_count": null,
   "id": "bizarre-zoning",
   "metadata": {},
   "outputs": [],
   "source": [
    "#Seleccionamos los nombres de las zapatillas con el selector css utilizando select \n",
    "#obtenemos el mismo resultado que con findall"
   ]
  },
  {
   "cell_type": "code",
   "execution_count": 35,
   "id": "aggregate-green",
   "metadata": {},
   "outputs": [],
   "source": [
    "productos = soup.findAll(\"div\",{\"class\": \"name_product_box\"})"
   ]
  },
  {
   "cell_type": "code",
   "execution_count": 39,
   "id": "operational-taylor",
   "metadata": {},
   "outputs": [
    {
     "data": {
      "text/plain": [
       "'Canvas Color Chuck Taylor All Star Move Low Top...'"
      ]
     },
     "execution_count": 39,
     "metadata": {},
     "output_type": "execute_result"
    }
   ],
   "source": [
    "productos[0].getText().strip()"
   ]
  },
  {
   "cell_type": "code",
   "execution_count": 41,
   "id": "understood-egyptian",
   "metadata": {},
   "outputs": [],
   "source": [
    "lista_productos = [a.getText().strip() for a in productos]\n",
    "#lista_productos"
   ]
  },
  {
   "cell_type": "code",
   "execution_count": 42,
   "id": "consistent-morrison",
   "metadata": {},
   "outputs": [],
   "source": [
    "#otra sintaxis diferente PERO HACE LO MISMO\n",
    "productos = soup.find_all(name = \"div\", class_=\"name_product_box\")"
   ]
  },
  {
   "cell_type": "code",
   "execution_count": 46,
   "id": "express-embassy",
   "metadata": {},
   "outputs": [],
   "source": [
    "#sacamos las marcas también con el select / SELECT UTILIZA SELECTOR CSSS \"etiqueta.elnombredelaclasecss\"\n",
    "marcas = soup.select(\"span.marca-product-box\")"
   ]
  },
  {
   "cell_type": "code",
   "execution_count": 48,
   "id": "dressed-humanitarian",
   "metadata": {},
   "outputs": [
    {
     "data": {
      "text/plain": [
       "<span class=\"marca-product-box\">CONVERSE </span>"
      ]
     },
     "execution_count": 48,
     "metadata": {},
     "output_type": "execute_result"
    }
   ],
   "source": [
    "marcas[0]"
   ]
  },
  {
   "cell_type": "code",
   "execution_count": 49,
   "id": "confirmed-removal",
   "metadata": {},
   "outputs": [
    {
     "data": {
      "text/plain": [
       "'CONVERSE '"
      ]
     },
     "execution_count": 49,
     "metadata": {},
     "output_type": "execute_result"
    }
   ],
   "source": [
    "marcas[0].getText()"
   ]
  },
  {
   "cell_type": "code",
   "execution_count": 52,
   "id": "appointed-making",
   "metadata": {},
   "outputs": [],
   "source": [
    "lista_marcas = [marca.getText().strip() for marca in marcas]\n",
    "#lista_marcas"
   ]
  },
  {
   "cell_type": "code",
   "execution_count": 53,
   "id": "modular-prediction",
   "metadata": {},
   "outputs": [],
   "source": [
    "#lista de precios\n",
    "precios = soup.findAll(\"div\", {\"class\": \"price_product_box\"})"
   ]
  },
  {
   "cell_type": "code",
   "execution_count": 56,
   "id": "related-puzzle",
   "metadata": {},
   "outputs": [
    {
     "data": {
      "text/plain": [
       "'71.20€\\n80.00€'"
      ]
     },
     "execution_count": 56,
     "metadata": {},
     "output_type": "execute_result"
    }
   ],
   "source": [
    "precios[0].getText().strip()"
   ]
  },
  {
   "cell_type": "code",
   "execution_count": 59,
   "id": "prompt-hundred",
   "metadata": {},
   "outputs": [
    {
     "data": {
      "text/plain": [
       "'85.00€'"
      ]
     },
     "execution_count": 59,
     "metadata": {},
     "output_type": "execute_result"
    }
   ],
   "source": [
    "precios[2].getText().strip()"
   ]
  },
  {
   "cell_type": "code",
   "execution_count": 64,
   "id": "falling-india",
   "metadata": {},
   "outputs": [
    {
     "data": {
      "text/plain": [
       "<div class=\"price_product_box\">\n",
       "<span>71.20€</span>\n",
       "<span class=\"older-price\">80.00€</span>\n",
       "</div>"
      ]
     },
     "execution_count": 64,
     "metadata": {},
     "output_type": "execute_result"
    }
   ],
   "source": [
    "precios[0]"
   ]
  },
  {
   "cell_type": "code",
   "execution_count": 67,
   "id": "celtic-basics",
   "metadata": {},
   "outputs": [],
   "source": [
    "lista_precios = [precio.getText().strip() for precio in precios]"
   ]
  },
  {
   "cell_type": "code",
   "execution_count": 65,
   "id": "chicken-sewing",
   "metadata": {},
   "outputs": [],
   "source": [
    "prueba = soup.select(\"div.price_product_box\") #CON SELECTOR CSS IGUAL LOS PRECIOS"
   ]
  },
  {
   "cell_type": "code",
   "execution_count": 66,
   "id": "alike-generator",
   "metadata": {},
   "outputs": [
    {
     "data": {
      "text/plain": [
       "<div class=\"price_product_box\">\n",
       "<span>71.20€</span>\n",
       "<span class=\"older-price\">80.00€</span>\n",
       "</div>"
      ]
     },
     "execution_count": 66,
     "metadata": {},
     "output_type": "execute_result"
    }
   ],
   "source": [
    "prueba[0]"
   ]
  },
  {
   "cell_type": "code",
   "execution_count": 76,
   "id": "worst-zealand",
   "metadata": {},
   "outputs": [],
   "source": [
    "enlaces = soup.select(\"div.name_product_box\")"
   ]
  },
  {
   "cell_type": "code",
   "execution_count": 138,
   "id": "established-skirt",
   "metadata": {},
   "outputs": [
    {
     "data": {
      "text/plain": [
       "['name_product_box']"
      ]
     },
     "execution_count": 138,
     "metadata": {},
     "output_type": "execute_result"
    }
   ],
   "source": [
    "enlaces_[0].get(\"class\")"
   ]
  },
  {
   "cell_type": "code",
   "execution_count": 127,
   "id": "surface-imagination",
   "metadata": {},
   "outputs": [],
   "source": [
    "enlaces_ = soup.find_all(\"div\", {\"class\":\"name_product_box\"})"
   ]
  },
  {
   "cell_type": "code",
   "execution_count": 139,
   "id": "devoted-pharmacy",
   "metadata": {},
   "outputs": [
    {
     "data": {
      "text/plain": [
       "'/producto/2500-canvas-color-chuck-taylor-all-star-move-low-top-negro'"
      ]
     },
     "execution_count": 139,
     "metadata": {},
     "output_type": "execute_result"
    }
   ],
   "source": [
    "enlaces_[0].find(\"a\").get(\"href\")"
   ]
  },
  {
   "cell_type": "code",
   "execution_count": 143,
   "id": "different-nebraska",
   "metadata": {},
   "outputs": [],
   "source": [
    "lista_enlaces = [f\"https://www.murallasport.com{elemento.find('a').get('href')}\" for elemento in enlaces_]"
   ]
  },
  {
   "cell_type": "code",
   "execution_count": 144,
   "id": "disabled-italy",
   "metadata": {},
   "outputs": [
    {
     "data": {
      "text/plain": [
       "['https://www.murallasport.com/producto/2500-canvas-color-chuck-taylor-all-star-move-low-top-negro',\n",
       " 'https://www.murallasport.com/producto/2499-zapatilla-canvas-color-chuck-taylor-all-star-move-low-top',\n",
       " 'https://www.murallasport.com/producto/2319-zapatilla-mujer-converse-lift-hi-top-beige',\n",
       " 'https://www.murallasport.com/producto/1221-zapatillas-mujer-reebok-legacy-83-verde',\n",
       " 'https://www.murallasport.com/producto/1227-zapatilla-adidas-mujer-courtphase-blanco',\n",
       " 'https://www.murallasport.com/producto/2961-zapatilla-adidas-terrex-ax3-gtx-fluor',\n",
       " 'https://www.murallasport.com/producto/3216-zapatilla-mujer-nike-air-max-bella-4-violeta',\n",
       " 'https://www.murallasport.com/producto/2438-zapatilla-mujer-nike-air-max-excee-blanco',\n",
       " 'https://www.murallasport.com/producto/2721-zapatilla-mujer-new-balance-996-rosa',\n",
       " 'https://www.murallasport.com/producto/2521-zapatilla-mujer-new-balance-574-rosa',\n",
       " 'https://www.murallasport.com/producto/2557-zapatilla-mujer-new-balance-373-azul',\n",
       " 'https://www.murallasport.com/producto/2558-zapatilla-mujer-new-balance-373-gris',\n",
       " 'https://www.murallasport.com/producto/2623-zapatilla-mujer-new-balance-574-azul',\n",
       " 'https://www.murallasport.com/producto/2751-zapatilla-mujer-new-balance-237-negro',\n",
       " 'https://www.murallasport.com/producto/3159-zapatilla-mujer-new-balance-237-gris',\n",
       " 'https://www.murallasport.com/producto/1224-zapatilla-mujer-converse-move-hi-negro',\n",
       " 'https://www.murallasport.com/producto/1222-zapatilla-mujer-converse-move-hi-top-blanca',\n",
       " 'https://www.murallasport.com/producto/2582-zapatilla-mujer-converse-all-star-lugged-hi-negro',\n",
       " 'https://www.murallasport.com/producto/2823-zapatilla-mujer-converse-all-star-hi-lift-negro',\n",
       " 'https://www.murallasport.com/producto/2471-zapatilla-mujer-skechers-bobs-flex-blanco',\n",
       " 'https://www.murallasport.com/producto/2473-zapatilla-mujer-skechers-bobs-squad-celeste',\n",
       " 'https://www.murallasport.com/producto/2472-zapatilla-mujer-skechers-bobs-squad-gris',\n",
       " 'https://www.murallasport.com/producto/2470-zapatilla-mujer-skechers-ultraflex-marino',\n",
       " 'https://www.murallasport.com/producto/2469-zapatilla-mujer-skechers-ultra-flex-2-0-negro']"
      ]
     },
     "execution_count": 144,
     "metadata": {},
     "output_type": "execute_result"
    }
   ],
   "source": [
    "lista_enlaces"
   ]
  },
  {
   "cell_type": "code",
   "execution_count": 145,
   "id": "decimal-checkout",
   "metadata": {},
   "outputs": [],
   "source": [
    "diccionario = {\"nombre\": lista_productos, \"marca\":lista_marcas, \"precio\":lista_precios, \"enlace\":lista_enlaces}"
   ]
  },
  {
   "cell_type": "code",
   "execution_count": 146,
   "id": "wanted-colon",
   "metadata": {},
   "outputs": [],
   "source": [
    "data = pd.DataFrame(diccionario)"
   ]
  },
  {
   "cell_type": "code",
   "execution_count": 147,
   "id": "mexican-nothing",
   "metadata": {},
   "outputs": [
    {
     "data": {
      "text/html": [
       "<div>\n",
       "<style scoped>\n",
       "    .dataframe tbody tr th:only-of-type {\n",
       "        vertical-align: middle;\n",
       "    }\n",
       "\n",
       "    .dataframe tbody tr th {\n",
       "        vertical-align: top;\n",
       "    }\n",
       "\n",
       "    .dataframe thead th {\n",
       "        text-align: right;\n",
       "    }\n",
       "</style>\n",
       "<table border=\"1\" class=\"dataframe\">\n",
       "  <thead>\n",
       "    <tr style=\"text-align: right;\">\n",
       "      <th></th>\n",
       "      <th>nombre</th>\n",
       "      <th>marca</th>\n",
       "      <th>precio</th>\n",
       "      <th>enlace</th>\n",
       "    </tr>\n",
       "  </thead>\n",
       "  <tbody>\n",
       "    <tr>\n",
       "      <th>0</th>\n",
       "      <td>Canvas Color Chuck Taylor All Star Move Low To...</td>\n",
       "      <td>CONVERSE</td>\n",
       "      <td>71.20€\\n80.00€</td>\n",
       "      <td>https://www.murallasport.com/producto/2500-can...</td>\n",
       "    </tr>\n",
       "    <tr>\n",
       "      <th>1</th>\n",
       "      <td>Zapatilla Canvas Color Chuck Taylor All Star M...</td>\n",
       "      <td>CONVERSE</td>\n",
       "      <td>72.00€\\n80.00€</td>\n",
       "      <td>https://www.murallasport.com/producto/2499-zap...</td>\n",
       "    </tr>\n",
       "    <tr>\n",
       "      <th>2</th>\n",
       "      <td>Zapatilla Mujer  Converse Lift  Hi Top  Beige</td>\n",
       "      <td>CONVERSE</td>\n",
       "      <td>85.00€</td>\n",
       "      <td>https://www.murallasport.com/producto/2319-zap...</td>\n",
       "    </tr>\n",
       "    <tr>\n",
       "      <th>3</th>\n",
       "      <td>Zapatillas Mujer  Reebok Legacy 83  Verde</td>\n",
       "      <td>REEBOK</td>\n",
       "      <td>68.00€\\n100.00€</td>\n",
       "      <td>https://www.murallasport.com/producto/1221-zap...</td>\n",
       "    </tr>\n",
       "    <tr>\n",
       "      <th>4</th>\n",
       "      <td>Zapatilla Adidas Mujer Courtphase Blanco</td>\n",
       "      <td>ADIDAS</td>\n",
       "      <td>70.00€</td>\n",
       "      <td>https://www.murallasport.com/producto/1227-zap...</td>\n",
       "    </tr>\n",
       "  </tbody>\n",
       "</table>\n",
       "</div>"
      ],
      "text/plain": [
       "                                              nombre     marca  \\\n",
       "0  Canvas Color Chuck Taylor All Star Move Low To...  CONVERSE   \n",
       "1  Zapatilla Canvas Color Chuck Taylor All Star M...  CONVERSE   \n",
       "2      Zapatilla Mujer  Converse Lift  Hi Top  Beige  CONVERSE   \n",
       "3          Zapatillas Mujer  Reebok Legacy 83  Verde    REEBOK   \n",
       "4           Zapatilla Adidas Mujer Courtphase Blanco    ADIDAS   \n",
       "\n",
       "            precio                                             enlace  \n",
       "0   71.20€\\n80.00€  https://www.murallasport.com/producto/2500-can...  \n",
       "1   72.00€\\n80.00€  https://www.murallasport.com/producto/2499-zap...  \n",
       "2           85.00€  https://www.murallasport.com/producto/2319-zap...  \n",
       "3  68.00€\\n100.00€  https://www.murallasport.com/producto/1221-zap...  \n",
       "4           70.00€  https://www.murallasport.com/producto/1227-zap...  "
      ]
     },
     "execution_count": 147,
     "metadata": {},
     "output_type": "execute_result"
    }
   ],
   "source": [
    "data.head()"
   ]
  },
  {
   "cell_type": "code",
   "execution_count": 156,
   "id": "premium-helping",
   "metadata": {},
   "outputs": [],
   "source": [
    "def limpiamos_precio(x):\n",
    "    split = x.split(\"\\n\")\n",
    "    if len(split) >1:\n",
    "        return split[1]\n",
    "    else:\n",
    "        return x"
   ]
  },
  {
   "cell_type": "code",
   "execution_count": 157,
   "id": "harmful-artist",
   "metadata": {},
   "outputs": [],
   "source": [
    "data[\"precio_viejo\"] = data.precio.apply(limpiamos_precio)"
   ]
  },
  {
   "cell_type": "code",
   "execution_count": 153,
   "id": "derived-moses",
   "metadata": {},
   "outputs": [],
   "source": [
    "data[\"precio_nuevo\"] = data.apply(lambda fila: fila[\"precio\"].split(\"\\n\")[0], axis=1)"
   ]
  },
  {
   "cell_type": "code",
   "execution_count": 158,
   "id": "separated-forwarding",
   "metadata": {},
   "outputs": [
    {
     "data": {
      "text/html": [
       "<div>\n",
       "<style scoped>\n",
       "    .dataframe tbody tr th:only-of-type {\n",
       "        vertical-align: middle;\n",
       "    }\n",
       "\n",
       "    .dataframe tbody tr th {\n",
       "        vertical-align: top;\n",
       "    }\n",
       "\n",
       "    .dataframe thead th {\n",
       "        text-align: right;\n",
       "    }\n",
       "</style>\n",
       "<table border=\"1\" class=\"dataframe\">\n",
       "  <thead>\n",
       "    <tr style=\"text-align: right;\">\n",
       "      <th></th>\n",
       "      <th>nombre</th>\n",
       "      <th>marca</th>\n",
       "      <th>precio</th>\n",
       "      <th>enlace</th>\n",
       "      <th>precio_nuevo</th>\n",
       "      <th>precio_viejo</th>\n",
       "    </tr>\n",
       "  </thead>\n",
       "  <tbody>\n",
       "    <tr>\n",
       "      <th>0</th>\n",
       "      <td>Canvas Color Chuck Taylor All Star Move Low To...</td>\n",
       "      <td>CONVERSE</td>\n",
       "      <td>71.20€\\n80.00€</td>\n",
       "      <td>https://www.murallasport.com/producto/2500-can...</td>\n",
       "      <td>71.20€</td>\n",
       "      <td>80.00€</td>\n",
       "    </tr>\n",
       "    <tr>\n",
       "      <th>1</th>\n",
       "      <td>Zapatilla Canvas Color Chuck Taylor All Star M...</td>\n",
       "      <td>CONVERSE</td>\n",
       "      <td>72.00€\\n80.00€</td>\n",
       "      <td>https://www.murallasport.com/producto/2499-zap...</td>\n",
       "      <td>72.00€</td>\n",
       "      <td>80.00€</td>\n",
       "    </tr>\n",
       "    <tr>\n",
       "      <th>2</th>\n",
       "      <td>Zapatilla Mujer  Converse Lift  Hi Top  Beige</td>\n",
       "      <td>CONVERSE</td>\n",
       "      <td>85.00€</td>\n",
       "      <td>https://www.murallasport.com/producto/2319-zap...</td>\n",
       "      <td>85.00€</td>\n",
       "      <td>85.00€</td>\n",
       "    </tr>\n",
       "    <tr>\n",
       "      <th>3</th>\n",
       "      <td>Zapatillas Mujer  Reebok Legacy 83  Verde</td>\n",
       "      <td>REEBOK</td>\n",
       "      <td>68.00€\\n100.00€</td>\n",
       "      <td>https://www.murallasport.com/producto/1221-zap...</td>\n",
       "      <td>68.00€</td>\n",
       "      <td>100.00€</td>\n",
       "    </tr>\n",
       "    <tr>\n",
       "      <th>4</th>\n",
       "      <td>Zapatilla Adidas Mujer Courtphase Blanco</td>\n",
       "      <td>ADIDAS</td>\n",
       "      <td>70.00€</td>\n",
       "      <td>https://www.murallasport.com/producto/1227-zap...</td>\n",
       "      <td>70.00€</td>\n",
       "      <td>70.00€</td>\n",
       "    </tr>\n",
       "  </tbody>\n",
       "</table>\n",
       "</div>"
      ],
      "text/plain": [
       "                                              nombre     marca  \\\n",
       "0  Canvas Color Chuck Taylor All Star Move Low To...  CONVERSE   \n",
       "1  Zapatilla Canvas Color Chuck Taylor All Star M...  CONVERSE   \n",
       "2      Zapatilla Mujer  Converse Lift  Hi Top  Beige  CONVERSE   \n",
       "3          Zapatillas Mujer  Reebok Legacy 83  Verde    REEBOK   \n",
       "4           Zapatilla Adidas Mujer Courtphase Blanco    ADIDAS   \n",
       "\n",
       "            precio                                             enlace  \\\n",
       "0   71.20€\\n80.00€  https://www.murallasport.com/producto/2500-can...   \n",
       "1   72.00€\\n80.00€  https://www.murallasport.com/producto/2499-zap...   \n",
       "2           85.00€  https://www.murallasport.com/producto/2319-zap...   \n",
       "3  68.00€\\n100.00€  https://www.murallasport.com/producto/1221-zap...   \n",
       "4           70.00€  https://www.murallasport.com/producto/1227-zap...   \n",
       "\n",
       "  precio_nuevo precio_viejo  \n",
       "0       71.20€       80.00€  \n",
       "1       72.00€       80.00€  \n",
       "2       85.00€       85.00€  \n",
       "3       68.00€      100.00€  \n",
       "4       70.00€       70.00€  "
      ]
     },
     "execution_count": 158,
     "metadata": {},
     "output_type": "execute_result"
    }
   ],
   "source": [
    "data.head()"
   ]
  },
  {
   "cell_type": "code",
   "execution_count": 159,
   "id": "graduate-pepper",
   "metadata": {},
   "outputs": [],
   "source": [
    "producto_concreto = requests.get(\"https://www.murallasport.com/producto/2500-canvas-color-chuck-taylor-all-star-move-low-top-negro\")"
   ]
  },
  {
   "cell_type": "code",
   "execution_count": 162,
   "id": "traditional-apollo",
   "metadata": {},
   "outputs": [],
   "source": [
    "soup_prod = BeautifulSoup(producto_concreto.content, \"html.parser\")"
   ]
  },
  {
   "cell_type": "code",
   "execution_count": 168,
   "id": "selective-soldier",
   "metadata": {},
   "outputs": [],
   "source": [
    "textaco = soup_prod.findAll(\"div\", {\"class\":\"txt-description-product tab-pane active\"})"
   ]
  },
  {
   "cell_type": "code",
   "execution_count": 172,
   "id": "current-gardening",
   "metadata": {},
   "outputs": [
    {
     "data": {
      "text/plain": [
       "'UN NIVEL SUPERIOR. Una plataforma llamativa y explosiva aporta nueva energía a estas Chucks clásicas. Diseñadas para ofrecer libertad de movimientos, la plataforma ligera y moldeada aporta altura pero no peso. Sube de nivel con estilo.'"
      ]
     },
     "execution_count": 172,
     "metadata": {},
     "output_type": "execute_result"
    }
   ],
   "source": [
    "textaco[0].getText().strip()"
   ]
  },
  {
   "cell_type": "code",
   "execution_count": 174,
   "id": "indonesian-blowing",
   "metadata": {},
   "outputs": [],
   "source": [
    "def funcionzaca_epica(enlace):\n",
    "    res = requests.get(enlace)\n",
    "    soup = BeautifulSoup(res.content,\"html.parser\")\n",
    "    textaco = soup.findAll(\"div\", {\"class\":\"txt-description-product tab-pane active\"})\n",
    "    return textaco[0].getText().strip()"
   ]
  },
  {
   "cell_type": "code",
   "execution_count": 175,
   "id": "funded-argument",
   "metadata": {},
   "outputs": [],
   "source": [
    "data[\"descripción\"] = data.enlace.apply(funcionzaca_epica)"
   ]
  },
  {
   "cell_type": "code",
   "execution_count": 176,
   "id": "referenced-cloud",
   "metadata": {},
   "outputs": [
    {
     "data": {
      "text/html": [
       "<div>\n",
       "<style scoped>\n",
       "    .dataframe tbody tr th:only-of-type {\n",
       "        vertical-align: middle;\n",
       "    }\n",
       "\n",
       "    .dataframe tbody tr th {\n",
       "        vertical-align: top;\n",
       "    }\n",
       "\n",
       "    .dataframe thead th {\n",
       "        text-align: right;\n",
       "    }\n",
       "</style>\n",
       "<table border=\"1\" class=\"dataframe\">\n",
       "  <thead>\n",
       "    <tr style=\"text-align: right;\">\n",
       "      <th></th>\n",
       "      <th>nombre</th>\n",
       "      <th>marca</th>\n",
       "      <th>precio</th>\n",
       "      <th>enlace</th>\n",
       "      <th>precio_nuevo</th>\n",
       "      <th>precio_viejo</th>\n",
       "      <th>descripción</th>\n",
       "    </tr>\n",
       "  </thead>\n",
       "  <tbody>\n",
       "    <tr>\n",
       "      <th>0</th>\n",
       "      <td>Canvas Color Chuck Taylor All Star Move Low To...</td>\n",
       "      <td>CONVERSE</td>\n",
       "      <td>71.20€\\n80.00€</td>\n",
       "      <td>https://www.murallasport.com/producto/2500-can...</td>\n",
       "      <td>71.20€</td>\n",
       "      <td>80.00€</td>\n",
       "      <td>UN NIVEL SUPERIOR. Una plataforma llamativa y ...</td>\n",
       "    </tr>\n",
       "    <tr>\n",
       "      <th>1</th>\n",
       "      <td>Zapatilla Canvas Color Chuck Taylor All Star M...</td>\n",
       "      <td>CONVERSE</td>\n",
       "      <td>72.00€\\n80.00€</td>\n",
       "      <td>https://www.murallasport.com/producto/2499-zap...</td>\n",
       "      <td>72.00€</td>\n",
       "      <td>80.00€</td>\n",
       "      <td>UN NIVEL SUPERIOR. Una plataforma llamativa y ...</td>\n",
       "    </tr>\n",
       "    <tr>\n",
       "      <th>2</th>\n",
       "      <td>Zapatilla Mujer  Converse Lift  Hi Top  Beige</td>\n",
       "      <td>CONVERSE</td>\n",
       "      <td>85.00€</td>\n",
       "      <td>https://www.murallasport.com/producto/2319-zap...</td>\n",
       "      <td>85.00€</td>\n",
       "      <td>85.00€</td>\n",
       "      <td>Sube de nivel con estilo con las Chuck con pla...</td>\n",
       "    </tr>\n",
       "    <tr>\n",
       "      <th>3</th>\n",
       "      <td>Zapatillas Mujer  Reebok Legacy 83  Verde</td>\n",
       "      <td>REEBOK</td>\n",
       "      <td>68.00€\\n100.00€</td>\n",
       "      <td>https://www.murallasport.com/producto/1221-zap...</td>\n",
       "      <td>68.00€</td>\n",
       "      <td>100.00€</td>\n",
       "      <td>Zapatilla Reebok Legacy 83 para mujer, de horm...</td>\n",
       "    </tr>\n",
       "    <tr>\n",
       "      <th>4</th>\n",
       "      <td>Zapatilla Adidas Mujer Courtphase Blanco</td>\n",
       "      <td>ADIDAS</td>\n",
       "      <td>70.00€</td>\n",
       "      <td>https://www.murallasport.com/producto/1227-zap...</td>\n",
       "      <td>70.00€</td>\n",
       "      <td>70.00€</td>\n",
       "      <td>Zapatilla adidas Courtphase para mujer, de hor...</td>\n",
       "    </tr>\n",
       "  </tbody>\n",
       "</table>\n",
       "</div>"
      ],
      "text/plain": [
       "                                              nombre     marca  \\\n",
       "0  Canvas Color Chuck Taylor All Star Move Low To...  CONVERSE   \n",
       "1  Zapatilla Canvas Color Chuck Taylor All Star M...  CONVERSE   \n",
       "2      Zapatilla Mujer  Converse Lift  Hi Top  Beige  CONVERSE   \n",
       "3          Zapatillas Mujer  Reebok Legacy 83  Verde    REEBOK   \n",
       "4           Zapatilla Adidas Mujer Courtphase Blanco    ADIDAS   \n",
       "\n",
       "            precio                                             enlace  \\\n",
       "0   71.20€\\n80.00€  https://www.murallasport.com/producto/2500-can...   \n",
       "1   72.00€\\n80.00€  https://www.murallasport.com/producto/2499-zap...   \n",
       "2           85.00€  https://www.murallasport.com/producto/2319-zap...   \n",
       "3  68.00€\\n100.00€  https://www.murallasport.com/producto/1221-zap...   \n",
       "4           70.00€  https://www.murallasport.com/producto/1227-zap...   \n",
       "\n",
       "  precio_nuevo precio_viejo                                        descripción  \n",
       "0       71.20€       80.00€  UN NIVEL SUPERIOR. Una plataforma llamativa y ...  \n",
       "1       72.00€       80.00€  UN NIVEL SUPERIOR. Una plataforma llamativa y ...  \n",
       "2       85.00€       85.00€  Sube de nivel con estilo con las Chuck con pla...  \n",
       "3       68.00€      100.00€  Zapatilla Reebok Legacy 83 para mujer, de horm...  \n",
       "4       70.00€       70.00€  Zapatilla adidas Courtphase para mujer, de hor...  "
      ]
     },
     "execution_count": 176,
     "metadata": {},
     "output_type": "execute_result"
    }
   ],
   "source": [
    "data.head()"
   ]
  },
  {
   "cell_type": "code",
   "execution_count": 178,
   "id": "dangerous-glossary",
   "metadata": {},
   "outputs": [
    {
     "data": {
      "text/plain": [
       "'UN NIVEL SUPERIOR. Una plataforma llamativa y explosiva aporta nueva energía a estas Chucks clásicas. Diseñadas para ofrecer libertad de movimientos, la plataforma ligera y moldeada aporta altura pero no peso. Sube de nivel con estilo.'"
      ]
     },
     "execution_count": 178,
     "metadata": {},
     "output_type": "execute_result"
    }
   ],
   "source": [
    "data.loc[0][\"descripción\"]"
   ]
  },
  {
   "cell_type": "markdown",
   "id": "compressed-gnome",
   "metadata": {},
   "source": [
    "### Ejemplo Amazon"
   ]
  },
  {
   "cell_type": "code",
   "execution_count": 240,
   "id": "pharmaceutical-yorkshire",
   "metadata": {},
   "outputs": [],
   "source": [
    "korg = \"https://www.amazon.es/s?k=nord+electro&__mk_es_ES=%C3%85M%C3%85%C5%BD%C3%95%C3%91&ref=nb_sb_noss_2s\""
   ]
  },
  {
   "cell_type": "code",
   "execution_count": 245,
   "id": "furnished-bracelet",
   "metadata": {},
   "outputs": [],
   "source": [
    "res_korg = requests.get(korg)\n",
    "soup_korg = BeautifulSoup(res_korg.content, \"html.parser\")"
   ]
  },
  {
   "cell_type": "code",
   "execution_count": 246,
   "id": "electoral-saudi",
   "metadata": {},
   "outputs": [
    {
     "data": {
      "text/plain": [
       "<!DOCTYPE html>\n",
       "\n",
       "<!--[if lt IE 7]> <html lang=\"es\" class=\"a-no-js a-lt-ie9 a-lt-ie8 a-lt-ie7\"> <![endif]-->\n",
       "<!--[if IE 7]>    <html lang=\"es\" class=\"a-no-js a-lt-ie9 a-lt-ie8\"> <![endif]-->\n",
       "<!--[if IE 8]>    <html lang=\"es\" class=\"a-no-js a-lt-ie9\"> <![endif]-->\n",
       "<!--[if gt IE 8]><!-->\n",
       "<html class=\"a-no-js\" lang=\"es\"><!--<![endif]--><head>\n",
       "<meta content=\"text/html; charset=utf-8\" http-equiv=\"content-type\"/>\n",
       "<meta charset=\"utf-8\"/>\n",
       "<meta content=\"IE=edge,chrome=1\" http-equiv=\"X-UA-Compatible\"/>\n",
       "<title dir=\"ltr\">Amazon.es</title>\n",
       "<meta content=\"width=device-width\" name=\"viewport\"/>\n",
       "<link href=\"https://images-na.ssl-images-amazon.com/images/G/01/AUIClients/AmazonUI-3c913031596ca78a3768f4e934b1cc02ce238101.secure.min._V1_.css\" rel=\"stylesheet\"/>\n",
       "<script>\n",
       "\n",
       "if (true === true) {\n",
       "    var ue_t0 = (+ new Date()),\n",
       "        ue_csm = window,\n",
       "        ue = { t0: ue_t0, d: function() { return (+new Date() - ue_t0); } },\n",
       "        ue_furl = \"fls-eu.amazon.es\",\n",
       "        ue_mid = \"A1RKKUPIHCS9HS\",\n",
       "        ue_sid = (document.cookie.match(/session-id=([0-9-]+)/) || [])[1],\n",
       "        ue_sn = \"opfcaptcha.amazon.es\",\n",
       "        ue_id = 'G316MYEC1JM2T6F5HCFV';\n",
       "}\n",
       "</script>\n",
       "</head>\n",
       "<body>\n",
       "<!--\n",
       "        To discuss automated access to Amazon data please contact api-services-support@amazon.com.\n",
       "        For information about migrating to our APIs refer to our Marketplace APIs at https://developer.amazonservices.es/ref=rm_c_sv, or our Product Advertising API at https://afiliados.amazon.es/gp/advertising/api/detail/main.html/ref=rm_c_ac for advertising use cases.\n",
       "-->\n",
       "<!--\n",
       "Correios.DoNotSend\n",
       "-->\n",
       "<div class=\"a-container a-padding-double-large\" style=\"min-width:350px;padding:44px 0 !important\">\n",
       "<div class=\"a-row a-spacing-double-large\" style=\"width: 350px; margin: 0 auto\">\n",
       "<div class=\"a-row a-spacing-medium a-text-center\"><i class=\"a-icon a-logo\"></i></div>\n",
       "<div class=\"a-box a-alert a-alert-info a-spacing-base\">\n",
       "<div class=\"a-box-inner\">\n",
       "<i class=\"a-icon a-icon-alert\"></i>\n",
       "<h4>Introduce los caracteres que se muestran a continuación</h4>\n",
       "<p class=\"a-last\">Lo sentimos, tenemos que asegurarnos de que eres una persona. Para obtener el mejor resultado, asegúrate de que tu navegador acepta cookies.</p>\n",
       "</div>\n",
       "</div>\n",
       "<div class=\"a-section\">\n",
       "<div class=\"a-box a-color-offset-background\">\n",
       "<div class=\"a-box-inner a-padding-extra-large\">\n",
       "<form action=\"/errors/validateCaptcha\" method=\"get\" name=\"\">\n",
       "<input name=\"amzn\" type=\"hidden\" value=\"UFLGTk4lapjF86omWUjfTA==\"/><input name=\"amzn-r\" type=\"hidden\" value=\"/s?k=nord+electro&amp;__mk_es_ES=%C3%85M%C3%85%C5%BD%C3%95%C3%91&amp;ref=nb_sb_noss_2s\"/>\n",
       "<div class=\"a-row a-spacing-large\">\n",
       "<div class=\"a-box\">\n",
       "<div class=\"a-box-inner\">\n",
       "<h4>Teclea los caracteres que aparecen en la imagen:</h4>\n",
       "<!-- For automated access to price change or offer listing change events,\n",
       "                                             please refer to the MWS Subscription API:\n",
       "                                             https://developer.amazonservices.es/gp/mws/api.html/276-5247872-0590350?ie=UTF8&section=subscriptions&group=subscriptions&version=latest\n",
       "                                        -->\n",
       "<div class=\"a-row a-text-center\">\n",
       "<img src=\"https://images-na.ssl-images-amazon.com/captcha/rhnrlggh/Captcha_zaddzrpmjm.jpg\"/>\n",
       "</div>\n",
       "<div class=\"a-row a-spacing-base\">\n",
       "<div class=\"a-row\">\n",
       "<div class=\"a-column a-span6\">\n",
       "</div>\n",
       "<div class=\"a-column a-span6 a-span-last a-text-right\">\n",
       "<a onclick=\"window.location.reload()\">Probar con una imagen distinta</a>\n",
       "</div>\n",
       "</div>\n",
       "<input autocapitalize=\"off\" autocomplete=\"off\" autocorrect=\"off\" class=\"a-span12\" id=\"captchacharacters\" name=\"field-keywords\" placeholder=\"Introduce los caracteres\" spellcheck=\"false\" type=\"text\"/>\n",
       "</div>\n",
       "</div>\n",
       "</div>\n",
       "</div>\n",
       "<div class=\"a-section a-spacing-extra-large\">\n",
       "<div class=\"a-row\">\n",
       "<span class=\"a-button a-button-primary a-span12\">\n",
       "<span class=\"a-button-inner\">\n",
       "<button class=\"a-button-text\" type=\"submit\">Seguir comprando</button>\n",
       "</span>\n",
       "</span>\n",
       "</div>\n",
       "</div>\n",
       "</form>\n",
       "</div>\n",
       "</div>\n",
       "</div>\n",
       "</div>\n",
       "<div class=\"a-divider a-divider-section\"><div class=\"a-divider-inner\"></div></div>\n",
       "<div class=\"a-text-center a-spacing-small a-size-mini\">\n",
       "<a href=\"https://www.amazon.es/gp/help/customer/display.html/ref=footer_cou?ie=UTF8&amp;nodeId=200545940\">Condiciones de Uso y Venta</a>\n",
       "<span class=\"a-letter-space\"></span>\n",
       "<span class=\"a-letter-space\"></span>\n",
       "<span class=\"a-letter-space\"></span>\n",
       "<span class=\"a-letter-space\"></span>\n",
       "<a href=\"https://www.amazon.es/gp/help/customer/display.html/ref=footer_privacy?ie=UTF8&amp;nodeId=200545460\">Aviso de privacidad</a>\n",
       "</div>\n",
       "<div class=\"a-text-center a-size-mini a-color-secondary\">\n",
       "          © 1996-2015, Amazon.com, Inc. o afiliados\n",
       "          <script>\n",
       "           if (true === true) {\n",
       "             document.write('<img src=\"https://fls-eu.amaz'+'on.es/'+'1/oc-csi/1/OP/requestId=G316MYEC1JM2T6F5HCFV&js=1\" />');\n",
       "           };\n",
       "          </script>\n",
       "<noscript>\n",
       "<img src=\"https://fls-eu.amazon.es/1/oc-csi/1/OP/requestId=G316MYEC1JM2T6F5HCFV&amp;js=0\">\n",
       "</img></noscript>\n",
       "</div>\n",
       "</div>\n",
       "<script>\n",
       "    if (true === true) {\n",
       "        var head = document.getElementsByTagName('head')[0],\n",
       "            prefix = \"https://images-eu.ssl-images-amazon.com/images/G/01/csminstrumentation/\",\n",
       "            elem = document.createElement(\"script\");\n",
       "        elem.src = prefix + \"csm-captcha-instrumentation.min.js\";\n",
       "        head.appendChild(elem);\n",
       "\n",
       "        elem = document.createElement(\"script\");\n",
       "        elem.src = prefix + \"rd-script-6d68177fa6061598e9509dc4b5bdd08d.js\";\n",
       "        head.appendChild(elem);\n",
       "    }\n",
       "    </script>\n",
       "</body></html>"
      ]
     },
     "execution_count": 246,
     "metadata": {},
     "output_type": "execute_result"
    }
   ],
   "source": [
    "soup_korg"
   ]
  },
  {
   "cell_type": "markdown",
   "id": "chubby-enterprise",
   "metadata": {},
   "source": [
    "### Qué cabrones ¿eh? \n",
    "(A veces tira) Si nos da un status code 503, entonces probad con esto 👇🏻"
   ]
  },
  {
   "cell_type": "code",
   "execution_count": 250,
   "id": "separated-productivity",
   "metadata": {},
   "outputs": [],
   "source": [
    "HEADERS = ({'User-Agent':\n",
    "           \"Mozilla/5.0 (X11; Linux x86_64)AppleWebKit/537.36 (KHTML, like Gecko)Chrome/44.0.2403.157 Safari/537.36\",\n",
    "            'Accept-Language': 'en-US, en;q=0.5'})\n",
    " \n",
    "webpage = requests.get(korg, headers=HEADERS)\n",
    "soup_2 = BeautifulSoup(webpage.content, \"lxml\")"
   ]
  },
  {
   "cell_type": "code",
   "execution_count": 253,
   "id": "nuclear-indonesia",
   "metadata": {},
   "outputs": [],
   "source": [
    "## De todos modos ya hemos visto en clase las trabitas que nos pone amazon para screapear de forma tradicional..."
   ]
  },
  {
   "cell_type": "markdown",
   "id": "pointed-massage",
   "metadata": {},
   "source": [
    "### ¿TODO ESTO PARA NADA?\n",
    "Exacto, veremos que esto es un simple sistema de seguridad anti scrapeo, veremos una librería con la que podremos hacerlo de otra manera....       \n",
    "![lafoto](../images/amazon.png)"
   ]
  },
  {
   "cell_type": "markdown",
   "id": "experimental-program",
   "metadata": {},
   "source": [
    "### Ejemplo wikipedia medallero"
   ]
  },
  {
   "cell_type": "code",
   "execution_count": 180,
   "id": "moral-routine",
   "metadata": {},
   "outputs": [],
   "source": [
    "url_medallero='https://es.wikipedia.org/wiki/Juegos_Ol%C3%ADmpicos_de_Barcelona_1992'\n",
    "html_medallero = requests.get(url_medallero)"
   ]
  },
  {
   "cell_type": "code",
   "execution_count": 181,
   "id": "secure-enlargement",
   "metadata": {},
   "outputs": [],
   "source": [
    "#soup\n",
    "soup_med = BeautifulSoup(html_medallero.content, \"html.parser\")"
   ]
  },
  {
   "cell_type": "code",
   "execution_count": 182,
   "id": "collectible-bulgarian",
   "metadata": {},
   "outputs": [],
   "source": [
    "#Tablas :)\n",
    "tablas = soup_med.findAll(\"table\")"
   ]
  },
  {
   "cell_type": "code",
   "execution_count": 185,
   "id": "pregnant-turkish",
   "metadata": {},
   "outputs": [],
   "source": [
    "#tablas[-1]"
   ]
  },
  {
   "cell_type": "code",
   "execution_count": 187,
   "id": "maritime-hypothesis",
   "metadata": {},
   "outputs": [
    {
     "data": {
      "text/plain": [
       "<a href=\"/wiki/Control_de_autoridades\" title=\"Control de autoridades\">Control de autoridades</a>"
      ]
     },
     "execution_count": 187,
     "metadata": {},
     "output_type": "execute_result"
    }
   ],
   "source": [
    "# Aquí hemos seleccionado la última tabla de la página de wikipedia\n",
    "elemento = tablas[-1].find_all(\"a\")[0]\n",
    "elemento"
   ]
  },
  {
   "cell_type": "markdown",
   "id": "aquatic-possession",
   "metadata": {},
   "source": [
    "Algunos métodos de soup cuando ya tengo un elemento seleccionado por su etiqueta, por ejemplo."
   ]
  },
  {
   "cell_type": "code",
   "execution_count": 200,
   "id": "coastal-invalid",
   "metadata": {},
   "outputs": [],
   "source": [
    "#dir(elemento)"
   ]
  },
  {
   "cell_type": "code",
   "execution_count": 188,
   "id": "accomplished-landscape",
   "metadata": {},
   "outputs": [
    {
     "data": {
      "text/plain": [
       "{'href': '/wiki/Control_de_autoridades', 'title': 'Control de autoridades'}"
      ]
     },
     "execution_count": 188,
     "metadata": {},
     "output_type": "execute_result"
    }
   ],
   "source": [
    "elemento.attrs"
   ]
  },
  {
   "cell_type": "code",
   "execution_count": 189,
   "id": "angry-calcium",
   "metadata": {},
   "outputs": [
    {
     "data": {
      "text/plain": [
       "'Control de autoridades'"
      ]
     },
     "execution_count": 189,
     "metadata": {},
     "output_type": "execute_result"
    }
   ],
   "source": [
    "elemento.text"
   ]
  },
  {
   "cell_type": "code",
   "execution_count": 190,
   "id": "armed-contractor",
   "metadata": {},
   "outputs": [
    {
     "data": {
      "text/plain": [
       "['Control de autoridades']"
      ]
     },
     "execution_count": 190,
     "metadata": {},
     "output_type": "execute_result"
    }
   ],
   "source": [
    "elemento.contents"
   ]
  },
  {
   "cell_type": "code",
   "execution_count": 196,
   "id": "international-tongue",
   "metadata": {},
   "outputs": [],
   "source": [
    "guardo_divs = soup_med.findAll(\"div\")"
   ]
  },
  {
   "cell_type": "code",
   "execution_count": 198,
   "id": "coordinated-outdoors",
   "metadata": {},
   "outputs": [
    {
     "data": {
      "text/plain": [
       "{'id': 'mw-page-base', 'class': ['noprint']}"
      ]
     },
     "execution_count": 198,
     "metadata": {},
     "output_type": "execute_result"
    }
   ],
   "source": [
    "guardo_divs[0].attrs"
   ]
  },
  {
   "cell_type": "markdown",
   "id": "progressive-birth",
   "metadata": {},
   "source": [
    "![elmedallero](../images/captura_medallero.png)"
   ]
  },
  {
   "cell_type": "code",
   "execution_count": 201,
   "id": "convenient-valuation",
   "metadata": {},
   "outputs": [],
   "source": [
    "# Busco todo lo que tenga la etiqueta \"a\" y como findall me devuelve una lista, me quedo con el primer elemento\n",
    "medallero = soup_med.findAll(\"table\")[-4]"
   ]
  },
  {
   "cell_type": "code",
   "execution_count": 208,
   "id": "visible-retention",
   "metadata": {},
   "outputs": [
    {
     "data": {
      "text/plain": [
       "<td>1</td>"
      ]
     },
     "execution_count": 208,
     "metadata": {},
     "output_type": "execute_result"
    }
   ],
   "source": [
    "medallero.findAll(\"tr\")[1].findAll(\"td\")[0]"
   ]
  },
  {
   "cell_type": "code",
   "execution_count": 209,
   "id": "expected-illinois",
   "metadata": {},
   "outputs": [
    {
     "data": {
      "text/plain": [
       "<td align=\"left\"><img alt=\"Equipo Unificado\" class=\"thumbborder\" data-file-height=\"600\" data-file-width=\"900\" decoding=\"async\" height=\"15\" src=\"//upload.wikimedia.org/wikipedia/commons/thumb/a/a7/Olympic_flag.svg/22px-Olympic_flag.svg.png\" srcset=\"//upload.wikimedia.org/wikipedia/commons/thumb/a/a7/Olympic_flag.svg/33px-Olympic_flag.svg.png 1.5x, //upload.wikimedia.org/wikipedia/commons/thumb/a/a7/Olympic_flag.svg/44px-Olympic_flag.svg.png 2x\" width=\"22\"/> <a href=\"/wiki/Equipo_Unificado_en_los_Juegos_Ol%C3%ADmpicos_de_Barcelona_1992\" title=\"Equipo Unificado en los Juegos Olímpicos de Barcelona 1992\">Equipo Unificado </a> <small>(EUN)</small></td>"
      ]
     },
     "execution_count": 209,
     "metadata": {},
     "output_type": "execute_result"
    }
   ],
   "source": [
    "medallero.findAll(\"tr\")[1].findAll(\"td\")[1]"
   ]
  },
  {
   "cell_type": "code",
   "execution_count": null,
   "id": "moved-quebec",
   "metadata": {},
   "outputs": [],
   "source": [
    "# Tenemos que sacar el texto de los países y parece un poquito más peliagudo pero ya veréis que no"
   ]
  },
  {
   "cell_type": "code",
   "execution_count": 213,
   "id": "rural-receptor",
   "metadata": {},
   "outputs": [
    {
     "data": {
      "text/plain": [
       "<a href=\"/wiki/Equipo_Unificado_en_los_Juegos_Ol%C3%ADmpicos_de_Barcelona_1992\" title=\"Equipo Unificado en los Juegos Olímpicos de Barcelona 1992\">Equipo Unificado </a>"
      ]
     },
     "execution_count": 213,
     "metadata": {},
     "output_type": "execute_result"
    }
   ],
   "source": [
    "medallero.findAll(\"tr\")[1].findAll(\"td\")[1].find(\"a\") # FIND ME DA EL PRIMER ELEMENTO CON ETIQUETA \"a\""
   ]
  },
  {
   "cell_type": "markdown",
   "id": "mysterious-paris",
   "metadata": {},
   "source": [
    "## whatafack is a td        \n",
    "The HTML <td> tag defines a standard cell in an HTML table. It will contain data for the table, and not table headings. This tag is also commonly referred to as the <td> element."
   ]
  },
  {
   "cell_type": "code",
   "execution_count": 216,
   "id": "designed-stand",
   "metadata": {},
   "outputs": [
    {
     "data": {
      "text/plain": [
       "'Equipo Unificado'"
      ]
     },
     "execution_count": 216,
     "metadata": {},
     "output_type": "execute_result"
    }
   ],
   "source": [
    "medallero.findAll(\"tr\")[1].findAll(\"td\")[1].find(\"a\").getText().strip()"
   ]
  },
  {
   "cell_type": "code",
   "execution_count": 217,
   "id": "hybrid-medicine",
   "metadata": {},
   "outputs": [
    {
     "data": {
      "text/plain": [
       "'Equipo Unificado en los Juegos Olímpicos de Barcelona 1992'"
      ]
     },
     "execution_count": 217,
     "metadata": {},
     "output_type": "execute_result"
    }
   ],
   "source": [
    "medallero.findAll(\"tr\")[1].findAll(\"td\")[1].find(\"a\").get(\"title\") # EXTRAYENDO TEXTO DEL ATRIBUTO TITLE DEL ENLACE"
   ]
  },
  {
   "cell_type": "code",
   "execution_count": 211,
   "id": "recent-checkout",
   "metadata": {},
   "outputs": [
    {
     "data": {
      "text/plain": [
       "'45'"
      ]
     },
     "execution_count": 211,
     "metadata": {},
     "output_type": "execute_result"
    }
   ],
   "source": [
    "medallero.findAll(\"tr\")[1].findAll(\"td\")[2].getText()"
   ]
  },
  {
   "cell_type": "code",
   "execution_count": 224,
   "id": "compatible-program",
   "metadata": {},
   "outputs": [],
   "source": [
    "med_paises = []\n",
    "for f in medallero.find_all(\"tr\"): #LISTA CON LAS FILAS DE LA TABLA\n",
    "    fila = [elemento for elemento in f.find_all(\"td\")] # ELEMENTOS DENTRO DE CADA FILA\n",
    "    if len(fila) > 1:\n",
    "        diccionario_2 = {\"nombre\": fila[1].find(\"a\").getText().strip(),\n",
    "                      \"oro\": int(fila[2].text),\n",
    "                      \"plata\": int(fila[3].text),\n",
    "                      \"bronce\":int(fila[4].text)}\n",
    "        med_paises.append(diccionario_2)"
   ]
  },
  {
   "cell_type": "code",
   "execution_count": 225,
   "id": "intelligent-breeding",
   "metadata": {},
   "outputs": [],
   "source": [
    "data_total = pd.DataFrame(med_paises)"
   ]
  },
  {
   "cell_type": "code",
   "execution_count": 226,
   "id": "legal-tactics",
   "metadata": {},
   "outputs": [
    {
     "data": {
      "text/html": [
       "<div>\n",
       "<style scoped>\n",
       "    .dataframe tbody tr th:only-of-type {\n",
       "        vertical-align: middle;\n",
       "    }\n",
       "\n",
       "    .dataframe tbody tr th {\n",
       "        vertical-align: top;\n",
       "    }\n",
       "\n",
       "    .dataframe thead th {\n",
       "        text-align: right;\n",
       "    }\n",
       "</style>\n",
       "<table border=\"1\" class=\"dataframe\">\n",
       "  <thead>\n",
       "    <tr style=\"text-align: right;\">\n",
       "      <th></th>\n",
       "      <th>nombre</th>\n",
       "      <th>oro</th>\n",
       "      <th>plata</th>\n",
       "      <th>bronce</th>\n",
       "    </tr>\n",
       "  </thead>\n",
       "  <tbody>\n",
       "    <tr>\n",
       "      <th>0</th>\n",
       "      <td>Equipo Unificado</td>\n",
       "      <td>45</td>\n",
       "      <td>38</td>\n",
       "      <td>29</td>\n",
       "    </tr>\n",
       "    <tr>\n",
       "      <th>1</th>\n",
       "      <td>Estados Unidos</td>\n",
       "      <td>37</td>\n",
       "      <td>34</td>\n",
       "      <td>37</td>\n",
       "    </tr>\n",
       "    <tr>\n",
       "      <th>2</th>\n",
       "      <td>Alemania</td>\n",
       "      <td>33</td>\n",
       "      <td>21</td>\n",
       "      <td>28</td>\n",
       "    </tr>\n",
       "    <tr>\n",
       "      <th>3</th>\n",
       "      <td>China</td>\n",
       "      <td>16</td>\n",
       "      <td>22</td>\n",
       "      <td>16</td>\n",
       "    </tr>\n",
       "    <tr>\n",
       "      <th>4</th>\n",
       "      <td>Cuba</td>\n",
       "      <td>14</td>\n",
       "      <td>6</td>\n",
       "      <td>11</td>\n",
       "    </tr>\n",
       "  </tbody>\n",
       "</table>\n",
       "</div>"
      ],
      "text/plain": [
       "             nombre  oro  plata  bronce\n",
       "0  Equipo Unificado   45     38      29\n",
       "1    Estados Unidos   37     34      37\n",
       "2          Alemania   33     21      28\n",
       "3             China   16     22      16\n",
       "4              Cuba   14      6      11"
      ]
     },
     "execution_count": 226,
     "metadata": {},
     "output_type": "execute_result"
    }
   ],
   "source": [
    "data_total.head()"
   ]
  },
  {
   "cell_type": "markdown",
   "id": "romantic-edition",
   "metadata": {},
   "source": [
    "### Ejemplo Wikipedia Enlaces"
   ]
  },
  {
   "cell_type": "code",
   "execution_count": 255,
   "id": "fabulous-indian",
   "metadata": {},
   "outputs": [],
   "source": [
    "url_rufus = \"https://es.wikipedia.org/wiki/Rufus_T._Firefly\""
   ]
  },
  {
   "cell_type": "markdown",
   "id": "missing-jimmy",
   "metadata": {},
   "source": [
    "Documentación de Beautiful Soup     \n",
    "KeyError: [attr] - Caused by accessing tag['attr'] when the tag in question doesn’t define the attr attribute. The most common errors are KeyError: 'href' and KeyError: 'class'. Use tag.get('attr') if you’re not sure attr is defined, just as you would with a Python dictionary."
   ]
  },
  {
   "cell_type": "code",
   "execution_count": 256,
   "id": "purple-management",
   "metadata": {},
   "outputs": [],
   "source": [
    "res_rufus = requests.get(url_rufus)"
   ]
  },
  {
   "cell_type": "code",
   "execution_count": 257,
   "id": "short-cradle",
   "metadata": {},
   "outputs": [],
   "source": [
    "# Acordaos de poner el content pls\n",
    "soup = BeautifulSoup(res_rufus.content, \"html.parser\")"
   ]
  },
  {
   "cell_type": "code",
   "execution_count": 258,
   "id": "sudden-trademark",
   "metadata": {},
   "outputs": [],
   "source": [
    "tags = soup(\"a\")\n",
    "# BeautifulSoup me permite extraer los atributos si conozco el nombre con .get\n",
    "enlaces = [tag.get(\"href\") for tag in tags]"
   ]
  },
  {
   "cell_type": "code",
   "execution_count": 259,
   "id": "pleasant-borough",
   "metadata": {},
   "outputs": [
    {
     "ename": "KeyError",
     "evalue": "'href'",
     "output_type": "error",
     "traceback": [
      "\u001b[0;31m---------------------------------------------------------------------------\u001b[0m",
      "\u001b[0;31mKeyError\u001b[0m                                  Traceback (most recent call last)",
      "\u001b[0;32m<ipython-input-259-98edf81e8b94>\u001b[0m in \u001b[0;36m<module>\u001b[0;34m\u001b[0m\n\u001b[1;32m      1\u001b[0m \u001b[0;31m# Si no todos los elementos tienen href este método no funciona\u001b[0m\u001b[0;34m\u001b[0m\u001b[0;34m\u001b[0m\u001b[0;34m\u001b[0m\u001b[0m\n\u001b[0;32m----> 2\u001b[0;31m \u001b[0menlaces2\u001b[0m \u001b[0;34m=\u001b[0m \u001b[0;34m[\u001b[0m\u001b[0mtag\u001b[0m\u001b[0;34m.\u001b[0m\u001b[0mattrs\u001b[0m\u001b[0;34m[\u001b[0m\u001b[0;34m\"href\"\u001b[0m\u001b[0;34m]\u001b[0m \u001b[0;32mfor\u001b[0m \u001b[0mtag\u001b[0m \u001b[0;32min\u001b[0m \u001b[0mtags\u001b[0m\u001b[0;34m]\u001b[0m\u001b[0;34m\u001b[0m\u001b[0;34m\u001b[0m\u001b[0m\n\u001b[0m",
      "\u001b[0;32m<ipython-input-259-98edf81e8b94>\u001b[0m in \u001b[0;36m<listcomp>\u001b[0;34m(.0)\u001b[0m\n\u001b[1;32m      1\u001b[0m \u001b[0;31m# Si no todos los elementos tienen href este método no funciona\u001b[0m\u001b[0;34m\u001b[0m\u001b[0;34m\u001b[0m\u001b[0;34m\u001b[0m\u001b[0m\n\u001b[0;32m----> 2\u001b[0;31m \u001b[0menlaces2\u001b[0m \u001b[0;34m=\u001b[0m \u001b[0;34m[\u001b[0m\u001b[0mtag\u001b[0m\u001b[0;34m.\u001b[0m\u001b[0mattrs\u001b[0m\u001b[0;34m[\u001b[0m\u001b[0;34m\"href\"\u001b[0m\u001b[0;34m]\u001b[0m \u001b[0;32mfor\u001b[0m \u001b[0mtag\u001b[0m \u001b[0;32min\u001b[0m \u001b[0mtags\u001b[0m\u001b[0;34m]\u001b[0m\u001b[0;34m\u001b[0m\u001b[0;34m\u001b[0m\u001b[0m\n\u001b[0m",
      "\u001b[0;31mKeyError\u001b[0m: 'href'"
     ]
    }
   ],
   "source": [
    "# Si no todos los elementos tienen href este método no funciona\n",
    "enlaces2 = [tag.attrs[\"href\"] for tag in tags]"
   ]
  },
  {
   "cell_type": "code",
   "execution_count": 260,
   "id": "young-boston",
   "metadata": {},
   "outputs": [],
   "source": [
    "enlaces_final = [enlace for enlace in enlaces[1:] if \"http\" in enlace]"
   ]
  },
  {
   "cell_type": "code",
   "execution_count": 261,
   "id": "ultimate-jenny",
   "metadata": {},
   "outputs": [
    {
     "data": {
      "text/plain": [
       "['http://rufustf.com',\n",
       " 'https://www.wikidata.org/wiki/Q12201456',\n",
       " 'https://web.archive.org/web/20150406144829/http://www.elmundodetulsa.com/2009/03/rufus-t-firefly-my-synthetic-heart-2008.html',\n",
       " 'http://www.elmundodetulsa.com/2009/03/rufus-t-firefly-my-synthetic-heart-2008.html',\n",
       " 'http://www.latribunadeciudadreal.es/noticia.cfm/Vivir%20/20090617/ganador/iv/edicion/explosion/local/volvera/protagonizar/videoclip/EA8B24E7-1A64-968D-5921264AC0C50118',\n",
       " 'http://mondosonoro.com/Critica-Discos/Rufus-T-Firefly-en-ascenso/RUFUS-T-FIREFLY/7954.aspx',\n",
       " 'https://web.archive.org/web/20130616100127/http://www.rivasciudad.es/portal/contenedor_ficha.jsp?seccion=s_fdes_d4_v3.jsp&codbusqueda=527&language=es&codResi=1&codMenuPN=38&codMenuSN=42&codMenu=616&layout=contenedor_ficha.jsp&area=24',\n",
       " 'http://www.rivasciudad.es/portal/contenedor_ficha.jsp?seccion=s_fdes_d4_v3.jsp&codbusqueda=527&language=es&codResi=1&codMenuPN=38&codMenuSN=42&codMenu=616&layout=contenedor_ficha.jsp&area=24',\n",
       " 'http://poprocklaredo.webcindario.com/final2011.html',\n",
       " 'https://web.archive.org/web/20130430135359/http://origamirecords.com/rufus-t-firefly']"
      ]
     },
     "execution_count": 261,
     "metadata": {},
     "output_type": "execute_result"
    }
   ],
   "source": [
    "enlaces_final[0:10]"
   ]
  },
  {
   "cell_type": "markdown",
   "id": "spoken-fleet",
   "metadata": {},
   "source": [
    "## Resumen\n",
    "Es tu turno ¿qué hemos aprendido hoy?\n",
    "- Mazo de cosas\n",
    "- Me debéis este resumen"
   ]
  }
 ],
 "metadata": {
  "kernelspec": {
   "display_name": "ironhack",
   "language": "python",
   "name": "ironhack"
  },
  "language_info": {
   "codemirror_mode": {
    "name": "ipython",
    "version": 3
   },
   "file_extension": ".py",
   "mimetype": "text/x-python",
   "name": "python",
   "nbconvert_exporter": "python",
   "pygments_lexer": "ipython3",
   "version": "3.8.5"
  },
  "toc": {
   "base_numbering": 1,
   "nav_menu": {},
   "number_sections": true,
   "sideBar": true,
   "skip_h1_title": true,
   "title_cell": "Table of Contents",
   "title_sidebar": "Contents",
   "toc_cell": true,
   "toc_position": {},
   "toc_section_display": true,
   "toc_window_display": false
  }
 },
 "nbformat": 4,
 "nbformat_minor": 5
}
