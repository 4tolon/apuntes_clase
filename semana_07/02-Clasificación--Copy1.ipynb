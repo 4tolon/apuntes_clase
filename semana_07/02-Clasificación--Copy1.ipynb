{
 "cells": [
  {
   "cell_type": "markdown",
   "id": "comparable-lancaster",
   "metadata": {},
   "source": [
    "# Machine Learning - Supervised learning - Clasificación"
   ]
  },
  {
   "cell_type": "markdown",
   "id": "9beb3b66",
   "metadata": {},
   "source": [
    "![titanic](../images/titanic.jpeg)"
   ]
  },
  {
   "cell_type": "markdown",
   "id": "satellite-baseline",
   "metadata": {
    "toc": true
   },
   "source": [
    "<h1>Table of Contents<span class=\"tocSkip\"></span></h1>\n",
    "<div class=\"toc\"><ul class=\"toc-item\"><li><span><a href=\"#Exploración-de-los-datos\" data-toc-modified-id=\"Exploración-de-los-datos-1\"><span class=\"toc-item-num\">1&nbsp;&nbsp;</span>Exploración de los datos</a></span></li><li><span><a href=\"#Regresión-logística\" data-toc-modified-id=\"Regresión-logística-2\"><span class=\"toc-item-num\">2&nbsp;&nbsp;</span>Regresión logística</a></span></li><li><span><a href=\"#Manos-a-la-obra\" data-toc-modified-id=\"Manos-a-la-obra-3\"><span class=\"toc-item-num\">3&nbsp;&nbsp;</span>Manos a la obra</a></span><ul class=\"toc-item\"><li><span><a href=\"#Vamos-a-entrenar-un-modelo\" data-toc-modified-id=\"Vamos-a-entrenar-un-modelo-3.1\"><span class=\"toc-item-num\">3.1&nbsp;&nbsp;</span>Vamos a entrenar un modelo</a></span></li><li><span><a href=\"#Vamos-a-crear-una-columna-de-predicción-para-todo-el-dataframe\" data-toc-modified-id=\"Vamos-a-crear-una-columna-de-predicción-para-todo-el-dataframe-3.2\"><span class=\"toc-item-num\">3.2&nbsp;&nbsp;</span>Vamos a crear una columna de predicción para todo el dataframe</a></span></li><li><span><a href=\"#Matriz-de-confusión-con-nuestros-datos\" data-toc-modified-id=\"Matriz-de-confusión-con-nuestros-datos-3.3\"><span class=\"toc-item-num\">3.3&nbsp;&nbsp;</span>Matriz de confusión con nuestros datos</a></span></li></ul></li><li><span><a href=\"#Hacemos-lo-mismo-con-muchos-predictores\" data-toc-modified-id=\"Hacemos-lo-mismo-con-muchos-predictores-4\"><span class=\"toc-item-num\">4&nbsp;&nbsp;</span>Hacemos lo mismo con muchos predictores</a></span><ul class=\"toc-item\"><li><span><a href=\"#Repaso-de-Train-Test-Split-/-DIVISIÓN-EN-TRAIN-TEST\" data-toc-modified-id=\"Repaso-de-Train-Test-Split-/-DIVISIÓN-EN-TRAIN-TEST-4.1\"><span class=\"toc-item-num\">4.1&nbsp;&nbsp;</span>Repaso de Train Test Split / DIVISIÓN EN TRAIN TEST</a></span></li><li><span><a href=\"#Veamos-lo-que-tenemos\" data-toc-modified-id=\"Veamos-lo-que-tenemos-4.2\"><span class=\"toc-item-num\">4.2&nbsp;&nbsp;</span>Veamos lo que tenemos</a></span><ul class=\"toc-item\"><li><span><a href=\"#Parte-de-train\" data-toc-modified-id=\"Parte-de-train-4.2.1\"><span class=\"toc-item-num\">4.2.1&nbsp;&nbsp;</span>Parte de train</a></span></li><li><span><a href=\"#Parte-de-test\" data-toc-modified-id=\"Parte-de-test-4.2.2\"><span class=\"toc-item-num\">4.2.2&nbsp;&nbsp;</span>Parte de test</a></span></li></ul></li></ul></li><li><span><a href=\"#Predict-Proba\" data-toc-modified-id=\"Predict-Proba-5\"><span class=\"toc-item-num\">5&nbsp;&nbsp;</span>Predict Proba</a></span></li><li><span><a href=\"#Métricas!\" data-toc-modified-id=\"Métricas!-6\"><span class=\"toc-item-num\">6&nbsp;&nbsp;</span>Métricas!</a></span><ul class=\"toc-item\"><li><span><a href=\"#Matriz-de-confusión\" data-toc-modified-id=\"Matriz-de-confusión-6.1\"><span class=\"toc-item-num\">6.1&nbsp;&nbsp;</span>Matriz de confusión</a></span></li><li><span><a href=\"#Accuracy\" data-toc-modified-id=\"Accuracy-6.2\"><span class=\"toc-item-num\">6.2&nbsp;&nbsp;</span>Accuracy</a></span></li><li><span><a href=\"#Precision-(Precisión)\" data-toc-modified-id=\"Precision-(Precisión)-6.3\"><span class=\"toc-item-num\">6.3&nbsp;&nbsp;</span>Precision (Precisión)</a></span></li><li><span><a href=\"#Recall-(Exhaustividad)\" data-toc-modified-id=\"Recall-(Exhaustividad)-6.4\"><span class=\"toc-item-num\">6.4&nbsp;&nbsp;</span>Recall (Exhaustividad)</a></span></li><li><span><a href=\"#Diferenciando-precision-y-recall\" data-toc-modified-id=\"Diferenciando-precision-y-recall-6.5\"><span class=\"toc-item-num\">6.5&nbsp;&nbsp;</span>Diferenciando precision y recall</a></span></li><li><span><a href=\"#F1-Score\" data-toc-modified-id=\"F1-Score-6.6\"><span class=\"toc-item-num\">6.6&nbsp;&nbsp;</span>F1 Score</a></span></li></ul></li><li><span><a href=\"#Otros-modelos-de-clasificación\" data-toc-modified-id=\"Otros-modelos-de-clasificación-7\"><span class=\"toc-item-num\">7&nbsp;&nbsp;</span>Otros modelos de clasificación</a></span></li><li><span><a href=\"#Hacemos-predicciones-y-medimos\" data-toc-modified-id=\"Hacemos-predicciones-y-medimos-8\"><span class=\"toc-item-num\">8&nbsp;&nbsp;</span>Hacemos predicciones y medimos</a></span></li><li><span><a href=\"#Resumen\" data-toc-modified-id=\"Resumen-9\"><span class=\"toc-item-num\">9&nbsp;&nbsp;</span>Resumen</a></span></li><li><span><a href=\"#Pipeline\" data-toc-modified-id=\"Pipeline-10\"><span class=\"toc-item-num\">10&nbsp;&nbsp;</span>Pipeline</a></span></li></ul></div>"
   ]
  },
  {
   "cell_type": "code",
   "execution_count": 2,
   "id": "computational-efficiency",
   "metadata": {},
   "outputs": [],
   "source": [
    "import warnings\n",
    "warnings.filterwarnings(\"ignore\")\n",
    "import pandas as pd\n",
    "import seaborn as sns\n",
    "# El mantra de las visualizaciones\n",
    "from matplotlib import pyplot as plt\n",
    "%matplotlib inline\n",
    "%config Inlinebackend.figure_format = 'retina'\n",
    "\n",
    "import seaborn as sns\n",
    "sns.set_context('poster')\n",
    "sns.set(rc={'figure.figsize': (16., 9.)})\n",
    "sns.set_style('whitegrid')"
   ]
  },
  {
   "cell_type": "markdown",
   "id": "above-schedule",
   "metadata": {},
   "source": [
    " * Los modelos de **regresión** se utilizan cuando la variable objetivo es **cuantitativa**: \n",
    "  - salarios\n",
    "  - emisiones de gases\n",
    "  - edad de la persona en una foto\n",
    "  - ...\n",
    " * Los modelos de **clasificación** se utilizan cuando la variable objetivo es **cualitativa**: \n",
    "  - sobrevivir (o no) al Titanic\n",
    "  - devolver (o no) un préstamo\n",
    "  - identificar un perro (o no) en una foto\n",
    "  - decidir cuál de 3 especies de plantas es ésta\n",
    "  - ..."
   ]
  },
  {
   "cell_type": "markdown",
   "id": "julian-proposition",
   "metadata": {},
   "source": [
    "## Exploración de los datos"
   ]
  },
  {
   "cell_type": "code",
   "execution_count": 3,
   "id": "boolean-biotechnology",
   "metadata": {},
   "outputs": [],
   "source": [
    "df = pd.read_csv(\"../datasets/breast_cancer.csv\")"
   ]
  },
  {
   "cell_type": "code",
   "execution_count": 4,
   "id": "korean-indie",
   "metadata": {},
   "outputs": [
    {
     "data": {
      "text/html": [
       "<div>\n",
       "<style scoped>\n",
       "    .dataframe tbody tr th:only-of-type {\n",
       "        vertical-align: middle;\n",
       "    }\n",
       "\n",
       "    .dataframe tbody tr th {\n",
       "        vertical-align: top;\n",
       "    }\n",
       "\n",
       "    .dataframe thead th {\n",
       "        text-align: right;\n",
       "    }\n",
       "</style>\n",
       "<table border=\"1\" class=\"dataframe\">\n",
       "  <thead>\n",
       "    <tr style=\"text-align: right;\">\n",
       "      <th></th>\n",
       "      <th>mean_radius</th>\n",
       "      <th>mean_texture</th>\n",
       "      <th>mean_perimeter</th>\n",
       "      <th>mean_area</th>\n",
       "      <th>mean_smoothness</th>\n",
       "      <th>mean_compactness</th>\n",
       "      <th>mean_concavity</th>\n",
       "      <th>mean_concave_points</th>\n",
       "      <th>mean_symmetry</th>\n",
       "      <th>mean_fractal_dimension</th>\n",
       "      <th>...</th>\n",
       "      <th>worst_texture</th>\n",
       "      <th>worst_perimeter</th>\n",
       "      <th>worst_area</th>\n",
       "      <th>worst_smoothness</th>\n",
       "      <th>worst_compactness</th>\n",
       "      <th>worst_concavity</th>\n",
       "      <th>worst_concave_points</th>\n",
       "      <th>worst_symmetry</th>\n",
       "      <th>worst_fractal_dimension</th>\n",
       "      <th>is_cancer</th>\n",
       "    </tr>\n",
       "  </thead>\n",
       "  <tbody>\n",
       "    <tr>\n",
       "      <th>0</th>\n",
       "      <td>17.99</td>\n",
       "      <td>10.38</td>\n",
       "      <td>122.80</td>\n",
       "      <td>1001.0</td>\n",
       "      <td>0.11840</td>\n",
       "      <td>0.27760</td>\n",
       "      <td>0.3001</td>\n",
       "      <td>0.14710</td>\n",
       "      <td>0.2419</td>\n",
       "      <td>0.07871</td>\n",
       "      <td>...</td>\n",
       "      <td>17.33</td>\n",
       "      <td>184.60</td>\n",
       "      <td>2019.0</td>\n",
       "      <td>0.1622</td>\n",
       "      <td>0.6656</td>\n",
       "      <td>0.7119</td>\n",
       "      <td>0.2654</td>\n",
       "      <td>0.4601</td>\n",
       "      <td>0.11890</td>\n",
       "      <td>1</td>\n",
       "    </tr>\n",
       "    <tr>\n",
       "      <th>1</th>\n",
       "      <td>20.57</td>\n",
       "      <td>17.77</td>\n",
       "      <td>132.90</td>\n",
       "      <td>1326.0</td>\n",
       "      <td>0.08474</td>\n",
       "      <td>0.07864</td>\n",
       "      <td>0.0869</td>\n",
       "      <td>0.07017</td>\n",
       "      <td>0.1812</td>\n",
       "      <td>0.05667</td>\n",
       "      <td>...</td>\n",
       "      <td>23.41</td>\n",
       "      <td>158.80</td>\n",
       "      <td>1956.0</td>\n",
       "      <td>0.1238</td>\n",
       "      <td>0.1866</td>\n",
       "      <td>0.2416</td>\n",
       "      <td>0.1860</td>\n",
       "      <td>0.2750</td>\n",
       "      <td>0.08902</td>\n",
       "      <td>1</td>\n",
       "    </tr>\n",
       "    <tr>\n",
       "      <th>2</th>\n",
       "      <td>19.69</td>\n",
       "      <td>21.25</td>\n",
       "      <td>130.00</td>\n",
       "      <td>1203.0</td>\n",
       "      <td>0.10960</td>\n",
       "      <td>0.15990</td>\n",
       "      <td>0.1974</td>\n",
       "      <td>0.12790</td>\n",
       "      <td>0.2069</td>\n",
       "      <td>0.05999</td>\n",
       "      <td>...</td>\n",
       "      <td>25.53</td>\n",
       "      <td>152.50</td>\n",
       "      <td>1709.0</td>\n",
       "      <td>0.1444</td>\n",
       "      <td>0.4245</td>\n",
       "      <td>0.4504</td>\n",
       "      <td>0.2430</td>\n",
       "      <td>0.3613</td>\n",
       "      <td>0.08758</td>\n",
       "      <td>1</td>\n",
       "    </tr>\n",
       "    <tr>\n",
       "      <th>3</th>\n",
       "      <td>11.42</td>\n",
       "      <td>20.38</td>\n",
       "      <td>77.58</td>\n",
       "      <td>386.1</td>\n",
       "      <td>0.14250</td>\n",
       "      <td>0.28390</td>\n",
       "      <td>0.2414</td>\n",
       "      <td>0.10520</td>\n",
       "      <td>0.2597</td>\n",
       "      <td>0.09744</td>\n",
       "      <td>...</td>\n",
       "      <td>26.50</td>\n",
       "      <td>98.87</td>\n",
       "      <td>567.7</td>\n",
       "      <td>0.2098</td>\n",
       "      <td>0.8663</td>\n",
       "      <td>0.6869</td>\n",
       "      <td>0.2575</td>\n",
       "      <td>0.6638</td>\n",
       "      <td>0.17300</td>\n",
       "      <td>1</td>\n",
       "    </tr>\n",
       "    <tr>\n",
       "      <th>4</th>\n",
       "      <td>20.29</td>\n",
       "      <td>14.34</td>\n",
       "      <td>135.10</td>\n",
       "      <td>1297.0</td>\n",
       "      <td>0.10030</td>\n",
       "      <td>0.13280</td>\n",
       "      <td>0.1980</td>\n",
       "      <td>0.10430</td>\n",
       "      <td>0.1809</td>\n",
       "      <td>0.05883</td>\n",
       "      <td>...</td>\n",
       "      <td>16.67</td>\n",
       "      <td>152.20</td>\n",
       "      <td>1575.0</td>\n",
       "      <td>0.1374</td>\n",
       "      <td>0.2050</td>\n",
       "      <td>0.4000</td>\n",
       "      <td>0.1625</td>\n",
       "      <td>0.2364</td>\n",
       "      <td>0.07678</td>\n",
       "      <td>1</td>\n",
       "    </tr>\n",
       "  </tbody>\n",
       "</table>\n",
       "<p>5 rows × 31 columns</p>\n",
       "</div>"
      ],
      "text/plain": [
       "   mean_radius  mean_texture  mean_perimeter  mean_area  mean_smoothness  \\\n",
       "0        17.99         10.38          122.80     1001.0          0.11840   \n",
       "1        20.57         17.77          132.90     1326.0          0.08474   \n",
       "2        19.69         21.25          130.00     1203.0          0.10960   \n",
       "3        11.42         20.38           77.58      386.1          0.14250   \n",
       "4        20.29         14.34          135.10     1297.0          0.10030   \n",
       "\n",
       "   mean_compactness  mean_concavity  mean_concave_points  mean_symmetry  \\\n",
       "0           0.27760          0.3001              0.14710         0.2419   \n",
       "1           0.07864          0.0869              0.07017         0.1812   \n",
       "2           0.15990          0.1974              0.12790         0.2069   \n",
       "3           0.28390          0.2414              0.10520         0.2597   \n",
       "4           0.13280          0.1980              0.10430         0.1809   \n",
       "\n",
       "   mean_fractal_dimension  ...  worst_texture  worst_perimeter  worst_area  \\\n",
       "0                 0.07871  ...          17.33           184.60      2019.0   \n",
       "1                 0.05667  ...          23.41           158.80      1956.0   \n",
       "2                 0.05999  ...          25.53           152.50      1709.0   \n",
       "3                 0.09744  ...          26.50            98.87       567.7   \n",
       "4                 0.05883  ...          16.67           152.20      1575.0   \n",
       "\n",
       "   worst_smoothness  worst_compactness  worst_concavity  worst_concave_points  \\\n",
       "0            0.1622             0.6656           0.7119                0.2654   \n",
       "1            0.1238             0.1866           0.2416                0.1860   \n",
       "2            0.1444             0.4245           0.4504                0.2430   \n",
       "3            0.2098             0.8663           0.6869                0.2575   \n",
       "4            0.1374             0.2050           0.4000                0.1625   \n",
       "\n",
       "   worst_symmetry  worst_fractal_dimension  is_cancer  \n",
       "0          0.4601                  0.11890          1  \n",
       "1          0.2750                  0.08902          1  \n",
       "2          0.3613                  0.08758          1  \n",
       "3          0.6638                  0.17300          1  \n",
       "4          0.2364                  0.07678          1  \n",
       "\n",
       "[5 rows x 31 columns]"
      ]
     },
     "execution_count": 4,
     "metadata": {},
     "output_type": "execute_result"
    }
   ],
   "source": [
    "df.head()"
   ]
  },
  {
   "cell_type": "code",
   "execution_count": 5,
   "id": "forward-encyclopedia",
   "metadata": {},
   "outputs": [
    {
     "data": {
      "text/plain": [
       "Index(['mean_radius', 'mean_texture', 'mean_perimeter', 'mean_area',\n",
       "       'mean_smoothness', 'mean_compactness', 'mean_concavity',\n",
       "       'mean_concave_points', 'mean_symmetry', 'mean_fractal_dimension',\n",
       "       'radius_error', 'texture_error', 'perimeter_error', 'area_error',\n",
       "       'smoothness_error', 'compactness_error', 'concavity_error',\n",
       "       'concave_points_error', 'symmetry_error', 'fractal_dimension_error',\n",
       "       'worst_radius', 'worst_texture', 'worst_perimeter', 'worst_area',\n",
       "       'worst_smoothness', 'worst_compactness', 'worst_concavity',\n",
       "       'worst_concave_points', 'worst_symmetry', 'worst_fractal_dimension',\n",
       "       'is_cancer'],\n",
       "      dtype='object')"
      ]
     },
     "execution_count": 5,
     "metadata": {},
     "output_type": "execute_result"
    }
   ],
   "source": [
    "df.columns"
   ]
  },
  {
   "cell_type": "code",
   "execution_count": null,
   "id": "political-sleeping",
   "metadata": {},
   "outputs": [],
   "source": []
  },
  {
   "cell_type": "markdown",
   "id": "central-applicant",
   "metadata": {},
   "source": [
    "Documentation:  \n",
    "a) radius (mean of distances from center to points on the perimeter)  \n",
    "b) texture (standard deviation of gray-scale values)  \n",
    "c) perimeter  \n",
    "d) area  \n",
    "e) smoothness (local variation in radius lengths)  \n",
    "f) compactness (perimeter^2 / area - 1.0)  \n",
    "g) concavity (severity of concave portions of the contour)  \n",
    "h) concave points (number of concave portions of the contour)  \n",
    "i) symmetry  \n",
    "j) fractal dimension (\"coastline approximation\" - 1)  "
   ]
  },
  {
   "cell_type": "markdown",
   "id": "superior-cinema",
   "metadata": {},
   "source": [
    "La variable objetivo es `es_cáncer`.\n",
    "\n",
    "Es una variable categórica, que toma los valores posibles $0$ y $1$º"
   ]
  },
  {
   "cell_type": "code",
   "execution_count": null,
   "id": "athletic-imperial",
   "metadata": {},
   "outputs": [],
   "source": [
    "# Vamos a visualizar de forma rápida el balanceo de variables categóricas"
   ]
  },
  {
   "cell_type": "code",
   "execution_count": 6,
   "id": "42ff7839",
   "metadata": {},
   "outputs": [
    {
     "data": {
      "text/plain": [
       "<AxesSubplot:xlabel='is_cancer', ylabel='count'>"
      ]
     },
     "execution_count": 6,
     "metadata": {},
     "output_type": "execute_result"
    },
    {
     "data": {
      "image/png": "[encoded data removed]",
      "text/plain": [
       "<Figure size 1152x648 with 1 Axes>"
      ]
     },
     "metadata": {},
     "output_type": "display_data"
    }
   ],
   "source": [
    "sns.countplot(x=df.is_cancer)"
   ]
  },
  {
   "cell_type": "code",
   "execution_count": null,
   "id": "b652ae2a",
   "metadata": {},
   "outputs": [],
   "source": []
  },
  {
   "cell_type": "markdown",
   "id": "conceptual-alignment",
   "metadata": {},
   "source": [
    "## Regresión logística\n",
    "La regresión logística es uno de los algoritmos más populares y utilizados para los problemas de clasificación. Como además es relativamente poco complejo y fácil de implementar, se suele utilizar como modelo de partida, aunque también puede producir resultados de muy alto rendimiento utilizado en producción. Aquí vamos a hablar de la Regresión Logística Binomial, que se utiliza para resultados binarios. La Regresión Logística Multinomial existe y puede utilizarse para problemas de clasificación multiclase, pero se utiliza con menos frecuencia. No la trataremos en esta lección. \n",
    "\n",
    "La regresión logística es en realidad una función de regresión lineal transformada. Podemos ver en la imagen de abajo que si intentáramos ajustar una regresión lineal a unos datos con un resultado binario, ajustaríamos una línea que no predice muy bien para ningún valor que no esté en los valores extremos: en el medio hay mucha zona en la que la línea está muy lejos de los puntos. Para acercar nuestra función a los datos, tenemos que transformar la función que estamos utilizando. En este caso, es útil utilizar una función sigmoide, que estima una forma de \"S\". Ahora podemos ver que nuestra línea se ajusta a los datos mucho mejor. "
   ]
  },
  {
   "cell_type": "markdown",
   "id": "great-supervision",
   "metadata": {},
   "source": [
    "![regresiónlogística](http://res.cloudinary.com/dyd911kmh/image/upload/f_auto,q_auto:best/v1534281070/linear_vs_logistic_regression_edxw03.png)"
   ]
  },
  {
   "cell_type": "markdown",
   "id": "appreciated-people",
   "metadata": {},
   "source": [
    "Refs:\n",
    "\n",
    "https://scikit-learn.org/stable/modules/generated/sklearn.linear_model.LogisticRegression.html     \n",
    "https://techdifferences.com/difference-between-linear-and-logistic-regression.html    \n",
    "https://stackoverflow.com/questions/12146914/what-is-the-difference-between-linear-regression-and-logistic-regression"
   ]
  },
  {
   "cell_type": "markdown",
   "id": "addressed-struggle",
   "metadata": {},
   "source": [
    "## Manos a la obra"
   ]
  },
  {
   "cell_type": "markdown",
   "id": "centered-ability",
   "metadata": {},
   "source": [
    "Intentemos predecir `es_cáncer` usando sólo como predictor `radio_medio`."
   ]
  },
  {
   "cell_type": "code",
   "execution_count": 7,
   "id": "subject-rings",
   "metadata": {},
   "outputs": [],
   "source": [
    "df = df[['mean_radius', 'is_cancer']]"
   ]
  },
  {
   "cell_type": "code",
   "execution_count": 8,
   "id": "exceptional-resident",
   "metadata": {},
   "outputs": [
    {
     "data": {
      "text/html": [
       "<div>\n",
       "<style scoped>\n",
       "    .dataframe tbody tr th:only-of-type {\n",
       "        vertical-align: middle;\n",
       "    }\n",
       "\n",
       "    .dataframe tbody tr th {\n",
       "        vertical-align: top;\n",
       "    }\n",
       "\n",
       "    .dataframe thead th {\n",
       "        text-align: right;\n",
       "    }\n",
       "</style>\n",
       "<table border=\"1\" class=\"dataframe\">\n",
       "  <thead>\n",
       "    <tr style=\"text-align: right;\">\n",
       "      <th></th>\n",
       "      <th>mean_radius</th>\n",
       "      <th>is_cancer</th>\n",
       "    </tr>\n",
       "  </thead>\n",
       "  <tbody>\n",
       "    <tr>\n",
       "      <th>0</th>\n",
       "      <td>17.99</td>\n",
       "      <td>1</td>\n",
       "    </tr>\n",
       "    <tr>\n",
       "      <th>1</th>\n",
       "      <td>20.57</td>\n",
       "      <td>1</td>\n",
       "    </tr>\n",
       "    <tr>\n",
       "      <th>2</th>\n",
       "      <td>19.69</td>\n",
       "      <td>1</td>\n",
       "    </tr>\n",
       "    <tr>\n",
       "      <th>3</th>\n",
       "      <td>11.42</td>\n",
       "      <td>1</td>\n",
       "    </tr>\n",
       "    <tr>\n",
       "      <th>4</th>\n",
       "      <td>20.29</td>\n",
       "      <td>1</td>\n",
       "    </tr>\n",
       "    <tr>\n",
       "      <th>...</th>\n",
       "      <td>...</td>\n",
       "      <td>...</td>\n",
       "    </tr>\n",
       "    <tr>\n",
       "      <th>564</th>\n",
       "      <td>21.56</td>\n",
       "      <td>1</td>\n",
       "    </tr>\n",
       "    <tr>\n",
       "      <th>565</th>\n",
       "      <td>20.13</td>\n",
       "      <td>1</td>\n",
       "    </tr>\n",
       "    <tr>\n",
       "      <th>566</th>\n",
       "      <td>16.60</td>\n",
       "      <td>1</td>\n",
       "    </tr>\n",
       "    <tr>\n",
       "      <th>567</th>\n",
       "      <td>20.60</td>\n",
       "      <td>1</td>\n",
       "    </tr>\n",
       "    <tr>\n",
       "      <th>568</th>\n",
       "      <td>7.76</td>\n",
       "      <td>0</td>\n",
       "    </tr>\n",
       "  </tbody>\n",
       "</table>\n",
       "<p>569 rows × 2 columns</p>\n",
       "</div>"
      ],
      "text/plain": [
       "     mean_radius  is_cancer\n",
       "0          17.99          1\n",
       "1          20.57          1\n",
       "2          19.69          1\n",
       "3          11.42          1\n",
       "4          20.29          1\n",
       "..           ...        ...\n",
       "564        21.56          1\n",
       "565        20.13          1\n",
       "566        16.60          1\n",
       "567        20.60          1\n",
       "568         7.76          0\n",
       "\n",
       "[569 rows x 2 columns]"
      ]
     },
     "execution_count": 8,
     "metadata": {},
     "output_type": "execute_result"
    }
   ],
   "source": [
    "df"
   ]
  },
  {
   "cell_type": "markdown",
   "id": "collected-international",
   "metadata": {},
   "source": [
    "### Vamos a entrenar un modelo"
   ]
  },
  {
   "cell_type": "code",
   "execution_count": 11,
   "id": "binding-interview",
   "metadata": {},
   "outputs": [],
   "source": [
    "from sklearn.linear_model import LogisticRegression"
   ]
  },
  {
   "cell_type": "code",
   "execution_count": 12,
   "id": "historical-suggestion",
   "metadata": {},
   "outputs": [],
   "source": [
    "log = LogisticRegression()"
   ]
  },
  {
   "cell_type": "code",
   "execution_count": 15,
   "id": "atomic-actress",
   "metadata": {},
   "outputs": [],
   "source": [
    "X = df[['mean_radius']]"
   ]
  },
  {
   "cell_type": "code",
   "execution_count": 16,
   "id": "moral-graduation",
   "metadata": {},
   "outputs": [],
   "source": [
    "y = df['is_cancer']"
   ]
  },
  {
   "cell_type": "code",
   "execution_count": 17,
   "id": "43e2ac9f",
   "metadata": {},
   "outputs": [
    {
     "data": {
      "text/plain": [
       "LogisticRegression()"
      ]
     },
     "execution_count": 17,
     "metadata": {},
     "output_type": "execute_result"
    }
   ],
   "source": [
    "log.fit(X,y)"
   ]
  },
  {
   "cell_type": "code",
   "execution_count": null,
   "id": "civilian-citizen",
   "metadata": {},
   "outputs": [],
   "source": [
    "# Vamos a ver cómo funcionarcía con los primeroos 5 pacientes"
   ]
  },
  {
   "cell_type": "code",
   "execution_count": 22,
   "id": "b0d3c490",
   "metadata": {},
   "outputs": [],
   "source": [
    "df_reducido = df[0:5]"
   ]
  },
  {
   "cell_type": "code",
   "execution_count": 23,
   "id": "7ccfc4e6",
   "metadata": {},
   "outputs": [
    {
     "data": {
      "text/html": [
       "<div>\n",
       "<style scoped>\n",
       "    .dataframe tbody tr th:only-of-type {\n",
       "        vertical-align: middle;\n",
       "    }\n",
       "\n",
       "    .dataframe tbody tr th {\n",
       "        vertical-align: top;\n",
       "    }\n",
       "\n",
       "    .dataframe thead th {\n",
       "        text-align: right;\n",
       "    }\n",
       "</style>\n",
       "<table border=\"1\" class=\"dataframe\">\n",
       "  <thead>\n",
       "    <tr style=\"text-align: right;\">\n",
       "      <th></th>\n",
       "      <th>mean_radius</th>\n",
       "      <th>is_cancer</th>\n",
       "    </tr>\n",
       "  </thead>\n",
       "  <tbody>\n",
       "    <tr>\n",
       "      <th>0</th>\n",
       "      <td>17.99</td>\n",
       "      <td>1</td>\n",
       "    </tr>\n",
       "    <tr>\n",
       "      <th>1</th>\n",
       "      <td>20.57</td>\n",
       "      <td>1</td>\n",
       "    </tr>\n",
       "    <tr>\n",
       "      <th>2</th>\n",
       "      <td>19.69</td>\n",
       "      <td>1</td>\n",
       "    </tr>\n",
       "    <tr>\n",
       "      <th>3</th>\n",
       "      <td>11.42</td>\n",
       "      <td>1</td>\n",
       "    </tr>\n",
       "    <tr>\n",
       "      <th>4</th>\n",
       "      <td>20.29</td>\n",
       "      <td>1</td>\n",
       "    </tr>\n",
       "  </tbody>\n",
       "</table>\n",
       "</div>"
      ],
      "text/plain": [
       "   mean_radius  is_cancer\n",
       "0        17.99          1\n",
       "1        20.57          1\n",
       "2        19.69          1\n",
       "3        11.42          1\n",
       "4        20.29          1"
      ]
     },
     "execution_count": 23,
     "metadata": {},
     "output_type": "execute_result"
    }
   ],
   "source": [
    "df_reducido"
   ]
  },
  {
   "cell_type": "code",
   "execution_count": null,
   "id": "intense-recognition",
   "metadata": {},
   "outputs": [],
   "source": [
    "#Un modelo entrenado es una \"máquina de predicción\""
   ]
  },
  {
   "cell_type": "code",
   "execution_count": 24,
   "id": "further-transaction",
   "metadata": {},
   "outputs": [],
   "source": [
    "df_reducido['predicción'] = log.predict(df_reducido[['mean_radius']])"
   ]
  },
  {
   "cell_type": "code",
   "execution_count": 25,
   "id": "endless-pennsylvania",
   "metadata": {},
   "outputs": [
    {
     "data": {
      "text/html": [
       "<div>\n",
       "<style scoped>\n",
       "    .dataframe tbody tr th:only-of-type {\n",
       "        vertical-align: middle;\n",
       "    }\n",
       "\n",
       "    .dataframe tbody tr th {\n",
       "        vertical-align: top;\n",
       "    }\n",
       "\n",
       "    .dataframe thead th {\n",
       "        text-align: right;\n",
       "    }\n",
       "</style>\n",
       "<table border=\"1\" class=\"dataframe\">\n",
       "  <thead>\n",
       "    <tr style=\"text-align: right;\">\n",
       "      <th></th>\n",
       "      <th>mean_radius</th>\n",
       "      <th>is_cancer</th>\n",
       "      <th>predicción</th>\n",
       "    </tr>\n",
       "  </thead>\n",
       "  <tbody>\n",
       "    <tr>\n",
       "      <th>0</th>\n",
       "      <td>17.99</td>\n",
       "      <td>1</td>\n",
       "      <td>1</td>\n",
       "    </tr>\n",
       "    <tr>\n",
       "      <th>1</th>\n",
       "      <td>20.57</td>\n",
       "      <td>1</td>\n",
       "      <td>1</td>\n",
       "    </tr>\n",
       "    <tr>\n",
       "      <th>2</th>\n",
       "      <td>19.69</td>\n",
       "      <td>1</td>\n",
       "      <td>1</td>\n",
       "    </tr>\n",
       "    <tr>\n",
       "      <th>3</th>\n",
       "      <td>11.42</td>\n",
       "      <td>1</td>\n",
       "      <td>0</td>\n",
       "    </tr>\n",
       "    <tr>\n",
       "      <th>4</th>\n",
       "      <td>20.29</td>\n",
       "      <td>1</td>\n",
       "      <td>1</td>\n",
       "    </tr>\n",
       "  </tbody>\n",
       "</table>\n",
       "</div>"
      ],
      "text/plain": [
       "   mean_radius  is_cancer  predicción\n",
       "0        17.99          1           1\n",
       "1        20.57          1           1\n",
       "2        19.69          1           1\n",
       "3        11.42          1           0\n",
       "4        20.29          1           1"
      ]
     },
     "execution_count": 25,
     "metadata": {},
     "output_type": "execute_result"
    }
   ],
   "source": [
    "df_reducido"
   ]
  },
  {
   "cell_type": "code",
   "execution_count": 28,
   "id": "exact-audio",
   "metadata": {},
   "outputs": [
    {
     "ename": "ValueError",
     "evalue": "Expected 2D array, got 1D array instead:\narray=[17.99  20.57  19.69  11.42  20.29  12.45  18.25  13.71  13.    12.46\n 16.02  15.78  19.17  15.85  13.73  14.54  14.68  16.13  19.81  13.54\n 13.08   9.504 15.34  21.16  16.65  17.14  14.58  18.61  15.3   17.57\n 18.63  11.84  17.02  19.27  16.13  16.74  14.25  13.03  14.99  13.48\n 13.44  10.95  19.07  13.28  13.17  18.65   8.196 13.17  12.05  13.49\n 11.76  13.64  11.94  18.22  15.1   11.52  19.21  14.71  13.05   8.618\n 10.17   8.598 14.25   9.173 12.68  14.78   9.465 11.31   9.029 12.78\n 18.94   8.888 17.2   13.8   12.31  16.07  13.53  18.05  20.18  12.86\n 11.45  13.34  25.22  19.1   12.    18.46  14.48  19.02  12.36  14.64\n 14.62  15.37  13.27  13.45  15.06  20.26  12.18   9.787 11.6   14.42\n 13.61   6.981 12.18   9.876 10.49  13.11  11.64  12.36  22.27  11.34\n  9.777 12.63  14.26  10.51   8.726 11.93   8.95  14.87  15.78  17.95\n 11.41  18.66  24.25  14.5   13.37  13.85  13.61  19.    15.1   19.79\n 12.19  15.46  16.16  15.71  18.45  12.77  11.71  11.43  14.95  11.28\n  9.738 16.11  11.43  12.9   10.75  11.9   11.8   14.95  14.44  13.74\n 13.     8.219  9.731 11.15  13.15  12.25  17.68  16.84  12.06  10.9\n 11.75  19.19  19.59  12.34  23.27  14.97  10.8   16.78  17.47  14.97\n 12.32  13.43  15.46  11.08  10.66   8.671  9.904 16.46  13.01  12.81\n 27.22  21.09  15.7   11.41  15.28  10.08  18.31  11.71  11.81  12.3\n 14.22  12.77   9.72  12.34  14.86  12.91  13.77  18.08  19.18  14.45\n 12.23  17.54  23.29  13.81  12.47  15.12   9.876 17.01  13.11  15.27\n 20.58  11.84  28.11  17.42  14.19  13.86  11.89  10.2   19.8   19.53\n 13.65  13.56  10.18  15.75  13.27  14.34  10.44  15.    12.62  12.83\n 17.05  11.32  11.22  20.51   9.567 14.03  23.21  20.48  14.22  17.46\n 13.64  12.42  11.3   13.75  19.4   10.48  13.2   12.89  10.65  11.52\n 20.94  11.5   19.73  17.3   19.45  13.96  19.55  15.32  15.66  15.53\n 20.31  17.35  17.29  15.61  17.19  20.73  10.6   13.59  12.87  10.71\n 14.29  11.29  21.75   9.742 17.93  11.89  11.33  18.81  13.59  13.85\n 19.16  11.74  19.4   16.24  12.89  12.58  11.94  12.89  11.26  11.37\n 14.41  14.96  12.95  11.85  12.72  13.77  10.91  11.76  14.26  10.51\n 19.53  12.46  20.09  10.49  11.46  11.6   13.2    9.    13.5   13.05\n 11.7   14.61  12.76  11.54   8.597 12.49  12.18  18.22   9.042 12.43\n 10.25  20.16  12.86  20.34  12.2   12.67  14.11  12.03  16.27  16.26\n 16.03  12.98  11.22  11.25  12.3   17.06  12.99  18.77  10.05  23.51\n 14.42   9.606 11.06  19.68  11.71  10.26  12.06  14.76  11.47  11.95\n 11.66  15.75  25.73  15.08  11.14  12.56  13.05  13.87   8.878  9.436\n 12.54  13.3   12.76  16.5   13.4   20.44  20.2   12.21  21.71  22.01\n 16.35  15.19  21.37  20.64  13.69  16.17  10.57  13.46  13.66  11.08\n 11.27  11.04  12.05  12.39  13.28  14.6   12.21  13.88  11.27  19.55\n 10.26   8.734 15.49  21.61  12.1   14.06  13.51  12.8   11.06  11.8\n 17.91  11.93  12.96  12.94  12.34  10.94  16.14  12.85  17.99  12.27\n 11.36  11.04   9.397 14.99  15.13  11.89   9.405 15.5   12.7   11.16\n 11.57  14.69  11.61  13.66   9.742 10.03  10.48  10.8   11.13  12.72\n 14.9   12.4   20.18  18.82  14.86  13.98  12.87  14.04  13.85  14.02\n 10.97  17.27  13.78  10.57  18.03  11.99  17.75  14.8   14.53  21.1\n 11.87  19.59  12.    14.53  12.62  13.38  11.63  13.21  13.     9.755\n 17.08  27.42  14.4   11.6   13.17  13.24  13.14   9.668 17.6   11.62\n  9.667 12.04  14.92  12.27  10.88  12.83  14.2   13.9   11.49  16.25\n 12.16  13.9   13.47  13.7   15.73  12.45  14.64  19.44  11.68  16.69\n 12.25  17.85  18.01  12.46  13.16  14.87  12.65  12.47  18.49  20.59\n 15.04  13.82  12.54  23.09   9.268  9.676 12.22  11.06  16.3   15.46\n 11.74  14.81  13.4   14.58  15.05  11.34  18.31  19.89  12.88  12.75\n  9.295 24.63  11.26  13.71   9.847  8.571 13.46  12.34  13.94  12.07\n 11.75  11.67  13.68  20.47  10.96  20.55  14.27  11.69   7.729  7.691\n 11.54  14.47  14.74  13.21  13.87  13.62  10.32  10.26   9.683 10.82\n 10.86  11.13  12.77   9.333 12.88  10.29  10.16   9.423 14.59  11.51\n 14.05  11.2   15.22  20.92  21.56  20.13  16.6   20.6    7.76 ].\nReshape your data either using array.reshape(-1, 1) if your data has a single feature or array.reshape(1, -1) if it contains a single sample.",
     "output_type": "error",
     "traceback": [
      "\u001b[0;31m---------------------------------------------------------------------------\u001b[0m",
      "\u001b[0;31mValueError\u001b[0m                                Traceback (most recent call last)",
      "\u001b[0;32m/tmp/ipykernel_496/2356022062.py\u001b[0m in \u001b[0;36m<module>\u001b[0;34m\u001b[0m\n\u001b[0;32m----> 1\u001b[0;31m \u001b[0mdf\u001b[0m\u001b[0;34m[\u001b[0m\u001b[0;34m'prediction_cancer'\u001b[0m\u001b[0;34m]\u001b[0m \u001b[0;34m=\u001b[0m \u001b[0mlog\u001b[0m\u001b[0;34m.\u001b[0m\u001b[0mpredict\u001b[0m\u001b[0;34m(\u001b[0m\u001b[0mdf\u001b[0m\u001b[0;34m[\u001b[0m\u001b[0;34m'mean_radius'\u001b[0m\u001b[0;34m]\u001b[0m\u001b[0;34m)\u001b[0m\u001b[0;34m\u001b[0m\u001b[0;34m\u001b[0m\u001b[0m\n\u001b[0m",
      "\u001b[0;32m~/miniconda3/envs/minimal_ds/lib/python3.10/site-packages/sklearn/linear_model/_base.py\u001b[0m in \u001b[0;36mpredict\u001b[0;34m(self, X)\u001b[0m\n\u001b[1;32m    423\u001b[0m             \u001b[0mPredicted\u001b[0m \u001b[0;32mclass\u001b[0m \u001b[0mlabel\u001b[0m \u001b[0mper\u001b[0m \u001b[0msample\u001b[0m\u001b[0;34m.\u001b[0m\u001b[0;34m\u001b[0m\u001b[0;34m\u001b[0m\u001b[0m\n\u001b[1;32m    424\u001b[0m         \"\"\"\n\u001b[0;32m--> 425\u001b[0;31m         \u001b[0mscores\u001b[0m \u001b[0;34m=\u001b[0m \u001b[0mself\u001b[0m\u001b[0;34m.\u001b[0m\u001b[0mdecision_function\u001b[0m\u001b[0;34m(\u001b[0m\u001b[0mX\u001b[0m\u001b[0;34m)\u001b[0m\u001b[0;34m\u001b[0m\u001b[0;34m\u001b[0m\u001b[0m\n\u001b[0m\u001b[1;32m    426\u001b[0m         \u001b[0;32mif\u001b[0m \u001b[0mlen\u001b[0m\u001b[0;34m(\u001b[0m\u001b[0mscores\u001b[0m\u001b[0;34m.\u001b[0m\u001b[0mshape\u001b[0m\u001b[0;34m)\u001b[0m \u001b[0;34m==\u001b[0m \u001b[0;36m1\u001b[0m\u001b[0;34m:\u001b[0m\u001b[0;34m\u001b[0m\u001b[0;34m\u001b[0m\u001b[0m\n\u001b[1;32m    427\u001b[0m             \u001b[0mindices\u001b[0m \u001b[0;34m=\u001b[0m \u001b[0;34m(\u001b[0m\u001b[0mscores\u001b[0m \u001b[0;34m>\u001b[0m \u001b[0;36m0\u001b[0m\u001b[0;34m)\u001b[0m\u001b[0;34m.\u001b[0m\u001b[0mastype\u001b[0m\u001b[0;34m(\u001b[0m\u001b[0mint\u001b[0m\u001b[0;34m)\u001b[0m\u001b[0;34m\u001b[0m\u001b[0;34m\u001b[0m\u001b[0m\n",
      "\u001b[0;32m~/miniconda3/envs/minimal_ds/lib/python3.10/site-packages/sklearn/linear_model/_base.py\u001b[0m in \u001b[0;36mdecision_function\u001b[0;34m(self, X)\u001b[0m\n\u001b[1;32m    405\u001b[0m         \u001b[0mcheck_is_fitted\u001b[0m\u001b[0;34m(\u001b[0m\u001b[0mself\u001b[0m\u001b[0;34m)\u001b[0m\u001b[0;34m\u001b[0m\u001b[0;34m\u001b[0m\u001b[0m\n\u001b[1;32m    406\u001b[0m \u001b[0;34m\u001b[0m\u001b[0m\n\u001b[0;32m--> 407\u001b[0;31m         \u001b[0mX\u001b[0m \u001b[0;34m=\u001b[0m \u001b[0mself\u001b[0m\u001b[0;34m.\u001b[0m\u001b[0m_validate_data\u001b[0m\u001b[0;34m(\u001b[0m\u001b[0mX\u001b[0m\u001b[0;34m,\u001b[0m \u001b[0maccept_sparse\u001b[0m\u001b[0;34m=\u001b[0m\u001b[0;34m\"csr\"\u001b[0m\u001b[0;34m,\u001b[0m \u001b[0mreset\u001b[0m\u001b[0;34m=\u001b[0m\u001b[0;32mFalse\u001b[0m\u001b[0;34m)\u001b[0m\u001b[0;34m\u001b[0m\u001b[0;34m\u001b[0m\u001b[0m\n\u001b[0m\u001b[1;32m    408\u001b[0m         \u001b[0mscores\u001b[0m \u001b[0;34m=\u001b[0m \u001b[0msafe_sparse_dot\u001b[0m\u001b[0;34m(\u001b[0m\u001b[0mX\u001b[0m\u001b[0;34m,\u001b[0m \u001b[0mself\u001b[0m\u001b[0;34m.\u001b[0m\u001b[0mcoef_\u001b[0m\u001b[0;34m.\u001b[0m\u001b[0mT\u001b[0m\u001b[0;34m,\u001b[0m \u001b[0mdense_output\u001b[0m\u001b[0;34m=\u001b[0m\u001b[0;32mTrue\u001b[0m\u001b[0;34m)\u001b[0m \u001b[0;34m+\u001b[0m \u001b[0mself\u001b[0m\u001b[0;34m.\u001b[0m\u001b[0mintercept_\u001b[0m\u001b[0;34m\u001b[0m\u001b[0;34m\u001b[0m\u001b[0m\n\u001b[1;32m    409\u001b[0m         \u001b[0;32mreturn\u001b[0m \u001b[0mscores\u001b[0m\u001b[0;34m.\u001b[0m\u001b[0mravel\u001b[0m\u001b[0;34m(\u001b[0m\u001b[0;34m)\u001b[0m \u001b[0;32mif\u001b[0m \u001b[0mscores\u001b[0m\u001b[0;34m.\u001b[0m\u001b[0mshape\u001b[0m\u001b[0;34m[\u001b[0m\u001b[0;36m1\u001b[0m\u001b[0;34m]\u001b[0m \u001b[0;34m==\u001b[0m \u001b[0;36m1\u001b[0m \u001b[0;32melse\u001b[0m \u001b[0mscores\u001b[0m\u001b[0;34m\u001b[0m\u001b[0;34m\u001b[0m\u001b[0m\n",
      "\u001b[0;32m~/miniconda3/envs/minimal_ds/lib/python3.10/site-packages/sklearn/base.py\u001b[0m in \u001b[0;36m_validate_data\u001b[0;34m(self, X, y, reset, validate_separately, **check_params)\u001b[0m\n\u001b[1;32m    559\u001b[0m             \u001b[0;32mraise\u001b[0m \u001b[0mValueError\u001b[0m\u001b[0;34m(\u001b[0m\u001b[0;34m\"Validation should be done on X, y or both.\"\u001b[0m\u001b[0;34m)\u001b[0m\u001b[0;34m\u001b[0m\u001b[0;34m\u001b[0m\u001b[0m\n\u001b[1;32m    560\u001b[0m         \u001b[0;32melif\u001b[0m \u001b[0;32mnot\u001b[0m \u001b[0mno_val_X\u001b[0m \u001b[0;32mand\u001b[0m \u001b[0mno_val_y\u001b[0m\u001b[0;34m:\u001b[0m\u001b[0;34m\u001b[0m\u001b[0;34m\u001b[0m\u001b[0m\n\u001b[0;32m--> 561\u001b[0;31m             \u001b[0mX\u001b[0m \u001b[0;34m=\u001b[0m \u001b[0mcheck_array\u001b[0m\u001b[0;34m(\u001b[0m\u001b[0mX\u001b[0m\u001b[0;34m,\u001b[0m \u001b[0;34m**\u001b[0m\u001b[0mcheck_params\u001b[0m\u001b[0;34m)\u001b[0m\u001b[0;34m\u001b[0m\u001b[0;34m\u001b[0m\u001b[0m\n\u001b[0m\u001b[1;32m    562\u001b[0m             \u001b[0mout\u001b[0m \u001b[0;34m=\u001b[0m \u001b[0mX\u001b[0m\u001b[0;34m\u001b[0m\u001b[0;34m\u001b[0m\u001b[0m\n\u001b[1;32m    563\u001b[0m         \u001b[0;32melif\u001b[0m \u001b[0mno_val_X\u001b[0m \u001b[0;32mand\u001b[0m \u001b[0;32mnot\u001b[0m \u001b[0mno_val_y\u001b[0m\u001b[0;34m:\u001b[0m\u001b[0;34m\u001b[0m\u001b[0;34m\u001b[0m\u001b[0m\n",
      "\u001b[0;32m~/miniconda3/envs/minimal_ds/lib/python3.10/site-packages/sklearn/utils/validation.py\u001b[0m in \u001b[0;36mcheck_array\u001b[0;34m(array, accept_sparse, accept_large_sparse, dtype, order, copy, force_all_finite, ensure_2d, allow_nd, ensure_min_samples, ensure_min_features, estimator)\u001b[0m\n\u001b[1;32m    759\u001b[0m             \u001b[0;31m# If input is 1D raise error\u001b[0m\u001b[0;34m\u001b[0m\u001b[0;34m\u001b[0m\u001b[0m\n\u001b[1;32m    760\u001b[0m             \u001b[0;32mif\u001b[0m \u001b[0marray\u001b[0m\u001b[0;34m.\u001b[0m\u001b[0mndim\u001b[0m \u001b[0;34m==\u001b[0m \u001b[0;36m1\u001b[0m\u001b[0;34m:\u001b[0m\u001b[0;34m\u001b[0m\u001b[0;34m\u001b[0m\u001b[0m\n\u001b[0;32m--> 761\u001b[0;31m                 raise ValueError(\n\u001b[0m\u001b[1;32m    762\u001b[0m                     \u001b[0;34m\"Expected 2D array, got 1D array instead:\\narray={}.\\n\"\u001b[0m\u001b[0;34m\u001b[0m\u001b[0;34m\u001b[0m\u001b[0m\n\u001b[1;32m    763\u001b[0m                     \u001b[0;34m\"Reshape your data either using array.reshape(-1, 1) if \"\u001b[0m\u001b[0;34m\u001b[0m\u001b[0;34m\u001b[0m\u001b[0m\n",
      "\u001b[0;31mValueError\u001b[0m: Expected 2D array, got 1D array instead:\narray=[17.99  20.57  19.69  11.42  20.29  12.45  18.25  13.71  13.    12.46\n 16.02  15.78  19.17  15.85  13.73  14.54  14.68  16.13  19.81  13.54\n 13.08   9.504 15.34  21.16  16.65  17.14  14.58  18.61  15.3   17.57\n 18.63  11.84  17.02  19.27  16.13  16.74  14.25  13.03  14.99  13.48\n 13.44  10.95  19.07  13.28  13.17  18.65   8.196 13.17  12.05  13.49\n 11.76  13.64  11.94  18.22  15.1   11.52  19.21  14.71  13.05   8.618\n 10.17   8.598 14.25   9.173 12.68  14.78   9.465 11.31   9.029 12.78\n 18.94   8.888 17.2   13.8   12.31  16.07  13.53  18.05  20.18  12.86\n 11.45  13.34  25.22  19.1   12.    18.46  14.48  19.02  12.36  14.64\n 14.62  15.37  13.27  13.45  15.06  20.26  12.18   9.787 11.6   14.42\n 13.61   6.981 12.18   9.876 10.49  13.11  11.64  12.36  22.27  11.34\n  9.777 12.63  14.26  10.51   8.726 11.93   8.95  14.87  15.78  17.95\n 11.41  18.66  24.25  14.5   13.37  13.85  13.61  19.    15.1   19.79\n 12.19  15.46  16.16  15.71  18.45  12.77  11.71  11.43  14.95  11.28\n  9.738 16.11  11.43  12.9   10.75  11.9   11.8   14.95  14.44  13.74\n 13.     8.219  9.731 11.15  13.15  12.25  17.68  16.84  12.06  10.9\n 11.75  19.19  19.59  12.34  23.27  14.97  10.8   16.78  17.47  14.97\n 12.32  13.43  15.46  11.08  10.66   8.671  9.904 16.46  13.01  12.81\n 27.22  21.09  15.7   11.41  15.28  10.08  18.31  11.71  11.81  12.3\n 14.22  12.77   9.72  12.34  14.86  12.91  13.77  18.08  19.18  14.45\n 12.23  17.54  23.29  13.81  12.47  15.12   9.876 17.01  13.11  15.27\n 20.58  11.84  28.11  17.42  14.19  13.86  11.89  10.2   19.8   19.53\n 13.65  13.56  10.18  15.75  13.27  14.34  10.44  15.    12.62  12.83\n 17.05  11.32  11.22  20.51   9.567 14.03  23.21  20.48  14.22  17.46\n 13.64  12.42  11.3   13.75  19.4   10.48  13.2   12.89  10.65  11.52\n 20.94  11.5   19.73  17.3   19.45  13.96  19.55  15.32  15.66  15.53\n 20.31  17.35  17.29  15.61  17.19  20.73  10.6   13.59  12.87  10.71\n 14.29  11.29  21.75   9.742 17.93  11.89  11.33  18.81  13.59  13.85\n 19.16  11.74  19.4   16.24  12.89  12.58  11.94  12.89  11.26  11.37\n 14.41  14.96  12.95  11.85  12.72  13.77  10.91  11.76  14.26  10.51\n 19.53  12.46  20.09  10.49  11.46  11.6   13.2    9.    13.5   13.05\n 11.7   14.61  12.76  11.54   8.597 12.49  12.18  18.22   9.042 12.43\n 10.25  20.16  12.86  20.34  12.2   12.67  14.11  12.03  16.27  16.26\n 16.03  12.98  11.22  11.25  12.3   17.06  12.99  18.77  10.05  23.51\n 14.42   9.606 11.06  19.68  11.71  10.26  12.06  14.76  11.47  11.95\n 11.66  15.75  25.73  15.08  11.14  12.56  13.05  13.87   8.878  9.436\n 12.54  13.3   12.76  16.5   13.4   20.44  20.2   12.21  21.71  22.01\n 16.35  15.19  21.37  20.64  13.69  16.17  10.57  13.46  13.66  11.08\n 11.27  11.04  12.05  12.39  13.28  14.6   12.21  13.88  11.27  19.55\n 10.26   8.734 15.49  21.61  12.1   14.06  13.51  12.8   11.06  11.8\n 17.91  11.93  12.96  12.94  12.34  10.94  16.14  12.85  17.99  12.27\n 11.36  11.04   9.397 14.99  15.13  11.89   9.405 15.5   12.7   11.16\n 11.57  14.69  11.61  13.66   9.742 10.03  10.48  10.8   11.13  12.72\n 14.9   12.4   20.18  18.82  14.86  13.98  12.87  14.04  13.85  14.02\n 10.97  17.27  13.78  10.57  18.03  11.99  17.75  14.8   14.53  21.1\n 11.87  19.59  12.    14.53  12.62  13.38  11.63  13.21  13.     9.755\n 17.08  27.42  14.4   11.6   13.17  13.24  13.14   9.668 17.6   11.62\n  9.667 12.04  14.92  12.27  10.88  12.83  14.2   13.9   11.49  16.25\n 12.16  13.9   13.47  13.7   15.73  12.45  14.64  19.44  11.68  16.69\n 12.25  17.85  18.01  12.46  13.16  14.87  12.65  12.47  18.49  20.59\n 15.04  13.82  12.54  23.09   9.268  9.676 12.22  11.06  16.3   15.46\n 11.74  14.81  13.4   14.58  15.05  11.34  18.31  19.89  12.88  12.75\n  9.295 24.63  11.26  13.71   9.847  8.571 13.46  12.34  13.94  12.07\n 11.75  11.67  13.68  20.47  10.96  20.55  14.27  11.69   7.729  7.691\n 11.54  14.47  14.74  13.21  13.87  13.62  10.32  10.26   9.683 10.82\n 10.86  11.13  12.77   9.333 12.88  10.29  10.16   9.423 14.59  11.51\n 14.05  11.2   15.22  20.92  21.56  20.13  16.6   20.6    7.76 ].\nReshape your data either using array.reshape(-1, 1) if your data has a single feature or array.reshape(1, -1) if it contains a single sample."
     ]
    }
   ],
   "source": [
    "df['prediction_cancer'] = log.predict(df['mean_radius'])"
   ]
  },
  {
   "cell_type": "code",
   "execution_count": null,
   "id": "accompanied-volunteer",
   "metadata": {},
   "outputs": [],
   "source": []
  },
  {
   "cell_type": "markdown",
   "id": "electoral-heather",
   "metadata": {},
   "source": [
    "### Vamos a crear una columna de predicción para todo el dataframe"
   ]
  },
  {
   "cell_type": "code",
   "execution_count": null,
   "id": "permanent-mirror",
   "metadata": {},
   "outputs": [],
   "source": []
  },
  {
   "cell_type": "code",
   "execution_count": null,
   "id": "competitive-battlefield",
   "metadata": {},
   "outputs": [],
   "source": []
  },
  {
   "cell_type": "markdown",
   "id": "weighted-creation",
   "metadata": {},
   "source": [
    "### Matriz de confusión con nuestros datos"
   ]
  },
  {
   "cell_type": "code",
   "execution_count": null,
   "id": "ambient-entertainment",
   "metadata": {},
   "outputs": [],
   "source": []
  },
  {
   "cell_type": "code",
   "execution_count": null,
   "id": "3ebfb51d",
   "metadata": {},
   "outputs": [],
   "source": [
    "import numpy as np\n",
    "x = np.linspace(df.mean_radius.min(), df.mean_radius.max(),100)\n",
    "y = log.predict(x.reshape(-1,1))"
   ]
  },
  {
   "cell_type": "code",
   "execution_count": null,
   "id": "e4fa89ed",
   "metadata": {},
   "outputs": [],
   "source": [
    "sns.scatterplot(x=df.mean_radius, y=df.is_cancer)\n",
    "plt.plot(x,y,c=\"red\")"
   ]
  },
  {
   "cell_type": "markdown",
   "id": "ad6a9a4f",
   "metadata": {},
   "source": [
    "## Hacemos lo mismo con muchos predictores "
   ]
  },
  {
   "cell_type": "markdown",
   "id": "material-retailer",
   "metadata": {},
   "source": [
    "### Repaso de Train Test Split / DIVISIÓN EN TRAIN TEST"
   ]
  },
  {
   "cell_type": "markdown",
   "id": "1c77a6d2",
   "metadata": {},
   "source": [
    "![divisióntraintest](../images/traintest.png)"
   ]
  },
  {
   "cell_type": "markdown",
   "id": "67a5ed16",
   "metadata": {},
   "source": [
    "https://scikit-learn.org/stable/modules/generated/sklearn.model_selection.train_test_split.html"
   ]
  },
  {
   "cell_type": "code",
   "execution_count": null,
   "id": "2c92c833",
   "metadata": {},
   "outputs": [],
   "source": [
    "from sklearn.model_selection import train_test_split"
   ]
  },
  {
   "cell_type": "code",
   "execution_count": null,
   "id": "9e20e312",
   "metadata": {},
   "outputs": [],
   "source": [
    "data = pd.read_csv(\"../datasets/breast_cancer.csv\")"
   ]
  },
  {
   "cell_type": "code",
   "execution_count": null,
   "id": "17d25d05",
   "metadata": {},
   "outputs": [],
   "source": []
  },
  {
   "cell_type": "code",
   "execution_count": null,
   "id": "44a8817a",
   "metadata": {},
   "outputs": [],
   "source": []
  },
  {
   "cell_type": "code",
   "execution_count": null,
   "id": "d686bab8",
   "metadata": {},
   "outputs": [],
   "source": []
  },
  {
   "cell_type": "code",
   "execution_count": null,
   "id": "b24e7bea",
   "metadata": {},
   "outputs": [],
   "source": []
  },
  {
   "cell_type": "code",
   "execution_count": null,
   "id": "0254da12",
   "metadata": {},
   "outputs": [],
   "source": []
  },
  {
   "cell_type": "code",
   "execution_count": null,
   "id": "1d4fad8f",
   "metadata": {},
   "outputs": [],
   "source": []
  },
  {
   "cell_type": "code",
   "execution_count": null,
   "id": "dcd0f021",
   "metadata": {},
   "outputs": [],
   "source": []
  },
  {
   "cell_type": "markdown",
   "id": "489fd7bf",
   "metadata": {},
   "source": [
    "Kit-kat (max iter)\n",
    "Me sale este warning... ya veremos tuneo de hiperparámetros, pero básicamente tengo que escalar mis datos o bien hacer que el modelo sea más complejo con más iteraciones.\n",
    "```\n",
    "/usr/local/Caskroom/miniconda/base/envs/ironhack/lib/python3.8/site-packages/sklearn/linear_model/_logistic.py:814: ConvergenceWarning: lbfgs failed to converge (status=1):\n",
    "STOP: TOTAL NO. of ITERATIONS REACHED LIMIT.\n",
    "\n",
    "Increase the number of iterations (max_iter) or scale the data as shown in:\n",
    "    https://scikit-learn.org/stable/modules/preprocessing.html\n",
    "Please also refer to the documentation for alternative solver options:\n",
    "    https://scikit-learn.org/stable/modules/linear_model.html#logistic-regression\n",
    "  n_iter_i = _check_optimize_result(\n",
    "```"
   ]
  },
  {
   "cell_type": "code",
   "execution_count": null,
   "id": "a03a0070",
   "metadata": {},
   "outputs": [],
   "source": []
  },
  {
   "cell_type": "code",
   "execution_count": null,
   "id": "f3ea242e",
   "metadata": {},
   "outputs": [],
   "source": []
  },
  {
   "cell_type": "markdown",
   "id": "f62ccd50",
   "metadata": {},
   "source": [
    "### Veamos lo que tenemos\n",
    "#### Parte de train"
   ]
  },
  {
   "cell_type": "code",
   "execution_count": null,
   "id": "78bc5a67",
   "metadata": {},
   "outputs": [],
   "source": []
  },
  {
   "cell_type": "code",
   "execution_count": null,
   "id": "effa6d18",
   "metadata": {},
   "outputs": [],
   "source": []
  },
  {
   "cell_type": "code",
   "execution_count": null,
   "id": "ee13c696",
   "metadata": {},
   "outputs": [],
   "source": []
  },
  {
   "cell_type": "code",
   "execution_count": null,
   "id": "3178e0d5",
   "metadata": {},
   "outputs": [],
   "source": []
  },
  {
   "cell_type": "code",
   "execution_count": null,
   "id": "5e28672b",
   "metadata": {},
   "outputs": [],
   "source": []
  },
  {
   "cell_type": "markdown",
   "id": "6dc398af",
   "metadata": {},
   "source": [
    "#### Parte de test"
   ]
  },
  {
   "cell_type": "code",
   "execution_count": null,
   "id": "d4752697",
   "metadata": {},
   "outputs": [],
   "source": []
  },
  {
   "cell_type": "code",
   "execution_count": null,
   "id": "0467cd9b",
   "metadata": {},
   "outputs": [],
   "source": []
  },
  {
   "cell_type": "code",
   "execution_count": null,
   "id": "ad8db714",
   "metadata": {},
   "outputs": [],
   "source": []
  },
  {
   "cell_type": "code",
   "execution_count": null,
   "id": "605bbfcf",
   "metadata": {},
   "outputs": [],
   "source": []
  },
  {
   "cell_type": "code",
   "execution_count": null,
   "id": "a3dc9536",
   "metadata": {},
   "outputs": [],
   "source": []
  },
  {
   "cell_type": "code",
   "execution_count": null,
   "id": "d68055a8",
   "metadata": {},
   "outputs": [],
   "source": []
  },
  {
   "cell_type": "markdown",
   "id": "47246bd4",
   "metadata": {},
   "source": [
    "## Predict Proba"
   ]
  },
  {
   "cell_type": "code",
   "execution_count": null,
   "id": "70fa0e0e",
   "metadata": {},
   "outputs": [],
   "source": []
  },
  {
   "cell_type": "code",
   "execution_count": null,
   "id": "af5c93eb",
   "metadata": {},
   "outputs": [],
   "source": []
  },
  {
   "cell_type": "code",
   "execution_count": null,
   "id": "ff36aabd",
   "metadata": {},
   "outputs": [],
   "source": [
    "#LA PROBABILIDAD DE QUE SEA 0 Y LA PROBABILIDAD DE QUE SEA 1"
   ]
  },
  {
   "cell_type": "code",
   "execution_count": null,
   "id": "2f2f75a5",
   "metadata": {},
   "outputs": [],
   "source": [
    "#La realidad de ese registro es 0"
   ]
  },
  {
   "cell_type": "code",
   "execution_count": null,
   "id": "97d3d659",
   "metadata": {},
   "outputs": [],
   "source": []
  },
  {
   "cell_type": "code",
   "execution_count": null,
   "id": "7cbbf6f2",
   "metadata": {},
   "outputs": [],
   "source": []
  },
  {
   "cell_type": "code",
   "execution_count": null,
   "id": "0bc88259",
   "metadata": {},
   "outputs": [],
   "source": []
  },
  {
   "cell_type": "markdown",
   "id": "designed-publication",
   "metadata": {},
   "source": [
    "## Métricas!"
   ]
  },
  {
   "cell_type": "code",
   "execution_count": null,
   "id": "caroline-reply",
   "metadata": {},
   "outputs": [],
   "source": [
    "from sklearn.metrics import accuracy_score, precision_score, recall_score, f1_score, fbeta_score, confusion_matrix"
   ]
  },
  {
   "cell_type": "markdown",
   "id": "literary-picking",
   "metadata": {},
   "source": [
    "### Matriz de confusión"
   ]
  },
  {
   "cell_type": "markdown",
   "id": "abandoned-swift",
   "metadata": {},
   "source": [
    "Confusion Matrix (Matriz de Confusión)\n",
    "Vamos a explicar como funciona la matriz de confusión con un ejemplo hipotético de marketing. En este ejemplo, contactamos a 100 clientes y 80 de ellos nos dicen que no están interesados y 20 de ellos que sí.\n",
    "\n",
    "Nuestro modelo (en el ejemplo) no es muy bueno, aunque dependiendo de qué métrica usemos podría parecer que es mejor de lo que es.\n",
    "\n",
    "Hemos utilizado como valores de la clasificación binaria:\n",
    "\n",
    "- 0: no está interesado    \n",
    "- 1: sí está interesado"
   ]
  },
  {
   "cell_type": "markdown",
   "id": "exotic-mountain",
   "metadata": {},
   "source": [
    "![matrizdeconfusión](https://www.iartificial.net/wp-content/uploads/2019/11/Matriz-Confusion-Ejemplo.webp)"
   ]
  },
  {
   "cell_type": "markdown",
   "id": "miniature-privacy",
   "metadata": {},
   "source": [
    "En la matriz de confusión de la izquierda podéis ver los valores para este ejemplo. En la matriz de confusión de la derecha, los nombres genéricos cuando usamos la nomenclatura inglesa: True Negative [TN], True Positive [TP], False Positive [FP], False Negative [FN].\n",
    "\n",
    "Truco: para recordar fácilmente la matriz de confusión:\n",
    "\n",
    "Positivo (Positive) o Negativo (Negative): se refiere a la predicción. Si el modelo predice 1 entonces será positivo, y se predice 0 será negativo.\n",
    "Verdadero (True) o Falso (False): se refiere si la predicción es correcta o no."
   ]
  },
  {
   "cell_type": "markdown",
   "id": "deluxe-thompson",
   "metadata": {},
   "source": [
    "<img src=\"https://github.com/andrewwlong/classification_metrics_sklearn/raw/541a0d065ffb8b3ff705161f6d16088d434b2ea7/img/conf_matrix.png\">"
   ]
  },
  {
   "cell_type": "markdown",
   "id": "atomic-belgium",
   "metadata": {},
   "source": [
    "Equivalente con sklearn"
   ]
  },
  {
   "cell_type": "code",
   "execution_count": null,
   "id": "focused-clearance",
   "metadata": {},
   "outputs": [],
   "source": [
    "from sklearn.metrics import confusion_matrix"
   ]
  },
  {
   "cell_type": "code",
   "execution_count": null,
   "id": "auburn-freeware",
   "metadata": {},
   "outputs": [],
   "source": []
  },
  {
   "cell_type": "code",
   "execution_count": null,
   "id": "8baa8459",
   "metadata": {},
   "outputs": [],
   "source": []
  },
  {
   "cell_type": "markdown",
   "id": "brave-scottish",
   "metadata": {},
   "source": [
    "### Accuracy"
   ]
  },
  {
   "cell_type": "markdown",
   "id": "subtle-guide",
   "metadata": {},
   "source": [
    "La exactitud (accuracy) mide el porcentaje de casos que el modelo ha acertado. Esta es una de las métricas más usadas y favoritas … ¡que te recomiendo evitar! El problema con el accuracy es que nos puede llevar al engaño, es decir, puede hacer que un modelo malo parezca que es mucho mejor de lo que es.\n",
    "El problema de usar el accuracy en datos no balanceados.....\n",
    "\n",
    "• Ejemplo: en un conjunto de datos con 990 positivos y 10\n",
    "negativos, un clasificador que predice siempre “positivo”,\n",
    "tendría un 0.99 de tasa de aciertos ¡Y sin embargo es malo!\n",
    "\n",
    "Representa la proporción de muestras predichas correctamente\n",
    " * La métrica más común para la clasificación 🤔👀\n",
    " * Es útil cuando\n",
    "  - el conjunto de datos tiene clases equilibradas (proporción similar de Verdadero y Falso)\n",
    "  - hay simetría entre Verdadero y Falso (por ejemplo, predicción de \"hombre\" o \"mujer\")\n",
    " * **¡A menudo se utiliza mal!** ya que:\n",
    "  - muchos problemas no son simétricos (por ejemplo, cáncer frente a no cáncer)\n",
    "\n",
    "El accuracy (exactitud) se calcula con la siguiente fórmula:\n",
    "\n",
    "$$accuracy = \\frac{TP + TN}{TP + TN + FP + FN}$$\n"
   ]
  },
  {
   "cell_type": "code",
   "execution_count": null,
   "id": "dimensional-olympus",
   "metadata": {},
   "outputs": [],
   "source": [
    "accuracy_score(\n",
    "y_test,\n",
    "y_pred)"
   ]
  },
  {
   "cell_type": "markdown",
   "id": "acceptable-fundamentals",
   "metadata": {},
   "source": [
    "Interpretando esta métrica, vemos que el modelo ha acertado el 92% de los diagnósticos, esto es, se equivocará el 8% de las veces que prediga."
   ]
  },
  {
   "cell_type": "markdown",
   "id": "lesser-bailey",
   "metadata": {},
   "source": [
    "### Precision (Precisión)"
   ]
  },
  {
   "cell_type": "markdown",
   "id": "historic-sunglasses",
   "metadata": {},
   "source": [
    "Con la métrica de precisión podemos medir la calidad del modelo de machine learning en tareas de clasificación. En el ejemplo, se refiere a que la precisión es la respuesta a la pregunta ¿qué porcentaje de los clientes que contactemos estarán interesados?\n",
    "\n",
    "Para calcular la precisión usaremos la siguiente fórmula:\n",
    "\n",
    "$$precision = \\frac{TP}{TP + FP}$$    \n",
    "\n",
    "Es la fracción de eventos positivos predichos que son realmente positivos como se muestra a continuación\n",
    "\n",
    "Esta métrica se define como la cantidad de casos verdaderos positivos sobre la cantidad total de todo lo que dijiste que era positivo. En otras palabras, de todo lo que el algoritmo predijo como positivo, se evalúa cuánto de eso era cierto. Uno de los ejemplos propuestos [aquí](https://towardsdatascience.com/accuracy-precision-recall-or-f1-331fb37c5cb9) es el de marcar un correo como spam, cuando realmente no lo era. Imagina que un sistema antispam tiene una precision baja y te marca un correo como spam aunque éste no lo es, y terminas no leyendo la invitación a la boda de tu hermana.\n",
    "Uno de los casos donde se puede usar esta métrica,como dice el post, es cuando la cantidad de falsos positivos tiene una repercusión muy importante. Imagina un clasificador que confunde una diagnóstico y terminas amputándole la pierna sana a un paciente.\n",
    "\n",
    "Esta imagen marca los conjuntos de datos seleccionados a la hora de calcular la precision."
   ]
  },
  {
   "cell_type": "markdown",
   "id": "finnish-difficulty",
   "metadata": {},
   "source": [
    "<img src=\"https://www.iartificial.net/wp-content/uploads/2019/11/precision.webp\">"
   ]
  },
  {
   "cell_type": "markdown",
   "id": "assisted-mineral",
   "metadata": {},
   "source": [
    "Precisión = Porcentaje de predicciones POSITIVAS fueron correctas.    \n",
    "¿Qué proporción de los Positivos predichos es realmente Positiva?         \n",
    "Tenemos que mirar el número total de Positivos predichos (los Verdaderos Positivos más los Falsos Positivos, TP+FP), y ver cuántos de ellos son Verdaderos Positivos (TP)."
   ]
  },
  {
   "cell_type": "code",
   "execution_count": null,
   "id": "hairy-atmosphere",
   "metadata": {},
   "outputs": [],
   "source": [
    "precision_score(\n",
    "df.is_cancer,\n",
    "df.prediction_cancer)"
   ]
  },
  {
   "cell_type": "markdown",
   "id": "visible-radius",
   "metadata": {},
   "source": [
    "### Recall (Exhaustividad)"
   ]
  },
  {
   "cell_type": "markdown",
   "id": "logical-court",
   "metadata": {},
   "source": [
    "La métrica de exhaustividad nos va a informar sobre la cantidad que el modelo de machine learning es capaz de identificar. En el ejemplo, se refiere a que la exhaustividad (recall) es la respuesta a la pregunta ¿qué porcentaje de los clientes están interesados somos capaces de identificar?\n",
    "\n",
    "Para calcular la exhaustividad (recall) usaremos la siguiente fórmula:\n",
    "\n",
    "$$recall = \\frac{TP}{TP + FN}$$\n"
   ]
  },
  {
   "cell_type": "markdown",
   "id": "conceptual-tamil",
   "metadata": {},
   "source": [
    "<img src=\"https://www.iartificial.net/wp-content/uploads/2019/11/recall-exhaustividad.webp\">"
   ]
  },
  {
   "cell_type": "markdown",
   "id": "aerial-handy",
   "metadata": {},
   "source": [
    "Responde a una pregunta diferente: ¿qué proporción de positivos reales se clasifica correctamente?      \n",
    "Porcentaje de casos positivos que he capturado."
   ]
  },
  {
   "cell_type": "code",
   "execution_count": null,
   "id": "former-pendant",
   "metadata": {},
   "outputs": [],
   "source": []
  },
  {
   "cell_type": "markdown",
   "id": "unnecessary-membrane",
   "metadata": {},
   "source": [
    "### Diferenciando precision y recall\n",
    "A pesar de ser similares, poseen distinciones sutiles.\n",
    "\n",
    "- Precision: ¿Cuántas veces lo que mi modelo dice es realmente cierto?\n",
    "- Recall: ¿Cuántas veces mi modelo es capaz de identificar la verdad?     \n",
    "\n",
    "Precision se centra en lo que modelo dice y luego lo compara con la realidad. Por otro lado, recall parte de la realidad, y después evalúa que tan bueno es el modelo para reconocerla."
   ]
  },
  {
   "cell_type": "markdown",
   "id": "psychological-parish",
   "metadata": {},
   "source": [
    "### F1 Score"
   ]
  },
  {
   "cell_type": "markdown",
   "id": "mexican-horse",
   "metadata": {},
   "source": [
    "El valor F1 se utiliza para combinar las medidas de precision y recall en un sólo valor. Esto es práctico porque hace más fácil el poder comparar el rendimiento combinado de la precisión y la exhaustividad entre varias soluciones.\n",
    "\n",
    "F1 se calcula haciendo la media armónica entre la precisión y la exhaustividad:\n",
    "\n",
    "$$F1 = 2 \\cdot \\frac{precision \\cdot recall}{precision + recall}$$"
   ]
  },
  {
   "cell_type": "code",
   "execution_count": null,
   "id": "domestic-loading",
   "metadata": {},
   "outputs": [],
   "source": [
    "f1_score(df.is_cancer,df.prediction_cancer)"
   ]
  },
  {
   "cell_type": "markdown",
   "id": "coordinate-viking",
   "metadata": {},
   "source": [
    "He extraído documentación de las métricas de [este](https://www.iartificial.net/precision-recall-f1-accuracy-en-clasificacion/) artículo excepcionalmente explicado.\n",
    "Pero aquí os dejo más:\n",
    "- https://towardsdatascience.com/accuracy-precision-recall-or-f1-331fb37c5cb9\n",
    "- https://blog.exsilio.com/all/accuracy-precision-recall-f1-score-interpretation-of-performance-measures/\n",
    "- https://wiki.pathmind.com/accuracy-precision-recall-f1\n",
    "- https://datasmarts.net/es/mas-alla-del-accuracy-precision-recall-y-f1/"
   ]
  },
  {
   "cell_type": "markdown",
   "id": "simplified-borough",
   "metadata": {},
   "source": [
    "## Otros modelos de clasificación"
   ]
  },
  {
   "cell_type": "markdown",
   "id": "832490c8",
   "metadata": {},
   "source": [
    "Más literatura en este [enlasito](https://pharos.sh/vision-general-de-los-metodos-de-clasificacion-en-python-con-scikit-learn/)"
   ]
  },
  {
   "cell_type": "code",
   "execution_count": null,
   "id": "previous-publication",
   "metadata": {},
   "outputs": [],
   "source": [
    "from sklearn.discriminant_analysis import LinearDiscriminantAnalysis\n",
    "from sklearn.neighbors import KNeighborsClassifier\n",
    "from sklearn.naive_bayes import GaussianNB\n",
    "from sklearn.tree import DecisionTreeClassifier\n",
    "from sklearn.svm import SVC"
   ]
  },
  {
   "cell_type": "code",
   "execution_count": null,
   "id": "forward-blond",
   "metadata": {},
   "outputs": [],
   "source": [
    "models={\n",
    "    'dis': LinearDiscriminantAnalysis(),\n",
    "    'neighbors': KNeighborsClassifier(),\n",
    "    'naive': GaussianNB(),\n",
    "    'tree': DecisionTreeClassifier(),\n",
    "    'svm': SVC(),\n",
    "}"
   ]
  },
  {
   "cell_type": "code",
   "execution_count": null,
   "id": "cc77c844",
   "metadata": {},
   "outputs": [],
   "source": []
  },
  {
   "cell_type": "markdown",
   "id": "preceding-raising",
   "metadata": {},
   "source": [
    "## Hacemos predicciones y medimos"
   ]
  },
  {
   "cell_type": "code",
   "execution_count": null,
   "id": "applied-cleveland",
   "metadata": {},
   "outputs": [],
   "source": []
  },
  {
   "cell_type": "markdown",
   "id": "f01fe4cc",
   "metadata": {},
   "source": [
    "## Resumen\n",
    "Es tu turno ¿qué hemos aprendido hoy?"
   ]
  },
  {
   "cell_type": "markdown",
   "id": "average-quantum",
   "metadata": {},
   "source": [
    "## Pipeline\n",
    "De cosas que tenemos que hacer sería...:\n",
    "- Cargo los datos\n",
    "- Exploro los datos\n",
    "- Limpio los datos\n",
    "- Divido los datos en train y test\n",
    "- Entreno el modelo con la parte de train\n",
    "- Hago una predicción con la parte de X_test\n",
    "- Saco métricas comparando la y_pred con la y_test\n",
    "- Fin\n",
    "- Clasificación variables cualitativas\n",
    "- Regresión son variables cuantitativas\n",
    "- Hemos visto diferentes métricas de la clasificación.\n",
    "- La matriz de confusión\n",
    "- La verdad y la verdad"
   ]
  }
 ],
 "metadata": {
  "kernelspec": {
   "display_name": "minimal_ds",
   "language": "python",
   "name": "minimal_ds"
  },
  "language_info": {
   "codemirror_mode": {
    "name": "ipython",
    "version": 3
   },
   "file_extension": ".py",
   "mimetype": "text/x-python",
   "name": "python",
   "nbconvert_exporter": "python",
   "pygments_lexer": "ipython3",
   "version": "3.10.0"
  },
  "toc": {
   "base_numbering": 1,
   "nav_menu": {},
   "number_sections": true,
   "sideBar": true,
   "skip_h1_title": true,
   "title_cell": "Table of Contents",
   "title_sidebar": "Contents",
   "toc_cell": true,
   "toc_position": {},
   "toc_section_display": true,
   "toc_window_display": false
  }
 },
 "nbformat": 4,
 "nbformat_minor": 5
}
