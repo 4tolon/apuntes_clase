{
 "cells": [
  {
   "cell_type": "markdown",
   "id": "flying-freedom",
   "metadata": {},
   "source": [
    "Ejercicio\n",
    "\n",
    "Crear una clase Círculo con:\n",
    "\n",
    "- radio como variable de instancia/objeto        \n",
    "- pi (math.pi) como variable de clase         \n",
    "- un método calcular_área(self) que devuelva el área del objeto \"círculo\"        "
   ]
  },
  {
   "cell_type": "code",
   "execution_count": null,
   "id": "encouraging-champion",
   "metadata": {},
   "outputs": [],
   "source": []
  }
 ],
 "metadata": {
  "kernelspec": {
   "display_name": "ironhack",
   "language": "python",
   "name": "ironhack"
  },
  "language_info": {
   "codemirror_mode": {
    "name": "ipython",
    "version": 3
   },
   "file_extension": ".py",
   "mimetype": "text/x-python",
   "name": "python",
   "nbconvert_exporter": "python",
   "pygments_lexer": "ipython3",
   "version": "3.8.5"
  },
  "toc": {
   "base_numbering": 1,
   "nav_menu": {},
   "number_sections": true,
   "sideBar": true,
   "skip_h1_title": false,
   "title_cell": "Table of Contents",
   "title_sidebar": "Contents",
   "toc_cell": false,
   "toc_position": {},
   "toc_section_display": true,
   "toc_window_display": false
  }
 },
 "nbformat": 4,
 "nbformat_minor": 5
}
