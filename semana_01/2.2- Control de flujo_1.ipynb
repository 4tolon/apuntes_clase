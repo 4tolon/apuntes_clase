{
 "cells": [
  {
   "cell_type": "markdown",
   "id": "subjective-quarter",
   "metadata": {
    "toc": true
   },
   "source": [
    "<h1>Table of Contents<span class=\"tocSkip\"></span></h1>\n",
    "<div class=\"toc\"><ul class=\"toc-item\"><li><span><a href=\"#Operadores-de-asignación\" data-toc-modified-id=\"Operadores-de-asignación-1\"><span class=\"toc-item-num\">1&nbsp;&nbsp;</span>Operadores de asignación</a></span></li><li><span><a href=\"#Operadores-aritméticos\" data-toc-modified-id=\"Operadores-aritméticos-2\"><span class=\"toc-item-num\">2&nbsp;&nbsp;</span>Operadores aritméticos</a></span></li><li><span><a href=\"#Operadores-relacionales\" data-toc-modified-id=\"Operadores-relacionales-3\"><span class=\"toc-item-num\">3&nbsp;&nbsp;</span>Operadores relacionales</a></span></li><li><span><a href=\"#Operadores-lógicos/booleanos\" data-toc-modified-id=\"Operadores-lógicos/booleanos-4\"><span class=\"toc-item-num\">4&nbsp;&nbsp;</span>Operadores lógicos/booleanos</a></span><ul class=\"toc-item\"><li><ul class=\"toc-item\"><li><span><a href=\"#Extra-para-Nerds-🤓(echad-un-ojo-y-jugad-con-las-celdas-de-abajo)\" data-toc-modified-id=\"Extra-para-Nerds-🤓(echad-un-ojo-y-jugad-con-las-celdas-de-abajo)-4.0.1\"><span class=\"toc-item-num\">4.0.1&nbsp;&nbsp;</span>Extra para Nerds 🤓(echad un ojo y jugad con las celdas de abajo)</a></span></li></ul></li></ul></li><li><span><a href=\"#Identity-operators\" data-toc-modified-id=\"Identity-operators-5\"><span class=\"toc-item-num\">5&nbsp;&nbsp;</span>Identity operators</a></span></li><li><span><a href=\"#Pseudocódigo\" data-toc-modified-id=\"Pseudocódigo-6\"><span class=\"toc-item-num\">6&nbsp;&nbsp;</span>Pseudocódigo</a></span></li><li><span><a href=\"#La-sentencia-&quot;If\" data-toc-modified-id=\"La-sentencia-&quot;If-7\"><span class=\"toc-item-num\">7&nbsp;&nbsp;</span>La sentencia \"If</a></span><ul class=\"toc-item\"><li><span><a href=\"#Vuestros-ejemplos-🚀\" data-toc-modified-id=\"Vuestros-ejemplos-🚀-7.1\"><span class=\"toc-item-num\">7.1&nbsp;&nbsp;</span>Vuestros ejemplos 🚀</a></span></li><li><span><a href=\"#else\" data-toc-modified-id=\"else-7.2\"><span class=\"toc-item-num\">7.2&nbsp;&nbsp;</span>else</a></span></li><li><span><a href=\"#elif\" data-toc-modified-id=\"elif-7.3\"><span class=\"toc-item-num\">7.3&nbsp;&nbsp;</span>elif</a></span></li></ul></li><li><span><a href=\"#Summary\" data-toc-modified-id=\"Summary-8\"><span class=\"toc-item-num\">8&nbsp;&nbsp;</span>Summary</a></span></li><li><span><a href=\"#Further-materials\" data-toc-modified-id=\"Further-materials-9\"><span class=\"toc-item-num\">9&nbsp;&nbsp;</span>Further materials</a></span></li></ul></div>"
   ]
  },
  {
   "cell_type": "markdown",
   "id": "italic-editor",
   "metadata": {},
   "source": [
    "# Control Flow    \n",
    "Let`s go with the flow"
   ]
  },
  {
   "cell_type": "markdown",
   "id": "published-emerald",
   "metadata": {},
   "source": [
    "![the_flow](https://media.giphy.com/media/SA6RvPmPJVlJoqYo7U/giphy.gif)"
   ]
  },
  {
   "cell_type": "markdown",
   "id": "looking-stylus",
   "metadata": {},
   "source": [
    "## Operadores de asignación"
   ]
  },
  {
   "cell_type": "markdown",
   "id": "civil-motorcycle",
   "metadata": {},
   "source": [
    "Los operadores de asignación son los que permiten dar un valor a una variable o modificarla. Python tiene ocho operadores de asignación diferentes: un operador de asignación simple y siete operadores de asignación compuestos."
   ]
  },
  {
   "cell_type": "markdown",
   "id": "convertible-disposal",
   "metadata": {},
   "source": [
    "* `=` Asignación simple `a=b`     \n",
    "* `+=` Asignación de adición `a+=b`   Equivalente simple `a=a+b`   \n",
    "* `-=` Asignación de sustracción `a-=b` Equivalente simple `a=a-b`       \n",
    "* `*=` Asignación de la multiplicación `a*=b` Equivalente simple `a=a*b`\n",
    "* `/=` Asignación de división `a/=b` Equivalente simple `a=a/b`   \n",
    "* `%=` Asignación de módulo`a/=b` Equivalente simple `a=a%b`    \n",
    "* `//=` Asignación de división entera `a//=b` Equivalente simple `a=a//b`  "
   ]
  },
  {
   "cell_type": "markdown",
   "id": "drawn-reason",
   "metadata": {},
   "source": [
    "El operador de asignación simple es el símbolo igual (=) y las operaciones realizadas con él tienen siempre la sintaxis: `variable = expresión`. En este tipo de operaciones, en primer lugar, se resuelve la expresión de la derecha y el valor resultante se asigna a la variable de la izquierda."
   ]
  },
  {
   "cell_type": "code",
   "execution_count": 3,
   "id": "checked-isaac",
   "metadata": {},
   "outputs": [],
   "source": []
  },
  {
   "cell_type": "code",
   "execution_count": 4,
   "id": "appropriate-poison",
   "metadata": {},
   "outputs": [],
   "source": []
  },
  {
   "cell_type": "code",
   "execution_count": 5,
   "id": "comparative-aggregate",
   "metadata": {},
   "outputs": [],
   "source": [
    "# Puedo igualar una variable con la suma\n"
   ]
  },
  {
   "cell_type": "code",
   "execution_count": 7,
   "id": "vital-chase",
   "metadata": {},
   "outputs": [],
   "source": [
    "# Actualizo la varaiable a con la suma de b\n"
   ]
  },
  {
   "cell_type": "code",
   "execution_count": 8,
   "id": "exempt-recognition",
   "metadata": {},
   "outputs": [
    {
     "data": {
      "text/plain": [
       "4"
      ]
     },
     "execution_count": 8,
     "metadata": {},
     "output_type": "execute_result"
    }
   ],
   "source": []
  },
  {
   "cell_type": "code",
   "execution_count": 10,
   "id": "everyday-baghdad",
   "metadata": {},
   "outputs": [
    {
     "data": {
      "text/plain": [
       "3"
      ]
     },
     "execution_count": 10,
     "metadata": {},
     "output_type": "execute_result"
    }
   ],
   "source": [
    "# // división entera\n"
   ]
  },
  {
   "cell_type": "code",
   "execution_count": 11,
   "id": "reflected-framework",
   "metadata": {},
   "outputs": [
    {
     "data": {
      "text/plain": [
       "3"
      ]
     },
     "execution_count": 11,
     "metadata": {},
     "output_type": "execute_result"
    }
   ],
   "source": []
  },
  {
   "cell_type": "markdown",
   "id": "recent-gambling",
   "metadata": {},
   "source": [
    "## Operadores aritméticos"
   ]
  },
  {
   "cell_type": "markdown",
   "id": "union-arbitration",
   "metadata": {},
   "source": [
    "Los operadores aritméticos se utilizan para realizar operaciones aritméticas, es decir, para manipular datos numéricos mediante operaciones matemáticas como la suma, la resta o la multiplicación.....(los hemos visto hace un rato, así que no me lío)"
   ]
  },
  {
   "cell_type": "code",
   "execution_count": 12,
   "id": "driven-belly",
   "metadata": {},
   "outputs": [],
   "source": []
  },
  {
   "cell_type": "code",
   "execution_count": 13,
   "id": "boolean-princess",
   "metadata": {},
   "outputs": [
    {
     "data": {
      "text/plain": [
       "7"
      ]
     },
     "execution_count": 13,
     "metadata": {},
     "output_type": "execute_result"
    }
   ],
   "source": []
  },
  {
   "cell_type": "code",
   "execution_count": 14,
   "id": "smooth-arlington",
   "metadata": {},
   "outputs": [
    {
     "data": {
      "text/plain": [
       "12"
      ]
     },
     "execution_count": 14,
     "metadata": {},
     "output_type": "execute_result"
    }
   ],
   "source": []
  },
  {
   "cell_type": "code",
   "execution_count": 15,
   "id": "compatible-marketing",
   "metadata": {},
   "outputs": [
    {
     "data": {
      "text/plain": [
       "0"
      ]
     },
     "execution_count": 15,
     "metadata": {},
     "output_type": "execute_result"
    }
   ],
   "source": [
    "\n"
   ]
  },
  {
   "cell_type": "markdown",
   "id": "boolean-diamond",
   "metadata": {},
   "source": [
    "## Operadores relacionales"
   ]
  },
  {
   "cell_type": "markdown",
   "id": "recorded-penetration",
   "metadata": {},
   "source": [
    "Los operadores relacionales son símbolos utilizados para comparar dos valores o expresiones. El resultado de la evaluación con estos dos operadores puede ser True, si la comparación es verdadera, o False, si la comparación es falsa."
   ]
  },
  {
   "cell_type": "markdown",
   "id": "infrared-accounting",
   "metadata": {},
   "source": [
    "*      `==` Igual a `a==b` \n",
    "*      `!=` Distinto de `a!=b` \n",
    "*      `>` Mayor que `a>b` \n",
    "*      `<` Menor que `a<b` \n",
    "*      `>=` Mayor o igual que `a>=b` \n",
    "*      `<=` Menor o igual que `a<=b` "
   ]
  },
  {
   "cell_type": "markdown",
   "id": "phantom-installation",
   "metadata": {},
   "source": [
    "Observe la diferencia entre un signo de igualdad simple (=), que es una asignación, y un signo de igualdad doble (==), que es un operador relacional    \n",
    "**Consejo: Utiliza los paréntesis para mantener el orden de las operaciones."
   ]
  },
  {
   "cell_type": "code",
   "execution_count": null,
   "id": "historical-poster",
   "metadata": {},
   "outputs": [],
   "source": [
    "# Juguemos!"
   ]
  },
  {
   "cell_type": "code",
   "execution_count": 16,
   "id": "descending-marsh",
   "metadata": {},
   "outputs": [],
   "source": []
  },
  {
   "cell_type": "code",
   "execution_count": 17,
   "id": "korean-weather",
   "metadata": {},
   "outputs": [
    {
     "name": "stdout",
     "output_type": "stream",
     "text": [
      "False\n"
     ]
    }
   ],
   "source": []
  },
  {
   "cell_type": "code",
   "execution_count": 20,
   "id": "explicit-coral",
   "metadata": {},
   "outputs": [
    {
     "name": "stdout",
     "output_type": "stream",
     "text": [
      "True\n"
     ]
    }
   ],
   "source": []
  },
  {
   "cell_type": "code",
   "execution_count": 21,
   "id": "later-special",
   "metadata": {},
   "outputs": [
    {
     "data": {
      "text/plain": [
       "False"
      ]
     },
     "execution_count": 21,
     "metadata": {},
     "output_type": "execute_result"
    }
   ],
   "source": []
  },
  {
   "cell_type": "code",
   "execution_count": 22,
   "id": "widespread-active",
   "metadata": {},
   "outputs": [
    {
     "data": {
      "text/plain": [
       "True"
      ]
     },
     "execution_count": 22,
     "metadata": {},
     "output_type": "execute_result"
    }
   ],
   "source": []
  },
  {
   "cell_type": "code",
   "execution_count": 23,
   "id": "excessive-fellowship",
   "metadata": {},
   "outputs": [
    {
     "name": "stdout",
     "output_type": "stream",
     "text": [
      "False\n"
     ]
    }
   ],
   "source": []
  },
  {
   "cell_type": "code",
   "execution_count": 26,
   "id": "liable-mailman",
   "metadata": {},
   "outputs": [
    {
     "name": "stdout",
     "output_type": "stream",
     "text": [
      "False\n"
     ]
    }
   ],
   "source": []
  },
  {
   "cell_type": "markdown",
   "id": "moved-constitution",
   "metadata": {},
   "source": [
    "## Operadores lógicos/booleanos"
   ]
  },
  {
   "cell_type": "markdown",
   "id": "indirect-butter",
   "metadata": {},
   "source": [
    "Los operadores lógicos o booleanos son los que permiten conectar dos expresiones de comparación y evaluarlas lógicamente, excepto el operador not, que invierte el valor lógico de la expresión a la que se aplica. En Python existen tres operadores lógicos: and(y), or(o) y not(no). Las operaciones con estos operadores siempre devuelven un valor booleano: Verdadero o Falso."
   ]
  },
  {
   "cell_type": "markdown",
   "id": "assumed-stand",
   "metadata": {},
   "source": [
    "Con sólo estos dos valores `Verdadero`|`Falso` podemos crear toda una rama de las matemáticas llamada [Álgebra de Boole](https://en.wikipedia.org/wiki/Boolean_algebra#Laws). Mientras que en el Álgebra regular las operaciones básicas son la suma y la multiplicación, las principales operaciones del Álgebra de Boole son la conjunción (y), la disyunción (o), y la negación (no). **Es el formalismo utilizado para describir las operaciones lógicas**.\n",
    "\n",
    "En [Python escribimos estas operaciones](https://www.geeksforgeeks.org/python-3-logical-operators/?ref=rp) como:\n",
    "\n",
    "* `x` and `y` \n",
    "* `x` or `y`\n",
    "* not `x`\n",
    "\n",
    "Aunque el significado de estas operaciones es claro, podemos definirlas completamente con la llamada \"tabla de verdad\":"
   ]
  },
  {
   "cell_type": "markdown",
   "id": "coral-armenia",
   "metadata": {},
   "source": [
    "![tablas](http://elclubdelautodidacta.es/wp/wp-content/uploads/2012/11/python-logicos.png)"
   ]
  },
  {
   "cell_type": "markdown",
   "id": "reported-success",
   "metadata": {},
   "source": [
    "Podemos incluir también el O EXCLUSIVO, que es verdadero cuando uno y solo uno de los operandos lo es, pero estrictamente debes saber que se deriva a partir de los tres básicos. Su representación es ^, el sombrero o caret.      \n",
    "\n",
    "Tabla y O EXCLUSIVO sacados de [aquí, echadle un ojo](http://elclubdelautodidacta.es/wp/tag/logicos/)"
   ]
  },
  {
   "cell_type": "markdown",
   "id": "considered-violence",
   "metadata": {},
   "source": [
    "El operador **and** evalúa si las dos expresiones son verdaderas. Si ambas expresiones son verdaderas, devuelve True. Si alguna de las expresiones es falsa, devuelve Falso. Este tipo de tablas se conocen formalmente como \"tablas de verdad\"."
   ]
  },
  {
   "cell_type": "code",
   "execution_count": 27,
   "id": "fitted-madonna",
   "metadata": {},
   "outputs": [],
   "source": []
  },
  {
   "cell_type": "code",
   "execution_count": 1,
   "id": "proof-california",
   "metadata": {},
   "outputs": [],
   "source": []
  },
  {
   "cell_type": "code",
   "execution_count": 2,
   "id": "dated-kennedy",
   "metadata": {},
   "outputs": [
    {
     "data": {
      "text/plain": [
       "True"
      ]
     },
     "execution_count": 2,
     "metadata": {},
     "output_type": "execute_result"
    }
   ],
   "source": []
  },
  {
   "cell_type": "code",
   "execution_count": 36,
   "id": "sustainable-heart",
   "metadata": {},
   "outputs": [
    {
     "name": "stdout",
     "output_type": "stream",
     "text": [
      "False\n"
     ]
    }
   ],
   "source": []
  },
  {
   "cell_type": "code",
   "execution_count": 38,
   "id": "champion-wisdom",
   "metadata": {},
   "outputs": [
    {
     "data": {
      "text/plain": [
       "True"
      ]
     },
     "execution_count": 38,
     "metadata": {},
     "output_type": "execute_result"
    }
   ],
   "source": []
  },
  {
   "cell_type": "code",
   "execution_count": 30,
   "id": "unauthorized-thong",
   "metadata": {},
   "outputs": [
    {
     "data": {
      "text/plain": [
       "True"
      ]
     },
     "execution_count": 30,
     "metadata": {},
     "output_type": "execute_result"
    }
   ],
   "source": []
  },
  {
   "cell_type": "markdown",
   "id": "psychological-margin",
   "metadata": {},
   "source": [
    "El operador **or** evalúa si cualquiera de las expresiones es verdadera, es decir, devuelve True si cualquiera de las expresiones es verdadera y False cuando ambas expresiones son falsas."
   ]
  },
  {
   "cell_type": "code",
   "execution_count": 31,
   "id": "silver-flesh",
   "metadata": {},
   "outputs": [
    {
     "data": {
      "text/plain": [
       "True"
      ]
     },
     "execution_count": 31,
     "metadata": {},
     "output_type": "execute_result"
    }
   ],
   "source": []
  },
  {
   "cell_type": "code",
   "execution_count": 33,
   "id": "greek-shadow",
   "metadata": {},
   "outputs": [],
   "source": []
  },
  {
   "cell_type": "code",
   "execution_count": 39,
   "id": "collected-gibraltar",
   "metadata": {},
   "outputs": [
    {
     "data": {
      "text/plain": [
       "True"
      ]
     },
     "execution_count": 39,
     "metadata": {},
     "output_type": "execute_result"
    }
   ],
   "source": []
  },
  {
   "cell_type": "markdown",
   "id": "varied-species",
   "metadata": {},
   "source": [
    "Por último, el operador **not** es un operador que devuelve el valor opuesto a la expresión evaluada. Si la expresión tiene el valor True, devuelve False. Por el contrario, si la expresión tiene el valor False, devuelve True."
   ]
  },
  {
   "cell_type": "code",
   "execution_count": 40,
   "id": "located-annex",
   "metadata": {},
   "outputs": [],
   "source": []
  },
  {
   "cell_type": "code",
   "execution_count": 41,
   "id": "simplified-exchange",
   "metadata": {},
   "outputs": [
    {
     "data": {
      "text/plain": [
       "False"
      ]
     },
     "execution_count": 41,
     "metadata": {},
     "output_type": "execute_result"
    }
   ],
   "source": []
  },
  {
   "cell_type": "code",
   "execution_count": 42,
   "id": "attended-ghost",
   "metadata": {},
   "outputs": [
    {
     "data": {
      "text/plain": [
       "True"
      ]
     },
     "execution_count": 42,
     "metadata": {},
     "output_type": "execute_result"
    }
   ],
   "source": []
  },
  {
   "cell_type": "code",
   "execution_count": 43,
   "id": "computational-radius",
   "metadata": {},
   "outputs": [
    {
     "data": {
      "text/plain": [
       "False"
      ]
     },
     "execution_count": 43,
     "metadata": {},
     "output_type": "execute_result"
    }
   ],
   "source": []
  },
  {
   "cell_type": "markdown",
   "id": "civil-cookie",
   "metadata": {},
   "source": [
    "#### Extra para Nerds 🤓(echad un ojo y jugad con las celdas de abajo)"
   ]
  },
  {
   "cell_type": "markdown",
   "id": "optimum-czech",
   "metadata": {},
   "source": [
    "Las cosas pueden complicarse cuando combinamos varias expresiones lógicas... Consideremos, por ejemplo, las llamadas [leyes de De Morgan](https://en.wikipedia.org/wiki/De_Morgan%27s_laws):\n",
    "\n",
    "Las reglas se pueden expresar en español como:\n",
    "- La negación de la conjunción es la disyunción de las negaciones.\n",
    "- La negación de la disyunción es la conjunción de las negaciones.\n",
    "\n",
    "\n",
    "* not (A o B) = not A y not B\n",
    "* not (A y B) = no A o no B\n",
    "\n",
    "El [álgebra booleana](https://en.wikipedia.org/wiki/Boolean_algebra#Laws) satisface muchas reglas comunes como la conmutatividad, la asociatividad, etc. Pero aquí tratamos de mantener la sencillez y aprender con la práctica."
   ]
  },
  {
   "cell_type": "code",
   "execution_count": 7,
   "id": "excited-climate",
   "metadata": {},
   "outputs": [],
   "source": [
    "a = True\n",
    "b = False"
   ]
  },
  {
   "cell_type": "code",
   "execution_count": 8,
   "id": "manual-rogers",
   "metadata": {},
   "outputs": [
    {
     "data": {
      "text/plain": [
       "False"
      ]
     },
     "execution_count": 8,
     "metadata": {},
     "output_type": "execute_result"
    }
   ],
   "source": [
    "not (a or b)"
   ]
  },
  {
   "cell_type": "code",
   "execution_count": 9,
   "id": "spanish-mineral",
   "metadata": {},
   "outputs": [
    {
     "data": {
      "text/plain": [
       "True"
      ]
     },
     "execution_count": 9,
     "metadata": {},
     "output_type": "execute_result"
    }
   ],
   "source": [
    "not (a and b)"
   ]
  },
  {
   "cell_type": "markdown",
   "id": "bizarre-subdivision",
   "metadata": {},
   "source": [
    "## Identity operators"
   ]
  },
  {
   "cell_type": "markdown",
   "id": "educated-involvement",
   "metadata": {},
   "source": [
    "Los operadores de pertenencia, también conocidos como operadores miembro, permiten comprobar si un dato forma parte o no de una colección: una lista, una tupla, un string, etc.\n",
    "    El operador `in` tiene la sintaxis `elemento in contenedor`. Se trata de un operador booleano que comprueba si el elemento forma parte del contenedor. En caso afirmativo devuelve True y en caso negativo False"
   ]
  },
  {
   "cell_type": "code",
   "execution_count": 51,
   "id": "natural-capitol",
   "metadata": {},
   "outputs": [],
   "source": []
  },
  {
   "cell_type": "code",
   "execution_count": 52,
   "id": "preceding-custom",
   "metadata": {},
   "outputs": [],
   "source": []
  },
  {
   "cell_type": "code",
   "execution_count": 53,
   "id": "beginning-grass",
   "metadata": {},
   "outputs": [
    {
     "data": {
      "text/plain": [
       "True"
      ]
     },
     "execution_count": 53,
     "metadata": {},
     "output_type": "execute_result"
    }
   ],
   "source": []
  },
  {
   "cell_type": "code",
   "execution_count": 54,
   "id": "compressed-subsection",
   "metadata": {},
   "outputs": [
    {
     "data": {
      "text/plain": [
       "False"
      ]
     },
     "execution_count": 54,
     "metadata": {},
     "output_type": "execute_result"
    }
   ],
   "source": []
  },
  {
   "cell_type": "code",
   "execution_count": 55,
   "id": "vital-denial",
   "metadata": {
    "scrolled": true
   },
   "outputs": [
    {
     "data": {
      "text/plain": [
       "False"
      ]
     },
     "execution_count": 55,
     "metadata": {},
     "output_type": "execute_result"
    }
   ],
   "source": []
  },
  {
   "cell_type": "code",
   "execution_count": 56,
   "id": "pleased-drilling",
   "metadata": {},
   "outputs": [],
   "source": [
    "hola = \"b\""
   ]
  },
  {
   "cell_type": "code",
   "execution_count": 57,
   "id": "australian-static",
   "metadata": {},
   "outputs": [
    {
     "data": {
      "text/plain": [
       "True"
      ]
     },
     "execution_count": 57,
     "metadata": {},
     "output_type": "execute_result"
    }
   ],
   "source": [
    "hola in cadena"
   ]
  },
  {
   "cell_type": "markdown",
   "id": "attended-assurance",
   "metadata": {},
   "source": [
    "# Control Flow"
   ]
  },
  {
   "cell_type": "markdown",
   "id": "environmental-medium",
   "metadata": {},
   "source": [
    "En los lenguajes imperativos, como Python, el ordenador sigue la secuencia de instrucciones del código y lo ejecuta línea a línea. Denominamos \"flujo\" de un programa al orden en la ejecución del código. Este orden secuencial puede alterarse. La llamada a una función, por ejemplo, lleva la ejecución al código en su interior (el \"cuerpo\" de la función) para regresar inmediatamente después de dicha llamada y continuar.    \n",
    "La ejecución es similar a nuestra atención en un proceso de limpieza de la casa, por ejemplo, solo podemos hacer una tarea a la vez. Estamos barriendo, pero al terminar de barrear golpeamos un jarrón (imagina que me lo regaló mi tía y qué ilusión) , entonces recogemos los trozos antes de ponernos a fregar. Fregando encontramos el chicle perdido de nuestro sobrino bajo el sofá, lo cual nos obliga a ir a buscar una espátula para quitarlo..... \n",
    "Pero solo podemos hacer una tarea a la vez. 🥲"
   ]
  },
  {
   "cell_type": "markdown",
   "id": "opening-gates",
   "metadata": {},
   "source": [
    "## Pseudocódigo"
   ]
  },
  {
   "cell_type": "markdown",
   "id": "joint-customs",
   "metadata": {},
   "source": [
    "El pseudocódigo es un método de planificación que permite al programador planificar sin preocuparse por la sintaxis."
   ]
  },
  {
   "cell_type": "markdown",
   "id": "short-survey",
   "metadata": {},
   "source": [
    "--> https://es.wikipedia.org/wiki/Pseudoc%C3%B3digo"
   ]
  },
  {
   "cell_type": "code",
   "execution_count": null,
   "id": "designed-addiction",
   "metadata": {},
   "outputs": [],
   "source": []
  },
  {
   "cell_type": "markdown",
   "id": "assured-guidance",
   "metadata": {},
   "source": [
    "## La sentencia \"If \n",
    "Esta es la opción más conocida para controlar el flujo de un programa. Las condiciones permiten elegir entre diferentes caminos en función del valor de una expresión.Cuando se quiere ejecutar una acción sólo cuando alguna condición es `Verdadera` se utiliza una sentencia \"if\":"
   ]
  },
  {
   "cell_type": "code",
   "execution_count": 76,
   "id": "pediatric-polyester",
   "metadata": {},
   "outputs": [
    {
     "name": "stdout",
     "output_type": "stream",
     "text": [
      "la condición se cumple\n"
     ]
    }
   ],
   "source": []
  },
  {
   "cell_type": "code",
   "execution_count": 84,
   "id": "absent-optics",
   "metadata": {},
   "outputs": [],
   "source": []
  },
  {
   "cell_type": "code",
   "execution_count": 80,
   "id": "opened-maria",
   "metadata": {},
   "outputs": [
    {
     "name": "stdout",
     "output_type": "stream",
     "text": [
      "La condición se cumple\n"
     ]
    }
   ],
   "source": []
  },
  {
   "cell_type": "markdown",
   "id": "southeast-shakespeare",
   "metadata": {},
   "source": [
    "Como podemos ver, el bloque de código asociado a la condición comienza después de los dos puntos \":\", con una sangría que determina el bloque de código. Todas las instrucciones pertenecientes al mismo bloque deben tener la misma sangría. El bloque termina cuando la sangría vuelve a la posición inicial de la sentencia if. Recuerde que Python utiliza la sangría para identificar los bloques de código."
   ]
  },
  {
   "cell_type": "code",
   "execution_count": 87,
   "id": "polyphonic-colon",
   "metadata": {},
   "outputs": [
    {
     "name": "stdout",
     "output_type": "stream",
     "text": [
      "adiós\n",
      "hola\n"
     ]
    }
   ],
   "source": []
  },
  {
   "cell_type": "code",
   "execution_count": 88,
   "id": "hazardous-farmer",
   "metadata": {},
   "outputs": [
    {
     "ename": "IndentationError",
     "evalue": "expected an indented block (<ipython-input-88-9bb1d36ad676>, line 2)",
     "output_type": "error",
     "traceback": [
      "\u001b[0;36m  File \u001b[0;32m\"<ipython-input-88-9bb1d36ad676>\"\u001b[0;36m, line \u001b[0;32m2\u001b[0m\n\u001b[0;31m    print(\"hola\") # Este bloque de código no está indentado\u001b[0m\n\u001b[0m    ^\u001b[0m\n\u001b[0;31mIndentationError\u001b[0m\u001b[0;31m:\u001b[0m expected an indented block\n"
     ]
    }
   ],
   "source": []
  },
  {
   "cell_type": "code",
   "execution_count": 90,
   "id": "ultimate-contrast",
   "metadata": {},
   "outputs": [
    {
     "name": "stdout",
     "output_type": "stream",
     "text": [
      "1\n",
      "[1, 2, 3, 4]\n",
      "2\n",
      "[1, 2, 3, 4]\n",
      "3\n",
      "[1, 2, 3, 4]\n",
      "4\n",
      "[1, 2, 3, 4]\n",
      "[1, 2, 3, 4]\n"
     ]
    }
   ],
   "source": []
  },
  {
   "cell_type": "code",
   "execution_count": null,
   "id": "thrown-money",
   "metadata": {},
   "outputs": [],
   "source": [
    "# es tu turno!\n",
    "# escribe un programa simple que imprima si bob puede entrar en la discoteca\n",
    "# para dos valores cualesquiera de las siguientes variables:"
   ]
  },
  {
   "cell_type": "code",
   "execution_count": 91,
   "id": "attended-steps",
   "metadata": {},
   "outputs": [
    {
     "name": "stdout",
     "output_type": "stream",
     "text": [
      "Bob, puedes entrar\n"
     ]
    }
   ],
   "source": [
    "#print(edad_bob,edad_minima)"
   ]
  },
  {
   "cell_type": "markdown",
   "id": "described-bikini",
   "metadata": {},
   "source": [
    "### Vuestros ejemplos 🚀"
   ]
  },
  {
   "cell_type": "code",
   "execution_count": 92,
   "id": "analyzed-recipe",
   "metadata": {},
   "outputs": [
    {
     "name": "stdout",
     "output_type": "stream",
     "text": [
      "74\n",
      "Hola que edad tienes, 74\n",
      "Puedes entrar Bob\n"
     ]
    }
   ],
   "source": []
  },
  {
   "cell_type": "code",
   "execution_count": 93,
   "id": "compatible-tribune",
   "metadata": {},
   "outputs": [
    {
     "name": "stdout",
     "output_type": "stream",
     "text": [
      "Introduzca tu edad por favor: adglkj\n",
      "Introduzca tu edad por favor (Debe ser un número): 21\n",
      " Puedes entrar a la discoteca\n"
     ]
    }
   ],
   "source": []
  },
  {
   "cell_type": "markdown",
   "id": "approximate-lexington",
   "metadata": {},
   "source": [
    "### else\n",
    "A veces se quiere que si la condición no se cumple (y sólo entonces) se ejecute otra acción. Son acciones mutuamente excluyentes. Esto se consigue con la sentencia `else`."
   ]
  },
  {
   "cell_type": "markdown",
   "id": "median-injection",
   "metadata": {},
   "source": [
    "![if](../images/if-else-statements.jpeg)"
   ]
  },
  {
   "cell_type": "code",
   "execution_count": 95,
   "id": "clean-selling",
   "metadata": {},
   "outputs": [
    {
     "name": "stdout",
     "output_type": "stream",
     "text": [
      "La condición no se cumple\n"
     ]
    }
   ],
   "source": []
  },
  {
   "cell_type": "code",
   "execution_count": 96,
   "id": "irish-mongolia",
   "metadata": {},
   "outputs": [
    {
     "name": "stdout",
     "output_type": "stream",
     "text": [
      "La condición se cumple\n"
     ]
    }
   ],
   "source": []
  },
  {
   "cell_type": "code",
   "execution_count": null,
   "id": "small-brooks",
   "metadata": {},
   "outputs": [],
   "source": [
    "# Modifica tu programa para que cuando Bob no pueda acceder a la disco haya un mensaje de impresión diferente:"
   ]
  },
  {
   "cell_type": "code",
   "execution_count": 99,
   "id": "committed-playback",
   "metadata": {},
   "outputs": [
    {
     "name": "stdout",
     "output_type": "stream",
     "text": [
      "Introduce tu edad 15\n",
      "Vete a casa Bob\n"
     ]
    }
   ],
   "source": []
  },
  {
   "cell_type": "markdown",
   "id": "violent-speaker",
   "metadata": {},
   "source": [
    "### elif\n",
    "A veces hay más de dos posibilidades. Piensa en algo como:\n",
    "\"Si Bob puede entrar en la discoteca, déjale entrar. Si no, si tiene más de 16 años, recomiéndale la discoteca light cercana. Si no, envíalo a casa\".\n",
    "\n",
    "Podemos conseguirlo con la cláusula `elif` y los condicionales encadenados:"
   ]
  },
  {
   "cell_type": "markdown",
   "id": "behind-ghana",
   "metadata": {},
   "source": [
    "```python\n",
    "if nosequé:\n",
    "    nosecuantos\n",
    "if otracosa:\n",
    "    nosecuantitos\n",
    "```\n",
    "\n",
    "💩 Es computacionalmente más eficiente utilizar elif, aunque este código funciona, Python va a entrar a comprobar todos los if"
   ]
  },
  {
   "cell_type": "code",
   "execution_count": 101,
   "id": "stock-dependence",
   "metadata": {},
   "outputs": [
    {
     "name": "stdout",
     "output_type": "stream",
     "text": [
      "La condición 2 se cumple\n"
     ]
    }
   ],
   "source": []
  },
  {
   "cell_type": "code",
   "execution_count": null,
   "id": "foster-formation",
   "metadata": {},
   "outputs": [],
   "source": [
    "\"\"\"\n",
    "Modifica tu programa para que cuando Bob no pueda acceder a la discoteca pero esté por encima de la edad legal\n",
    "lo envíes a la disco light\n",
    "\"\"\""
   ]
  },
  {
   "cell_type": "markdown",
   "id": "significant-bulgarian",
   "metadata": {},
   "source": [
    "Vuestro código 🔥🔝"
   ]
  },
  {
   "cell_type": "code",
   "execution_count": 102,
   "id": "published-hunger",
   "metadata": {},
   "outputs": [
    {
     "name": "stdout",
     "output_type": "stream",
     "text": [
      "Introduzca tu edad por favor: ,znxfla\n",
      "Introduzca tu edad por favor (Debe ser un número): 15\n",
      "puedes entrar e la disco, pero no te emociones, es la disco light\n"
     ]
    }
   ],
   "source": []
  },
  {
   "cell_type": "code",
   "execution_count": 104,
   "id": "hybrid-alfred",
   "metadata": {},
   "outputs": [
    {
     "name": "stdout",
     "output_type": "stream",
     "text": [
      "edad de bob57\n",
      "edad minima18\n",
      "pasa\n"
     ]
    }
   ],
   "source": []
  },
  {
   "cell_type": "code",
   "execution_count": null,
   "id": "transparent-nickname",
   "metadata": {},
   "outputs": [],
   "source": [
    "# Por último, ¡las cosas pueden ser tan salvajes como queramos con los condicionales anidados!"
   ]
  },
  {
   "cell_type": "code",
   "execution_count": null,
   "id": "disciplinary-helena",
   "metadata": {},
   "outputs": [],
   "source": [
    "# Un simple programa de \"comparación de dos números\". ¿Puedes entenderlo?\n",
    "# Es el mismo ejemplo que anterior, pero con else anidado, sin elif"
   ]
  },
  {
   "cell_type": "markdown",
   "id": "continuous-identifier",
   "metadata": {},
   "source": [
    "Vuestro código 🔥🔝"
   ]
  },
  {
   "cell_type": "code",
   "execution_count": 106,
   "id": "aware-niagara",
   "metadata": {},
   "outputs": [
    {
     "name": "stdout",
     "output_type": "stream",
     "text": [
      "introduce tu edad:18\n",
      "Adelante\n"
     ]
    }
   ],
   "source": []
  },
  {
   "cell_type": "code",
   "execution_count": 108,
   "id": "dimensional-rachel",
   "metadata": {},
   "outputs": [
    {
     "name": "stdout",
     "output_type": "stream",
     "text": [
      "Bob, puedes ir a una discoteca light\n"
     ]
    }
   ],
   "source": []
  },
  {
   "cell_type": "code",
   "execution_count": 109,
   "id": "monetary-malpractice",
   "metadata": {},
   "outputs": [
    {
     "name": "stdout",
     "output_type": "stream",
     "text": [
      "Introduzca tu edad por favor: 20\n",
      "Puedes entrar a la discoteca\n"
     ]
    }
   ],
   "source": []
  },
  {
   "cell_type": "code",
   "execution_count": null,
   "id": "challenging-ebony",
   "metadata": {},
   "outputs": [],
   "source": []
  },
  {
   "cell_type": "code",
   "execution_count": null,
   "id": "annoying-subscriber",
   "metadata": {},
   "outputs": [],
   "source": [
    "# Más ejemplos!"
   ]
  },
  {
   "cell_type": "markdown",
   "id": "joined-paradise",
   "metadata": {},
   "source": [
    "Imaginemos que estamos construyendo el programa para un robot clasificador de huevos por tamaño. Nuestro brazo robot recibe la información de una balanza, la cual le indica, en gramos, el peso del huevo que debe clasificar. El brazo debe, a partir del peso, ubicar el huevo en una caja u otra como sigue:   \n",
    "**Caja S** (pequeños) : peso menor a 53 gramos.   \n",
    "**Caja M** (medianos) : peso mayor o igual a 53 gramos e inferior a 63 gramos.   \n",
    "**Caja L** (grandes): peso mayor o igual a 63 gramos e inferior a 73 gramos.   \n",
    "**Caja XL** (súper grandes): peso mayor o igual a 73 gramos.   "
   ]
  },
  {
   "cell_type": "markdown",
   "id": "exact-messenger",
   "metadata": {},
   "source": [
    "Con lo que hemos visto ya somos capaces de resolver el problema, gracias a la posibilidad de anidar estructuras:"
   ]
  },
  {
   "cell_type": "code",
   "execution_count": null,
   "id": "seasonal-ribbon",
   "metadata": {},
   "outputs": [],
   "source": [
    "# Tu turno!"
   ]
  },
  {
   "cell_type": "code",
   "execution_count": 110,
   "id": "sporting-heavy",
   "metadata": {},
   "outputs": [
    {
     "name": "stdout",
     "output_type": "stream",
     "text": [
      "50\n",
      "El peso es:  50\n",
      "Lo enviamos a la caja pequeña\n"
     ]
    }
   ],
   "source": []
  },
  {
   "cell_type": "code",
   "execution_count": 115,
   "id": "trained-newport",
   "metadata": {},
   "outputs": [
    {
     "name": "stdout",
     "output_type": "stream",
     "text": [
      "Introduzca el peso del huevo por favor: 56\n",
      "almacenado en la caja M\n",
      "la caja s tiene almacenados:  0\n",
      "la caja m tiene almacenados:  1\n",
      "la caja l tiene almacenados:  0\n",
      "la caja xl tiene almacendos:  0\n"
     ]
    }
   ],
   "source": []
  },
  {
   "cell_type": "code",
   "execution_count": 120,
   "id": "awful-fight",
   "metadata": {},
   "outputs": [],
   "source": [
    "#Sin elif"
   ]
  },
  {
   "cell_type": "code",
   "execution_count": 119,
   "id": "coastal-contact",
   "metadata": {},
   "outputs": [
    {
     "name": "stdout",
     "output_type": "stream",
     "text": [
      "Introudzca peso del huevo por favor: 89\n",
      "Caja XL (súper grandes)\n"
     ]
    }
   ],
   "source": []
  },
  {
   "cell_type": "code",
   "execution_count": 121,
   "id": "maritime-subdivision",
   "metadata": {},
   "outputs": [],
   "source": []
  },
  {
   "cell_type": "code",
   "execution_count": 127,
   "id": "dedicated-family",
   "metadata": {},
   "outputs": [
    {
     "name": "stdout",
     "output_type": "stream",
     "text": [
      "CPU times: user 4 µs, sys: 6 µs, total: 10 µs\n",
      "Wall time: 8.11 µs\n",
      "Caja M (medianos)\n"
     ]
    }
   ],
   "source": []
  },
  {
   "cell_type": "code",
   "execution_count": 132,
   "id": "fatty-landing",
   "metadata": {},
   "outputs": [
    {
     "name": "stdout",
     "output_type": "stream",
     "text": [
      "CPU times: user 3 µs, sys: 1 µs, total: 4 µs\n",
      "Wall time: 7.15 µs\n",
      "Caja S (pequeños)\n"
     ]
    }
   ],
   "source": []
  },
  {
   "cell_type": "code",
   "execution_count": 133,
   "id": "promising-cotton",
   "metadata": {},
   "outputs": [
    {
     "name": "stdout",
     "output_type": "stream",
     "text": [
      "Cual es el peso del huevo?: 66\n",
      "El huevo va a la Caja L\n"
     ]
    }
   ],
   "source": []
  },
  {
   "cell_type": "markdown",
   "id": "dependent-viewer",
   "metadata": {},
   "source": [
    "## Summary \n",
    "Es tu turno: ¿Qué hemos aprendido?"
   ]
  },
  {
   "cell_type": "markdown",
   "id": "toxic-romance",
   "metadata": {},
   "source": [
    "## Further materials\n",
    "\n",
    "* [Python docs](https://docs.python.org/3/tutorial/controlflow.html)\n",
    "* Short tutorial on [Python Booleans](https://realpython.com/python-boolean/\n",
    "* Just a nice [talk by Feynman](https://www.youtube.com/watch?v=EKWGGDXe5MA) on the principles of computation"
   ]
  }
 ],
 "metadata": {
  "kernelspec": {
   "display_name": "ironhack",
   "language": "python",
   "name": "ironhack"
  },
  "language_info": {
   "codemirror_mode": {
    "name": "ipython",
    "version": 3
   },
   "file_extension": ".py",
   "mimetype": "text/x-python",
   "name": "python",
   "nbconvert_exporter": "python",
   "pygments_lexer": "ipython3",
   "version": "3.8.5"
  },
  "toc": {
   "base_numbering": 1,
   "nav_menu": {},
   "number_sections": true,
   "sideBar": true,
   "skip_h1_title": true,
   "title_cell": "Table of Contents",
   "title_sidebar": "Contents",
   "toc_cell": true,
   "toc_position": {},
   "toc_section_display": true,
   "toc_window_display": false
  }
 },
 "nbformat": 4,
 "nbformat_minor": 5
}
