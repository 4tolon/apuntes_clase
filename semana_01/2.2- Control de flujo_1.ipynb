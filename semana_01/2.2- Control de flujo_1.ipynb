{
 "cells": [
  {
   "cell_type": "markdown",
   "id": "subjective-quarter",
   "metadata": {
    "toc": true
   },
   "source": [
    "<h1>Table of Contents<span class=\"tocSkip\"></span></h1>\n",
    "<div class=\"toc\"><ul class=\"toc-item\"><li><span><a href=\"#Operadores-de-asignación\" data-toc-modified-id=\"Operadores-de-asignación-1\"><span class=\"toc-item-num\">1&nbsp;&nbsp;</span>Operadores de asignación</a></span></li><li><span><a href=\"#Operadores-aritméticos\" data-toc-modified-id=\"Operadores-aritméticos-2\"><span class=\"toc-item-num\">2&nbsp;&nbsp;</span>Operadores aritméticos</a></span></li><li><span><a href=\"#Operadores-relacionales\" data-toc-modified-id=\"Operadores-relacionales-3\"><span class=\"toc-item-num\">3&nbsp;&nbsp;</span>Operadores relacionales</a></span></li><li><span><a href=\"#Operadores-lógicos/booleanos\" data-toc-modified-id=\"Operadores-lógicos/booleanos-4\"><span class=\"toc-item-num\">4&nbsp;&nbsp;</span>Operadores lógicos/booleanos</a></span><ul class=\"toc-item\"><li><ul class=\"toc-item\"><li><span><a href=\"#Extra-para-Nerds-🤓(echad-un-ojo-y-jugad-con-las-celdas-de-abajo)\" data-toc-modified-id=\"Extra-para-Nerds-🤓(echad-un-ojo-y-jugad-con-las-celdas-de-abajo)-4.0.1\"><span class=\"toc-item-num\">4.0.1&nbsp;&nbsp;</span>Extra para Nerds 🤓(echad un ojo y jugad con las celdas de abajo)</a></span></li></ul></li></ul></li><li><span><a href=\"#Identity-operators\" data-toc-modified-id=\"Identity-operators-5\"><span class=\"toc-item-num\">5&nbsp;&nbsp;</span>Identity operators</a></span></li><li><span><a href=\"#Pseudocódigo\" data-toc-modified-id=\"Pseudocódigo-6\"><span class=\"toc-item-num\">6&nbsp;&nbsp;</span>Pseudocódigo</a></span></li><li><span><a href=\"#La-sentencia-&quot;If\" data-toc-modified-id=\"La-sentencia-&quot;If-7\"><span class=\"toc-item-num\">7&nbsp;&nbsp;</span>La sentencia \"If</a></span><ul class=\"toc-item\"><li><span><a href=\"#Vuestros-ejemplos-🚀\" data-toc-modified-id=\"Vuestros-ejemplos-🚀-7.1\"><span class=\"toc-item-num\">7.1&nbsp;&nbsp;</span>Vuestros ejemplos 🚀</a></span></li><li><span><a href=\"#else\" data-toc-modified-id=\"else-7.2\"><span class=\"toc-item-num\">7.2&nbsp;&nbsp;</span>else</a></span></li><li><span><a href=\"#Vuestros-ejemplos-🚀\" data-toc-modified-id=\"Vuestros-ejemplos-🚀-7.3\"><span class=\"toc-item-num\">7.3&nbsp;&nbsp;</span>Vuestros ejemplos 🚀</a></span></li><li><span><a href=\"#elif\" data-toc-modified-id=\"elif-7.4\"><span class=\"toc-item-num\">7.4&nbsp;&nbsp;</span>elif</a></span></li><li><span><a href=\"#Vuestros-ejemplos-🚀🔝\" data-toc-modified-id=\"Vuestros-ejemplos-🚀🔝-7.5\"><span class=\"toc-item-num\">7.5&nbsp;&nbsp;</span>Vuestros ejemplos 🚀🔝</a></span></li><li><span><a href=\"#Vuestros-ejemplos-🚀\" data-toc-modified-id=\"Vuestros-ejemplos-🚀-7.6\"><span class=\"toc-item-num\">7.6&nbsp;&nbsp;</span>Vuestros ejemplos 🚀</a></span></li></ul></li><li><span><a href=\"#Summary\" data-toc-modified-id=\"Summary-8\"><span class=\"toc-item-num\">8&nbsp;&nbsp;</span>Summary</a></span></li><li><span><a href=\"#Further-materials\" data-toc-modified-id=\"Further-materials-9\"><span class=\"toc-item-num\">9&nbsp;&nbsp;</span>Further materials</a></span></li></ul></div>"
   ]
  },
  {
   "cell_type": "markdown",
   "id": "italic-editor",
   "metadata": {},
   "source": [
    "# Control Flow    \n",
    "Let`s go with the flow"
   ]
  },
  {
   "cell_type": "markdown",
   "id": "published-emerald",
   "metadata": {},
   "source": [
    "![the_flow](https://media.giphy.com/media/SA6RvPmPJVlJoqYo7U/giphy.gif)"
   ]
  },
  {
   "cell_type": "markdown",
   "id": "looking-stylus",
   "metadata": {},
   "source": [
    "## Operadores de asignación"
   ]
  },
  {
   "cell_type": "markdown",
   "id": "civil-motorcycle",
   "metadata": {},
   "source": [
    "Los operadores de asignación son los que permiten dar un valor a una variable o modificarla. Python tiene ocho operadores de asignación diferentes: un operador de asignación simple y siete operadores de asignación compuestos."
   ]
  },
  {
   "cell_type": "markdown",
   "id": "convertible-disposal",
   "metadata": {},
   "source": [
    "* `=` Asignación simple `a=b`     \n",
    "* `+=` Asignación de adición `a+=b`   Equivalente simple `a=a+b`   \n",
    "* `-=` Asignación de sustracción `a-=b` Equivalente simple `a=a-b`       \n",
    "* `*=` Asignación de la multiplicación `a*=b` Equivalente simple `a=a*b`\n",
    "* `/=` Asignación de división `a/=b` Equivalente simple `a=a/b`   \n",
    "* `%=` Asignación de módulo`a/=b` Equivalente simple `a=a%b`    \n",
    "* `//=` Asignación de división entera `a//=b` Equivalente simple `a=a//b`  "
   ]
  },
  {
   "cell_type": "markdown",
   "id": "drawn-reason",
   "metadata": {},
   "source": [
    "El operador de asignación simple es el símbolo igual (=) y las operaciones realizadas con él tienen siempre la sintaxis: `variable = expresión`. En este tipo de operaciones, en primer lugar, se resuelve la expresión de la derecha y el valor resultante se asigna a la variable de la izquierda."
   ]
  },
  {
   "cell_type": "code",
   "execution_count": 10,
   "id": "checked-isaac",
   "metadata": {},
   "outputs": [],
   "source": [
    "a = 4\n",
    "b = 3"
   ]
  },
  {
   "cell_type": "code",
   "execution_count": 12,
   "id": "comparative-aggregate",
   "metadata": {},
   "outputs": [],
   "source": [
    "# Puedo igualar una variable con la suma\n",
    "c = a + b"
   ]
  },
  {
   "cell_type": "code",
   "execution_count": 13,
   "id": "vital-chase",
   "metadata": {},
   "outputs": [],
   "source": [
    "# Actualizo la varaiable a con la suma de b\n",
    "c += b"
   ]
  },
  {
   "cell_type": "code",
   "execution_count": 14,
   "id": "signed-front",
   "metadata": {},
   "outputs": [
    {
     "data": {
      "text/plain": [
       "10"
      ]
     },
     "execution_count": 14,
     "metadata": {},
     "output_type": "execute_result"
    }
   ],
   "source": [
    "c"
   ]
  },
  {
   "cell_type": "code",
   "execution_count": null,
   "id": "everyday-baghdad",
   "metadata": {},
   "outputs": [],
   "source": [
    "# // división entera\n"
   ]
  },
  {
   "cell_type": "code",
   "execution_count": 16,
   "id": "reflected-framework",
   "metadata": {},
   "outputs": [],
   "source": [
    "c //= b"
   ]
  },
  {
   "cell_type": "code",
   "execution_count": 17,
   "id": "unlikely-interference",
   "metadata": {},
   "outputs": [
    {
     "data": {
      "text/plain": [
       "3"
      ]
     },
     "execution_count": 17,
     "metadata": {},
     "output_type": "execute_result"
    }
   ],
   "source": [
    "c"
   ]
  },
  {
   "cell_type": "markdown",
   "id": "recent-gambling",
   "metadata": {},
   "source": [
    "## Operadores aritméticos"
   ]
  },
  {
   "cell_type": "markdown",
   "id": "union-arbitration",
   "metadata": {},
   "source": [
    "Los operadores aritméticos se utilizan para realizar operaciones aritméticas, es decir, para manipular datos numéricos mediante operaciones matemáticas como la suma, la resta o la multiplicación.....(los hemos visto hace un rato, así que no me lío)"
   ]
  },
  {
   "cell_type": "code",
   "execution_count": 18,
   "id": "driven-belly",
   "metadata": {},
   "outputs": [
    {
     "data": {
      "text/plain": [
       "7"
      ]
     },
     "execution_count": 18,
     "metadata": {},
     "output_type": "execute_result"
    }
   ],
   "source": [
    "a + b"
   ]
  },
  {
   "cell_type": "code",
   "execution_count": 19,
   "id": "boolean-princess",
   "metadata": {},
   "outputs": [
    {
     "data": {
      "text/plain": [
       "1"
      ]
     },
     "execution_count": 19,
     "metadata": {},
     "output_type": "execute_result"
    }
   ],
   "source": [
    "a - b"
   ]
  },
  {
   "cell_type": "code",
   "execution_count": 20,
   "id": "smooth-arlington",
   "metadata": {},
   "outputs": [
    {
     "data": {
      "text/plain": [
       "1"
      ]
     },
     "execution_count": 20,
     "metadata": {},
     "output_type": "execute_result"
    }
   ],
   "source": [
    "a // b"
   ]
  },
  {
   "cell_type": "markdown",
   "id": "boolean-diamond",
   "metadata": {},
   "source": [
    "## Operadores relacionales"
   ]
  },
  {
   "cell_type": "markdown",
   "id": "recorded-penetration",
   "metadata": {},
   "source": [
    "Los operadores relacionales son símbolos utilizados para comparar dos valores o expresiones. El resultado de la evaluación con estos dos operadores puede ser True, si la comparación es verdadera, o False, si la comparación es falsa."
   ]
  },
  {
   "cell_type": "markdown",
   "id": "infrared-accounting",
   "metadata": {},
   "source": [
    "*      `==` Igual a `a==b` \n",
    "*      `!=` Distinto de `a!=b` \n",
    "*      `>` Mayor que `a>b` \n",
    "*      `<` Menor que `a<b` \n",
    "*      `>=` Mayor o igual que `a>=b` \n",
    "*      `<=` Menor o igual que `a<=b` "
   ]
  },
  {
   "cell_type": "markdown",
   "id": "phantom-installation",
   "metadata": {},
   "source": [
    "Observe la diferencia entre un signo de igualdad simple (=), que es una asignación, y un signo de igualdad doble (==), que es un operador relacional    \n",
    "**Consejo: Utiliza los paréntesis para mantener el orden de las operaciones."
   ]
  },
  {
   "cell_type": "code",
   "execution_count": null,
   "id": "historical-poster",
   "metadata": {},
   "outputs": [],
   "source": [
    "# Juguemos!"
   ]
  },
  {
   "cell_type": "code",
   "execution_count": 21,
   "id": "descending-marsh",
   "metadata": {},
   "outputs": [],
   "source": [
    "x = 1\n",
    "y = 3"
   ]
  },
  {
   "cell_type": "code",
   "execution_count": 22,
   "id": "korean-weather",
   "metadata": {},
   "outputs": [
    {
     "data": {
      "text/plain": [
       "False"
      ]
     },
     "execution_count": 22,
     "metadata": {},
     "output_type": "execute_result"
    }
   ],
   "source": [
    "x == y"
   ]
  },
  {
   "cell_type": "code",
   "execution_count": 23,
   "id": "explicit-coral",
   "metadata": {},
   "outputs": [
    {
     "data": {
      "text/plain": [
       "True"
      ]
     },
     "execution_count": 23,
     "metadata": {},
     "output_type": "execute_result"
    }
   ],
   "source": [
    "x != y"
   ]
  },
  {
   "cell_type": "code",
   "execution_count": 24,
   "id": "later-special",
   "metadata": {},
   "outputs": [
    {
     "data": {
      "text/plain": [
       "False"
      ]
     },
     "execution_count": 24,
     "metadata": {},
     "output_type": "execute_result"
    }
   ],
   "source": [
    "x > y"
   ]
  },
  {
   "cell_type": "code",
   "execution_count": 25,
   "id": "widespread-active",
   "metadata": {},
   "outputs": [
    {
     "data": {
      "text/plain": [
       "True"
      ]
     },
     "execution_count": 25,
     "metadata": {},
     "output_type": "execute_result"
    }
   ],
   "source": [
    "x < y"
   ]
  },
  {
   "cell_type": "markdown",
   "id": "moved-constitution",
   "metadata": {},
   "source": [
    "## Operadores lógicos/booleanos"
   ]
  },
  {
   "cell_type": "markdown",
   "id": "indirect-butter",
   "metadata": {},
   "source": [
    "Los operadores lógicos o booleanos son los que permiten conectar dos expresiones de comparación y evaluarlas lógicamente, excepto el operador not, que invierte el valor lógico de la expresión a la que se aplica. En Python existen tres operadores lógicos: and(y), or(o) y not(no). Las operaciones con estos operadores siempre devuelven un valor booleano: Verdadero o Falso."
   ]
  },
  {
   "cell_type": "markdown",
   "id": "assumed-stand",
   "metadata": {},
   "source": [
    "Con sólo estos dos valores `Verdadero`|`Falso` podemos crear toda una rama de las matemáticas llamada [Álgebra de Boole](https://en.wikipedia.org/wiki/Boolean_algebra#Laws). Mientras que en el Álgebra regular las operaciones básicas son la suma y la multiplicación, las principales operaciones del Álgebra de Boole son la conjunción (y), la disyunción (o), y la negación (no). **Es el formalismo utilizado para describir las operaciones lógicas**.\n",
    "\n",
    "En [Python escribimos estas operaciones](https://www.geeksforgeeks.org/python-3-logical-operators/?ref=rp) como:\n",
    "\n",
    "* `x` and `y` \n",
    "* `x` or `y`\n",
    "* not `x`\n",
    "\n",
    "Aunque el significado de estas operaciones es claro, podemos definirlas completamente con la llamada \"tabla de verdad\":"
   ]
  },
  {
   "cell_type": "markdown",
   "id": "coral-armenia",
   "metadata": {},
   "source": [
    "![tablas](http://elclubdelautodidacta.es/wp/wp-content/uploads/2012/11/python-logicos.png)"
   ]
  },
  {
   "cell_type": "markdown",
   "id": "pressed-balance",
   "metadata": {},
   "source": [
    "Podemos incluir también el O EXCLUSIVO, que es verdadero cuando uno y solo uno de los operandos lo es, pero estrictamente debes saber que se deriva a partir de los tres básicos. Su representación es ^, el sombrero o caret.      \n",
    "\n",
    "Tabla y O EXCLUSIVO sacados de [aquí, echadle un ojo](http://elclubdelautodidacta.es/wp/tag/logicos/)"
   ]
  },
  {
   "cell_type": "markdown",
   "id": "considered-violence",
   "metadata": {},
   "source": [
    "El operador **and** evalúa si las dos expresiones son verdaderas. Si ambas expresiones son verdaderas, devuelve True. Si alguna de las expresiones es falsa, devuelve Falso. Este tipo de tablas se conocen formalmente como \"tablas de verdad\"."
   ]
  },
  {
   "cell_type": "code",
   "execution_count": 26,
   "id": "fitted-madonna",
   "metadata": {},
   "outputs": [],
   "source": [
    "hola = True\n",
    "adios = False"
   ]
  },
  {
   "cell_type": "code",
   "execution_count": 27,
   "id": "secure-fruit",
   "metadata": {},
   "outputs": [
    {
     "name": "stdout",
     "output_type": "stream",
     "text": [
      "False\n"
     ]
    }
   ],
   "source": [
    "print(hola and adios)"
   ]
  },
  {
   "cell_type": "code",
   "execution_count": 28,
   "id": "recent-armstrong",
   "metadata": {},
   "outputs": [
    {
     "data": {
      "text/plain": [
       "True"
      ]
     },
     "execution_count": 28,
     "metadata": {},
     "output_type": "execute_result"
    }
   ],
   "source": [
    "hola and hola"
   ]
  },
  {
   "cell_type": "code",
   "execution_count": 29,
   "id": "sustainable-heart",
   "metadata": {},
   "outputs": [
    {
     "data": {
      "text/plain": [
       "True"
      ]
     },
     "execution_count": 29,
     "metadata": {},
     "output_type": "execute_result"
    }
   ],
   "source": [
    "4 > 1 and hola"
   ]
  },
  {
   "cell_type": "code",
   "execution_count": 30,
   "id": "favorite-brooks",
   "metadata": {},
   "outputs": [
    {
     "data": {
      "text/plain": [
       "False"
      ]
     },
     "execution_count": 30,
     "metadata": {},
     "output_type": "execute_result"
    }
   ],
   "source": [
    "adios and adios"
   ]
  },
  {
   "cell_type": "markdown",
   "id": "psychological-margin",
   "metadata": {},
   "source": [
    "El operador **or** evalúa si cualquiera de las expresiones es verdadera, es decir, devuelve True si cualquiera de las expresiones es verdadera y False cuando ambas expresiones son falsas."
   ]
  },
  {
   "cell_type": "code",
   "execution_count": 31,
   "id": "silver-flesh",
   "metadata": {},
   "outputs": [
    {
     "data": {
      "text/plain": [
       "True"
      ]
     },
     "execution_count": 31,
     "metadata": {},
     "output_type": "execute_result"
    }
   ],
   "source": [
    "hola or adios"
   ]
  },
  {
   "cell_type": "code",
   "execution_count": 33,
   "id": "greek-shadow",
   "metadata": {},
   "outputs": [
    {
     "data": {
      "text/plain": [
       "False"
      ]
     },
     "execution_count": 33,
     "metadata": {},
     "output_type": "execute_result"
    }
   ],
   "source": [
    "adios or adios"
   ]
  },
  {
   "cell_type": "code",
   "execution_count": 34,
   "id": "collected-gibraltar",
   "metadata": {},
   "outputs": [
    {
     "data": {
      "text/plain": [
       "True"
      ]
     },
     "execution_count": 34,
     "metadata": {},
     "output_type": "execute_result"
    }
   ],
   "source": [
    "15 < b or True"
   ]
  },
  {
   "cell_type": "markdown",
   "id": "confirmed-alexandria",
   "metadata": {},
   "source": [
    "Or exclusivo. Única y exclusivamente un True"
   ]
  },
  {
   "cell_type": "code",
   "execution_count": 32,
   "id": "vertical-specific",
   "metadata": {},
   "outputs": [
    {
     "data": {
      "text/plain": [
       "True"
      ]
     },
     "execution_count": 32,
     "metadata": {},
     "output_type": "execute_result"
    }
   ],
   "source": [
    "hola ^ adios"
   ]
  },
  {
   "cell_type": "code",
   "execution_count": 35,
   "id": "decreased-omaha",
   "metadata": {},
   "outputs": [
    {
     "data": {
      "text/plain": [
       "False"
      ]
     },
     "execution_count": 35,
     "metadata": {},
     "output_type": "execute_result"
    }
   ],
   "source": [
    "True ^ True"
   ]
  },
  {
   "cell_type": "markdown",
   "id": "varied-species",
   "metadata": {},
   "source": [
    "Por último, el operador **not** es un operador que devuelve el valor opuesto a la expresión evaluada. Si la expresión tiene el valor True, devuelve False. Por el contrario, si la expresión tiene el valor False, devuelve True."
   ]
  },
  {
   "cell_type": "code",
   "execution_count": 36,
   "id": "located-annex",
   "metadata": {},
   "outputs": [],
   "source": [
    "ras_es_rica = False\n",
    "ras_vive_en_lavapies = True"
   ]
  },
  {
   "cell_type": "code",
   "execution_count": 37,
   "id": "simplified-exchange",
   "metadata": {},
   "outputs": [
    {
     "data": {
      "text/plain": [
       "False"
      ]
     },
     "execution_count": 37,
     "metadata": {},
     "output_type": "execute_result"
    }
   ],
   "source": [
    "not ras_vive_en_lavapies"
   ]
  },
  {
   "cell_type": "code",
   "execution_count": 38,
   "id": "attended-ghost",
   "metadata": {},
   "outputs": [],
   "source": [
    "verdad = True\n",
    "mentira = False"
   ]
  },
  {
   "cell_type": "code",
   "execution_count": 39,
   "id": "computational-radius",
   "metadata": {},
   "outputs": [
    {
     "data": {
      "text/plain": [
       "False"
      ]
     },
     "execution_count": 39,
     "metadata": {},
     "output_type": "execute_result"
    }
   ],
   "source": [
    "not verdad"
   ]
  },
  {
   "cell_type": "code",
   "execution_count": 40,
   "id": "vietnamese-leonard",
   "metadata": {},
   "outputs": [
    {
     "data": {
      "text/plain": [
       "True"
      ]
     },
     "execution_count": 40,
     "metadata": {},
     "output_type": "execute_result"
    }
   ],
   "source": [
    "not 5>7"
   ]
  },
  {
   "cell_type": "markdown",
   "id": "civil-cookie",
   "metadata": {},
   "source": [
    "#### Extra para Nerds 🤓(echad un ojo y jugad con las celdas de abajo)"
   ]
  },
  {
   "cell_type": "markdown",
   "id": "optimum-czech",
   "metadata": {},
   "source": [
    "Las cosas pueden complicarse cuando combinamos varias expresiones lógicas... Consideremos, por ejemplo, las llamadas [leyes de De Morgan](https://en.wikipedia.org/wiki/De_Morgan%27s_laws):\n",
    "\n",
    "Las reglas se pueden expresar en español como:\n",
    "- La negación de la conjunción es la disyunción de las negaciones.\n",
    "- La negación de la disyunción es la conjunción de las negaciones.\n",
    "\n",
    "\n",
    "* not (A o B) = not A y not B\n",
    "* not (A y B) = no A o no B\n",
    "\n",
    "El [álgebra booleana](https://en.wikipedia.org/wiki/Boolean_algebra#Laws) satisface muchas reglas comunes como la conmutatividad, la asociatividad, etc. Pero aquí tratamos de mantener la sencillez y aprender con la práctica."
   ]
  },
  {
   "cell_type": "code",
   "execution_count": 46,
   "id": "excited-climate",
   "metadata": {},
   "outputs": [],
   "source": [
    "a = True\n",
    "b = False"
   ]
  },
  {
   "cell_type": "code",
   "execution_count": null,
   "id": "manual-rogers",
   "metadata": {},
   "outputs": [],
   "source": [
    "not (a or b)"
   ]
  },
  {
   "cell_type": "code",
   "execution_count": null,
   "id": "spanish-mineral",
   "metadata": {},
   "outputs": [],
   "source": [
    "not (a and b)"
   ]
  },
  {
   "cell_type": "markdown",
   "id": "bizarre-subdivision",
   "metadata": {},
   "source": [
    "## Identity operators"
   ]
  },
  {
   "cell_type": "markdown",
   "id": "educated-involvement",
   "metadata": {},
   "source": [
    "Los operadores de pertenencia, también conocidos como operadores miembro, permiten comprobar si un dato forma parte o no de una colección: una lista, una tupla, un string, etc.\n",
    "    El operador `in` tiene la sintaxis `elemento in contenedor`. Se trata de un operador booleano que comprueba si el elemento forma parte del contenedor. En caso afirmativo devuelve True y en caso negativo False"
   ]
  },
  {
   "cell_type": "code",
   "execution_count": 41,
   "id": "natural-capitol",
   "metadata": {},
   "outputs": [],
   "source": [
    "nums = [13,4,6,7,1,4,67]"
   ]
  },
  {
   "cell_type": "code",
   "execution_count": 50,
   "id": "developed-daughter",
   "metadata": {},
   "outputs": [],
   "source": [
    "a = 4"
   ]
  },
  {
   "cell_type": "code",
   "execution_count": 51,
   "id": "preceding-custom",
   "metadata": {},
   "outputs": [
    {
     "data": {
      "text/plain": [
       "True"
      ]
     },
     "execution_count": 51,
     "metadata": {},
     "output_type": "execute_result"
    }
   ],
   "source": [
    "a in nums"
   ]
  },
  {
   "cell_type": "code",
   "execution_count": 52,
   "id": "beginning-grass",
   "metadata": {},
   "outputs": [
    {
     "data": {
      "text/plain": [
       "False"
      ]
     },
     "execution_count": 52,
     "metadata": {},
     "output_type": "execute_result"
    }
   ],
   "source": [
    "5 in nums"
   ]
  },
  {
   "cell_type": "code",
   "execution_count": 53,
   "id": "compressed-subsection",
   "metadata": {},
   "outputs": [
    {
     "data": {
      "text/plain": [
       "False"
      ]
     },
     "execution_count": 53,
     "metadata": {},
     "output_type": "execute_result"
    }
   ],
   "source": [
    "\"hola\" in nums"
   ]
  },
  {
   "cell_type": "code",
   "execution_count": 54,
   "id": "temporal-thanks",
   "metadata": {},
   "outputs": [],
   "source": [
    "cadena = \"lalalalalb\""
   ]
  },
  {
   "cell_type": "code",
   "execution_count": 55,
   "id": "pleased-drilling",
   "metadata": {},
   "outputs": [],
   "source": [
    "hola = \"b\""
   ]
  },
  {
   "cell_type": "code",
   "execution_count": 56,
   "id": "australian-static",
   "metadata": {},
   "outputs": [
    {
     "data": {
      "text/plain": [
       "True"
      ]
     },
     "execution_count": 56,
     "metadata": {},
     "output_type": "execute_result"
    }
   ],
   "source": [
    "hola in cadena"
   ]
  },
  {
   "cell_type": "markdown",
   "id": "attended-assurance",
   "metadata": {},
   "source": [
    "# Control Flow"
   ]
  },
  {
   "cell_type": "markdown",
   "id": "environmental-medium",
   "metadata": {},
   "source": [
    "En los lenguajes imperativos, como Python, el ordenador sigue la secuencia de instrucciones del código y lo ejecuta línea a línea. Denominamos \"flujo\" de un programa al orden en la ejecución del código. Este orden secuencial puede alterarse. La llamada a una función, por ejemplo, lleva la ejecución al código en su interior (el \"cuerpo\" de la función) para regresar inmediatamente después de dicha llamada y continuar.    \n",
    "La ejecución es similar a nuestra atención en un proceso de limpieza de la casa, por ejemplo, solo podemos hacer una tarea a la vez. Estamos barriendo, pero al terminar de barrear golpeamos un jarrón (imagina que me lo regaló mi tía y qué ilusión) , entonces recogemos los trozos antes de ponernos a fregar. Fregando encontramos el chicle perdido de nuestro sobrino bajo el sofá, lo cual nos obliga a ir a buscar una espátula para quitarlo..... \n",
    "Pero solo podemos hacer una tarea a la vez. 🥲"
   ]
  },
  {
   "cell_type": "markdown",
   "id": "opening-gates",
   "metadata": {},
   "source": [
    "## Pseudocódigo"
   ]
  },
  {
   "cell_type": "markdown",
   "id": "joint-customs",
   "metadata": {},
   "source": [
    "El pseudocódigo es un método de planificación que permite al programador planificar sin preocuparse por la sintaxis."
   ]
  },
  {
   "cell_type": "markdown",
   "id": "short-survey",
   "metadata": {},
   "source": [
    "--> https://es.wikipedia.org/wiki/Pseudoc%C3%B3digo"
   ]
  },
  {
   "cell_type": "code",
   "execution_count": 58,
   "id": "designed-addiction",
   "metadata": {},
   "outputs": [
    {
     "data": {
      "text/plain": [
       "'\\ndef funcion():\\n    #condicional para comprobar la variable y si sucede:\\n        pasa loqueseea o imprimo algo\\n\\n'"
      ]
     },
     "execution_count": 58,
     "metadata": {},
     "output_type": "execute_result"
    }
   ],
   "source": [
    "\"\"\"\n",
    "Comentario en \n",
    "diferentes líneas\n",
    "\"\"\"\n",
    "\n",
    "\"\"\"\n",
    "def funcion():\n",
    "    #condicional para comprobar la variable y si sucede:\n",
    "        pasa loqueseea o imprimo algo\n",
    "\n",
    "\"\"\"\n",
    "# comentario en una línea\n"
   ]
  },
  {
   "cell_type": "code",
   "execution_count": 59,
   "id": "outstanding-energy",
   "metadata": {},
   "outputs": [
    {
     "data": {
      "text/plain": [
       "'\\nhago una función (¿argumentos?):\\n    necesito un input\\n    aquí hago un bucle y compruebo cosas\\n'"
      ]
     },
     "execution_count": 59,
     "metadata": {},
     "output_type": "execute_result"
    }
   ],
   "source": [
    "\"\"\"\n",
    "hago una función (¿argumentos?):\n",
    "    necesito un input\n",
    "    aquí hago un bucle y compruebo cosas\n",
    "\"\"\""
   ]
  },
  {
   "cell_type": "markdown",
   "id": "assured-guidance",
   "metadata": {},
   "source": [
    "## La sentencia \"If \n",
    "Esta es la opción más conocida para controlar el flujo de un programa. Las condiciones permiten elegir entre diferentes caminos en función del valor de una expresión.Cuando se quiere ejecutar una acción sólo cuando alguna condición es `Verdadera` se utiliza una sentencia \"if\":"
   ]
  },
  {
   "cell_type": "code",
   "execution_count": 60,
   "id": "pediatric-polyester",
   "metadata": {},
   "outputs": [
    {
     "name": "stdout",
     "output_type": "stream",
     "text": [
      "la condición se cumple\n"
     ]
    }
   ],
   "source": [
    "condicion = True\n",
    "if condicion: \n",
    "    print(\"la condición se cumple\")"
   ]
  },
  {
   "cell_type": "code",
   "execution_count": 61,
   "id": "absent-optics",
   "metadata": {},
   "outputs": [
    {
     "name": "stdout",
     "output_type": "stream",
     "text": [
      "la condición se cumple\n"
     ]
    }
   ],
   "source": [
    "if 3>1:\n",
    "    print(\"la condición se cumple\")"
   ]
  },
  {
   "cell_type": "code",
   "execution_count": 66,
   "id": "opened-maria",
   "metadata": {},
   "outputs": [
    {
     "name": "stdout",
     "output_type": "stream",
     "text": [
      "pasan cosas\n"
     ]
    }
   ],
   "source": [
    "lista = [2,4,5]\n",
    "if len(lista) !=0:\n",
    "    print(\"pasan cosas\")"
   ]
  },
  {
   "cell_type": "code",
   "execution_count": 69,
   "id": "imperial-avenue",
   "metadata": {},
   "outputs": [
    {
     "name": "stdout",
     "output_type": "stream",
     "text": [
      "pasan cosas\n"
     ]
    }
   ],
   "source": [
    "lista = []\n",
    "if lista != True:\n",
    "    print(\"pasan cosas\")"
   ]
  },
  {
   "cell_type": "code",
   "execution_count": 70,
   "id": "confidential-graph",
   "metadata": {},
   "outputs": [
    {
     "data": {
      "text/plain": [
       "list"
      ]
     },
     "execution_count": 70,
     "metadata": {},
     "output_type": "execute_result"
    }
   ],
   "source": [
    "type(lista)"
   ]
  },
  {
   "cell_type": "markdown",
   "id": "southeast-shakespeare",
   "metadata": {},
   "source": [
    "Como podemos ver, el bloque de código asociado a la condición comienza después de los dos puntos \":\", con una sangría que determina el bloque de código. Todas las instrucciones pertenecientes al mismo bloque deben tener la misma sangría. El bloque termina cuando la sangría vuelve a la posición inicial de la sentencia if. Recuerde que Python utiliza la sangría para identificar los bloques de código."
   ]
  },
  {
   "cell_type": "code",
   "execution_count": 77,
   "id": "polyphonic-colon",
   "metadata": {},
   "outputs": [
    {
     "name": "stdout",
     "output_type": "stream",
     "text": [
      "adiós\n",
      "hola\n"
     ]
    }
   ],
   "source": [
    "if 3 > 2:\n",
    "    print(\"adiós\")\n",
    "print(\"hola\") # Este bloque de código no está indentado"
   ]
  },
  {
   "cell_type": "code",
   "execution_count": 73,
   "id": "hazardous-farmer",
   "metadata": {},
   "outputs": [
    {
     "ename": "IndentationError",
     "evalue": "expected an indented block (<ipython-input-73-9bb1d36ad676>, line 2)",
     "output_type": "error",
     "traceback": [
      "\u001b[0;36m  File \u001b[0;32m\"<ipython-input-73-9bb1d36ad676>\"\u001b[0;36m, line \u001b[0;32m2\u001b[0m\n\u001b[0;31m    print(\"hola\") # Este bloque de código no está indentado\u001b[0m\n\u001b[0m    ^\u001b[0m\n\u001b[0;31mIndentationError\u001b[0m\u001b[0;31m:\u001b[0m expected an indented block\n"
     ]
    }
   ],
   "source": [
    "if 3 > 2:\n",
    "print(\"hola\") # Este bloque de código no está indentado"
   ]
  },
  {
   "cell_type": "markdown",
   "id": "indoor-database",
   "metadata": {},
   "source": [
    "# Reto 🤔\n",
    "Escribe un programa simple que imprima si bob puede entrar en la discoteca\n",
    "para dos valores cualesquiera de las siguientes variables:\n",
    "`print(edad_bob,edad_minima)`"
   ]
  },
  {
   "cell_type": "markdown",
   "id": "described-bikini",
   "metadata": {},
   "source": [
    "### Vuestros ejemplos 🚀"
   ]
  },
  {
   "cell_type": "code",
   "execution_count": 78,
   "id": "analyzed-recipe",
   "metadata": {},
   "outputs": [
    {
     "name": "stdout",
     "output_type": "stream",
     "text": [
      "A Bob le tiran\n"
     ]
    }
   ],
   "source": [
    "edad_bob = 16\n",
    "if edad_bob >= 18:\n",
    "    print('Bob puede entrar')\n",
    "else:\n",
    "    print('A Bob le tiran')"
   ]
  },
  {
   "cell_type": "code",
   "execution_count": 91,
   "id": "compatible-tribune",
   "metadata": {},
   "outputs": [],
   "source": [
    "if edad_bob >= 18:\n",
    "    print(\"Bob puede entrar en la discoteca\")"
   ]
  },
  {
   "cell_type": "code",
   "execution_count": 92,
   "id": "atlantic-ancient",
   "metadata": {},
   "outputs": [],
   "source": [
    "bob = 4\n",
    "if bob>=18:\n",
    "    print(\"Have fun\")"
   ]
  },
  {
   "cell_type": "code",
   "execution_count": 97,
   "id": "armed-worry",
   "metadata": {},
   "outputs": [
    {
     "name": "stdout",
     "output_type": "stream",
     "text": [
      "Que edad tiene bob: 65\n",
      "Bob supera la edad minima para entrar\n"
     ]
    }
   ],
   "source": [
    "edad_bob = int(input('Que edad tiene bob: '))\n",
    "edad_minima = 18 \n",
    "if edad_bob > edad_minima:\n",
    "    print('Bob supera la edad minima para entrar')\n",
    "else:\n",
    "    print('Bob eres menor no puedes entrar')"
   ]
  },
  {
   "cell_type": "code",
   "execution_count": 98,
   "id": "interested-uncle",
   "metadata": {},
   "outputs": [
    {
     "name": "stdout",
     "output_type": "stream",
     "text": [
      "Bob no puede entrar\n"
     ]
    }
   ],
   "source": [
    "edad_bob = 17\n",
    "edad_minima = 18\n",
    "\n",
    "if edad_bob >= edad_minima:\n",
    "    print(\"Bob puede entrar\")\n",
    "else:\n",
    "    print(\"Bob no puede entrar\")"
   ]
  },
  {
   "cell_type": "markdown",
   "id": "approximate-lexington",
   "metadata": {},
   "source": [
    "### else\n",
    "A veces se quiere que si la condición no se cumple (y sólo entonces) se ejecute otra acción. Son acciones mutuamente excluyentes. Esto se consigue con la sentencia `else`."
   ]
  },
  {
   "cell_type": "markdown",
   "id": "median-injection",
   "metadata": {},
   "source": [
    "![if](../images/if-else-statements.jpeg)"
   ]
  },
  {
   "cell_type": "markdown",
   "id": "local-reminder",
   "metadata": {},
   "source": [
    "# Reto 🤔\n",
    "Modifica tu programa para que cuando Bob no pueda acceder a la disco haya un mensaje de impresión diferente:"
   ]
  },
  {
   "cell_type": "markdown",
   "id": "ideal-atlantic",
   "metadata": {},
   "source": [
    "### Vuestros ejemplos 🚀"
   ]
  },
  {
   "cell_type": "code",
   "execution_count": 99,
   "id": "committed-playback",
   "metadata": {},
   "outputs": [
    {
     "name": "stdout",
     "output_type": "stream",
     "text": [
      "Bob no puede entrar\n"
     ]
    }
   ],
   "source": [
    "a= 15\n",
    "b= 18\n",
    "if a >= b:\n",
    "    print(\"Bob puede entrar a la discoteca\")\n",
    "else:\n",
    "    print(\"Bob no puede entrar\")"
   ]
  },
  {
   "cell_type": "code",
   "execution_count": 101,
   "id": "subjective-typing",
   "metadata": {},
   "outputs": [
    {
     "name": "stdout",
     "output_type": "stream",
     "text": [
      "puede entrar en discoteca\n"
     ]
    }
   ],
   "source": [
    "edad_bob= 18\n",
    "if edad_bob>=18:\n",
    "    print (\"puede entrar en discoteca\")\n",
    "else:\n",
    "    print(\"no puede entrar en discoteca\")"
   ]
  },
  {
   "cell_type": "markdown",
   "id": "violent-speaker",
   "metadata": {},
   "source": [
    "### elif\n",
    "A veces hay más de dos posibilidades. Piensa en algo como:\n",
    "\"Si Bob puede entrar en la discoteca, déjale entrar. Si no, si tiene más de 16 años, recomiéndale la discoteca light cercana. Si no, envíalo a casa\".\n",
    "\n",
    "Podemos conseguirlo con la cláusula `elif` y los condicionales encadenados:"
   ]
  },
  {
   "cell_type": "markdown",
   "id": "behind-ghana",
   "metadata": {},
   "source": [
    "```python\n",
    "if nosequé:\n",
    "    nosecuantos\n",
    "if otracosa:\n",
    "    nosecuantitos\n",
    "```\n",
    "\n",
    "💩 Es computacionalmente más eficiente utilizar elif, aunque este código funciona, Python va a entrar a comprobar todos los if"
   ]
  },
  {
   "cell_type": "markdown",
   "id": "helpful-amino",
   "metadata": {},
   "source": [
    "# Reto 🤔\n",
    "Modifica tu programa para que cuando Bob no pueda acceder a la discoteca pero esté por encima de la edad legal\n",
    "lo envíes a la disco light"
   ]
  },
  {
   "cell_type": "markdown",
   "id": "significant-bulgarian",
   "metadata": {},
   "source": [
    "### Vuestros ejemplos 🚀🔝"
   ]
  },
  {
   "cell_type": "code",
   "execution_count": 102,
   "id": "published-hunger",
   "metadata": {},
   "outputs": [
    {
     "name": "stdout",
     "output_type": "stream",
     "text": [
      "Bob podría ir a una disco light\n"
     ]
    }
   ],
   "source": [
    "edad_bob=17\n",
    "edad_minima=18\n",
    "if edad_bob>=edad_minima:\n",
    "    print(\"Bob puede entrar a la discoteca\")\n",
    "elif edad_bob>=16:\n",
    "    print(\"Bob podría ir a una disco light\")\n",
    "else:\n",
    "    print(\"Bob no puede ni entrar en una disco light ni en esta discoteca\")"
   ]
  },
  {
   "cell_type": "code",
   "execution_count": 103,
   "id": "hybrid-alfred",
   "metadata": {},
   "outputs": [
    {
     "name": "stdout",
     "output_type": "stream",
     "text": [
      "Bob va a la disco light\n"
     ]
    }
   ],
   "source": [
    "edad_minima_light = 18\n",
    "edad_minima_fabrik = 22\n",
    "edad_bob = 18\n",
    "if edad_bob < edad_minima_light:\n",
    "    print(\"Bob no puede entrar a ninguna disco\")\n",
    "elif edad_bob >= edad_minima_light and edad_bob < edad_minima_fabrik:\n",
    "    print(\"Bob va a la disco light\")\n",
    "else:\n",
    "    print(\"Bob va a la disco tocha\")"
   ]
  },
  {
   "cell_type": "code",
   "execution_count": 104,
   "id": "ideal-mining",
   "metadata": {},
   "outputs": [
    {
     "name": "stdout",
     "output_type": "stream",
     "text": [
      "Bob vete a casa o a beber a un parque\n"
     ]
    }
   ],
   "source": [
    "edad_bob = 3\n",
    "edad_minima_alcohol = 18\n",
    "edad_minima_light = 16\n",
    "if edad_bob >= edad_minima_alcohol :\n",
    "    print(\"Que pasa y beba\")\n",
    "elif edad_bob >= edad_minima_light :\n",
    "    print(\"Que pasa y no beba o que se vaya a la light\")\n",
    "else :\n",
    "    print(\"Bob vete a casa o a beber a un parque\")"
   ]
  },
  {
   "cell_type": "code",
   "execution_count": null,
   "id": "transparent-nickname",
   "metadata": {},
   "outputs": [],
   "source": [
    "# Por último, ¡las cosas pueden ser tan salvajes como queramos con los condicionales anidados!"
   ]
  },
  {
   "cell_type": "markdown",
   "id": "fifth-myanmar",
   "metadata": {},
   "source": [
    "# Reto 🤔\n",
    "Un simple programa de \"comparación de dos números\". ¿Puedes entenderlo?     \n",
    "Es el mismo ejemplo que anterior, pero con else anidado, sin elif"
   ]
  },
  {
   "cell_type": "code",
   "execution_count": 112,
   "id": "chinese-warren",
   "metadata": {},
   "outputs": [],
   "source": [
    "import time"
   ]
  },
  {
   "cell_type": "code",
   "execution_count": 114,
   "id": "compliant-collect",
   "metadata": {},
   "outputs": [
    {
     "name": "stdout",
     "output_type": "stream",
     "text": [
      "CPU times: user 3 µs, sys: 1 µs, total: 4 µs\n",
      "Wall time: 5.96 µs\n",
      "Bob vete a casa o a beber a un parque\n"
     ]
    }
   ],
   "source": [
    "%time\n",
    "edad_bob = 3\n",
    "edad_minima_alcohol = 18\n",
    "edad_minima_light = 16\n",
    "if edad_bob >= edad_minima_alcohol :\n",
    "    print(\"Que pasa y beba\")\n",
    "elif edad_bob >= edad_minima_light :\n",
    "    print(\"Que pasa y no beba o que se vaya a la light\")\n",
    "else :\n",
    "    print(\"Bob vete a casa o a beber a un parque\")"
   ]
  },
  {
   "cell_type": "code",
   "execution_count": 115,
   "id": "aggressive-soldier",
   "metadata": {},
   "outputs": [
    {
     "name": "stdout",
     "output_type": "stream",
     "text": [
      "CPU times: user 3 µs, sys: 1e+03 ns, total: 4 µs\n",
      "Wall time: 5.96 µs\n",
      "Que pase y no beba o que se vaya a la light\n"
     ]
    }
   ],
   "source": [
    "%time\n",
    "edad_bob = 17\n",
    "edad_minima_alcohol = 18\n",
    "edad_minima_light = 16\n",
    "if edad_bob <= edad_minima_light :\n",
    "    print(\"Bob vete a casa o a beber a un parque\")\n",
    "else :\n",
    "    if edad_bob <= edad_minima_alcohol :\n",
    "        print(\"Que pase y no beba o que se vaya a la light\")\n",
    "    else:\n",
    "        print(\"Que pase y beba\")"
   ]
  },
  {
   "cell_type": "markdown",
   "id": "continuous-identifier",
   "metadata": {},
   "source": [
    "### Vuestros ejemplos 🚀"
   ]
  },
  {
   "cell_type": "code",
   "execution_count": 105,
   "id": "aware-niagara",
   "metadata": {},
   "outputs": [
    {
     "name": "stdout",
     "output_type": "stream",
     "text": [
      "Qué edad tiene Bob: 17\n",
      "Bob puede entrar a la light\n"
     ]
    }
   ],
   "source": [
    "edad_minima = 18\n",
    "edad_light = 16\n",
    "edad=input (\"Qué edad tiene Bob: \")\n",
    "edad=int(edad)\n",
    "if edad>=edad_minima:\n",
    "    print(\"Bob puede entrar\")\n",
    "else:\n",
    "    if edad>=edad_light:\n",
    "        print(\"Bob puede entrar a la light\")\n",
    "    else:\n",
    "        print(\"Bob no puede ir a nada\")"
   ]
  },
  {
   "cell_type": "code",
   "execution_count": 106,
   "id": "dimensional-rachel",
   "metadata": {},
   "outputs": [
    {
     "name": "stdout",
     "output_type": "stream",
     "text": [
      "Bob todavía tiene que esperar para entrar en la discoteca\n"
     ]
    }
   ],
   "source": [
    "if edad_bob >= 18:\n",
    "    print(\"Bob puede entrar en la discoteca\")\n",
    "else:\n",
    "    if edad_bob >= 16 and edad_bob < 18:\n",
    "        print(\"Bob puede entrar en la disco light\")\n",
    "    else:\n",
    "        print(\"Bob todavía tiene que esperar para entrar en la discoteca\")"
   ]
  },
  {
   "cell_type": "code",
   "execution_count": 107,
   "id": "monetary-malpractice",
   "metadata": {},
   "outputs": [
    {
     "name": "stdout",
     "output_type": "stream",
     "text": [
      "Bob puede entrar a la discoteca\n"
     ]
    }
   ],
   "source": [
    "edad_bob=19\n",
    "edad_minima=18\n",
    "\n",
    "if edad_bob>=edad_minima :\n",
    "    print(\"Bob puede entrar a la discoteca\")\n",
    "else:\n",
    "    if edad_bob>=16:\n",
    "        print(\"Bob puede ir a la discoteca light\")\n",
    "    else:\n",
    "        print(\"Bob no puede ni entrar en una disco light ni en esta discoteca\")"
   ]
  },
  {
   "cell_type": "code",
   "execution_count": 109,
   "id": "challenging-ebony",
   "metadata": {},
   "outputs": [
    {
     "name": "stdout",
     "output_type": "stream",
     "text": [
      "Que pase y no beba o que se vaya a la light\n"
     ]
    }
   ],
   "source": [
    "edad_bob = 17\n",
    "edad_minima_alcohol = 18\n",
    "edad_minima_light = 16\n",
    "if edad_bob <= edad_minima_light :\n",
    "    print(\"Bob vete a casa o a beber a un parque\")\n",
    "else :\n",
    "    if edad_bob <= edad_minima_alcohol :\n",
    "        print(\"Que pase y no beba o que se vaya a la light\")\n",
    "    else:\n",
    "        print(\"Que pase y beba\")"
   ]
  },
  {
   "cell_type": "code",
   "execution_count": 110,
   "id": "enclosed-channel",
   "metadata": {},
   "outputs": [
    {
     "name": "stdout",
     "output_type": "stream",
     "text": [
      "Bob, no puedes entrar en ninguna discoteca\n"
     ]
    }
   ],
   "source": [
    "edad_Bob = 13\n",
    "edad_minima = 18\n",
    "edad_light = 16\n",
    "if edad_Bob >= edad_minima:\n",
    "    print (\"Bob, puedes entrar en la discoteca de mayores de edad\")\n",
    "else:\n",
    "    if edad_Bob >= edad_light:\n",
    "        print (\"Bob, puedes entrar en la discotoca light\")\n",
    "    else:\n",
    "        print (\"Bob, no puedes entrar en ninguna discoteca\")"
   ]
  },
  {
   "cell_type": "code",
   "execution_count": 111,
   "id": "christian-speaker",
   "metadata": {},
   "outputs": [
    {
     "name": "stdout",
     "output_type": "stream",
     "text": [
      "A esta fiesta puedes entrar.\n"
     ]
    }
   ],
   "source": [
    "edad_boby = 17\n",
    "edad_minima = 18 \n",
    "edad_litgh = 16\n",
    "if edad_boby > edad_minima:\n",
    "    print('Bob supera la edad minima para entrar')\n",
    "else:\n",
    "    if edad_boby < edad_litgh:\n",
    "        print('todavia no puedes entrar sorry.')\n",
    "    else:\n",
    "        print('A esta fiesta puedes entrar.')"
   ]
  },
  {
   "cell_type": "markdown",
   "id": "decent-exemption",
   "metadata": {},
   "source": [
    "# Reto 🤔\n",
    "Escribe un programa en Python que solicite un número del 1 al 12 e imprima el mes del año correspondiente."
   ]
  },
  {
   "cell_type": "code",
   "execution_count": 117,
   "id": "unlike-queue",
   "metadata": {},
   "outputs": [
    {
     "name": "stdout",
     "output_type": "stream",
     "text": [
      "dime un número del 1 al 12: 6\n",
      "Junio\n"
     ]
    }
   ],
   "source": [
    "x=int(input(\"dime un número del 1 al 12: \"))\n",
    "if x>=1 and x<=12:\n",
    "    if x==1:\n",
    "        print(\"Enero\")\n",
    "    elif x==2:\n",
    "        print(\"Febrero\")\n",
    "    elif x==3:\n",
    "        print(\"Marzo\")\n",
    "    elif x==4:\n",
    "        print(\"Abril\")\n",
    "    elif x==5:\n",
    "        print(\"Mayo\")\n",
    "    elif x==6:\n",
    "        print(\"Junio\")\n",
    "    elif x==7:\n",
    "        print(\"Julio\")\n",
    "    elif x==8:\n",
    "        print(\"Agosto\")\n",
    "    elif x==9:\n",
    "        print(\"Septiembre\")\n",
    "    elif x==10:\n",
    "        print(\"Octubre\")\n",
    "    elif x==11:\n",
    "        print(\"Noviembre\")\n",
    "    else:\n",
    "        print(\"Diciembre\")\n",
    "else:\n",
    "    print(\"please, try again:enter a number between 1 and 12\")"
   ]
  },
  {
   "cell_type": "code",
   "execution_count": 118,
   "id": "atlantic-pollution",
   "metadata": {},
   "outputs": [
    {
     "name": "stdout",
     "output_type": "stream",
     "text": [
      "Introduce un numero13\n",
      "Numero del 1 al 12\n"
     ]
    }
   ],
   "source": [
    "numero = input(\"Introduce un numero\")\n",
    "mnumero = int(numero)\n",
    "if mnumero == 1:\n",
    "    print(\"Enero\")\n",
    "elif mnumero == 2:\n",
    "    print(\"Febrero\")\n",
    "elif mnumero == 3:\n",
    "    print(\"Marzo\")\n",
    "elif mnumero == 4:\n",
    "    print(\"Abril\")\n",
    "elif mnumero == 5:\n",
    "    print(\"Mayo\")\n",
    "elif mnumero == 6:\n",
    "    print(\"Junio\")\n",
    "elif mnumero == 7:\n",
    "    print(\"Julio\")\n",
    "elif mnumero == 8:\n",
    "    print(\"Agosto\")\n",
    "elif mnumero == 9:\n",
    "    print(\"Septiembre\")\n",
    "elif mnumero == 10:\n",
    "    print(\"Octubre\")\n",
    "elif mnumero == 11:\n",
    "    print(\"Noviembre\")\n",
    "elif mnumero == 12:\n",
    "    print(\"Diciembre\")\n",
    "else:\n",
    "    print(\"Numero del 1 al 12\")"
   ]
  },
  {
   "cell_type": "code",
   "execution_count": 120,
   "id": "actual-space",
   "metadata": {},
   "outputs": [
    {
     "name": "stdout",
     "output_type": "stream",
     "text": [
      "Escribe el mes del año (en numero) : 1\n",
      "Enero\n"
     ]
    }
   ],
   "source": [
    "mes = input(\"Escribe el mes del año (en numero) : \")\n",
    "mes = int(mes)\n",
    "meses = ['Enero','Febrero','Marzo','Abril','Mayo','Junio','Julio','Agosto','Septiembre','Octubre','Noviembre','Diciembre']\n",
    "if mes > 12 or mes < 1 :\n",
    "    print(\"Mes fuera de rango\")\n",
    "else :\n",
    "    print(meses[mes-1])"
   ]
  },
  {
   "cell_type": "code",
   "execution_count": 124,
   "id": "attached-aviation",
   "metadata": {},
   "outputs": [
    {
     "name": "stdout",
     "output_type": "stream",
     "text": [
      "Escriba un numero del 1 al 12: 7\n"
     ]
    },
    {
     "data": {
      "text/plain": [
       "'Julio'"
      ]
     },
     "execution_count": 124,
     "metadata": {},
     "output_type": "execute_result"
    }
   ],
   "source": [
    "calendario={1:\"Enero\", 2:\"Febrero\", 3:\"Marzo\", 4:\"Abril\", 5:\"Mayo\", 6:\"Junio\", 7:\"Julio\", 8:\"Agosto\", 9:\"Septiembre\", 10:\"Octubre\", 11:\"Noviembre\", 12:\"Diciembre\"}\n",
    "mes=input(\"Escriba un numero del 1 al 12: \")\n",
    "mes=int(mes)\n",
    "calendario[mes]"
   ]
  },
  {
   "cell_type": "code",
   "execution_count": null,
   "id": "annoying-subscriber",
   "metadata": {},
   "outputs": [],
   "source": [
    "# Más ejemplos!"
   ]
  },
  {
   "cell_type": "markdown",
   "id": "joined-paradise",
   "metadata": {},
   "source": [
    "Imaginemos que estamos construyendo el programa para un robot clasificador de huevos por tamaño. Nuestro brazo robot recibe la información de una balanza, la cual le indica, en gramos, el peso del huevo que debe clasificar. El brazo debe, a partir del peso, ubicar el huevo en una caja u otra como sigue:   \n",
    "**Caja S** (pequeños) : peso menor a 53 gramos.   \n",
    "**Caja M** (medianos) : peso mayor o igual a 53 gramos e inferior a 63 gramos.   \n",
    "**Caja L** (grandes): peso mayor o igual a 63 gramos e inferior a 73 gramos.   \n",
    "**Caja XL** (súper grandes): peso mayor o igual a 73 gramos.   "
   ]
  },
  {
   "cell_type": "markdown",
   "id": "exact-messenger",
   "metadata": {},
   "source": [
    "Con lo que hemos visto ya somos capaces de resolver el problema, gracias a la posibilidad de anidar estructuras:"
   ]
  },
  {
   "cell_type": "code",
   "execution_count": null,
   "id": "seasonal-ribbon",
   "metadata": {},
   "outputs": [],
   "source": [
    "# Tu turno!"
   ]
  },
  {
   "cell_type": "code",
   "execution_count": 131,
   "id": "sporting-heavy",
   "metadata": {},
   "outputs": [],
   "source": [
    "# Con Elif"
   ]
  },
  {
   "cell_type": "code",
   "execution_count": 132,
   "id": "trained-newport",
   "metadata": {},
   "outputs": [
    {
     "name": "stdout",
     "output_type": "stream",
     "text": [
      "Introduzca el peso del huevo, en gramos: 87\n",
      "talla XL\n"
     ]
    }
   ],
   "source": [
    "peso=input(\"Introduzca el peso del huevo, en gramos: \")\n",
    "peso=int(peso)\n",
    "if peso<54:\n",
    "    print(\"talla S\")\n",
    "elif peso<63:\n",
    "    print(\"talla M\")\n",
    "elif peso<73:\n",
    "    print(\"talla L\")\n",
    "else:\n",
    "    print(\"talla XL\")"
   ]
  },
  {
   "cell_type": "code",
   "execution_count": 133,
   "id": "warming-minnesota",
   "metadata": {},
   "outputs": [
    {
     "name": "stdout",
     "output_type": "stream",
     "text": [
      "Introduce el peso en gramos.70\n",
      "Caja L (grandes)\n"
     ]
    }
   ],
   "source": [
    "def clasificador():\n",
    "    peso = int(input(\"Introduce el peso en gramos.\"))\n",
    "    if peso < 53:\n",
    "        print(\"Caja S (pequeños)\")\n",
    "    elif peso >= 53 and peso < 63:\n",
    "        print(\"Caja M (medianos)\")\n",
    "    elif peso >= 63 and peso < 73:\n",
    "        print(\"Caja L (grandes)\")\n",
    "    else:\n",
    "        print(\"Caja XL (súper grandes)\")\n",
    "    pass\n",
    "clasificador()"
   ]
  },
  {
   "cell_type": "code",
   "execution_count": 134,
   "id": "defined-tanzania",
   "metadata": {},
   "outputs": [
    {
     "name": "stdout",
     "output_type": "stream",
     "text": [
      "Peso del huevo: 37\n",
      "Huevo a caja S\n"
     ]
    }
   ],
   "source": [
    "peso = int(input('Peso del huevo: '))\n",
    "if peso < 53:\n",
    "    print('Huevo a caja S')\n",
    "elif peso <= 63:\n",
    "    print('Huevo a caja M')\n",
    "elif peso <= 73:\n",
    "    print('Huevo a caja L')\n",
    "else:\n",
    "    print('Huevo a caja XL')"
   ]
  },
  {
   "cell_type": "code",
   "execution_count": 135,
   "id": "loved-investment",
   "metadata": {},
   "outputs": [
    {
     "name": "stdout",
     "output_type": "stream",
     "text": [
      "Peso del huevo: 98\n",
      "XL\n"
     ]
    }
   ],
   "source": [
    "peso = int(input(\"Peso del huevo: \"))\n",
    "if peso < 53 :\n",
    "    print(\"S\")\n",
    "elif peso < 63 :\n",
    "    print(\"M\")\n",
    "elif peso < 73 :\n",
    "    print(\"L\")\n",
    "else :\n",
    "    print(\"XL\")"
   ]
  },
  {
   "cell_type": "code",
   "execution_count": 136,
   "id": "advance-merit",
   "metadata": {},
   "outputs": [
    {
     "name": "stdout",
     "output_type": "stream",
     "text": [
      "Introduce un peso0987\n",
      "Caja XL\n"
     ]
    }
   ],
   "source": [
    "tamaño = int(input(\"Introduce un peso\"))\n",
    "if tamaño < 53:\n",
    "    print(\"Caja S\")\n",
    "elif tamaño >= 53 and tamaño < 63:\n",
    "    print(\"Caja M\")\n",
    "elif tamaño >= 63 and tamaño < 73:\n",
    "    print(\"Caja L\")\n",
    "else:\n",
    "    print(\"Caja XL\")"
   ]
  },
  {
   "cell_type": "code",
   "execution_count": null,
   "id": "awful-fight",
   "metadata": {},
   "outputs": [],
   "source": [
    "#Sin elif"
   ]
  },
  {
   "cell_type": "code",
   "execution_count": 137,
   "id": "coastal-contact",
   "metadata": {},
   "outputs": [
    {
     "name": "stdout",
     "output_type": "stream",
     "text": [
      "Introduce los gramos 98\n",
      "XL\n"
     ]
    }
   ],
   "source": [
    "caja = input (\"Introduce los gramos \")\n",
    "caja = int(caja)\n",
    "if caja < 53:\n",
    "    print (\"S\")\n",
    "else:\n",
    "    if caja >= 53 and caja < 63:\n",
    "        print (\"M\")\n",
    "    if caja >= 63 and caja < 73:\n",
    "        print (\"L\")\n",
    "    else:\n",
    "        print (\"XL\")"
   ]
  },
  {
   "cell_type": "code",
   "execution_count": null,
   "id": "maritime-subdivision",
   "metadata": {},
   "outputs": [],
   "source": []
  },
  {
   "cell_type": "code",
   "execution_count": null,
   "id": "dedicated-family",
   "metadata": {},
   "outputs": [],
   "source": []
  },
  {
   "cell_type": "markdown",
   "id": "dependent-viewer",
   "metadata": {},
   "source": [
    "## Summary \n",
    "Es tu turno: ¿Qué hemos aprendido?\n",
    "- Condicionales\n",
    "- Operadores de asignación\n",
    "- Operadores de pertenencia\n",
    "- Pseudocódigo\n",
    "- ControlFlow\n",
    "- Booleanos"
   ]
  },
  {
   "cell_type": "markdown",
   "id": "toxic-romance",
   "metadata": {},
   "source": [
    "## Further materials\n",
    "\n",
    "* [Python docs](https://docs.python.org/3/tutorial/controlflow.html)\n",
    "* Short tutorial on [Python Booleans](https://realpython.com/python-boolean/\n",
    "* Just a nice [talk by Feynman](https://www.youtube.com/watch?v=EKWGGDXe5MA) on the principles of computation"
   ]
  }
 ],
 "metadata": {
  "kernelspec": {
   "display_name": "ironhack",
   "language": "python",
   "name": "ironhack"
  },
  "language_info": {
   "codemirror_mode": {
    "name": "ipython",
    "version": 3
   },
   "file_extension": ".py",
   "mimetype": "text/x-python",
   "name": "python",
   "nbconvert_exporter": "python",
   "pygments_lexer": "ipython3",
   "version": "3.8.5"
  },
  "toc": {
   "base_numbering": 1,
   "nav_menu": {},
   "number_sections": true,
   "sideBar": true,
   "skip_h1_title": true,
   "title_cell": "Table of Contents",
   "title_sidebar": "Contents",
   "toc_cell": true,
   "toc_position": {},
   "toc_section_display": true,
   "toc_window_display": false
  }
 },
 "nbformat": 4,
 "nbformat_minor": 5
}
