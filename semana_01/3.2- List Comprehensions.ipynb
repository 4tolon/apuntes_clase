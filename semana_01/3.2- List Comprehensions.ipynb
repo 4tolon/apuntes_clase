{
 "cells": [
  {
   "cell_type": "markdown",
   "id": "magnetic-sterling",
   "metadata": {},
   "source": [
    "# List Comprehensions"
   ]
  },
  {
   "cell_type": "markdown",
   "id": "generic-carrier",
   "metadata": {},
   "source": [
    "![elgif](https://media.giphy.com/media/8vZY0QZZjJZqmfResk/giphy.gif)"
   ]
  },
  {
   "cell_type": "markdown",
   "id": "willing-python",
   "metadata": {},
   "source": [
    "## Pero... ¿Esto qué es?\n",
    "Las compresiones de listas son una herramienta muy poderosa, que crea una lista basada en otra, en una única linea legible."
   ]
  },
  {
   "cell_type": "code",
   "execution_count": 1,
   "id": "mineral-interpretation",
   "metadata": {},
   "outputs": [],
   "source": [
    "palabras = [\"palabras\", \"hola\", \"clase\", \"ironhack\", \"paseo de la chopera\", \"francachela\"]"
   ]
  },
  {
   "cell_type": "markdown",
   "id": "cathedral-seventh",
   "metadata": {},
   "source": [
    "Si quisiéramos tener una lista igual que esta pero con todas las palabras en mayúsculas utilizando un bucle...."
   ]
  },
  {
   "cell_type": "code",
   "execution_count": 2,
   "id": "present-terrain",
   "metadata": {},
   "outputs": [],
   "source": [
    "# clásico\n",
    "mayus = []\n",
    "for p in palabras:\n",
    "    mayus.append(p.upper())"
   ]
  },
  {
   "cell_type": "code",
   "execution_count": 3,
   "id": "rubber-performer",
   "metadata": {},
   "outputs": [
    {
     "data": {
      "text/plain": [
       "['PALABRAS', 'HOLA', 'CLASE', 'IRONHACK', 'PASEO DE LA CHOPERA', 'FRANCACHELA']"
      ]
     },
     "execution_count": 3,
     "metadata": {},
     "output_type": "execute_result"
    }
   ],
   "source": [
    "mayus"
   ]
  },
  {
   "cell_type": "markdown",
   "id": "traditional-following",
   "metadata": {},
   "source": [
    "¿Cómo podemos hacerlo con comprehension list?"
   ]
  },
  {
   "cell_type": "markdown",
   "id": "cleared-montreal",
   "metadata": {},
   "source": [
    "![imagen_compr](https://stsewd.dev/charla-comprension-de-listas/img/listComprehensions.gif)"
   ]
  },
  {
   "cell_type": "code",
   "execution_count": 4,
   "id": "regulation-worse",
   "metadata": {},
   "outputs": [],
   "source": [
    "lista_mayus = [palabra.upper() for palabra in palabras]"
   ]
  },
  {
   "cell_type": "code",
   "execution_count": 5,
   "id": "lesbian-nepal",
   "metadata": {},
   "outputs": [
    {
     "data": {
      "text/plain": [
       "['PALABRAS', 'HOLA', 'CLASE', 'IRONHACK', 'PASEO DE LA CHOPERA', 'FRANCACHELA']"
      ]
     },
     "execution_count": 5,
     "metadata": {},
     "output_type": "execute_result"
    }
   ],
   "source": [
    "lista_mayus"
   ]
  },
  {
   "cell_type": "markdown",
   "id": "informed-wales",
   "metadata": {},
   "source": [
    "## Retito fácil 🤔\n",
    "Queremos una lista que contenga los cuadrados de los números del 1 al 10."
   ]
  },
  {
   "cell_type": "code",
   "execution_count": null,
   "id": "average-phoenix",
   "metadata": {},
   "outputs": [],
   "source": [
    "# Bucle For normal\n",
    "cuadrados = []\n"
   ]
  },
  {
   "cell_type": "code",
   "execution_count": null,
   "id": "collect-exemption",
   "metadata": {},
   "outputs": [],
   "source": []
  },
  {
   "cell_type": "code",
   "execution_count": null,
   "id": "painted-portsmouth",
   "metadata": {},
   "outputs": [],
   "source": [
    "# Comprehension list\n"
   ]
  },
  {
   "cell_type": "code",
   "execution_count": null,
   "id": "infinite-speech",
   "metadata": {},
   "outputs": [],
   "source": []
  },
  {
   "cell_type": "markdown",
   "id": "arranged-south",
   "metadata": {},
   "source": [
    "## Ventajas\n",
    "Al comprender la lista:  \n",
    " * no necesitamos una lista vacía para empezar\n",
    " * no utilizamos el método `.append`."
   ]
  },
  {
   "cell_type": "markdown",
   "id": "threaded-correlation",
   "metadata": {},
   "source": [
    "## Retito fácil 🤔\n",
    "Crea una nueva lista, sustituyendo las \"a\" por las \"e\" en cada palabra de la lista original `palabras`."
   ]
  },
  {
   "cell_type": "code",
   "execution_count": null,
   "id": "brutal-newfoundland",
   "metadata": {},
   "outputs": [],
   "source": []
  },
  {
   "cell_type": "code",
   "execution_count": null,
   "id": "incorporate-tolerance",
   "metadata": {},
   "outputs": [],
   "source": []
  },
  {
   "cell_type": "markdown",
   "id": "accessory-services",
   "metadata": {},
   "source": [
    "## Condiciones (metemos IF en la comprensión)"
   ]
  },
  {
   "cell_type": "markdown",
   "id": "instant-doctrine",
   "metadata": {},
   "source": [
    "<img width=600 src=\"https://www.mrdbourke.com/content/images/2019/09/python-list-comprehension-article.png\">"
   ]
  },
  {
   "cell_type": "markdown",
   "id": "elementary-reporter",
   "metadata": {},
   "source": [
    "## Retito fácil 🤔\n",
    "Queremos una nueva lista con palabras de más de 5 caracteres."
   ]
  },
  {
   "cell_type": "code",
   "execution_count": null,
   "id": "broad-organization",
   "metadata": {},
   "outputs": [],
   "source": [
    "# Clásico\n"
   ]
  },
  {
   "cell_type": "code",
   "execution_count": null,
   "id": "artificial-portable",
   "metadata": {},
   "outputs": [],
   "source": []
  },
  {
   "cell_type": "code",
   "execution_count": null,
   "id": "antique-manitoba",
   "metadata": {},
   "outputs": [],
   "source": [
    "# Comprehension\n"
   ]
  },
  {
   "cell_type": "code",
   "execution_count": null,
   "id": "effective-wrestling",
   "metadata": {},
   "outputs": [],
   "source": []
  },
  {
   "cell_type": "markdown",
   "id": "wrapped-treaty",
   "metadata": {},
   "source": [
    "## If / Else en comprehension\n",
    "Puedes incluir una sentencia else con un bloque de código que se implemente si la condición es falsa."
   ]
  },
  {
   "cell_type": "code",
   "execution_count": null,
   "id": "genetic-robinson",
   "metadata": {},
   "outputs": [],
   "source": [
    "nums = [1,3,45,67,8,54,2,45,78,9,4,67,6]"
   ]
  },
  {
   "cell_type": "code",
   "execution_count": null,
   "id": "widespread-friendship",
   "metadata": {},
   "outputs": [],
   "source": [
    "#Ejemplo\n",
    "#Creamos una lista nueva con el número multiplicado por 2 si es par y con la palabra \"impar\" si es impar"
   ]
  },
  {
   "cell_type": "markdown",
   "id": "impressed-samuel",
   "metadata": {},
   "source": [
    "Cuidado con la sintaxis, en este caso va a cambiar, la sintaxis de la comprehension será:      \n",
    "`[elemento if / else for elemento in loquesea]`"
   ]
  },
  {
   "cell_type": "code",
   "execution_count": null,
   "id": "vanilla-going",
   "metadata": {},
   "outputs": [],
   "source": []
  },
  {
   "cell_type": "code",
   "execution_count": null,
   "id": "prostate-grain",
   "metadata": {},
   "outputs": [],
   "source": []
  },
  {
   "cell_type": "markdown",
   "id": "married-robin",
   "metadata": {},
   "source": [
    "## Comprensión de listas dobles"
   ]
  },
  {
   "cell_type": "markdown",
   "id": "dedicated-austin",
   "metadata": {},
   "source": [
    "Somos 3 amigas. Queremos visitar 3 países.  \n",
    "Crea una lista de cadenas, que contenga todas las posibilidades de \"nombre ama país\""
   ]
  },
  {
   "cell_type": "code",
   "execution_count": null,
   "id": "expanded-yukon",
   "metadata": {},
   "outputs": [],
   "source": [
    "amigas = [\"Sonia\", \"Ras\", \"Ana\"]\n",
    "paises = [\"Tailandia\", \"India\", \"Japón\"]"
   ]
  },
  {
   "cell_type": "code",
   "execution_count": null,
   "id": "brief-change",
   "metadata": {},
   "outputs": [],
   "source": [
    "# Bucle clásico"
   ]
  },
  {
   "cell_type": "code",
   "execution_count": null,
   "id": "wrong-purpose",
   "metadata": {},
   "outputs": [],
   "source": []
  },
  {
   "cell_type": "code",
   "execution_count": null,
   "id": "useful-duration",
   "metadata": {},
   "outputs": [],
   "source": [
    "# list comprehension\n"
   ]
  },
  {
   "cell_type": "code",
   "execution_count": null,
   "id": "august-gilbert",
   "metadata": {},
   "outputs": [],
   "source": []
  },
  {
   "cell_type": "markdown",
   "id": "competent-gibson",
   "metadata": {},
   "source": [
    "## Comprensiones de listas anidadas"
   ]
  },
  {
   "cell_type": "code",
   "execution_count": null,
   "id": "accurate-bronze",
   "metadata": {},
   "outputs": [],
   "source": []
  },
  {
   "cell_type": "markdown",
   "id": "moved-financing",
   "metadata": {},
   "source": [
    "Vamos a crear una lista de listas con un bucle for"
   ]
  },
  {
   "cell_type": "code",
   "execution_count": null,
   "id": "dominican-louis",
   "metadata": {},
   "outputs": [],
   "source": []
  },
  {
   "cell_type": "code",
   "execution_count": null,
   "id": "czech-universal",
   "metadata": {},
   "outputs": [],
   "source": []
  },
  {
   "cell_type": "markdown",
   "id": "executed-action",
   "metadata": {},
   "source": [
    "¿Cómo haríamos esta lista de listas con comprehension list?"
   ]
  },
  {
   "cell_type": "code",
   "execution_count": null,
   "id": "multiple-accounting",
   "metadata": {},
   "outputs": [],
   "source": []
  },
  {
   "cell_type": "markdown",
   "id": "usual-roots",
   "metadata": {},
   "source": [
    "Y.... ¿Cómo deshacemos una lista de listas?"
   ]
  },
  {
   "cell_type": "code",
   "execution_count": null,
   "id": "angry-disabled",
   "metadata": {},
   "outputs": [],
   "source": []
  },
  {
   "cell_type": "code",
   "execution_count": null,
   "id": "biblical-sucking",
   "metadata": {},
   "outputs": [],
   "source": []
  },
  {
   "cell_type": "markdown",
   "id": "tropical-championship",
   "metadata": {},
   "source": [
    "## Comprensiones de diccionario"
   ]
  },
  {
   "cell_type": "code",
   "execution_count": null,
   "id": "solar-design",
   "metadata": {},
   "outputs": [],
   "source": [
    "nombres = [\"Ras\", \"Sonia\", \"Dobby\", \"Ana\"]\n",
    "emojis = [\"🚀\", \"🐋\", \"🐶\", \"🍃\"]"
   ]
  },
  {
   "cell_type": "markdown",
   "id": "intelligent-preliminary",
   "metadata": {},
   "source": [
    "¿Cómo lo haríamos con un bucle normal?"
   ]
  },
  {
   "cell_type": "code",
   "execution_count": null,
   "id": "associate-polls",
   "metadata": {},
   "outputs": [],
   "source": []
  },
  {
   "cell_type": "code",
   "execution_count": null,
   "id": "flying-museum",
   "metadata": {},
   "outputs": [],
   "source": []
  },
  {
   "cell_type": "markdown",
   "id": "stuffed-stack",
   "metadata": {},
   "source": [
    "¿Cómo lo hacemos con Comprehension Dict?"
   ]
  },
  {
   "cell_type": "code",
   "execution_count": null,
   "id": "heard-restoration",
   "metadata": {},
   "outputs": [],
   "source": []
  },
  {
   "cell_type": "code",
   "execution_count": null,
   "id": "sudden-default",
   "metadata": {},
   "outputs": [],
   "source": []
  },
  {
   "cell_type": "markdown",
   "id": "preliminary-hotel",
   "metadata": {},
   "source": [
    "## Retito 🤔\n",
    "Te dan una lista de palabras. Escribe un diccionario que contenga la longitud de cada palabra."
   ]
  },
  {
   "cell_type": "code",
   "execution_count": null,
   "id": "numeric-analyst",
   "metadata": {},
   "outputs": [],
   "source": [
    "palabras = [\"café\", \"isla\", \"bucear\", \"animales\", \"vacaciones\", \"dormir\", \"playa\", \"camiseta\"]"
   ]
  },
  {
   "cell_type": "code",
   "execution_count": null,
   "id": "tropical-actress",
   "metadata": {},
   "outputs": [],
   "source": [
    "# clásico bucle\n"
   ]
  },
  {
   "cell_type": "code",
   "execution_count": null,
   "id": "known-sacrifice",
   "metadata": {},
   "outputs": [],
   "source": []
  },
  {
   "cell_type": "code",
   "execution_count": null,
   "id": "fantastic-centre",
   "metadata": {},
   "outputs": [],
   "source": []
  },
  {
   "cell_type": "code",
   "execution_count": null,
   "id": "dental-curtis",
   "metadata": {},
   "outputs": [],
   "source": []
  },
  {
   "cell_type": "markdown",
   "id": "mature-saturday",
   "metadata": {},
   "source": [
    "## Retito 🤔\n",
    "Se le dan los pares país-dato de un tema determinado (no nos importa). \n",
    "- Construye una lista con los países\n",
    "- Construye un diccionario con los países y las edades"
   ]
  },
  {
   "cell_type": "code",
   "execution_count": null,
   "id": "incorporated-newman",
   "metadata": {},
   "outputs": [],
   "source": [
    "codes = [\"es-91\", \"en-88\", \"fr-12\", \"it-33\", \"ar-55\", \"au-66\", \"usa-55\"]"
   ]
  },
  {
   "cell_type": "code",
   "execution_count": null,
   "id": "measured-organization",
   "metadata": {},
   "outputs": [],
   "source": []
  },
  {
   "cell_type": "code",
   "execution_count": null,
   "id": "funny-caribbean",
   "metadata": {},
   "outputs": [],
   "source": []
  },
  {
   "cell_type": "code",
   "execution_count": null,
   "id": "electoral-retail",
   "metadata": {},
   "outputs": [],
   "source": []
  },
  {
   "cell_type": "code",
   "execution_count": null,
   "id": "independent-contributor",
   "metadata": {},
   "outputs": [],
   "source": []
  },
  {
   "cell_type": "markdown",
   "id": "compatible-compound",
   "metadata": {},
   "source": [
    "## Último retito\n",
    "Saca también, con un set comprehension, solamente los códigos de países únicos"
   ]
  },
  {
   "cell_type": "code",
   "execution_count": null,
   "id": "color-detector",
   "metadata": {},
   "outputs": [],
   "source": [
    "codes2 = [\"es-91\", \"en-88\", \"en-43\", \"fr-12\", \"it-33\", \"es-15\", \"fr-55\", \"es-66\", \"usa-55\"]"
   ]
  },
  {
   "cell_type": "code",
   "execution_count": null,
   "id": "treated-pointer",
   "metadata": {},
   "outputs": [],
   "source": []
  }
 ],
 "metadata": {
  "kernelspec": {
   "display_name": "ironhack",
   "language": "python",
   "name": "ironhack"
  },
  "language_info": {
   "codemirror_mode": {
    "name": "ipython",
    "version": 3
   },
   "file_extension": ".py",
   "mimetype": "text/x-python",
   "name": "python",
   "nbconvert_exporter": "python",
   "pygments_lexer": "ipython3",
   "version": "3.8.5"
  },
  "toc": {
   "base_numbering": 1,
   "nav_menu": {},
   "number_sections": true,
   "sideBar": true,
   "skip_h1_title": true,
   "title_cell": "Table of Contents",
   "title_sidebar": "Contents",
   "toc_cell": false,
   "toc_position": {},
   "toc_section_display": true,
   "toc_window_display": false
  }
 },
 "nbformat": 4,
 "nbformat_minor": 5
}
