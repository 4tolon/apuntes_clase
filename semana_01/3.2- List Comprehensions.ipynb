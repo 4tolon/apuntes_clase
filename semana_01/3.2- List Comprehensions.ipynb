{
 "cells": [
  {
   "cell_type": "markdown",
   "id": "plastic-serum",
   "metadata": {},
   "source": [
    "# List Comprehensions"
   ]
  },
  {
   "cell_type": "markdown",
   "id": "informative-lotus",
   "metadata": {},
   "source": [
    "![elgif](https://media.giphy.com/media/8vZY0QZZjJZqmfResk/giphy.gif)"
   ]
  },
  {
   "cell_type": "markdown",
   "id": "provincial-decade",
   "metadata": {},
   "source": [
    "## Pero... ¿Esto qué es?\n",
    "Las compresiones de listas son una herramienta muy poderosa, que crea una lista basada en otra, en una única linea legible."
   ]
  },
  {
   "cell_type": "code",
   "execution_count": null,
   "id": "broke-copper",
   "metadata": {},
   "outputs": [],
   "source": [
    "palabras = [\"palabras\", \"hola\", \"clase\", \"ironhack\", \"paseo de la chopera\", \"francachela\"]"
   ]
  },
  {
   "cell_type": "markdown",
   "id": "secret-sister",
   "metadata": {},
   "source": [
    "Si quisiéramos tener una lista igual que esta pero con todas las palabras en mayúsculas utilizando un bucle...."
   ]
  },
  {
   "cell_type": "code",
   "execution_count": null,
   "id": "boxed-acrobat",
   "metadata": {},
   "outputs": [],
   "source": []
  },
  {
   "cell_type": "code",
   "execution_count": null,
   "id": "demonstrated-black",
   "metadata": {},
   "outputs": [],
   "source": []
  },
  {
   "cell_type": "markdown",
   "id": "tropical-fellow",
   "metadata": {},
   "source": [
    "¿Cómo podemos hacerlo con comprehension list?"
   ]
  },
  {
   "cell_type": "markdown",
   "id": "embedded-burton",
   "metadata": {},
   "source": [
    "![imagen_compr](https://stsewd.dev/charla-comprension-de-listas/img/listComprehensions.gif)"
   ]
  },
  {
   "cell_type": "code",
   "execution_count": null,
   "id": "expired-license",
   "metadata": {},
   "outputs": [],
   "source": []
  },
  {
   "cell_type": "code",
   "execution_count": null,
   "id": "approved-thailand",
   "metadata": {},
   "outputs": [],
   "source": []
  },
  {
   "cell_type": "markdown",
   "id": "tough-beijing",
   "metadata": {},
   "source": [
    "## Retito fácil 🤔\n",
    "Queremos una lista que contenga los cuadrados de los números del 1 al 10."
   ]
  },
  {
   "cell_type": "code",
   "execution_count": null,
   "id": "organized-squad",
   "metadata": {},
   "outputs": [],
   "source": [
    "# Bucle For normal\n"
   ]
  },
  {
   "cell_type": "code",
   "execution_count": null,
   "id": "dietary-mustang",
   "metadata": {},
   "outputs": [],
   "source": []
  },
  {
   "cell_type": "code",
   "execution_count": null,
   "id": "shaped-adult",
   "metadata": {},
   "outputs": [],
   "source": [
    "# Comprehension list\n"
   ]
  },
  {
   "cell_type": "code",
   "execution_count": null,
   "id": "governmental-universal",
   "metadata": {},
   "outputs": [],
   "source": []
  },
  {
   "cell_type": "markdown",
   "id": "marine-authority",
   "metadata": {},
   "source": [
    "## Ventajas\n",
    "Al comprender la lista:  \n",
    " * no necesitamos una lista vacía para empezar\n",
    " * no utilizamos el método `.append`."
   ]
  },
  {
   "cell_type": "markdown",
   "id": "dominican-progressive",
   "metadata": {},
   "source": [
    "## Retito fácil 🤔\n",
    "Crea una nueva lista, sustituyendo las \"a\" por las \"e\" en cada palabra de la lista original `palabras`."
   ]
  },
  {
   "cell_type": "code",
   "execution_count": null,
   "id": "straight-makeup",
   "metadata": {},
   "outputs": [],
   "source": []
  },
  {
   "cell_type": "code",
   "execution_count": null,
   "id": "coordinate-burden",
   "metadata": {},
   "outputs": [],
   "source": []
  },
  {
   "cell_type": "markdown",
   "id": "manufactured-output",
   "metadata": {},
   "source": [
    "## Condiciones (metemos IF en la comprensión)"
   ]
  },
  {
   "cell_type": "markdown",
   "id": "supposed-lunch",
   "metadata": {},
   "source": [
    "<img width=600 src=\"https://www.mrdbourke.com/content/images/2019/09/python-list-comprehension-article.png\">"
   ]
  },
  {
   "cell_type": "markdown",
   "id": "sunrise-gregory",
   "metadata": {},
   "source": [
    "## Retito fácil 🤔\n",
    "Queremos una nueva lista con palabras de más de 5 caracteres."
   ]
  },
  {
   "cell_type": "code",
   "execution_count": null,
   "id": "printable-rolling",
   "metadata": {},
   "outputs": [],
   "source": [
    "# Clásico\n"
   ]
  },
  {
   "cell_type": "code",
   "execution_count": null,
   "id": "spanish-removal",
   "metadata": {},
   "outputs": [],
   "source": []
  },
  {
   "cell_type": "code",
   "execution_count": null,
   "id": "alien-accountability",
   "metadata": {},
   "outputs": [],
   "source": [
    "# Comprehension\n"
   ]
  },
  {
   "cell_type": "code",
   "execution_count": null,
   "id": "scenic-disaster",
   "metadata": {},
   "outputs": [],
   "source": []
  },
  {
   "cell_type": "markdown",
   "id": "religious-trader",
   "metadata": {},
   "source": [
    "## If / Else en comprehension\n",
    "Puedes incluir una sentencia else con un bloque de código que se implemente si la condición es falsa."
   ]
  },
  {
   "cell_type": "code",
   "execution_count": null,
   "id": "local-essex",
   "metadata": {},
   "outputs": [],
   "source": [
    "nums = [1,3,45,67,8,54,2,45,78,9,4,67,6]"
   ]
  },
  {
   "cell_type": "code",
   "execution_count": null,
   "id": "hollow-format",
   "metadata": {},
   "outputs": [],
   "source": [
    "#Ejemplo\n",
    "#Creamos una lista nueva con el número multiplicado por 2 si es par y con la palabra \"impar\" si es impar"
   ]
  },
  {
   "cell_type": "markdown",
   "id": "tired-wagner",
   "metadata": {},
   "source": [
    "Cuidado con la sintaxis, en este caso va a cambiar, la sintaxis de la comprehension será:      \n",
    "`[elemento if / else for elemento in loquesea]`"
   ]
  },
  {
   "cell_type": "code",
   "execution_count": null,
   "id": "genetic-chess",
   "metadata": {},
   "outputs": [],
   "source": []
  },
  {
   "cell_type": "code",
   "execution_count": null,
   "id": "specified-appreciation",
   "metadata": {},
   "outputs": [],
   "source": []
  },
  {
   "cell_type": "markdown",
   "id": "detailed-worry",
   "metadata": {},
   "source": [
    "## Comprensión de listas dobles"
   ]
  },
  {
   "cell_type": "markdown",
   "id": "comfortable-programming",
   "metadata": {},
   "source": [
    "Somos 3 amigas. Queremos visitar 3 países.  \n",
    "Crea una lista de cadenas, que contenga todas las posibilidades de \"nombre ama país\""
   ]
  },
  {
   "cell_type": "code",
   "execution_count": null,
   "id": "expressed-graphic",
   "metadata": {},
   "outputs": [],
   "source": [
    "amigas = [\"Sonia\", \"Ras\", \"Ana\"]\n",
    "paises = [\"Tailandia\", \"India\", \"Japón\"]"
   ]
  },
  {
   "cell_type": "code",
   "execution_count": null,
   "id": "horizontal-tourist",
   "metadata": {},
   "outputs": [],
   "source": [
    "# Bucle clásico"
   ]
  },
  {
   "cell_type": "code",
   "execution_count": null,
   "id": "square-cursor",
   "metadata": {},
   "outputs": [],
   "source": []
  },
  {
   "cell_type": "code",
   "execution_count": null,
   "id": "acoustic-challenge",
   "metadata": {},
   "outputs": [],
   "source": [
    "# list comprehension\n"
   ]
  },
  {
   "cell_type": "code",
   "execution_count": null,
   "id": "martial-niger",
   "metadata": {},
   "outputs": [],
   "source": []
  },
  {
   "cell_type": "markdown",
   "id": "manufactured-living",
   "metadata": {},
   "source": [
    "## Comprensiones de listas anidadas"
   ]
  },
  {
   "cell_type": "code",
   "execution_count": null,
   "id": "former-penalty",
   "metadata": {},
   "outputs": [],
   "source": []
  },
  {
   "cell_type": "markdown",
   "id": "blind-capital",
   "metadata": {},
   "source": [
    "Vamos a crear una lista de listas con un bucle for"
   ]
  },
  {
   "cell_type": "code",
   "execution_count": null,
   "id": "unexpected-cheat",
   "metadata": {},
   "outputs": [],
   "source": []
  },
  {
   "cell_type": "code",
   "execution_count": null,
   "id": "unauthorized-spice",
   "metadata": {},
   "outputs": [],
   "source": []
  },
  {
   "cell_type": "markdown",
   "id": "toxic-dispatch",
   "metadata": {},
   "source": [
    "¿Cómo haríamos esta lista de listas con comprehension list?"
   ]
  },
  {
   "cell_type": "code",
   "execution_count": null,
   "id": "specific-utility",
   "metadata": {},
   "outputs": [],
   "source": []
  },
  {
   "cell_type": "markdown",
   "id": "answering-inquiry",
   "metadata": {},
   "source": [
    "Y.... ¿Cómo deshacemos una lista de listas?"
   ]
  },
  {
   "cell_type": "code",
   "execution_count": null,
   "id": "equivalent-kansas",
   "metadata": {},
   "outputs": [],
   "source": []
  },
  {
   "cell_type": "code",
   "execution_count": null,
   "id": "ranking-works",
   "metadata": {},
   "outputs": [],
   "source": []
  },
  {
   "cell_type": "markdown",
   "id": "prescribed-director",
   "metadata": {},
   "source": [
    "## Comprensiones de diccionario"
   ]
  },
  {
   "cell_type": "code",
   "execution_count": null,
   "id": "blocked-kentucky",
   "metadata": {},
   "outputs": [],
   "source": [
    "nombres = [\"Ras\", \"Sonia\", \"Dobby\", \"Ana\"]\n",
    "emojis = [\"🚀\", \"🐋\", \"🐶\", \"🍃\"]"
   ]
  },
  {
   "cell_type": "markdown",
   "id": "latin-ensemble",
   "metadata": {},
   "source": [
    "¿Cómo lo haríamos con un bucle normal?"
   ]
  },
  {
   "cell_type": "code",
   "execution_count": null,
   "id": "confirmed-savage",
   "metadata": {},
   "outputs": [],
   "source": []
  },
  {
   "cell_type": "code",
   "execution_count": null,
   "id": "ordered-reynolds",
   "metadata": {},
   "outputs": [],
   "source": []
  },
  {
   "cell_type": "markdown",
   "id": "unable-leisure",
   "metadata": {},
   "source": [
    "¿Cómo lo hacemos con Comprehension Dict?"
   ]
  },
  {
   "cell_type": "code",
   "execution_count": null,
   "id": "functioning-holiday",
   "metadata": {},
   "outputs": [],
   "source": []
  },
  {
   "cell_type": "code",
   "execution_count": null,
   "id": "announced-metro",
   "metadata": {},
   "outputs": [],
   "source": []
  },
  {
   "cell_type": "markdown",
   "id": "governmental-stomach",
   "metadata": {},
   "source": [
    "## Retito 🤔\n",
    "Te dan una lista de palabras. Escribe un diccionario que contenga la longitud de cada palabra."
   ]
  },
  {
   "cell_type": "code",
   "execution_count": null,
   "id": "dressed-offer",
   "metadata": {},
   "outputs": [],
   "source": [
    "palabras = [\"café\", \"isla\", \"bucear\", \"animales\", \"vacaciones\", \"dormir\", \"playa\", \"camiseta\"]"
   ]
  },
  {
   "cell_type": "code",
   "execution_count": null,
   "id": "incoming-solution",
   "metadata": {},
   "outputs": [],
   "source": [
    "# clásico bucle\n"
   ]
  },
  {
   "cell_type": "code",
   "execution_count": null,
   "id": "medical-jurisdiction",
   "metadata": {},
   "outputs": [],
   "source": []
  },
  {
   "cell_type": "code",
   "execution_count": null,
   "id": "cheap-strengthening",
   "metadata": {},
   "outputs": [],
   "source": []
  },
  {
   "cell_type": "code",
   "execution_count": null,
   "id": "tough-portable",
   "metadata": {},
   "outputs": [],
   "source": []
  },
  {
   "cell_type": "markdown",
   "id": "japanese-stand",
   "metadata": {},
   "source": [
    "## Retito 🤔\n",
    "Se le dan los pares país-dato de un tema determinado (no nos importa). \n",
    "- Construye una lista con los países\n",
    "- Construye un diccionario con los países y las edades"
   ]
  },
  {
   "cell_type": "code",
   "execution_count": null,
   "id": "prompt-cooler",
   "metadata": {},
   "outputs": [],
   "source": [
    "codes = [\"es-91\", \"en-88\", \"fr-12\", \"it-33\", \"ar-55\", \"au-66\", \"usa-55\"]"
   ]
  },
  {
   "cell_type": "code",
   "execution_count": null,
   "id": "whole-mortgage",
   "metadata": {},
   "outputs": [],
   "source": []
  },
  {
   "cell_type": "code",
   "execution_count": null,
   "id": "tight-transcript",
   "metadata": {},
   "outputs": [],
   "source": []
  },
  {
   "cell_type": "code",
   "execution_count": null,
   "id": "effective-panel",
   "metadata": {},
   "outputs": [],
   "source": []
  },
  {
   "cell_type": "code",
   "execution_count": null,
   "id": "worse-television",
   "metadata": {},
   "outputs": [],
   "source": []
  },
  {
   "cell_type": "markdown",
   "id": "pregnant-consideration",
   "metadata": {},
   "source": [
    "## Último retito\n",
    "Saca también, con un set comprehension, solamente los códigos de países únicos"
   ]
  },
  {
   "cell_type": "code",
   "execution_count": null,
   "id": "instant-jenny",
   "metadata": {},
   "outputs": [],
   "source": [
    "codes2 = [\"es-91\", \"en-88\", \"en-43\", \"fr-12\", \"it-33\", \"es-15\", \"fr-55\", \"es-66\", \"usa-55\"]"
   ]
  },
  {
   "cell_type": "code",
   "execution_count": null,
   "id": "coordinated-hygiene",
   "metadata": {},
   "outputs": [],
   "source": []
  }
 ],
 "metadata": {
  "kernelspec": {
   "display_name": "ironhack",
   "language": "python",
   "name": "ironhack"
  },
  "language_info": {
   "codemirror_mode": {
    "name": "ipython",
    "version": 3
   },
   "file_extension": ".py",
   "mimetype": "text/x-python",
   "name": "python",
   "nbconvert_exporter": "python",
   "pygments_lexer": "ipython3",
   "version": "3.8.5"
  },
  "toc": {
   "base_numbering": 1,
   "nav_menu": {},
   "number_sections": true,
   "sideBar": true,
   "skip_h1_title": true,
   "title_cell": "Table of Contents",
   "title_sidebar": "Contents",
   "toc_cell": false,
   "toc_position": {},
   "toc_section_display": true,
   "toc_window_display": true
  }
 },
 "nbformat": 4,
 "nbformat_minor": 5
}
