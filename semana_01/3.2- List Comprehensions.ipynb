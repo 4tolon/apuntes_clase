{
 "cells": [
  {
   "cell_type": "markdown",
   "id": "running-smell",
   "metadata": {},
   "source": [
    "# List Comprehensions"
   ]
  },
  {
   "cell_type": "markdown",
   "id": "dangerous-mouth",
   "metadata": {},
   "source": [
    "![elgif](https://media.giphy.com/media/8vZY0QZZjJZqmfResk/giphy.gif)"
   ]
  },
  {
   "cell_type": "markdown",
   "id": "specialized-bradford",
   "metadata": {},
   "source": [
    "## Pero... ¿Esto qué es?\n",
    "Las compresiones de listas son una herramienta muy poderosa, que crea una lista basada en otra, en una única linea legible."
   ]
  },
  {
   "cell_type": "code",
   "execution_count": 18,
   "id": "given-spoke",
   "metadata": {},
   "outputs": [],
   "source": [
    "palabras = [\"palabras\", \"hola\", \"clase\", \"ironhack\", \"paseo de la chopera\", \"francachela\"]"
   ]
  },
  {
   "cell_type": "markdown",
   "id": "static-orientation",
   "metadata": {},
   "source": [
    "Si quisiéramos tener una lista igual que esta pero con todas las palabras en mayúsculas utilizando un bucle...."
   ]
  },
  {
   "cell_type": "code",
   "execution_count": 19,
   "id": "thermal-stylus",
   "metadata": {},
   "outputs": [],
   "source": [
    "lista_mayus = []\n",
    "for palabra in palabras:\n",
    "    lista_mayus.append(palabra.upper())"
   ]
  },
  {
   "cell_type": "code",
   "execution_count": 20,
   "id": "skilled-alias",
   "metadata": {},
   "outputs": [
    {
     "name": "stdout",
     "output_type": "stream",
     "text": [
      "['PALABRAS', 'HOLA', 'CLASE', 'IRONHACK', 'PASEO DE LA CHOPERA', 'FRANCACHELA']\n"
     ]
    }
   ],
   "source": [
    "print(lista_mayus)"
   ]
  },
  {
   "cell_type": "markdown",
   "id": "mineral-redhead",
   "metadata": {},
   "source": [
    "¿Cómo podemos hacerlo con comprehension list?"
   ]
  },
  {
   "cell_type": "markdown",
   "id": "outstanding-debate",
   "metadata": {},
   "source": [
    "![imagen_compr](https://stsewd.dev/charla-comprension-de-listas/img/listComprehensions.gif)"
   ]
  },
  {
   "cell_type": "code",
   "execution_count": 11,
   "id": "written-kansas",
   "metadata": {},
   "outputs": [],
   "source": [
    "list_comp = [palabra.upper() for palabra in lista]"
   ]
  },
  {
   "cell_type": "code",
   "execution_count": 12,
   "id": "delayed-afghanistan",
   "metadata": {},
   "outputs": [
    {
     "name": "stdout",
     "output_type": "stream",
     "text": [
      "['PALABRAS', 'HOLA', 'CLASE', 'IRONHACK', 'PASEO DE LA CHOPERA', 'FRANCACHELA']\n"
     ]
    }
   ],
   "source": [
    "print(list_comp)"
   ]
  },
  {
   "cell_type": "markdown",
   "id": "compact-blogger",
   "metadata": {},
   "source": [
    "## Retito fácil 🤔\n",
    "Queremos una lista que contenga los cuadrados de los números del 1 al 10."
   ]
  },
  {
   "cell_type": "code",
   "execution_count": 13,
   "id": "designed-newfoundland",
   "metadata": {},
   "outputs": [],
   "source": [
    "# Bucle For normal\n",
    "cuadrados = []\n",
    "for n in range(1, 11):\n",
    "    sq = n ** 2\n",
    "    cuadrados.append(sq)"
   ]
  },
  {
   "cell_type": "code",
   "execution_count": 14,
   "id": "killing-instrument",
   "metadata": {},
   "outputs": [
    {
     "data": {
      "text/plain": [
       "[1, 4, 9, 16, 25, 36, 49, 64, 81, 100]"
      ]
     },
     "execution_count": 14,
     "metadata": {},
     "output_type": "execute_result"
    }
   ],
   "source": [
    "cuadrados"
   ]
  },
  {
   "cell_type": "code",
   "execution_count": 15,
   "id": "warming-trustee",
   "metadata": {},
   "outputs": [],
   "source": [
    "# Comprehension list\n",
    "cuadrados_comp = [n ** 2 for n in range(1, 11)]"
   ]
  },
  {
   "cell_type": "code",
   "execution_count": 16,
   "id": "crude-scenario",
   "metadata": {},
   "outputs": [
    {
     "data": {
      "text/plain": [
       "[1, 4, 9, 16, 25, 36, 49, 64, 81, 100]"
      ]
     },
     "execution_count": 16,
     "metadata": {},
     "output_type": "execute_result"
    }
   ],
   "source": [
    "cuadrados_comp"
   ]
  },
  {
   "cell_type": "markdown",
   "id": "accepted-dragon",
   "metadata": {},
   "source": [
    "## Ventajas\n",
    "Al comprender la lista:  \n",
    " * no necesitamos una lista vacía para empezar\n",
    " * no utilizamos el método `.append`."
   ]
  },
  {
   "cell_type": "markdown",
   "id": "expired-topic",
   "metadata": {},
   "source": [
    "## Retito fácil 🤔\n",
    "Crea una nueva lista, sustituyendo las \"a\" por las \"e\" en cada palabra de la lista original `palabras`."
   ]
  },
  {
   "cell_type": "code",
   "execution_count": 21,
   "id": "broadband-tonight",
   "metadata": {},
   "outputs": [],
   "source": [
    "nueva = [w.replace(\"a\", \"e\") for w in palabras]"
   ]
  },
  {
   "cell_type": "code",
   "execution_count": 22,
   "id": "stuck-creativity",
   "metadata": {},
   "outputs": [
    {
     "name": "stdout",
     "output_type": "stream",
     "text": [
      "['pelebres', 'hole', 'clese', 'ironheck', 'peseo de le chopere', 'frencechele']\n"
     ]
    }
   ],
   "source": [
    "print(nueva)"
   ]
  },
  {
   "cell_type": "markdown",
   "id": "rental-jefferson",
   "metadata": {},
   "source": [
    "## Condiciones (metemos IF en la comprensión)"
   ]
  },
  {
   "cell_type": "markdown",
   "id": "amber-cursor",
   "metadata": {},
   "source": [
    "<img width=600 src=\"https://www.mrdbourke.com/content/images/2019/09/python-list-comprehension-article.png\">"
   ]
  },
  {
   "cell_type": "markdown",
   "id": "circular-journalist",
   "metadata": {},
   "source": [
    "## Retito fácil 🤔\n",
    "Queremos una nueva lista con palabras de más de 5 caracteres."
   ]
  },
  {
   "cell_type": "code",
   "execution_count": 27,
   "id": "controversial-accommodation",
   "metadata": {},
   "outputs": [],
   "source": [
    "# Clásico\n",
    "masde5 = []\n",
    "for p in palabras:\n",
    "    if len(p) > 5:\n",
    "        masde5.append(p)"
   ]
  },
  {
   "cell_type": "code",
   "execution_count": 28,
   "id": "american-tribe",
   "metadata": {},
   "outputs": [
    {
     "data": {
      "text/plain": [
       "['palabras', 'ironhack', 'paseo de la chopera', 'francachela']"
      ]
     },
     "execution_count": 28,
     "metadata": {},
     "output_type": "execute_result"
    }
   ],
   "source": [
    "masde5"
   ]
  },
  {
   "cell_type": "code",
   "execution_count": 29,
   "id": "incident-province",
   "metadata": {},
   "outputs": [],
   "source": [
    "# Comprehension\n",
    "masde5_comp = [p for p in palabras if len(p) > 5]"
   ]
  },
  {
   "cell_type": "code",
   "execution_count": 30,
   "id": "stock-indonesian",
   "metadata": {},
   "outputs": [
    {
     "data": {
      "text/plain": [
       "['palabras', 'ironhack', 'paseo de la chopera', 'francachela']"
      ]
     },
     "execution_count": 30,
     "metadata": {},
     "output_type": "execute_result"
    }
   ],
   "source": [
    "masde5_comp"
   ]
  },
  {
   "cell_type": "markdown",
   "id": "signed-decline",
   "metadata": {},
   "source": [
    "## If / Else en comprehension\n",
    "Puedes incluir una sentencia else con un bloque de código que se implemente si la condición es falsa."
   ]
  },
  {
   "cell_type": "code",
   "execution_count": 35,
   "id": "computational-princess",
   "metadata": {},
   "outputs": [],
   "source": [
    "nums = [1,3,45,67,8,54,2,45,78,9,4,67,6]"
   ]
  },
  {
   "cell_type": "code",
   "execution_count": 36,
   "id": "textile-shark",
   "metadata": {},
   "outputs": [],
   "source": [
    "#Ejemplo\n",
    "#Creamos una lista nueva con el número multiplicado por 2 si es par y con la palabra \"impar\" si es impar"
   ]
  },
  {
   "cell_type": "markdown",
   "id": "difficult-alfred",
   "metadata": {},
   "source": [
    "Cuidado con la sintaxis, en este caso va a cambiar, la sintaxis de la comprehension será:      \n",
    "`[elemento if / else for elemento in loquesea]`"
   ]
  },
  {
   "cell_type": "code",
   "execution_count": 37,
   "id": "overall-circle",
   "metadata": {},
   "outputs": [],
   "source": [
    "creamos = [n*2 if n%2 == 0 else \"impar\" for n in nums]"
   ]
  },
  {
   "cell_type": "code",
   "execution_count": 38,
   "id": "maritime-illness",
   "metadata": {},
   "outputs": [
    {
     "name": "stdout",
     "output_type": "stream",
     "text": [
      "['impar', 'impar', 'impar', 'impar', 16, 108, 4, 'impar', 156, 'impar', 8, 'impar', 12]\n"
     ]
    }
   ],
   "source": [
    "print(creamos)"
   ]
  },
  {
   "cell_type": "markdown",
   "id": "promotional-turning",
   "metadata": {},
   "source": [
    "## Comprensión de listas dobles"
   ]
  },
  {
   "cell_type": "markdown",
   "id": "spare-converter",
   "metadata": {},
   "source": [
    "Somos 3 amigas. Queremos visitar 3 países.  \n",
    "Crea una lista de cadenas, que contenga todas las posibilidades de \"nombre ama país\""
   ]
  },
  {
   "cell_type": "code",
   "execution_count": 39,
   "id": "intelligent-minute",
   "metadata": {},
   "outputs": [],
   "source": [
    "amigas = [\"Sonia\", \"Ras\", \"Ana\"]\n",
    "paises = [\"Tailandia\", \"India\", \"Japón\"]"
   ]
  },
  {
   "cell_type": "code",
   "execution_count": 40,
   "id": "neither-alcohol",
   "metadata": {},
   "outputs": [],
   "source": [
    "# Bucle clásico\n",
    "lista_=[]\n",
    "for amiga in amigas:\n",
    "    for pais in paises:\n",
    "        lista_.append(f\"{amiga} ama {pais}\")"
   ]
  },
  {
   "cell_type": "code",
   "execution_count": 41,
   "id": "assumed-treasure",
   "metadata": {},
   "outputs": [
    {
     "data": {
      "text/plain": [
       "['Sonia ama Tailandia',\n",
       " 'Sonia ama India',\n",
       " 'Sonia ama Japón',\n",
       " 'Ras ama Tailandia',\n",
       " 'Ras ama India',\n",
       " 'Ras ama Japón',\n",
       " 'Ana ama Tailandia',\n",
       " 'Ana ama India',\n",
       " 'Ana ama Japón']"
      ]
     },
     "execution_count": 41,
     "metadata": {},
     "output_type": "execute_result"
    }
   ],
   "source": [
    "lista_"
   ]
  },
  {
   "cell_type": "code",
   "execution_count": 43,
   "id": "dynamic-bundle",
   "metadata": {},
   "outputs": [],
   "source": [
    "# list comprehension\n",
    "lista_c = [f\"{a} loves {p}\" for a in amigas for p in paises]"
   ]
  },
  {
   "cell_type": "code",
   "execution_count": 45,
   "id": "acute-award",
   "metadata": {},
   "outputs": [
    {
     "data": {
      "text/plain": [
       "['Sonia loves Tailandia',\n",
       " 'Sonia loves India',\n",
       " 'Sonia loves Japón',\n",
       " 'Ras loves Tailandia',\n",
       " 'Ras loves India',\n",
       " 'Ras loves Japón',\n",
       " 'Ana loves Tailandia',\n",
       " 'Ana loves India',\n",
       " 'Ana loves Japón']"
      ]
     },
     "execution_count": 45,
     "metadata": {},
     "output_type": "execute_result"
    }
   ],
   "source": [
    "lista_c"
   ]
  },
  {
   "cell_type": "markdown",
   "id": "dying-logan",
   "metadata": {},
   "source": [
    "## Comprensiones de listas anidadas"
   ]
  },
  {
   "cell_type": "code",
   "execution_count": 46,
   "id": "independent-armstrong",
   "metadata": {},
   "outputs": [
    {
     "data": {
      "text/plain": [
       "['Sonia', 'Ras', 'Ana']"
      ]
     },
     "execution_count": 46,
     "metadata": {},
     "output_type": "execute_result"
    }
   ],
   "source": [
    "amigas"
   ]
  },
  {
   "cell_type": "markdown",
   "id": "operational-sunday",
   "metadata": {},
   "source": [
    "Vamos a crear una lista de listas con un bucle for"
   ]
  },
  {
   "cell_type": "code",
   "execution_count": 47,
   "id": "premium-pittsburgh",
   "metadata": {},
   "outputs": [],
   "source": [
    "super_lista = []\n",
    "for a in amigas:\n",
    "    nombres = [a, a.upper(), a.lower()]\n",
    "    super_lista.append(nombres)"
   ]
  },
  {
   "cell_type": "code",
   "execution_count": 48,
   "id": "quarterly-notion",
   "metadata": {},
   "outputs": [
    {
     "data": {
      "text/plain": [
       "[['Sonia', 'SONIA', 'sonia'], ['Ras', 'RAS', 'ras'], ['Ana', 'ANA', 'ana']]"
      ]
     },
     "execution_count": 48,
     "metadata": {},
     "output_type": "execute_result"
    }
   ],
   "source": [
    "super_lista"
   ]
  },
  {
   "cell_type": "markdown",
   "id": "grave-pocket",
   "metadata": {},
   "source": [
    "¿Cómo haríamos esta lista de listas con comprehension list?"
   ]
  },
  {
   "cell_type": "code",
   "execution_count": 50,
   "id": "limiting-status",
   "metadata": {},
   "outputs": [
    {
     "data": {
      "text/plain": [
       "[['Ana', 'ANA', 'ana'], ['Ana', 'ANA', 'ana'], ['Ana', 'ANA', 'ana']]"
      ]
     },
     "execution_count": 50,
     "metadata": {},
     "output_type": "execute_result"
    }
   ],
   "source": [
    "[[a, a.upper(), a.lower()] for amiga in amigas]"
   ]
  },
  {
   "cell_type": "markdown",
   "id": "chief-hamilton",
   "metadata": {},
   "source": [
    "Y.... ¿Cómo deshacemos una lista de listas?"
   ]
  },
  {
   "cell_type": "code",
   "execution_count": 51,
   "id": "acoustic-healthcare",
   "metadata": {},
   "outputs": [],
   "source": [
    "aplana = [nombre for lista in super_lista for nombre in lista]"
   ]
  },
  {
   "cell_type": "code",
   "execution_count": 52,
   "id": "average-transfer",
   "metadata": {},
   "outputs": [
    {
     "data": {
      "text/plain": [
       "['Sonia', 'SONIA', 'sonia', 'Ras', 'RAS', 'ras', 'Ana', 'ANA', 'ana']"
      ]
     },
     "execution_count": 52,
     "metadata": {},
     "output_type": "execute_result"
    }
   ],
   "source": [
    "aplana"
   ]
  },
  {
   "cell_type": "markdown",
   "id": "unusual-marking",
   "metadata": {},
   "source": [
    "## Comprensiones de diccionario"
   ]
  },
  {
   "cell_type": "code",
   "execution_count": 53,
   "id": "emerging-meeting",
   "metadata": {},
   "outputs": [],
   "source": [
    "nombres = [\"Ras\", \"Sonia\", \"Dobby\", \"Ana\"]\n",
    "emojis = [\"🚀\", \"🐋\", \"🐶\", \"🍃\"]"
   ]
  },
  {
   "cell_type": "markdown",
   "id": "becoming-sugar",
   "metadata": {},
   "source": [
    "¿Cómo lo haríamos con un bucle normal?"
   ]
  },
  {
   "cell_type": "code",
   "execution_count": 57,
   "id": "ahead-eligibility",
   "metadata": {},
   "outputs": [],
   "source": [
    "dicc_ = {}\n",
    "for nombre,emoji in zip(nombres,emojis):\n",
    "    dicc_[nombre] = emoji"
   ]
  },
  {
   "cell_type": "code",
   "execution_count": 58,
   "id": "written-foster",
   "metadata": {},
   "outputs": [
    {
     "data": {
      "text/plain": [
       "{'Ras': '🚀', 'Sonia': '🐋', 'Dobby': '🐶', 'Ana': '🍃'}"
      ]
     },
     "execution_count": 58,
     "metadata": {},
     "output_type": "execute_result"
    }
   ],
   "source": [
    "dicc_"
   ]
  },
  {
   "cell_type": "markdown",
   "id": "separated-argument",
   "metadata": {},
   "source": [
    "¿Cómo lo hacemos con Comprehension Dict?"
   ]
  },
  {
   "cell_type": "code",
   "execution_count": 54,
   "id": "confidential-honolulu",
   "metadata": {},
   "outputs": [],
   "source": [
    "diccionario = {nombre:emoji for nombre,emoji in zip(nombres,emojis)}"
   ]
  },
  {
   "cell_type": "code",
   "execution_count": 55,
   "id": "simplified-priest",
   "metadata": {},
   "outputs": [
    {
     "data": {
      "text/plain": [
       "{'Ras': '🚀', 'Sonia': '🐋', 'Dobby': '🐶', 'Ana': '🍃'}"
      ]
     },
     "execution_count": 55,
     "metadata": {},
     "output_type": "execute_result"
    }
   ],
   "source": [
    "diccionario"
   ]
  },
  {
   "cell_type": "markdown",
   "id": "deadly-charleston",
   "metadata": {},
   "source": [
    "## Retito 🤔\n",
    "Te dan una lista de palabras. Escribe un diccionario que contenga la longitud de cada palabra."
   ]
  },
  {
   "cell_type": "code",
   "execution_count": 56,
   "id": "exempt-concentrate",
   "metadata": {},
   "outputs": [],
   "source": [
    "palabras = [\"café\", \"isla\", \"bucear\", \"animales\", \"vacaciones\", \"dormir\", \"playa\", \"camiseta\"]"
   ]
  },
  {
   "cell_type": "code",
   "execution_count": 59,
   "id": "conditional-convertible",
   "metadata": {},
   "outputs": [],
   "source": [
    "# clásico bucle\n",
    "diccio = {}\n",
    "for p in palabras:\n",
    "    diccio[p] = len(p)"
   ]
  },
  {
   "cell_type": "code",
   "execution_count": 60,
   "id": "interim-transparency",
   "metadata": {},
   "outputs": [
    {
     "data": {
      "text/plain": [
       "{'café': 4,\n",
       " 'isla': 4,\n",
       " 'bucear': 6,\n",
       " 'animales': 8,\n",
       " 'vacaciones': 10,\n",
       " 'dormir': 6,\n",
       " 'playa': 5,\n",
       " 'camiseta': 8}"
      ]
     },
     "execution_count": 60,
     "metadata": {},
     "output_type": "execute_result"
    }
   ],
   "source": [
    "diccio"
   ]
  },
  {
   "cell_type": "code",
   "execution_count": 61,
   "id": "attended-sullivan",
   "metadata": {},
   "outputs": [],
   "source": [
    "comp = {p:len(p) for p in palabras}"
   ]
  },
  {
   "cell_type": "code",
   "execution_count": 62,
   "id": "pediatric-savage",
   "metadata": {},
   "outputs": [
    {
     "data": {
      "text/plain": [
       "{'café': 4,\n",
       " 'isla': 4,\n",
       " 'bucear': 6,\n",
       " 'animales': 8,\n",
       " 'vacaciones': 10,\n",
       " 'dormir': 6,\n",
       " 'playa': 5,\n",
       " 'camiseta': 8}"
      ]
     },
     "execution_count": 62,
     "metadata": {},
     "output_type": "execute_result"
    }
   ],
   "source": [
    "comp"
   ]
  },
  {
   "cell_type": "markdown",
   "id": "backed-beaver",
   "metadata": {},
   "source": [
    "## Retito 🤔\n",
    "Se le dan los pares país-dato de un tema determinado (no nos importa). \n",
    "- Construye una lista con los países\n",
    "- Construye un diccionario con los países y las edades"
   ]
  },
  {
   "cell_type": "code",
   "execution_count": 63,
   "id": "animated-alignment",
   "metadata": {},
   "outputs": [],
   "source": [
    "codes = [\"es-91\", \"en-88\", \"fr-12\", \"it-33\", \"ar-55\", \"au-66\", \"usa-55\"]"
   ]
  },
  {
   "cell_type": "code",
   "execution_count": 65,
   "id": "exclusive-constitution",
   "metadata": {},
   "outputs": [],
   "source": [
    "paises = [c.split(\"-\")[0] for c in codes]"
   ]
  },
  {
   "cell_type": "code",
   "execution_count": 66,
   "id": "visible-shopper",
   "metadata": {},
   "outputs": [
    {
     "data": {
      "text/plain": [
       "['es', 'en', 'en', 'fr', 'it', 'es', 'fr', 'es', 'usa']"
      ]
     },
     "execution_count": 66,
     "metadata": {},
     "output_type": "execute_result"
    }
   ],
   "source": [
    "paises"
   ]
  },
  {
   "cell_type": "code",
   "execution_count": 67,
   "id": "greenhouse-porter",
   "metadata": {},
   "outputs": [],
   "source": [
    "diccio_pa = {c.split(\"-\")[0]: c.split(\"-\")[1] for c in codes}"
   ]
  },
  {
   "cell_type": "code",
   "execution_count": 69,
   "id": "lightweight-penetration",
   "metadata": {},
   "outputs": [
    {
     "data": {
      "text/plain": [
       "{'es': '66', 'en': '43', 'fr': '55', 'it': '33', 'usa': '55'}"
      ]
     },
     "execution_count": 69,
     "metadata": {},
     "output_type": "execute_result"
    }
   ],
   "source": [
    "diccio_pa"
   ]
  },
  {
   "cell_type": "markdown",
   "id": "knowing-optimum",
   "metadata": {},
   "source": [
    "## Último retito\n",
    "Saca también, con un set comprehension, solamente los códigos de países únicos"
   ]
  },
  {
   "cell_type": "code",
   "execution_count": 64,
   "id": "graduate-pension",
   "metadata": {},
   "outputs": [],
   "source": [
    "codes2 = [\"es-91\", \"en-88\", \"en-43\", \"fr-12\", \"it-33\", \"es-15\", \"fr-55\", \"es-66\", \"usa-55\"]"
   ]
  },
  {
   "cell_type": "code",
   "execution_count": null,
   "id": "vital-hollow",
   "metadata": {},
   "outputs": [],
   "source": [
    "set_pa = {c.split(\"-\")[0] for c in codes}"
   ]
  }
 ],
 "metadata": {
  "kernelspec": {
   "display_name": "ironhack",
   "language": "python",
   "name": "ironhack"
  },
  "language_info": {
   "codemirror_mode": {
    "name": "ipython",
    "version": 3
   },
   "file_extension": ".py",
   "mimetype": "text/x-python",
   "name": "python",
   "nbconvert_exporter": "python",
   "pygments_lexer": "ipython3",
   "version": "3.8.5"
  },
  "toc": {
   "base_numbering": 1,
   "nav_menu": {},
   "number_sections": true,
   "sideBar": true,
   "skip_h1_title": true,
   "title_cell": "Table of Contents",
   "title_sidebar": "Contents",
   "toc_cell": false,
   "toc_position": {},
   "toc_section_display": true,
   "toc_window_display": true
  }
 },
 "nbformat": 4,
 "nbformat_minor": 5
}
