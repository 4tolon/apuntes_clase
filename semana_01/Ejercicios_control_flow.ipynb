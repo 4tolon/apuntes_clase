{
 "cells": [
  {
   "cell_type": "markdown",
   "id": "grateful-diana",
   "metadata": {},
   "source": [
    "# Retos para practicar bucles y condicionales 🚀🙃"
   ]
  },
  {
   "cell_type": "markdown",
   "id": "hearing-spelling",
   "metadata": {},
   "source": [
    "![elgif](https://media.giphy.com/media/lngw0pFJezv9vWdDq/giphy.gif)"
   ]
  },
  {
   "cell_type": "markdown",
   "id": "labeled-circumstances",
   "metadata": {},
   "source": [
    "## Ejercicio  🚀 (Recap if/else)\n",
    "Los alumnos de un curso se han dividido en dos grupos A y B de acuerdo al sexo y el nombre. El grupo A esta formado por las mujeres con un nombre anterior a la M y los hombres con un nombre posterior a la N y el grupo B por el resto. Escribir un programa que pregunte al usuario su nombre y sexo, y muestre por pantalla el grupo que le corresponde."
   ]
  },
  {
   "cell_type": "code",
   "execution_count": 1,
   "id": "worst-wayne",
   "metadata": {},
   "outputs": [
    {
     "name": "stdout",
     "output_type": "stream",
     "text": [
      "¿Cómo te llamas Ras\n",
      "Introduce género M o H H\n",
      "Grupo A\n"
     ]
    }
   ],
   "source": [
    "# tu código aquí\n",
    "nombre = input(\"¿Cómo te llamas \")\n",
    "genero = input(\"Introduce género M o H \")\n",
    "\n",
    "if genero == \"M\":\n",
    "    if nombre[0].lower() < \"m\":\n",
    "        print(\"Grupo A\")\n",
    "    else:\n",
    "        print(\"Grupo B\")\n",
    "else:\n",
    "    if nombre[0].lower() >= \"m\":\n",
    "        print(\"Grupo A\")\n",
    "    else:\n",
    "        print(\"Grupo B\")"
   ]
  },
  {
   "cell_type": "markdown",
   "id": "aware-compound",
   "metadata": {},
   "source": [
    "## Ejercicio  🚀 (while)\n",
    "Lee los números enteros del teclado, hasta que el usuario introduzca el 0. Finalmente, muestra la suma de todos los números positivos introducidos."
   ]
  },
  {
   "cell_type": "code",
   "execution_count": 3,
   "id": "scenic-cutting",
   "metadata": {},
   "outputs": [
    {
     "name": "stdout",
     "output_type": "stream",
     "text": [
      "Introduce un entero 3\n",
      "Tine que ser un número entre 0 y 9 \n"
     ]
    }
   ],
   "source": [
    "# Tu código aquí\n",
    "num = None\n",
    "while True:\n",
    "    num = input(\"Introduce un entero \")\n",
    "    if num not in range(0,9):\n",
    "        print(\"Tine que ser un número entre 0 y 9 \")\n",
    "    else: \n",
    "        if num != 0:\n",
    "            print(\"Sigue intentándolo \")\n",
    "            \n",
    "        elif num == 0:\n",
    "            print(\"Has acertado \")\n",
    "    break"
   ]
  },
  {
   "cell_type": "code",
   "execution_count": null,
   "id": "limiting-walter",
   "metadata": {},
   "outputs": [
    {
     "name": "stdout",
     "output_type": "stream",
     "text": [
      "Introduce un número 1\n"
     ]
    }
   ],
   "source": [
    "num = int(input(\"Introduce un número \"))\n",
    "total = 0\n",
    "\n",
    "while num != 0:\n",
    "    total += num\n",
    "    num = int(input(\"Introduce un número \"))\n",
    "print(total)"
   ]
  },
  {
   "cell_type": "markdown",
   "id": "middle-court",
   "metadata": {},
   "source": [
    "## Retocamos el 1 (while)\n",
    "Lee los números enteros del teclado, hasta que el usuario introduzca el 0. Finalmente, devuelve el mayor de los números introducidos\n"
   ]
  },
  {
   "cell_type": "code",
   "execution_count": null,
   "id": "checked-sarah",
   "metadata": {},
   "outputs": [],
   "source": [
    "# Tu código aquí"
   ]
  },
  {
   "cell_type": "markdown",
   "id": "persistent-freight",
   "metadata": {},
   "source": [
    "## Ejercicio  🚀\n",
    "Escribe un programa que pregunte al usuario por su edad y muestre todos los años que ha alcanzado (desde el 1 hasta su edad)."
   ]
  },
  {
   "cell_type": "code",
   "execution_count": null,
   "id": "liable-origin",
   "metadata": {},
   "outputs": [],
   "source": [
    "# Tu código aquí"
   ]
  },
  {
   "cell_type": "markdown",
   "id": "handled-efficiency",
   "metadata": {},
   "source": [
    "## Ejercicio  🚀\n",
    "Escribir un programa que pida al usuario un número entero positivo y muestre por pantalla todos los números impares desde 1 hasta ese número separados por comas."
   ]
  },
  {
   "cell_type": "code",
   "execution_count": null,
   "id": "clean-stanley",
   "metadata": {},
   "outputs": [],
   "source": [
    "# Tu código aquí"
   ]
  },
  {
   "cell_type": "markdown",
   "id": "standing-binary",
   "metadata": {},
   "source": [
    "## Ejercicio  🚀\n",
    "Escribir un programa que pida al usuario una palabra y luego muestre por pantalla una a una las letras de la palabra introducida empezando por la última."
   ]
  },
  {
   "cell_type": "code",
   "execution_count": null,
   "id": "desperate-polymer",
   "metadata": {},
   "outputs": [],
   "source": [
    "# Tu código aquí"
   ]
  }
 ],
 "metadata": {
  "kernelspec": {
   "display_name": "ironhack",
   "language": "python",
   "name": "ironhack"
  },
  "language_info": {
   "codemirror_mode": {
    "name": "ipython",
    "version": 3
   },
   "file_extension": ".py",
   "mimetype": "text/x-python",
   "name": "python",
   "nbconvert_exporter": "python",
   "pygments_lexer": "ipython3",
   "version": "3.8.5"
  },
  "toc": {
   "base_numbering": 1,
   "nav_menu": {},
   "number_sections": true,
   "sideBar": true,
   "skip_h1_title": true,
   "title_cell": "Table of Contents",
   "title_sidebar": "Contents",
   "toc_cell": false,
   "toc_position": {},
   "toc_section_display": true,
   "toc_window_display": false
  }
 },
 "nbformat": 4,
 "nbformat_minor": 5
}
