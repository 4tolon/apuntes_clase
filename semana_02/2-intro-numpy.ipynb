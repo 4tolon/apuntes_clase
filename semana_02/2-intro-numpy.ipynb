{
 "cells": [
  {
   "cell_type": "markdown",
   "metadata": {},
   "source": [
    "# Numpy"
   ]
  },
  {
   "cell_type": "markdown",
   "metadata": {},
   "source": [
    "![elgif](https://media.giphy.com/media/VHqZtsoHHPo58EL7Ua/giphy.gif)"
   ]
  },
  {
   "cell_type": "markdown",
   "metadata": {
    "toc": true
   },
   "source": [
    "<h1>Table of Contents<span class=\"tocSkip\"></span></h1>\n",
    "<div class=\"toc\"><ul class=\"toc-item\"><li><span><a href=\"#¿Qué-es-Numpy?\" data-toc-modified-id=\"¿Qué-es-Numpy?-1\"><span class=\"toc-item-num\">1&nbsp;&nbsp;</span>¿Qué es Numpy?</a></span></li><li><span><a href=\"#Trabajar-con-datos-numéricos\" data-toc-modified-id=\"Trabajar-con-datos-numéricos-2\"><span class=\"toc-item-num\">2&nbsp;&nbsp;</span>Trabajar con datos numéricos</a></span></li><li><span><a href=\"#Pasar-de-las-listas-de-Python-a-las-matrices-de-Numpy\" data-toc-modified-id=\"Pasar-de-las-listas-de-Python-a-las-matrices-de-Numpy-3\"><span class=\"toc-item-num\">3&nbsp;&nbsp;</span>Pasar de las listas de Python a las matrices de Numpy</a></span></li><li><span><a href=\"#Operando-con-Numpy-Arrays\" data-toc-modified-id=\"Operando-con-Numpy-Arrays-4\"><span class=\"toc-item-num\">4&nbsp;&nbsp;</span>Operando con Numpy Arrays</a></span></li><li><span><a href=\"#Ventajas-del-uso-de-arrays-Numpy\" data-toc-modified-id=\"Ventajas-del-uso-de-arrays-Numpy-5\"><span class=\"toc-item-num\">5&nbsp;&nbsp;</span>Ventajas del uso de arrays Numpy</a></span></li><li><span><a href=\"#Creamos-Arrays\" data-toc-modified-id=\"Creamos-Arrays-6\"><span class=\"toc-item-num\">6&nbsp;&nbsp;</span>Creamos Arrays</a></span><ul class=\"toc-item\"><li><span><a href=\"#Números-random\" data-toc-modified-id=\"Números-random-6.1\"><span class=\"toc-item-num\">6.1&nbsp;&nbsp;</span>Números random</a></span></li><li><span><a href=\"#Arange\" data-toc-modified-id=\"Arange-6.2\"><span class=\"toc-item-num\">6.2&nbsp;&nbsp;</span>Arange</a></span></li><li><span><a href=\"#Linespace\" data-toc-modified-id=\"Linespace-6.3\"><span class=\"toc-item-num\">6.3&nbsp;&nbsp;</span>Linespace</a></span></li><li><span><a href=\"#Arrays-a-partir-de-datos\" data-toc-modified-id=\"Arrays-a-partir-de-datos-6.4\"><span class=\"toc-item-num\">6.4&nbsp;&nbsp;</span>Arrays a partir de datos</a></span></li></ul></li><li><span><a href=\"#Retornamos-a-lista-un-numpy-array\" data-toc-modified-id=\"Retornamos-a-lista-un-numpy-array-7\"><span class=\"toc-item-num\">7&nbsp;&nbsp;</span>Retornamos a lista un numpy array</a></span><ul class=\"toc-item\"><li><span><a href=\"#Matriz-de-CEROS\" data-toc-modified-id=\"Matriz-de-CEROS-7.1\"><span class=\"toc-item-num\">7.1&nbsp;&nbsp;</span>Matriz de CEROS</a></span></li><li><span><a href=\"#Matriz-de-UNOS\" data-toc-modified-id=\"Matriz-de-UNOS-7.2\"><span class=\"toc-item-num\">7.2&nbsp;&nbsp;</span>Matriz de UNOS</a></span></li><li><span><a href=\"#Matriz-DIAGONAL\" data-toc-modified-id=\"Matriz-DIAGONAL-7.3\"><span class=\"toc-item-num\">7.3&nbsp;&nbsp;</span>Matriz DIAGONAL</a></span></li></ul></li><li><span><a href=\"#Explorar-arrays-y-sus-propiedades\" data-toc-modified-id=\"Explorar-arrays-y-sus-propiedades-8\"><span class=\"toc-item-num\">8&nbsp;&nbsp;</span>Explorar arrays y sus propiedades</a></span></li><li><span><a href=\"#Manipular-arrays\" data-toc-modified-id=\"Manipular-arrays-9\"><span class=\"toc-item-num\">9&nbsp;&nbsp;</span>Manipular arrays</a></span></li><li><span><a href=\"#Comparación-de-arrays\" data-toc-modified-id=\"Comparación-de-arrays-10\"><span class=\"toc-item-num\">10&nbsp;&nbsp;</span>Comparación de arrays</a></span></li><li><span><a href=\"#Array-indexing-and-slicing\" data-toc-modified-id=\"Array-indexing-and-slicing-11\"><span class=\"toc-item-num\">11&nbsp;&nbsp;</span>Array indexing and slicing</a></span><ul class=\"toc-item\"><li><span><a href=\"#Mezcla-de-índices-y-rangos\" data-toc-modified-id=\"Mezcla-de-índices-y-rangos-11.1\"><span class=\"toc-item-num\">11.1&nbsp;&nbsp;</span>Mezcla de índices y rangos</a></span></li></ul></li><li><span><a href=\"#Métodos-de-los-np.arrays\" data-toc-modified-id=\"Métodos-de-los-np.arrays-12\"><span class=\"toc-item-num\">12&nbsp;&nbsp;</span>Métodos de los np.arrays</a></span><ul class=\"toc-item\"><li><span><a href=\"#Métodos-de-Numpy-(los-vimos-el-viernes)\" data-toc-modified-id=\"Métodos-de-Numpy-(los-vimos-el-viernes)-12.1\"><span class=\"toc-item-num\">12.1&nbsp;&nbsp;</span>Métodos de Numpy (los vimos el viernes)</a></span></li></ul></li><li><span><a href=\"#Cosas-divertidas-que-nos-permite-Numpy\" data-toc-modified-id=\"Cosas-divertidas-que-nos-permite-Numpy-13\"><span class=\"toc-item-num\">13&nbsp;&nbsp;</span>Cosas divertidas que nos permite Numpy</a></span></li><li><span><a href=\"#Resumen\" data-toc-modified-id=\"Resumen-14\"><span class=\"toc-item-num\">14&nbsp;&nbsp;</span>Resumen</a></span></li><li><span><a href=\"#Further-materials\" data-toc-modified-id=\"Further-materials-15\"><span class=\"toc-item-num\">15&nbsp;&nbsp;</span>Further materials</a></span></li></ul></div>"
   ]
  },
  {
   "cell_type": "markdown",
   "metadata": {},
   "source": [
    "## ¿Qué es Numpy?"
   ]
  },
  {
   "cell_type": "markdown",
   "metadata": {},
   "source": [
    "NumPy es una biblioteca para el lenguaje de programación Python que da soporte para crear vectores y matrices grandes multidimensionales, junto con una gran colección de funciones matemáticas de alto nivel para operar con ellas. El precursor de NumPy, Numeric, fue creado originalmente por Jim Hugunin con contribuciones de varios otros desarrolladores. En 2005, Travis Oliphant creó NumPy incorporando características de la competencia Numarray en Numeric, con amplias modificaciones. NumPy es un software de código abierto y cuenta con muchos colaboradores.\n",
    "\n",
    "El núcleo del paquete NumPy es el objeto ndarray. Este encapsula matrices n-dimensionales de tipos de datos homogéneos, con muchas operaciones que se realizan en código compilado para el rendimiento. Hay varias diferencias importantes entre las matrices de NumPy y las secuencias estándar de Python:"
   ]
  },
  {
   "cell_type": "markdown",
   "metadata": {},
   "source": [
    "![numpy](../images/numpy.png)"
   ]
  },
  {
   "cell_type": "markdown",
   "metadata": {},
   "source": [
    "## Trabajar con datos numéricos    \n",
    "Los \"datos\" en el análisis de datos suelen referirse a datos numéricos, por ejemplo, precios de las acciones, cifras de ventas, mediciones de sensores, resultados deportivos, tablas de bases de datos, etc. La biblioteca Numpy proporciona estructuras de datos especializadas, funciones y otras herramientas para la computación numérica en Python. Vamos a trabajar con un ejemplo para ver por qué y cómo utilizar Numpy para trabajar con datos numéricos.\n",
    "\n",
    "Supongamos que queremos utilizar datos climáticos como la temperatura, la lluvia y la humedad para determinar si una región es adecuada para el cultivo de manzanas. Un enfoque sencillo para hacerlo sería formular la relación entre el rendimiento anual de las manzanas (toneladas por hectárea) y las condiciones climáticas como la temperatura media (en grados Fahrenheit), las precipitaciones (en milímetros) y la humedad relativa media (en porcentaje) como una ecuación lineal.\n",
    "\n",
    "rendimiento_de_manzanas = w1 * temperatura + w2 * precipitaciones + w3 * humedad\n",
    "\n",
    "Estamos expresando el rendimiento de las manzanas como una suma ponderada de la temperatura, las precipitaciones y la humedad. Esta ecuación es una aproximación, ya que la relación real no tiene por qué ser lineal y pueden intervenir otros factores. Pero un modelo lineal simple como éste suele funcionar bien en la práctica.\n",
    "\n",
    "Basándonos en un análisis estadístico de los datos históricos, podemos obtener valores razonables para las ponderaciones w1, w2 y w3. He aquí un ejemplo de valores:"
   ]
  },
  {
   "cell_type": "code",
   "execution_count": 1,
   "metadata": {},
   "outputs": [],
   "source": [
    "w1, w2, w3 = 0.3, 0.2, 0.5"
   ]
  },
  {
   "cell_type": "markdown",
   "metadata": {},
   "source": [
    "<img src=\"../images/dat_np.png\" alt=\"data\" style=\"width:500px,\"/>"
   ]
  },
  {
   "cell_type": "code",
   "execution_count": 2,
   "metadata": {},
   "outputs": [],
   "source": [
    "temp = 73\n",
    "lluvia = 67\n",
    "humedad = 43"
   ]
  },
  {
   "cell_type": "markdown",
   "metadata": {},
   "source": [
    "Ahora podemos sustituir estas variables en la ecuación lineal para predecir el rendimiento de las manzanas."
   ]
  },
  {
   "cell_type": "code",
   "execution_count": 3,
   "metadata": {},
   "outputs": [],
   "source": [
    "cultivo = temp * w1 + lluvia * w2 + humedad *w3"
   ]
  },
  {
   "cell_type": "code",
   "execution_count": 5,
   "metadata": {},
   "outputs": [
    {
     "name": "stdout",
     "output_type": "stream",
     "text": [
      "El rendimientio de mis manzanas en la región de Kanto de es de 56.8 toneladas por hectárea\n"
     ]
    }
   ],
   "source": [
    "print(f\"El rendimientio de mis manzanas en la región de Kanto de es de {cultivo} toneladas por hectárea\")"
   ]
  },
  {
   "cell_type": "markdown",
   "metadata": {},
   "source": [
    "Para facilitar un poco el cálculo anterior para varias regiones, podemos representar los datos climáticos de cada región como un vector, es decir, una lista de números."
   ]
  },
  {
   "cell_type": "code",
   "execution_count": 6,
   "metadata": {},
   "outputs": [],
   "source": [
    "kanto = [73, 67, 43]\n",
    "johto = [91, 88, 64]\n",
    "hoenn = [87, 134, 58]\n",
    "sinnoh = [102, 43, 37]\n",
    "unova = [69, 96, 70]"
   ]
  },
  {
   "cell_type": "markdown",
   "metadata": {},
   "source": [
    "Los tres números de cada vector representan los datos de temperatura, precipitación y humedad, respectivamente.\n",
    "También podemos representar el conjunto de pesos utilizados en la fórmula como un vector."
   ]
  },
  {
   "cell_type": "code",
   "execution_count": 7,
   "metadata": {},
   "outputs": [],
   "source": [
    "pesos = [w1,w2,w3]"
   ]
  },
  {
   "cell_type": "markdown",
   "metadata": {},
   "source": [
    "¿Cómo podemos hacer para calcular el cultivo de cada región?"
   ]
  },
  {
   "cell_type": "code",
   "execution_count": 8,
   "metadata": {},
   "outputs": [
    {
     "ename": "TypeError",
     "evalue": "can't multiply sequence by non-int of type 'list'",
     "output_type": "error",
     "traceback": [
      "\u001b[0;31m---------------------------------------------------------------------------\u001b[0m",
      "\u001b[0;31mTypeError\u001b[0m                                 Traceback (most recent call last)",
      "\u001b[0;32m<ipython-input-8-89f266544cbd>\u001b[0m in \u001b[0;36m<module>\u001b[0;34m\u001b[0m\n\u001b[0;32m----> 1\u001b[0;31m \u001b[0mkanto\u001b[0m \u001b[0;34m*\u001b[0m \u001b[0mpesos\u001b[0m\u001b[0;34m\u001b[0m\u001b[0;34m\u001b[0m\u001b[0m\n\u001b[0m",
      "\u001b[0;31mTypeError\u001b[0m: can't multiply sequence by non-int of type 'list'"
     ]
    }
   ],
   "source": [
    "kanto * pesos"
   ]
  },
  {
   "cell_type": "code",
   "execution_count": 9,
   "metadata": {},
   "outputs": [],
   "source": [
    "def cultivo(region,pesos):\n",
    "    resultado = 0\n",
    "    for re,pe in zip(region,pesos):\n",
    "        resultado += re * pe\n",
    "    return resultado"
   ]
  },
  {
   "cell_type": "code",
   "execution_count": 10,
   "metadata": {},
   "outputs": [
    {
     "data": {
      "text/plain": [
       "56.8"
      ]
     },
     "execution_count": 10,
     "metadata": {},
     "output_type": "execute_result"
    }
   ],
   "source": [
    "cultivo(kanto,pesos)"
   ]
  },
  {
   "cell_type": "code",
   "execution_count": 11,
   "metadata": {},
   "outputs": [
    {
     "data": {
      "text/plain": [
       "76.9"
      ]
     },
     "execution_count": 11,
     "metadata": {},
     "output_type": "execute_result"
    }
   ],
   "source": [
    "cultivo(johto,pesos)"
   ]
  },
  {
   "cell_type": "markdown",
   "metadata": {},
   "source": [
    "¿Por qué lo hacemos así?"
   ]
  },
  {
   "cell_type": "code",
   "execution_count": 12,
   "metadata": {},
   "outputs": [],
   "source": [
    "lista = [1,2,3,4,54,6,7]"
   ]
  },
  {
   "cell_type": "code",
   "execution_count": 13,
   "metadata": {},
   "outputs": [
    {
     "data": {
      "text/plain": [
       "[1, 2, 3, 4, 54, 6, 7, 1, 2, 3, 4, 54, 6, 7, 1, 2, 3, 4, 54, 6, 7]"
      ]
     },
     "execution_count": 13,
     "metadata": {},
     "output_type": "execute_result"
    }
   ],
   "source": [
    "lista * 3"
   ]
  },
  {
   "cell_type": "markdown",
   "metadata": {},
   "source": [
    "## Pasar de las listas de Python a las matrices de Numpy   \n",
    "El cálculo realizado por el crop_yield (multiplicación por elementos de dos vectores y tomar una suma de los resultados) también se llama producto punto. Para saber más sobre el producto punto, consulte: https://www.khanacademy.org/math/linear-algebra/vectors-and-spaces/dot-cross-products/v/vector-dot-product-and-vector-length .\n",
    "\n",
    "La biblioteca Numpy proporciona una función integrada para calcular el producto punto de dos vectores. Sin embargo, primero debemos convertir las listas en matrices Numpy.\n",
    "\n",
    "Instalemos la biblioteca Numpy usando el gestor de paquetes pip."
   ]
  },
  {
   "cell_type": "code",
   "execution_count": 14,
   "metadata": {},
   "outputs": [
    {
     "name": "stdout",
     "output_type": "stream",
     "text": [
      "Requirement already satisfied: numpy in /usr/local/Caskroom/miniconda/base/lib/python3.8/site-packages (1.20.1)\r\n"
     ]
    }
   ],
   "source": [
    "!pip install numpy"
   ]
  },
  {
   "cell_type": "markdown",
   "metadata": {},
   "source": [
    "A continuación, vamos a importar el módulo numpy. Es una práctica común importar numpy con el alias np. Esto es una convención, todas las programadoras utilizamos los mismos nombres a la hora de importar las librerías. Realmente funciona si pongo cualquier nombre, en caso de numpy usamos siempre np"
   ]
  },
  {
   "cell_type": "code",
   "execution_count": 18,
   "metadata": {},
   "outputs": [],
   "source": [
    "import numpy as np"
   ]
  },
  {
   "cell_type": "markdown",
   "metadata": {},
   "source": [
    "Ahora podemos utilizar la función np.array para crear matrices Numpy."
   ]
  },
  {
   "cell_type": "code",
   "execution_count": 20,
   "metadata": {},
   "outputs": [
    {
     "data": {
      "text/plain": [
       "array([73, 67, 43])"
      ]
     },
     "execution_count": 20,
     "metadata": {},
     "output_type": "execute_result"
    }
   ],
   "source": [
    "kanto = np.array([73, 67, 43])\n",
    "kanto"
   ]
  },
  {
   "cell_type": "code",
   "execution_count": 21,
   "metadata": {},
   "outputs": [
    {
     "name": "stdout",
     "output_type": "stream",
     "text": [
      "[73 67 43]\n"
     ]
    }
   ],
   "source": [
    "print(kanto)"
   ]
  },
  {
   "cell_type": "code",
   "execution_count": 22,
   "metadata": {},
   "outputs": [
    {
     "data": {
      "text/plain": [
       "numpy.ndarray"
      ]
     },
     "execution_count": 22,
     "metadata": {},
     "output_type": "execute_result"
    }
   ],
   "source": [
    "type(kanto)"
   ]
  },
  {
   "cell_type": "code",
   "execution_count": 26,
   "metadata": {},
   "outputs": [
    {
     "data": {
      "text/plain": [
       "array([0.3, 0.2, 0.5])"
      ]
     },
     "execution_count": 26,
     "metadata": {},
     "output_type": "execute_result"
    }
   ],
   "source": [
    "pesos = np.array([w1,w2,w3])\n",
    "pesos"
   ]
  },
  {
   "cell_type": "code",
   "execution_count": 24,
   "metadata": {},
   "outputs": [],
   "source": [
    "johto_array = np.array(johto)"
   ]
  },
  {
   "cell_type": "markdown",
   "metadata": {},
   "source": [
    "## Operando con Numpy Arrays"
   ]
  },
  {
   "cell_type": "code",
   "execution_count": 27,
   "metadata": {},
   "outputs": [
    {
     "data": {
      "text/plain": [
       "array([21.9, 13.4, 21.5])"
      ]
     },
     "execution_count": 27,
     "metadata": {},
     "output_type": "execute_result"
    }
   ],
   "source": [
    "kanto * pesos"
   ]
  },
  {
   "cell_type": "code",
   "execution_count": 28,
   "metadata": {},
   "outputs": [
    {
     "data": {
      "text/plain": [
       "56.8"
      ]
     },
     "execution_count": 28,
     "metadata": {},
     "output_type": "execute_result"
    }
   ],
   "source": [
    "sum(kanto*pesos)"
   ]
  },
  {
   "cell_type": "markdown",
   "metadata": {},
   "source": [
    "Ahora podemos calcular el producto punto de los dos vectores utilizando la función np.dot."
   ]
  },
  {
   "cell_type": "code",
   "execution_count": 29,
   "metadata": {},
   "outputs": [
    {
     "data": {
      "text/plain": [
       "56.8"
      ]
     },
     "execution_count": 29,
     "metadata": {},
     "output_type": "execute_result"
    }
   ],
   "source": [
    "np.dot(kanto,pesos)"
   ]
  },
  {
   "cell_type": "code",
   "execution_count": 30,
   "metadata": {},
   "outputs": [],
   "source": [
    "arr1 = np.array([1,2,3,3])\n",
    "arr2 = np.array([4,5,6])"
   ]
  },
  {
   "cell_type": "code",
   "execution_count": 35,
   "metadata": {},
   "outputs": [
    {
     "name": "stdout",
     "output_type": "stream",
     "text": [
      "['T', 'all', 'any', 'argmax', 'argmin', 'argpartition', 'argsort', 'astype', 'base', 'byteswap', 'choose', 'clip', 'compress', 'conj', 'conjugate', 'copy', 'ctypes', 'cumprod', 'cumsum', 'data', 'diagonal', 'dot', 'dtype', 'dump', 'dumps', 'fill', 'flags', 'flat', 'flatten', 'getfield', 'imag', 'item', 'itemset', 'itemsize', 'max', 'mean', 'min', 'nbytes', 'ndim', 'newbyteorder', 'nonzero', 'partition', 'prod', 'ptp', 'put', 'ravel', 'real', 'repeat', 'reshape', 'resize', 'round', 'searchsorted', 'setfield', 'setflags', 'shape', 'size', 'sort', 'squeeze', 'std', 'strides', 'sum', 'swapaxes', 'take', 'tobytes', 'tofile', 'tolist', 'tostring', 'trace', 'transpose', 'var', 'view']\n"
     ]
    }
   ],
   "source": [
    "met = [elemento for elemento in dir(arr1) if \"__\" not in elemento]\n",
    "print(met)"
   ]
  },
  {
   "cell_type": "markdown",
   "metadata": {},
   "source": [
    "Podemos conseguir el mismo resultado con operaciones de bajo nivel soportadas por las matrices Numpy: realizando una multiplicación por elementos y calculando la suma de los números resultantes."
   ]
  },
  {
   "cell_type": "code",
   "execution_count": 36,
   "metadata": {},
   "outputs": [],
   "source": [
    "arr1 = np.array([1,2,3])\n",
    "arr2 = np.array([4,5,6])"
   ]
  },
  {
   "cell_type": "code",
   "execution_count": 37,
   "metadata": {},
   "outputs": [
    {
     "data": {
      "text/plain": [
       "array([ 4, 10, 18])"
      ]
     },
     "execution_count": 37,
     "metadata": {},
     "output_type": "execute_result"
    }
   ],
   "source": [
    "arr1 * arr2"
   ]
  },
  {
   "cell_type": "markdown",
   "metadata": {},
   "source": [
    "El operador * realiza una multiplicación por elementos de dos matrices si tienen el mismo tamaño. El método sum calcula la suma de los números de una matriz."
   ]
  },
  {
   "cell_type": "markdown",
   "metadata": {},
   "source": [
    "## Ventajas del uso de arrays Numpy"
   ]
  },
  {
   "cell_type": "markdown",
   "metadata": {},
   "source": [
    "Las matrices de Numpy ofrecen las siguientes ventajas sobre las listas de Python para operar con datos numéricos:\n",
    "\n",
    "- Facilidad de uso: Puedes escribir expresiones matemáticas pequeñas, concisas e intuitivas como `(kanto * weights).sum()` en lugar de utilizar bucles y funciones personalizadas como cultivo().    \n",
    "- Rendimiento: Las operaciones y funciones de Numpy se implementan internamente en C++, lo que las hace mucho más rápidas que el uso de sentencias y bucles de Python que se interpretan en tiempo de ejecución      \n",
    "A continuación se muestra una comparación de los productos punto realizados con bucles de Python frente a matrices de Numpy en dos vectores con un millón de elementos cada uno."
   ]
  },
  {
   "cell_type": "code",
   "execution_count": 38,
   "metadata": {},
   "outputs": [],
   "source": [
    "# Listas de python de 0 a 1000000 y 1000000 a 2000000\n",
    "arr1 = list(range(1000000))\n",
    "arr2 = list(range(1000000, 2000000))\n",
    "\n",
    "# Numpy arrays\n",
    "arr1_np = np.array(arr1)\n",
    "arr2_np = np.array(arr2)"
   ]
  },
  {
   "cell_type": "markdown",
   "metadata": {},
   "source": [
    "Comprobamos el tiempo de ejecución haciendo el producto punto con un bucle"
   ]
  },
  {
   "cell_type": "code",
   "execution_count": 45,
   "metadata": {},
   "outputs": [
    {
     "name": "stdout",
     "output_type": "stream",
     "text": [
      "CPU times: user 265 ms, sys: 5.2 ms, total: 271 ms\n",
      "Wall time: 289 ms\n"
     ]
    },
    {
     "data": {
      "text/plain": [
       "833332333333500000"
      ]
     },
     "execution_count": 45,
     "metadata": {},
     "output_type": "execute_result"
    }
   ],
   "source": [
    "%%time\n",
    "total = 0\n",
    "for x1,x2 in zip(arr1,arr2):\n",
    "    total += x1*x2\n",
    "total"
   ]
  },
  {
   "cell_type": "markdown",
   "metadata": {},
   "source": [
    "Ahora con numpy"
   ]
  },
  {
   "cell_type": "code",
   "execution_count": 44,
   "metadata": {},
   "outputs": [
    {
     "name": "stdout",
     "output_type": "stream",
     "text": [
      "CPU times: user 2.46 ms, sys: 1.62 ms, total: 4.08 ms\n",
      "Wall time: 2.17 ms\n"
     ]
    },
    {
     "data": {
      "text/plain": [
       "833332333333500000"
      ]
     },
     "execution_count": 44,
     "metadata": {},
     "output_type": "execute_result"
    }
   ],
   "source": [
    "%%time\n",
    "np.dot(arr1_np,arr2_np)"
   ]
  },
  {
   "cell_type": "markdown",
   "metadata": {},
   "source": [
    "## Creamos Arrays\n",
    "### Números random"
   ]
  },
  {
   "cell_type": "code",
   "execution_count": 46,
   "metadata": {},
   "outputs": [
    {
     "data": {
      "text/plain": [
       "array([0.5445758 , 0.2834371 , 0.9355357 , 0.78943291, 0.97056398,\n",
       "       0.50470065, 0.3796523 ])"
      ]
     },
     "execution_count": 46,
     "metadata": {},
     "output_type": "execute_result"
    }
   ],
   "source": [
    "# Vector (1 dimensión)\n",
    "vector = np.random.random(7)\n",
    "vector"
   ]
  },
  {
   "cell_type": "code",
   "execution_count": 49,
   "metadata": {},
   "outputs": [
    {
     "data": {
      "text/plain": [
       "array([[0.20623484, 0.75676381, 0.55764595],\n",
       "       [0.20860636, 0.84299008, 0.38091543],\n",
       "       [0.80326671, 0.22248584, 0.64547102],\n",
       "       [0.06785652, 0.90284751, 0.46109329],\n",
       "       [0.58326719, 0.50036927, 0.12926639],\n",
       "       [0.55183632, 0.5003287 , 0.34462411],\n",
       "       [0.75736978, 0.77047214, 0.32049632]])"
      ]
     },
     "execution_count": 49,
     "metadata": {},
     "output_type": "execute_result"
    }
   ],
   "source": [
    "# 2 dimensiones random.random\n",
    "matriz1 = np.random.random((7,3))\n",
    "matriz1"
   ]
  },
  {
   "cell_type": "code",
   "execution_count": 52,
   "metadata": {},
   "outputs": [
    {
     "data": {
      "text/plain": [
       "array([[6, 2, 1, 4, 1, 6, 3],\n",
       "       [5, 3, 6, 6, 4, 1, 0],\n",
       "       [5, 0, 4, 6, 4, 4, 0],\n",
       "       [4, 4, 3, 5, 1, 5, 0]])"
      ]
     },
     "execution_count": 52,
     "metadata": {},
     "output_type": "execute_result"
    }
   ],
   "source": [
    "# Matriz (2 Dimensiones)\n",
    "a = np.random.randint(7,size = (4,7))\n",
    "a"
   ]
  },
  {
   "cell_type": "code",
   "execution_count": 63,
   "metadata": {},
   "outputs": [
    {
     "data": {
      "text/plain": [
       "array([[[ 7,  7,  8,  7, 10,  6, 10],\n",
       "        [10,  7,  7,  6,  8,  7,  7],\n",
       "        [ 5,  6,  9,  9,  9,  9,  9]],\n",
       "\n",
       "       [[ 9,  6,  7,  5,  9, 10, 10],\n",
       "        [ 5,  5,  6, 10,  7, 10, 10],\n",
       "        [ 8,  9,  9,  7, 10,  5,  5]],\n",
       "\n",
       "       [[ 7,  7,  8,  9,  8,  6, 10],\n",
       "        [ 9,  7,  7,  5,  8,  5,  7],\n",
       "        [ 9,  8,  7,  5,  5,  9, 10]],\n",
       "\n",
       "       [[10, 10,  9, 10, 10,  7,  6],\n",
       "        [ 8, 10,  7,  5,  9,  7,  5],\n",
       "        [ 7, 10,  6,  8, 10,  7,  5]],\n",
       "\n",
       "       [[ 6,  9,  7,  8,  9,  6, 10],\n",
       "        [ 9,  7,  9,  5,  6,  8,  5],\n",
       "        [ 8,  6,  5,  9,  8,  8,  5]],\n",
       "\n",
       "       [[10, 10,  6,  8, 10,  6,  9],\n",
       "        [10,  5,  9,  8,  8,  5,  6],\n",
       "        [ 9,  6, 10,  7, 10,  9,  9]]])"
      ]
     },
     "execution_count": 63,
     "metadata": {},
     "output_type": "execute_result"
    }
   ],
   "source": [
    "# los parámetros dentro de random puedo pasarlos con nombre o sin ellos\n",
    "b = np.random.randint(low=5,high=11,size=(6,3,7))\n",
    "b"
   ]
  },
  {
   "cell_type": "code",
   "execution_count": 64,
   "metadata": {},
   "outputs": [
    {
     "data": {
      "text/plain": [
       "array([[[ 7,  5,  8,  7,  5,  7,  8],\n",
       "        [ 6,  9,  5,  5,  5,  7,  5],\n",
       "        [ 5,  5,  8,  7,  6,  6,  7]],\n",
       "\n",
       "       [[10,  9,  7,  9,  9,  9, 10],\n",
       "        [ 7,  8,  5,  8, 10,  6,  7],\n",
       "        [ 6,  9, 10, 10,  9,  8,  6]],\n",
       "\n",
       "       [[10,  9,  8,  5,  8,  7,  7],\n",
       "        [ 7,  8,  6, 10, 10,  6, 10],\n",
       "        [ 6,  5,  5,  8,  7,  7,  6]],\n",
       "\n",
       "       [[ 6,  9,  8,  8,  9, 10, 10],\n",
       "        [ 5,  7,  5,  9, 10,  6,  9],\n",
       "        [10,  9,  5,  6,  5,  8,  8]],\n",
       "\n",
       "       [[10,  9,  9, 10, 10, 10,  5],\n",
       "        [ 5,  8, 10,  9,  9,  6,  7],\n",
       "        [10,  5,  5, 10,  8,  6,  5]],\n",
       "\n",
       "       [[ 7,  6,  8, 10,  9,  8,  5],\n",
       "        [ 7,  7,  6,  9,  5,  7,  5],\n",
       "        [ 9,  5,  8,  5,  8, 10, 10]]])"
      ]
     },
     "execution_count": 64,
     "metadata": {},
     "output_type": "execute_result"
    }
   ],
   "source": [
    "# Aquí lo paso sin nombre pero hace exactamente lo mismo \n",
    "b = np.random.randint(5,11,(6,3,7))\n",
    "b"
   ]
  },
  {
   "cell_type": "markdown",
   "metadata": {},
   "source": [
    "[Random Randint](https://numpy.org/doc/stable/reference/random/generated/numpy.random.randint.html) vs [Random Random](https://numpy.org/doc/stable/reference/random/generated/numpy.random.random.html)"
   ]
  },
  {
   "cell_type": "code",
   "execution_count": 53,
   "metadata": {},
   "outputs": [
    {
     "data": {
      "text/plain": [
       "numpy.ndarray"
      ]
     },
     "execution_count": 53,
     "metadata": {},
     "output_type": "execute_result"
    }
   ],
   "source": [
    "type(a)"
   ]
  },
  {
   "cell_type": "code",
   "execution_count": 58,
   "metadata": {},
   "outputs": [
    {
     "data": {
      "text/plain": [
       "array([[[0.80076418, 0.70631587, 0.36522931],\n",
       "        [0.78013297, 0.00130725, 0.25946913],\n",
       "        [0.54851014, 0.05001549, 0.93553576]],\n",
       "\n",
       "       [[0.92574796, 0.97291329, 0.46277498],\n",
       "        [0.01622591, 0.67355871, 0.20691569],\n",
       "        [0.81800802, 0.44513578, 0.89365636]],\n",
       "\n",
       "       [[0.21712006, 0.26323899, 0.78612362],\n",
       "        [0.7510818 , 0.88375143, 0.50372977],\n",
       "        [0.05837816, 0.93174266, 0.78915877]]])"
      ]
     },
     "execution_count": 58,
     "metadata": {},
     "output_type": "execute_result"
    }
   ],
   "source": [
    "# Cubo (3 dimensiones)\n",
    "cubo = np.random.random((3,3,3))\n",
    "cubo"
   ]
  },
  {
   "cell_type": "code",
   "execution_count": 60,
   "metadata": {},
   "outputs": [
    {
     "data": {
      "text/plain": [
       "array([[[[0.02777021, 0.19647183, 0.59310267, 0.71438264],\n",
       "         [0.38320332, 0.17918154, 0.54343868, 0.29878675],\n",
       "         [0.87653947, 0.88398539, 0.81524978, 0.22826709],\n",
       "         [0.74998561, 0.44323113, 0.80210622, 0.48747414],\n",
       "         [0.59658867, 0.41800271, 0.00383388, 0.94114262],\n",
       "         [0.60298651, 0.36451388, 0.562218  , 0.13680008]],\n",
       "\n",
       "        [[0.35058128, 0.60350189, 0.28527451, 0.05960514],\n",
       "         [0.54459126, 0.9056893 , 0.66087499, 0.12190537],\n",
       "         [0.53120358, 0.59089871, 0.44393404, 0.82105886],\n",
       "         [0.9192327 , 0.24736099, 0.05740506, 0.54739428],\n",
       "         [0.30581326, 0.87126276, 0.97259867, 0.92115829],\n",
       "         [0.34559963, 0.76413287, 0.1891828 , 0.54869211]],\n",
       "\n",
       "        [[0.10264362, 0.17388559, 0.47280902, 0.97969444],\n",
       "         [0.09433289, 0.46553732, 0.17598309, 0.65773412],\n",
       "         [0.92168288, 0.99859313, 0.29341746, 0.21730252],\n",
       "         [0.88985533, 0.77649247, 0.72902531, 0.45711366],\n",
       "         [0.25345895, 0.01487415, 0.90410634, 0.8552538 ],\n",
       "         [0.07416858, 0.31435978, 0.81328705, 0.8642231 ]]],\n",
       "\n",
       "\n",
       "       [[[0.30867127, 0.43133876, 0.78151381, 0.20732323],\n",
       "         [0.73983554, 0.51168521, 0.92592953, 0.07774416],\n",
       "         [0.97730569, 0.36160295, 0.94849573, 0.77612673],\n",
       "         [0.15770825, 0.7623821 , 0.18437298, 0.45980891],\n",
       "         [0.62285808, 0.18556873, 0.52072649, 0.94008638],\n",
       "         [0.10151292, 0.55642687, 0.67455141, 0.90435381]],\n",
       "\n",
       "        [[0.94887987, 0.61095664, 0.23104636, 0.19772886],\n",
       "         [0.65559605, 0.82833974, 0.85208107, 0.25638409],\n",
       "         [0.78819367, 0.50772114, 0.88398248, 0.93247765],\n",
       "         [0.71393455, 0.28567006, 0.33470764, 0.32115488],\n",
       "         [0.25401111, 0.92253162, 0.48855833, 0.35353407],\n",
       "         [0.21350077, 0.81306831, 0.20468021, 0.02997144]],\n",
       "\n",
       "        [[0.12393195, 0.18159671, 0.88810551, 0.24884587],\n",
       "         [0.04112192, 0.52921879, 0.41020047, 0.57215913],\n",
       "         [0.20541546, 0.26990619, 0.46025185, 0.15745793],\n",
       "         [0.57463272, 0.34757043, 0.64857947, 0.00902862],\n",
       "         [0.51401566, 0.85774956, 0.99957431, 0.24819439],\n",
       "         [0.74513457, 0.58041929, 0.97821593, 0.6402364 ]]],\n",
       "\n",
       "\n",
       "       [[[0.34606754, 0.45280479, 0.85457426, 0.27029745],\n",
       "         [0.0583925 , 0.91266597, 0.36947107, 0.06948891],\n",
       "         [0.87955976, 0.86955647, 0.72547433, 0.17778343],\n",
       "         [0.07742823, 0.04002676, 0.38818861, 0.09286732],\n",
       "         [0.07831483, 0.49093322, 0.30256041, 0.44799439],\n",
       "         [0.2642508 , 0.34618326, 0.35243806, 0.91441562]],\n",
       "\n",
       "        [[0.28704486, 0.19936676, 0.88542906, 0.25857857],\n",
       "         [0.93883635, 0.46739141, 0.89714626, 0.23652745],\n",
       "         [0.97288634, 0.18586757, 0.7413124 , 0.81120846],\n",
       "         [0.83718307, 0.03481109, 0.70656743, 0.89312528],\n",
       "         [0.10026276, 0.09267834, 0.76277436, 0.0805925 ],\n",
       "         [0.27984167, 0.191812  , 0.4067608 , 0.59423405]],\n",
       "\n",
       "        [[0.74319744, 0.34922823, 0.50490299, 0.44146521],\n",
       "         [0.77985579, 0.01206819, 0.25601123, 0.99265532],\n",
       "         [0.643636  , 0.97418095, 0.03394885, 0.4004926 ],\n",
       "         [0.20073774, 0.88233063, 0.17315517, 0.72792117],\n",
       "         [0.12155909, 0.11374077, 0.47551639, 0.12423728],\n",
       "         [0.21220544, 0.26601285, 0.98676246, 0.85605305]]],\n",
       "\n",
       "\n",
       "       [[[0.48063495, 0.30215801, 0.26857845, 0.91942847],\n",
       "         [0.65457204, 0.99961621, 0.81413122, 0.68086575],\n",
       "         [0.31131272, 0.18819428, 0.18718586, 0.63436941],\n",
       "         [0.4456739 , 0.32829259, 0.52432279, 0.75313374],\n",
       "         [0.29569011, 0.98497513, 0.34200198, 0.38339947],\n",
       "         [0.52806141, 0.29657741, 0.52464533, 0.48521898]],\n",
       "\n",
       "        [[0.37545671, 0.8103247 , 0.91893566, 0.83695078],\n",
       "         [0.70426128, 0.34979521, 0.33667329, 0.58967868],\n",
       "         [0.07728146, 0.68327801, 0.11308707, 0.9244242 ],\n",
       "         [0.6299235 , 0.54739801, 0.57732874, 0.87613477],\n",
       "         [0.49406452, 0.03246349, 0.0766698 , 0.80713861],\n",
       "         [0.16639314, 0.76145355, 0.86274506, 0.67044478]],\n",
       "\n",
       "        [[0.41456813, 0.4004611 , 0.28886226, 0.45793454],\n",
       "         [0.57529944, 0.33638028, 0.91694345, 0.9469734 ],\n",
       "         [0.09549342, 0.62346563, 0.96896121, 0.29839553],\n",
       "         [0.32789444, 0.62526161, 0.87107601, 0.93125224],\n",
       "         [0.26795789, 0.03404099, 0.14979889, 0.66075286],\n",
       "         [0.1442022 , 0.93797116, 0.95669025, 0.31507688]]]])"
      ]
     },
     "execution_count": 60,
     "metadata": {},
     "output_type": "execute_result"
    }
   ],
   "source": [
    "# Tensor rango 4\n",
    "tensor = np.random.random(size =(4,3,6,4))\n",
    "tensor"
   ]
  },
  {
   "cell_type": "markdown",
   "metadata": {},
   "source": [
    "Numpy también proporciona algunas funciones útiles para crear matrices de formas deseadas con valores fijos o aleatorios.       \n",
    "Consulta la [documentación](https://numpy.org/doc/stable/reference/routines.array-creation.html) oficial o utiliza la función de ayuda para obtener más información."
   ]
  },
  {
   "cell_type": "markdown",
   "metadata": {},
   "source": [
    "### Arange\n",
    "Rango con inicio, fin y paso (start, stop, step)"
   ]
  },
  {
   "cell_type": "code",
   "execution_count": null,
   "metadata": {},
   "outputs": [],
   "source": [
    "# Rango entre 0 y 10 con saltos de 5\n"
   ]
  },
  {
   "cell_type": "markdown",
   "metadata": {},
   "source": [
    "### Linespace\n",
    "La función NumPy linspace crea secuencias de valores espaciados uniformemente dentro de un intervalo definido.\n",
    "\n",
    "Esencialmente, se especifica un punto inicial y un punto final de un intervalo, y luego se especifica el número total de puntos de ruptura que se desea dentro de ese intervalo (incluyendo los puntos inicial y final). La función np.linspace devolverá una secuencia de valores espaciados uniformemente en ese intervalo."
   ]
  },
  {
   "cell_type": "code",
   "execution_count": null,
   "metadata": {},
   "outputs": [],
   "source": [
    "# 5 elementos que están entre 0 y 10 igualmente espaciados\n"
   ]
  },
  {
   "cell_type": "code",
   "execution_count": null,
   "metadata": {},
   "outputs": [],
   "source": []
  },
  {
   "cell_type": "markdown",
   "metadata": {},
   "source": [
    "### Arrays a partir de datos"
   ]
  },
  {
   "cell_type": "code",
   "execution_count": null,
   "metadata": {},
   "outputs": [],
   "source": []
  },
  {
   "cell_type": "code",
   "execution_count": null,
   "metadata": {},
   "outputs": [],
   "source": []
  },
  {
   "cell_type": "code",
   "execution_count": null,
   "metadata": {},
   "outputs": [],
   "source": []
  },
  {
   "cell_type": "code",
   "execution_count": null,
   "metadata": {},
   "outputs": [],
   "source": []
  },
  {
   "cell_type": "code",
   "execution_count": null,
   "metadata": {},
   "outputs": [],
   "source": []
  },
  {
   "cell_type": "code",
   "execution_count": null,
   "metadata": {},
   "outputs": [],
   "source": []
  },
  {
   "cell_type": "markdown",
   "metadata": {},
   "source": [
    "## Retornamos a lista un numpy array"
   ]
  },
  {
   "cell_type": "markdown",
   "metadata": {},
   "source": [
    "Cuando tengo un vector puedo utilizar .tolist o list(pongaaquísuarray)"
   ]
  },
  {
   "cell_type": "code",
   "execution_count": null,
   "metadata": {},
   "outputs": [],
   "source": []
  },
  {
   "cell_type": "code",
   "execution_count": null,
   "metadata": {},
   "outputs": [],
   "source": []
  },
  {
   "cell_type": "markdown",
   "metadata": {},
   "source": [
    "Si el array es de más de una dimensión ya no podremos hacerlo con list(array) porque tendremos una lista de arrays de numpy y no una lista de listas"
   ]
  },
  {
   "cell_type": "code",
   "execution_count": null,
   "metadata": {},
   "outputs": [],
   "source": []
  },
  {
   "cell_type": "code",
   "execution_count": null,
   "metadata": {},
   "outputs": [],
   "source": []
  },
  {
   "cell_type": "markdown",
   "metadata": {},
   "source": [
    "### Matriz de CEROS\n",
    "Se utiliza np.zeros para crear el array de que todos los elementos son 0. Su sintaxis es:     \n",
    "`np.zeros(shape, dtype=float, order='C')`\n",
    "\n",
    "Dónde:    \n",
    "- La shape es el tamaño del array, y puede ser 1-D, 2-D o múltiples dimensiones.\n",
    "- El dtype es float64 por defecto, pero puede ser asignado con cualquier tipo de datos en NumPy."
   ]
  },
  {
   "cell_type": "code",
   "execution_count": null,
   "metadata": {},
   "outputs": [],
   "source": [
    "# Array 1D con 5 ceros\n"
   ]
  },
  {
   "cell_type": "code",
   "execution_count": null,
   "metadata": {},
   "outputs": [],
   "source": [
    "# Array 1D con 5 ceros con tipo de datos \"int8\" (Valores de 64 bits)\n"
   ]
  },
  {
   "cell_type": "code",
   "execution_count": null,
   "metadata": {},
   "outputs": [],
   "source": [
    "# Array 2D de 4x3 \n"
   ]
  },
  {
   "cell_type": "markdown",
   "metadata": {},
   "source": [
    "### Matriz de UNOS\n",
    "De forma similar a los zeros, también podríamos crear el array lleno de unos. La sintaxis y los parámetros de np.ones() son idénticos a los de np.zeros()."
   ]
  },
  {
   "cell_type": "code",
   "execution_count": null,
   "metadata": {},
   "outputs": [],
   "source": []
  },
  {
   "cell_type": "code",
   "execution_count": null,
   "metadata": {},
   "outputs": [],
   "source": []
  },
  {
   "cell_type": "code",
   "execution_count": null,
   "metadata": {},
   "outputs": [],
   "source": []
  },
  {
   "cell_type": "markdown",
   "metadata": {},
   "source": [
    "### Matriz DIAGONAL\n",
    "Devuelve una matriz bidimensional con unos en la diagonal y ceros en el resto. La sintaxis es:     \n",
    "`np.eye(N, M=None, k=0, dtype=<class 'float'>, order='C')`   \n",
    "Dónde:         \n",
    "- **N**: \tINT\tEspecifica el número de líneas en el array generada.\n",
    "- **M**:\tINT\t(Opcional) El valor por defecto es None. Especifica el número de columnas en el array que se generará. Cuando es None, es igual a N.\n",
    "- **k**:\tINT\t(Opcional) El valor por defecto es 0. 0 es la posición principal de la diagonal. Si k es positiva, crea la diagonal superior con el desplazamiento de k; si k es negativa, crea la diagonal inferior con el desplazamiento de k.\n",
    "- **dtype**: tipo de datos\t(Opcional) El valor por defecto es float. Especifica el tipo de datos del elemento del array creado."
   ]
  },
  {
   "cell_type": "code",
   "execution_count": null,
   "metadata": {},
   "outputs": [],
   "source": []
  },
  {
   "cell_type": "code",
   "execution_count": null,
   "metadata": {},
   "outputs": [],
   "source": []
  },
  {
   "cell_type": "code",
   "execution_count": null,
   "metadata": {},
   "outputs": [],
   "source": []
  },
  {
   "cell_type": "markdown",
   "metadata": {},
   "source": [
    "## Explorar arrays y sus propiedades"
   ]
  },
  {
   "cell_type": "code",
   "execution_count": null,
   "metadata": {},
   "outputs": [],
   "source": []
  },
  {
   "cell_type": "code",
   "execution_count": null,
   "metadata": {},
   "outputs": [],
   "source": [
    "# Forma\n"
   ]
  },
  {
   "cell_type": "code",
   "execution_count": null,
   "metadata": {},
   "outputs": [],
   "source": [
    "# Tamaño\n"
   ]
  },
  {
   "cell_type": "code",
   "execution_count": null,
   "metadata": {},
   "outputs": [],
   "source": [
    "# Dimensiones\n"
   ]
  },
  {
   "cell_type": "markdown",
   "metadata": {},
   "source": [
    "## Manipular arrays"
   ]
  },
  {
   "cell_type": "code",
   "execution_count": null,
   "metadata": {},
   "outputs": [],
   "source": [
    "import numpy as np"
   ]
  },
  {
   "cell_type": "code",
   "execution_count": null,
   "metadata": {},
   "outputs": [],
   "source": [
    "\n"
   ]
  },
  {
   "cell_type": "code",
   "execution_count": null,
   "metadata": {},
   "outputs": [],
   "source": []
  },
  {
   "cell_type": "code",
   "execution_count": null,
   "metadata": {},
   "outputs": [],
   "source": []
  },
  {
   "cell_type": "code",
   "execution_count": null,
   "metadata": {},
   "outputs": [],
   "source": []
  },
  {
   "cell_type": "code",
   "execution_count": null,
   "metadata": {},
   "outputs": [],
   "source": []
  },
  {
   "cell_type": "code",
   "execution_count": null,
   "metadata": {},
   "outputs": [],
   "source": []
  },
  {
   "cell_type": "code",
   "execution_count": null,
   "metadata": {},
   "outputs": [],
   "source": []
  },
  {
   "cell_type": "code",
   "execution_count": null,
   "metadata": {},
   "outputs": [],
   "source": [
    "#arr_b"
   ]
  },
  {
   "cell_type": "code",
   "execution_count": null,
   "metadata": {},
   "outputs": [],
   "source": []
  },
  {
   "cell_type": "code",
   "execution_count": null,
   "metadata": {},
   "outputs": [],
   "source": []
  },
  {
   "cell_type": "markdown",
   "metadata": {},
   "source": [
    "## Comparación de arrays"
   ]
  },
  {
   "cell_type": "markdown",
   "metadata": {},
   "source": [
    "Las matrices Numpy también soportan operaciones de comparación como ==, !=, > etc. El resultado es un array de booleanos."
   ]
  },
  {
   "cell_type": "code",
   "execution_count": null,
   "metadata": {},
   "outputs": [],
   "source": [
    "arr1 = np.array([[1, 2, 3], [3, 4, 5]])\n",
    "arr2 = np.array([[2, 2, 3], [1, 2, 5]])"
   ]
  },
  {
   "cell_type": "code",
   "execution_count": null,
   "metadata": {},
   "outputs": [],
   "source": []
  },
  {
   "cell_type": "code",
   "execution_count": null,
   "metadata": {},
   "outputs": [],
   "source": []
  },
  {
   "cell_type": "code",
   "execution_count": null,
   "metadata": {},
   "outputs": [],
   "source": []
  },
  {
   "cell_type": "code",
   "execution_count": null,
   "metadata": {},
   "outputs": [],
   "source": []
  },
  {
   "cell_type": "markdown",
   "metadata": {},
   "source": [
    "La comparación de matrices se utiliza frecuentemente para contar el número de elementos iguales en dos matrices utilizando el método de la suma. Recuerde que Verdadero se evalúa como 1 y Falso se evalúa como 0 cuando se utilizan booleanos en operaciones aritméticas."
   ]
  },
  {
   "cell_type": "code",
   "execution_count": null,
   "metadata": {},
   "outputs": [],
   "source": []
  },
  {
   "cell_type": "markdown",
   "metadata": {},
   "source": [
    "## Array indexing and slicing\n",
    "Numpy extiende la notación de indexación de listas de Python utilizando [] a múltiples dimensiones de una manera intuitiva. Puedes proporcionar una lista de índices o rangos separados por comas para seleccionar un elemento específico o un subarray (también llamado slice) de un array de Numpy."
   ]
  },
  {
   "cell_type": "code",
   "execution_count": null,
   "metadata": {},
   "outputs": [],
   "source": [
    "arr3 = np.array([\n",
    "    [[11, 12, 13, 14], \n",
    "     [13, 14, 15, 19]], \n",
    "    \n",
    "    [[15, 16, 17, 21], \n",
    "     [63, 92, 36, 18]], \n",
    "    \n",
    "    [[98, 32, 81, 23],      \n",
    "     [17, 18, 19.5, 43]]])"
   ]
  },
  {
   "cell_type": "code",
   "execution_count": null,
   "metadata": {},
   "outputs": [],
   "source": []
  },
  {
   "cell_type": "code",
   "execution_count": null,
   "metadata": {},
   "outputs": [],
   "source": []
  },
  {
   "cell_type": "code",
   "execution_count": null,
   "metadata": {},
   "outputs": [],
   "source": []
  },
  {
   "cell_type": "code",
   "execution_count": null,
   "metadata": {},
   "outputs": [],
   "source": []
  },
  {
   "cell_type": "markdown",
   "metadata": {},
   "source": [
    "Podemos escribir las posiciones directamente en una lista"
   ]
  },
  {
   "cell_type": "code",
   "execution_count": null,
   "metadata": {},
   "outputs": [],
   "source": []
  },
  {
   "cell_type": "markdown",
   "metadata": {},
   "source": [
    "### Mezcla de índices y rangos"
   ]
  },
  {
   "cell_type": "code",
   "execution_count": null,
   "metadata": {},
   "outputs": [],
   "source": [
    "arr3"
   ]
  },
  {
   "cell_type": "code",
   "execution_count": null,
   "metadata": {},
   "outputs": [],
   "source": []
  },
  {
   "cell_type": "code",
   "execution_count": null,
   "metadata": {},
   "outputs": [],
   "source": []
  },
  {
   "cell_type": "markdown",
   "metadata": {},
   "source": [
    "## Métodos de los np.arrays"
   ]
  },
  {
   "cell_type": "code",
   "execution_count": null,
   "metadata": {},
   "outputs": [],
   "source": []
  },
  {
   "cell_type": "code",
   "execution_count": null,
   "metadata": {},
   "outputs": [],
   "source": []
  },
  {
   "cell_type": "code",
   "execution_count": null,
   "metadata": {},
   "outputs": [],
   "source": []
  },
  {
   "cell_type": "code",
   "execution_count": null,
   "metadata": {},
   "outputs": [],
   "source": []
  },
  {
   "cell_type": "code",
   "execution_count": null,
   "metadata": {},
   "outputs": [],
   "source": []
  },
  {
   "cell_type": "code",
   "execution_count": null,
   "metadata": {},
   "outputs": [],
   "source": []
  },
  {
   "cell_type": "code",
   "execution_count": null,
   "metadata": {},
   "outputs": [],
   "source": []
  },
  {
   "cell_type": "markdown",
   "metadata": {},
   "source": [
    "### Métodos de Numpy (los vimos el viernes)"
   ]
  },
  {
   "cell_type": "markdown",
   "metadata": {},
   "source": [
    "¿Cómo los vemos? `dir(objeto)` muestra todos los métodos posibles que se pueden aplicar al objeto"
   ]
  },
  {
   "cell_type": "code",
   "execution_count": null,
   "metadata": {},
   "outputs": [],
   "source": [
    "#dir(a)"
   ]
  },
  {
   "cell_type": "code",
   "execution_count": null,
   "metadata": {},
   "outputs": [],
   "source": []
  },
  {
   "cell_type": "markdown",
   "metadata": {},
   "source": [
    "## Cosas divertidas que nos permite Numpy"
   ]
  },
  {
   "cell_type": "markdown",
   "metadata": {},
   "source": [
    "Pillow! The Python Imaging Library adds image processing capabilities to your Python interpreter.   \n",
    "[La doc 🙃](https://pillow.readthedocs.io/en/stable/)"
   ]
  },
  {
   "cell_type": "code",
   "execution_count": null,
   "metadata": {},
   "outputs": [],
   "source": [
    "from PIL import Image"
   ]
  },
  {
   "cell_type": "code",
   "execution_count": null,
   "metadata": {},
   "outputs": [],
   "source": []
  },
  {
   "cell_type": "markdown",
   "metadata": {},
   "source": [
    "¡¡Podemos procesar imágenes con Numpy!!"
   ]
  },
  {
   "cell_type": "code",
   "execution_count": null,
   "metadata": {},
   "outputs": [],
   "source": []
  },
  {
   "cell_type": "code",
   "execution_count": null,
   "metadata": {},
   "outputs": [],
   "source": []
  },
  {
   "cell_type": "markdown",
   "metadata": {},
   "source": [
    "Una imagen digital se descompone en nuestro ordenador como un array de 3 dimensiones donde cada pixel es un valor de 0 a 255 siendo 0 negro y 255 blanco. "
   ]
  },
  {
   "cell_type": "code",
   "execution_count": null,
   "metadata": {},
   "outputs": [],
   "source": [
    "import matplotlib.pyplot as plt\n"
   ]
  },
  {
   "cell_type": "code",
   "execution_count": null,
   "metadata": {},
   "outputs": [],
   "source": []
  },
  {
   "cell_type": "code",
   "execution_count": null,
   "metadata": {},
   "outputs": [],
   "source": [
    "a = np.random.randint(256, size=(1000, 1000, 3)).astype('uint8')\n"
   ]
  },
  {
   "cell_type": "code",
   "execution_count": null,
   "metadata": {},
   "outputs": [],
   "source": []
  },
  {
   "cell_type": "code",
   "execution_count": null,
   "metadata": {},
   "outputs": [],
   "source": [
    "a[0].shape"
   ]
  },
  {
   "cell_type": "code",
   "execution_count": null,
   "metadata": {},
   "outputs": [],
   "source": [
    "a[:,:,0].shape"
   ]
  },
  {
   "cell_type": "code",
   "execution_count": null,
   "metadata": {},
   "outputs": [],
   "source": [
    "a[:,:,1].shape"
   ]
  },
  {
   "cell_type": "code",
   "execution_count": null,
   "metadata": {},
   "outputs": [],
   "source": [
    "plt.figure()\n",
    "plt.imshow(a)"
   ]
  },
  {
   "cell_type": "code",
   "execution_count": null,
   "metadata": {},
   "outputs": [],
   "source": []
  },
  {
   "cell_type": "code",
   "execution_count": null,
   "metadata": {},
   "outputs": [],
   "source": []
  },
  {
   "cell_type": "code",
   "execution_count": null,
   "metadata": {},
   "outputs": [],
   "source": []
  },
  {
   "cell_type": "code",
   "execution_count": null,
   "metadata": {},
   "outputs": [],
   "source": []
  },
  {
   "cell_type": "code",
   "execution_count": null,
   "metadata": {},
   "outputs": [],
   "source": []
  },
  {
   "cell_type": "markdown",
   "metadata": {},
   "source": [
    "## Resumen\n",
    "Es tu turno ¿Qué hemos aprendido hoy?\n"
   ]
  },
  {
   "cell_type": "markdown",
   "metadata": {},
   "source": [
    "## Further materials\n",
    "- [NumPy Cheatsheet](https://s3.amazonaws.com/assets.datacamp.com/blog_assets/Numpy_Python_Cheat_Sheet.pdf)\n",
    "- [Master Numpy](https://medium.com/analytics-vidhya/master-numpy-in-45-minutes-74b2460ecb00)\n",
    "- [Numpy Tricks](https://github.com/patidarparas13/Numpy-Tricks/blob/master/Numpy%2BTricks(Zero%2Bto%2BHero).ipynb)\n",
    "[Procesado de Imágenes](https://claudiovz.github.io/scipy-lecture-notes-ES/advanced/image_processing/index.html)\n",
    "- [101 Numpy exercises](https://www.machinelearningplus.com/python/101-numpy-exercises-python/)\n"
   ]
  }
 ],
 "metadata": {
  "colab": {
   "name": "numpy-class.ipynb",
   "provenance": []
  },
  "kernelspec": {
   "display_name": "ironhack",
   "language": "python",
   "name": "ironhack"
  },
  "language_info": {
   "codemirror_mode": {
    "name": "ipython",
    "version": 3
   },
   "file_extension": ".py",
   "mimetype": "text/x-python",
   "name": "python",
   "nbconvert_exporter": "python",
   "pygments_lexer": "ipython3",
   "version": "3.8.5"
  },
  "toc": {
   "base_numbering": 1,
   "nav_menu": {},
   "number_sections": true,
   "sideBar": true,
   "skip_h1_title": true,
   "title_cell": "Table of Contents",
   "title_sidebar": "Contents",
   "toc_cell": true,
   "toc_position": {
    "height": "calc(100% - 180px)",
    "left": "10px",
    "top": "150px",
    "width": "245.891px"
   },
   "toc_section_display": true,
   "toc_window_display": false
  },
  "varInspector": {
   "cols": {
    "lenName": 16,
    "lenType": 16,
    "lenVar": 40
   },
   "kernels_config": {
    "python": {
     "delete_cmd_postfix": "",
     "delete_cmd_prefix": "del ",
     "library": "var_list.py",
     "varRefreshCmd": "print(var_dic_list())"
    },
    "r": {
     "delete_cmd_postfix": ") ",
     "delete_cmd_prefix": "rm(",
     "library": "var_list.r",
     "varRefreshCmd": "cat(var_dic_list()) "
    }
   },
   "types_to_exclude": [
    "module",
    "function",
    "builtin_function_or_method",
    "instance",
    "_Feature"
   ],
   "window_display": false
  }
 },
 "nbformat": 4,
 "nbformat_minor": 1
}
