{
 "cells": [
  {
   "cell_type": "markdown",
   "id": "racial-investigator",
   "metadata": {
    "toc": true
   },
   "source": [
    "<h1>Table of Contents<span class=\"tocSkip\"></span></h1>\n",
    "<div class=\"toc\"><ul class=\"toc-item\"><li><ul class=\"toc-item\"><li><ul class=\"toc-item\"><li><span><a href=\"#Extracting-values\" data-toc-modified-id=\"Extracting-values-0.0.1\"><span class=\"toc-item-num\">0.0.1&nbsp;&nbsp;</span>Extracting values</a></span></li></ul></li></ul></li><li><span><a href=\"#Extracting-values-from-keys\" data-toc-modified-id=\"Extracting-values-from-keys-1\"><span class=\"toc-item-num\">1&nbsp;&nbsp;</span>Extracting values from keys</a></span></li></ul></div>"
   ]
  },
  {
   "cell_type": "code",
   "execution_count": 92,
   "id": "white-hindu",
   "metadata": {},
   "outputs": [],
   "source": [
    "import requests\n",
    "from bs4 import BeautifulSoup"
   ]
  },
  {
   "cell_type": "code",
   "execution_count": 93,
   "id": "descending-advance",
   "metadata": {},
   "outputs": [],
   "source": [
    "url = \"https://nomadlist.com/lisbon\"\n",
    "html = requests.get(url)\n",
    "soup = BeautifulSoup(html.content,\"html.parser\")"
   ]
  },
  {
   "cell_type": "markdown",
   "id": "crucial-nursing",
   "metadata": {},
   "source": [
    "### Extracting values"
   ]
  },
  {
   "cell_type": "code",
   "execution_count": 108,
   "id": "latin-journalism",
   "metadata": {},
   "outputs": [],
   "source": [
    "tags = soup.find_all(\"td\", {\"class\":\"value\"})"
   ]
  },
  {
   "cell_type": "code",
   "execution_count": 109,
   "id": "special-brunswick",
   "metadata": {},
   "outputs": [
    {
     "data": {
      "text/plain": [
       "'4.8'"
      ]
     },
     "execution_count": 109,
     "metadata": {},
     "output_type": "execute_result"
    }
   ],
   "source": [
    "tags[0].find(\"span\").text"
   ]
  },
  {
   "cell_type": "code",
   "execution_count": 116,
   "id": "funded-configuration",
   "metadata": {},
   "outputs": [],
   "source": [
    "tags = soup.find_all(\"td\", {\"class\":\"key\"})"
   ]
  },
  {
   "cell_type": "code",
   "execution_count": 118,
   "id": "exposed-exhibition",
   "metadata": {},
   "outputs": [
    {
     "data": {
      "text/plain": [
       "[<td class=\"key\">⭐️ Total score</td>,\n",
       " <td class=\"key\">👍 Quality of life score</td>]"
      ]
     },
     "execution_count": 118,
     "metadata": {},
     "output_type": "execute_result"
    }
   ],
   "source": [
    "tags[:2]"
   ]
  },
  {
   "cell_type": "code",
   "execution_count": 125,
   "id": "revised-convergence",
   "metadata": {},
   "outputs": [
    {
     "name": "stdout",
     "output_type": "stream",
     "text": [
      "None\n"
     ]
    }
   ],
   "source": [
    "print(tags[0].find(\"class\"))"
   ]
  },
  {
   "cell_type": "code",
   "execution_count": 112,
   "id": "endangered-finance",
   "metadata": {},
   "outputs": [
    {
     "data": {
      "text/plain": [
       "'4 / 5'"
      ]
     },
     "execution_count": 112,
     "metadata": {},
     "output_type": "execute_result"
    }
   ],
   "source": [
    "tags[1].find(\"div\").get(\"data-value\")"
   ]
  },
  {
   "cell_type": "code",
   "execution_count": 41,
   "id": "color-davis",
   "metadata": {},
   "outputs": [
    {
     "data": {
      "text/plain": [
       "'4 / 5'"
      ]
     },
     "execution_count": 41,
     "metadata": {},
     "output_type": "execute_result"
    }
   ],
   "source": [
    "tags[2].find(\"div\").get(\"data-value\")"
   ]
  },
  {
   "cell_type": "code",
   "execution_count": 114,
   "id": "experimental-socket",
   "metadata": {},
   "outputs": [
    {
     "data": {
      "text/plain": [
       "'ffordable:'"
      ]
     },
     "execution_count": 114,
     "metadata": {},
     "output_type": "execute_result"
    }
   ],
   "source": [
    "tags[3].find(\"div\").text.split()[2][1:]"
   ]
  },
  {
   "cell_type": "code",
   "execution_count": 64,
   "id": "progressive-concern",
   "metadata": {},
   "outputs": [
    {
     "data": {
      "text/plain": [
       "'26Mbps'"
      ]
     },
     "execution_count": 64,
     "metadata": {},
     "output_type": "execute_result"
    }
   ],
   "source": [
    "tags[4].find(\"div\").text.split()[2]"
   ]
  },
  {
   "cell_type": "code",
   "execution_count": 65,
   "id": "ranging-compound",
   "metadata": {},
   "outputs": [
    {
     "data": {
      "text/plain": [
       "<td class=\"value\"><div class=\"rating r5\" data-value=\"5 / 5\" title=\"5 / 5\"><div class=\"filling\" style=\"width:100%\">Great</div></div></td>"
      ]
     },
     "execution_count": 65,
     "metadata": {},
     "output_type": "execute_result"
    }
   ],
   "source": [
    "tags[5].find(\"div\").get(\"data-value\")"
   ]
  },
  {
   "cell_type": "markdown",
   "id": "aggressive-toronto",
   "metadata": {},
   "source": [
    "# Extracting values from keys"
   ]
  },
  {
   "cell_type": "code",
   "execution_count": 94,
   "id": "silver-technology",
   "metadata": {},
   "outputs": [],
   "source": [
    "tags2 = soup.find_all(\"tr\")"
   ]
  },
  {
   "cell_type": "code",
   "execution_count": 138,
   "id": "positive-jonathan",
   "metadata": {},
   "outputs": [
    {
     "data": {
      "text/plain": [
       "bs4.element.Tag"
      ]
     },
     "execution_count": 138,
     "metadata": {},
     "output_type": "execute_result"
    }
   ],
   "source": [
    "tags2[0].content\n",
    "#.findall(\"td\")"
   ]
  },
  {
   "cell_type": "code",
   "execution_count": 131,
   "id": "olive-friendly",
   "metadata": {},
   "outputs": [
    {
     "name": "stdout",
     "output_type": "stream",
     "text": [
      "⭐️ Total score4.8/5 (Rank #1)255 reviews\n",
      "👍 Quality of life scoreGood\n",
      "👶 Family scoreGood\n",
      "💵 Cost😙 Affordable: $2,080 / mo\n",
      "📡 Internet🏎 Fast: 26Mbps (avg)\n",
      "😝 FunGreat\n",
      "⛅️ Temperature (now)🌞 Nice: 19°C66°F (feels 20°C68°F)\n",
      "💦 Humidity (now)😊 Comfy: 72%\n",
      "💨 Air quality (now)🌱 Great: 2 US AQI\n",
      "💨 Air quality (annual)🌱 Great: 32 US AQI\n",
      "👌 SafetyGreat\n",
      "👮‍♀️ Lack of crime*Great\n",
      "🤝 Lack of racism*Okay\n",
      "🎓 Education level*Mediocre\n",
      "💰 Income level*Low:\t$1,646 / mo\n",
      "❤️ Liked by members👍89% liked it  👎11% disliked it\n",
      "🙊 English speaking*Great\n",
      "😤 People density🧘‍♀️ Low density: 6k ppl/km² (12x12m)\n",
      "🚶 WalkabilityGreat\n",
      "✌️ Peace (no pol. conflict)Good\n",
      "🚦 Traffic safety*Okay\n",
      "🏥 Hospitals*Bad\n",
      "😄 Happiness*Okay\n",
      "🍸 NightlifeOkay\n",
      "📶 Free WiFi in cityOkay\n",
      "🖥 Places to work fromGreat\n",
      "❄️ A/C or heatingOkay\n",
      "😁 Friendly to foreignersGood\n",
      "🗯 Freedom of speech*Good\n",
      "👩 Female friendlyGood\n",
      "🌈 LGBTQ+ friendlyGreat\n",
      "🎅 Startup ScoreOkay\n",
      "🌍 ContinentEurope\n",
      "🚩 CountryPortugal\n",
      "⏱ Average trip time13 days\n",
      "📡 Internet speed (avg)26 Mbps\n",
      "⛅️ Weather (now)☀️ 19°C 66°F + 😊 Comfy (72%) = feels 20°C 68°F\n",
      "💨 Air quality (now)👍 2 US AQI\t 🍃 OK\n",
      "💨 Air quality (annual avg)👍\t32 US AQI\t 🍃 OK\n",
      "🔌 Power230V50Hz\n",
      "🧔 Best neighborhood to staySanta Maria Maior\n",
      "🚀 Upcoming neighborhoodAvenidas Novas\n",
      "🚕 Best taxi app*Uber\n",
      "🚑 Travel medical insuranceSafetywing\n",
      "📱 Best wireless carrierVodafone\n",
      "🏧 Suggested ATM take out:EUR 100 = USD 114\n",
      "💸 TippingNo\n",
      "💳 Cashless💳 Yes, cards OK almost everywhere\n",
      "💻 Best coworking spaceThe Secret Garden\n",
      "🚰 Tap water👌 Yes, safe to drink\n",
      "♻️ Return rate14% of visitors return\n",
      "📸 Visitors per year3,320,300 visitors\n",
      "📸 Tourists now63,633 tourists\n",
      "👨‍👩‍👧‍👦 Population550,000 people\n",
      "👨‍👩‍👧‍👦 GDP per capita*$19,750 / year\n",
      "😤 Population density🤨 busy: 12x12m (144m²) per person\n",
      "🏞 Foreign land ownership allowedYes\n",
      "👫 Gender ratio (overall)👨 46% 👱‍♀️ 54%\n",
      "👫 Gender ratio (young adults)👨 56% 👱‍♀️ 44%\n",
      "⛪️ Religious governmentNon-religious\n",
      "💻 Online electronics shopFnac\n",
      "🏠 Apartment listingsEra\n",
      "✈️ Best short-haul air carrierEasyJet\n",
      "✈️ Best int'l air carrierTAP\n",
      "💵 Cost of living for nomad$2,080 / month\n",
      "💵 Cost of living for expat$1,459 / month\n",
      "💵 Cost of living for family$2,962 / month\n",
      "💵 Cost of living for local$846 / month\n",
      "🏠 1br studio rent in center$744 / month\n",
      "🏢 Coworking$171 / month\n",
      "🏨 Hotel (median price)$1,187 / month\n",
      "🏨 Hotel (median price)$56 / night\n",
      "🏠 Airbnb (1,001 listings)$1,978 / month\n",
      "🏠 Airbnb$65 / night\n",
      "🍛 Dinner$7\n",
      "🥤 Coca-Cola (0.3L)$1.05\n",
      "🍺 Beer (0.5L)$2\n",
      "☕️ Coffee$1\n",
      "💰 Estimated tax on $50,000$23,847\n",
      "💰 Estimated tax on $100,000$52,994\n",
      "💰 Estimated tax on $250,000$145,334\n",
      "JanFebMarAprMayJunJulAugSepOctNovDec\n",
      "Feels5714°cool6317°cool6619°mild6418°cool7222°mild7021°mild7323°mild7725°warm7524°warm7021°mild6317°cool6116°cool\n",
      "Real5714°cool6116°cool6619°mild6418°cool7222°mild7021°mild7323°mild7725°warm7524°warm7021°mild6317°cool6116°cool\n",
      "Humiditynice69%nice66%nice56%nice65%nice59%nice65%nice72%nice68%nice68%nice72%damp77%damp72%\n",
      "Raindry14mmdry8mmdry12mmdry38mmdry3mmdry10mmdry4mmdry6mmdry6mmdry24mmrainy58mmdry48mm\n",
      "Cloudpockets11%cloudy54%pockets23%pockets40%pockets19%pockets29%pockets24%pockets13%pockets15%pockets43%cloudy67%cloudy59%\n",
      "Air qualityclean34 US AQIclean36 US AQIclean24 US AQIclean27 US AQIclean27 US AQIclean23 US AQIclean30 US AQIclean29 US AQIclean34 US AQIclean30 US AQIclean28 US AQIclean40 US AQI\n",
      "Sunsafe2 UVIseek shade4 UVIavoid sun6 UVIseek shade6 UVIavoid sun9 UVIavoid sun8 UVIavoid sun8 UVIavoid sun8 UVIavoid sun7 UVIseek shade4 UVIsafe2 UVIsafe2 UVI\n",
      "Remote workers1,523 people1,745 people1,764 people1,917 people2,200 people2,617 people2,462 people2,160 people4,511 people4,418 people3,677 people2,460 people\n",
      "Full Stack Software Engineer @ Prominent Edge\n",
      "Experienced Symfony Developer @ Shape & Shift\n",
      "JavaScript Developers $20 35 hr @ White Sand\n",
      "Software Development Engineer IV Te... @ ID.me\n",
      "Senior PHP Developer @ Payslip\n",
      "Full Stack Java Developer @ 8common Ltd\n",
      "Senior Software Quality Assurance A... @ M-KOPA\n",
      "Data Analyst @ M-KOPA\n",
      "Senior Software Quality Assurance A... @ M-KOPA\n",
      "Senior Software Engineer Shared Ser... @ Promenade\n",
      "Full Stack Software Engineer @ SOCi\n"
     ]
    }
   ],
   "source": [
    "for i in tags2:\n",
    "    print (i.text)"
   ]
  },
  {
   "cell_type": "code",
   "execution_count": 106,
   "id": "american-drunk",
   "metadata": {},
   "outputs": [
    {
     "ename": "AttributeError",
     "evalue": "'NoneType' object has no attribute 'text'",
     "output_type": "error",
     "traceback": [
      "\u001b[0;31m---------------------------------------------------------------------------\u001b[0m",
      "\u001b[0;31mAttributeError\u001b[0m                            Traceback (most recent call last)",
      "\u001b[0;32m<ipython-input-106-649b50f4bf66>\u001b[0m in \u001b[0;36m<module>\u001b[0;34m\u001b[0m\n\u001b[0;32m----> 1\u001b[0;31m \u001b[0mb\u001b[0m \u001b[0;34m=\u001b[0m \u001b[0mtags2\u001b[0m\u001b[0;34m[\u001b[0m\u001b[0;36m0\u001b[0m\u001b[0;34m]\u001b[0m\u001b[0;34m.\u001b[0m\u001b[0mfind\u001b[0m\u001b[0;34m(\u001b[0m\u001b[0;34m\"td\"\u001b[0m\u001b[0;34m)\u001b[0m\u001b[0;34m.\u001b[0m\u001b[0mget\u001b[0m\u001b[0;34m(\u001b[0m\u001b[0;34m\"key\"\u001b[0m\u001b[0;34m)\u001b[0m\u001b[0;34m.\u001b[0m\u001b[0mtext\u001b[0m\u001b[0;34m\u001b[0m\u001b[0;34m\u001b[0m\u001b[0m\n\u001b[0m\u001b[1;32m      2\u001b[0m \u001b[0mc\u001b[0m \u001b[0;34m=\u001b[0m \u001b[0mtags2\u001b[0m\u001b[0;34m[\u001b[0m\u001b[0;36m0\u001b[0m\u001b[0;34m]\u001b[0m\u001b[0;34m.\u001b[0m\u001b[0mfind\u001b[0m\u001b[0;34m(\u001b[0m\u001b[0;34m\"td\"\u001b[0m\u001b[0;34m)\u001b[0m\u001b[0;34m.\u001b[0m\u001b[0mget\u001b[0m\u001b[0;34m(\u001b[0m\u001b[0;34m\"value\"\u001b[0m\u001b[0;34m)\u001b[0m\u001b[0;34m.\u001b[0m\u001b[0mtext\u001b[0m\u001b[0;34m\u001b[0m\u001b[0;34m\u001b[0m\u001b[0m\n\u001b[1;32m      3\u001b[0m \u001b[0mprint\u001b[0m\u001b[0;34m(\u001b[0m\u001b[0mb\u001b[0m\u001b[0;34m,\u001b[0m\u001b[0mc\u001b[0m\u001b[0;34m)\u001b[0m\u001b[0;34m\u001b[0m\u001b[0;34m\u001b[0m\u001b[0m\n",
      "\u001b[0;31mAttributeError\u001b[0m: 'NoneType' object has no attribute 'text'"
     ]
    }
   ],
   "source": [
    "b = tags2[0].find(\"td\").get(\"key\").text\n",
    "c = tags2[0].find(\"td\").get(\"value\").text\n",
    "print(b,c)"
   ]
  },
  {
   "cell_type": "code",
   "execution_count": null,
   "id": "social-belly",
   "metadata": {},
   "outputs": [],
   "source": [
    "for i in tags:\n",
    "    print(i.text)"
   ]
  },
  {
   "cell_type": "code",
   "execution_count": null,
   "id": "designed-malta",
   "metadata": {},
   "outputs": [],
   "source": [
    "content = {}\n",
    "\n",
    "for c in cty_list:\n",
    "    driver.get(f\"https://nomadlist.com/{i}\")\n",
    "    time.sleep(2)\n",
    "    content_ = driver.find_elements_by_xpath('//td[@class=\"value\"]')\n",
    "    time.sleep(2)\n",
    "    cnt = []\n",
    "    for i in range(len(content_)):\n",
    "        cnt.append(content_[i].text)\n",
    "    content.update({c:cnt})"
   ]
  }
 ],
 "metadata": {
  "kernelspec": {
   "display_name": "ironhack",
   "language": "python",
   "name": "ironhack"
  },
  "language_info": {
   "codemirror_mode": {
    "name": "ipython",
    "version": 3
   },
   "file_extension": ".py",
   "mimetype": "text/x-python",
   "name": "python",
   "nbconvert_exporter": "python",
   "pygments_lexer": "ipython3",
   "version": "3.8.5"
  },
  "toc": {
   "base_numbering": 1,
   "nav_menu": {},
   "number_sections": true,
   "sideBar": true,
   "skip_h1_title": false,
   "title_cell": "Table of Contents",
   "title_sidebar": "Contents",
   "toc_cell": true,
   "toc_position": {},
   "toc_section_display": true,
   "toc_window_display": false
  },
  "varInspector": {
   "cols": {
    "lenName": 16,
    "lenType": 16,
    "lenVar": 40
   },
   "kernels_config": {
    "python": {
     "delete_cmd_postfix": "",
     "delete_cmd_prefix": "del ",
     "library": "var_list.py",
     "varRefreshCmd": "print(var_dic_list())"
    },
    "r": {
     "delete_cmd_postfix": ") ",
     "delete_cmd_prefix": "rm(",
     "library": "var_list.r",
     "varRefreshCmd": "cat(var_dic_list()) "
    }
   },
   "types_to_exclude": [
    "module",
    "function",
    "builtin_function_or_method",
    "instance",
    "_Feature"
   ],
   "window_display": false
  }
 },
 "nbformat": 4,
 "nbformat_minor": 5
}
